{
 "cells": [
  {
   "cell_type": "markdown",
   "metadata": {},
   "source": [
    "## Ex1: Random data"
   ]
  },
  {
   "cell_type": "code",
   "execution_count": 1,
   "metadata": {},
   "outputs": [
    {
     "name": "stdout",
     "output_type": "stream",
     "text": [
      " [1] 70 80 60 74 42 82 98 35 68 40\n",
      " [1]  87  37  72  22  84  18  14  87  39 100\n"
     ]
    }
   ],
   "source": [
    "#Tao vector x co 100 ohan tu ngay nhien tu 1-100\n",
    "x <- floor(runif(100, min = 1, max = 101))\n",
    "y <- floor(runif(100, min = 1, max = 101))\n",
    "print(x[1:10])\n",
    "print(y[1:10])"
   ]
  },
  {
   "cell_type": "code",
   "execution_count": 2,
   "metadata": {},
   "outputs": [
    {
     "data": {
      "image/png": "[encoded data removed]",
      "text/plain": [
       "plot without title"
      ]
     },
     "metadata": {},
     "output_type": "display_data"
    }
   ],
   "source": [
    "#Plot\n",
    "plot(x = x, y = y, xlab = \"x\", ylab = \"y\")"
   ]
  },
  {
   "cell_type": "code",
   "execution_count": 3,
   "metadata": {},
   "outputs": [
    {
     "name": "stdout",
     "output_type": "stream",
     "text": [
      "   x  y\n",
      "1 70 87\n",
      "2 80 37\n",
      "3 60 72\n",
      "4 74 22\n",
      "5 42 84\n",
      "6 82 18\n"
     ]
    }
   ],
   "source": [
    "#Tim k\n",
    "mydata <- data.frame(x=x, y=y)\n",
    "print(head(mydata))"
   ]
  },
  {
   "cell_type": "code",
   "execution_count": 4,
   "metadata": {},
   "outputs": [
    {
     "data": {
      "image/png": "[encoded data removed]",
      "text/plain": [
       "plot without title"
      ]
     },
     "metadata": {},
     "output_type": "display_data"
    }
   ],
   "source": [
    "wss <- (nrow(mydata) -1)*sum(apply(mydata,2,var))\n",
    "for(i in 1:10) wss[i] <- sum(kmeans(mydata, centers = i)$withinss)\n",
    "plot(1:10, wss, type=\"b\", xlab = \"Number of clusters\", ylab = \"within groups sum of clusters\")"
   ]
  },
  {
   "cell_type": "markdown",
   "metadata": {},
   "source": [
    "**chọn k=4**"
   ]
  },
  {
   "cell_type": "code",
   "execution_count": 5,
   "metadata": {},
   "outputs": [
    {
     "name": "stdout",
     "output_type": "stream",
     "text": [
      "K-means clustering with 4 clusters of sizes 22, 31, 21, 26\n",
      "\n",
      "Cluster means:\n",
      "         x        y\n",
      "1 21.31818 89.40909\n",
      "2 32.87097 26.25806\n",
      "3 67.52381 75.14286\n",
      "4 81.23077 28.50000\n",
      "\n",
      "Clustering vector:\n",
      "  [1] 3 4 3 4 1 4 4 1 4 1 2 1 1 3 2 3 3 1 2 2 4 2 1 4 3 3 4 1 2 3 4 3 1 4 1 2 2\n",
      " [38] 3 4 1 2 1 1 4 3 4 2 4 1 4 4 3 4 3 3 3 1 2 2 1 2 4 1 4 2 2 1 3 2 3 2 2 2 2\n",
      " [75] 2 2 3 1 2 4 2 4 4 1 2 3 1 2 4 4 4 2 2 2 1 4 2 3 2 3\n",
      "\n",
      "Within cluster sum of squares by cluster:\n",
      "[1]  6370.091 17079.419 10119.810  8579.115\n",
      " (between_SS / total_SS =  76.3 %)\n",
      "\n",
      "Available components:\n",
      "\n",
      "[1] \"cluster\"      \"centers\"      \"totss\"        \"withinss\"     \"tot.withinss\"\n",
      "[6] \"betweenss\"    \"size\"         \"iter\"         \"ifault\"      \n"
     ]
    }
   ],
   "source": [
    "#clustering\n",
    "set.seed(42)\n",
    "datacluster <- kmeans(mydata, centers = 4, nstart = 20)\n",
    "print(datacluster)"
   ]
  },
  {
   "cell_type": "code",
   "execution_count": 6,
   "metadata": {},
   "outputs": [
    {
     "data": {
      "text/html": [
       "<ol class=list-inline>\n",
       "\t<li>3</li>\n",
       "\t<li>4</li>\n",
       "\t<li>3</li>\n",
       "\t<li>4</li>\n",
       "\t<li>1</li>\n",
       "\t<li>4</li>\n",
       "\t<li>4</li>\n",
       "\t<li>1</li>\n",
       "\t<li>4</li>\n",
       "\t<li>1</li>\n",
       "\t<li>2</li>\n",
       "\t<li>1</li>\n",
       "\t<li>1</li>\n",
       "\t<li>3</li>\n",
       "\t<li>2</li>\n",
       "\t<li>3</li>\n",
       "\t<li>3</li>\n",
       "\t<li>1</li>\n",
       "\t<li>2</li>\n",
       "\t<li>2</li>\n",
       "\t<li>4</li>\n",
       "\t<li>2</li>\n",
       "\t<li>1</li>\n",
       "\t<li>4</li>\n",
       "\t<li>3</li>\n",
       "\t<li>3</li>\n",
       "\t<li>4</li>\n",
       "\t<li>1</li>\n",
       "\t<li>2</li>\n",
       "\t<li>3</li>\n",
       "\t<li>4</li>\n",
       "\t<li>3</li>\n",
       "\t<li>1</li>\n",
       "\t<li>4</li>\n",
       "\t<li>1</li>\n",
       "\t<li>2</li>\n",
       "\t<li>2</li>\n",
       "\t<li>3</li>\n",
       "\t<li>4</li>\n",
       "\t<li>1</li>\n",
       "\t<li>2</li>\n",
       "\t<li>1</li>\n",
       "\t<li>1</li>\n",
       "\t<li>4</li>\n",
       "\t<li>3</li>\n",
       "\t<li>4</li>\n",
       "\t<li>2</li>\n",
       "\t<li>4</li>\n",
       "\t<li>1</li>\n",
       "\t<li>4</li>\n",
       "\t<li>4</li>\n",
       "\t<li>3</li>\n",
       "\t<li>4</li>\n",
       "\t<li>3</li>\n",
       "\t<li>3</li>\n",
       "\t<li>3</li>\n",
       "\t<li>1</li>\n",
       "\t<li>2</li>\n",
       "\t<li>2</li>\n",
       "\t<li>1</li>\n",
       "\t<li>2</li>\n",
       "\t<li>4</li>\n",
       "\t<li>1</li>\n",
       "\t<li>4</li>\n",
       "\t<li>2</li>\n",
       "\t<li>2</li>\n",
       "\t<li>1</li>\n",
       "\t<li>3</li>\n",
       "\t<li>2</li>\n",
       "\t<li>3</li>\n",
       "\t<li>2</li>\n",
       "\t<li>2</li>\n",
       "\t<li>2</li>\n",
       "\t<li>2</li>\n",
       "\t<li>2</li>\n",
       "\t<li>2</li>\n",
       "\t<li>3</li>\n",
       "\t<li>1</li>\n",
       "\t<li>2</li>\n",
       "\t<li>4</li>\n",
       "\t<li>2</li>\n",
       "\t<li>4</li>\n",
       "\t<li>4</li>\n",
       "\t<li>1</li>\n",
       "\t<li>2</li>\n",
       "\t<li>3</li>\n",
       "\t<li>1</li>\n",
       "\t<li>2</li>\n",
       "\t<li>4</li>\n",
       "\t<li>4</li>\n",
       "\t<li>4</li>\n",
       "\t<li>2</li>\n",
       "\t<li>2</li>\n",
       "\t<li>2</li>\n",
       "\t<li>1</li>\n",
       "\t<li>4</li>\n",
       "\t<li>2</li>\n",
       "\t<li>3</li>\n",
       "\t<li>2</li>\n",
       "\t<li>3</li>\n",
       "</ol>\n"
      ],
      "text/latex": [
       "\\begin{enumerate*}\n",
       "\\item 3\n",
       "\\item 4\n",
       "\\item 3\n",
       "\\item 4\n",
       "\\item 1\n",
       "\\item 4\n",
       "\\item 4\n",
       "\\item 1\n",
       "\\item 4\n",
       "\\item 1\n",
       "\\item 2\n",
       "\\item 1\n",
       "\\item 1\n",
       "\\item 3\n",
       "\\item 2\n",
       "\\item 3\n",
       "\\item 3\n",
       "\\item 1\n",
       "\\item 2\n",
       "\\item 2\n",
       "\\item 4\n",
       "\\item 2\n",
       "\\item 1\n",
       "\\item 4\n",
       "\\item 3\n",
       "\\item 3\n",
       "\\item 4\n",
       "\\item 1\n",
       "\\item 2\n",
       "\\item 3\n",
       "\\item 4\n",
       "\\item 3\n",
       "\\item 1\n",
       "\\item 4\n",
       "\\item 1\n",
       "\\item 2\n",
       "\\item 2\n",
       "\\item 3\n",
       "\\item 4\n",
       "\\item 1\n",
       "\\item 2\n",
       "\\item 1\n",
       "\\item 1\n",
       "\\item 4\n",
       "\\item 3\n",
       "\\item 4\n",
       "\\item 2\n",
       "\\item 4\n",
       "\\item 1\n",
       "\\item 4\n",
       "\\item 4\n",
       "\\item 3\n",
       "\\item 4\n",
       "\\item 3\n",
       "\\item 3\n",
       "\\item 3\n",
       "\\item 1\n",
       "\\item 2\n",
       "\\item 2\n",
       "\\item 1\n",
       "\\item 2\n",
       "\\item 4\n",
       "\\item 1\n",
       "\\item 4\n",
       "\\item 2\n",
       "\\item 2\n",
       "\\item 1\n",
       "\\item 3\n",
       "\\item 2\n",
       "\\item 3\n",
       "\\item 2\n",
       "\\item 2\n",
       "\\item 2\n",
       "\\item 2\n",
       "\\item 2\n",
       "\\item 2\n",
       "\\item 3\n",
       "\\item 1\n",
       "\\item 2\n",
       "\\item 4\n",
       "\\item 2\n",
       "\\item 4\n",
       "\\item 4\n",
       "\\item 1\n",
       "\\item 2\n",
       "\\item 3\n",
       "\\item 1\n",
       "\\item 2\n",
       "\\item 4\n",
       "\\item 4\n",
       "\\item 4\n",
       "\\item 2\n",
       "\\item 2\n",
       "\\item 2\n",
       "\\item 1\n",
       "\\item 4\n",
       "\\item 2\n",
       "\\item 3\n",
       "\\item 2\n",
       "\\item 3\n",
       "\\end{enumerate*}\n"
      ],
      "text/markdown": [
       "1. 3\n",
       "2. 4\n",
       "3. 3\n",
       "4. 4\n",
       "5. 1\n",
       "6. 4\n",
       "7. 4\n",
       "8. 1\n",
       "9. 4\n",
       "10. 1\n",
       "11. 2\n",
       "12. 1\n",
       "13. 1\n",
       "14. 3\n",
       "15. 2\n",
       "16. 3\n",
       "17. 3\n",
       "18. 1\n",
       "19. 2\n",
       "20. 2\n",
       "21. 4\n",
       "22. 2\n",
       "23. 1\n",
       "24. 4\n",
       "25. 3\n",
       "26. 3\n",
       "27. 4\n",
       "28. 1\n",
       "29. 2\n",
       "30. 3\n",
       "31. 4\n",
       "32. 3\n",
       "33. 1\n",
       "34. 4\n",
       "35. 1\n",
       "36. 2\n",
       "37. 2\n",
       "38. 3\n",
       "39. 4\n",
       "40. 1\n",
       "41. 2\n",
       "42. 1\n",
       "43. 1\n",
       "44. 4\n",
       "45. 3\n",
       "46. 4\n",
       "47. 2\n",
       "48. 4\n",
       "49. 1\n",
       "50. 4\n",
       "51. 4\n",
       "52. 3\n",
       "53. 4\n",
       "54. 3\n",
       "55. 3\n",
       "56. 3\n",
       "57. 1\n",
       "58. 2\n",
       "59. 2\n",
       "60. 1\n",
       "61. 2\n",
       "62. 4\n",
       "63. 1\n",
       "64. 4\n",
       "65. 2\n",
       "66. 2\n",
       "67. 1\n",
       "68. 3\n",
       "69. 2\n",
       "70. 3\n",
       "71. 2\n",
       "72. 2\n",
       "73. 2\n",
       "74. 2\n",
       "75. 2\n",
       "76. 2\n",
       "77. 3\n",
       "78. 1\n",
       "79. 2\n",
       "80. 4\n",
       "81. 2\n",
       "82. 4\n",
       "83. 4\n",
       "84. 1\n",
       "85. 2\n",
       "86. 3\n",
       "87. 1\n",
       "88. 2\n",
       "89. 4\n",
       "90. 4\n",
       "91. 4\n",
       "92. 2\n",
       "93. 2\n",
       "94. 2\n",
       "95. 1\n",
       "96. 4\n",
       "97. 2\n",
       "98. 3\n",
       "99. 2\n",
       "100. 3\n",
       "\n",
       "\n"
      ],
      "text/plain": [
       "  [1] 3 4 3 4 1 4 4 1 4 1 2 1 1 3 2 3 3 1 2 2 4 2 1 4 3 3 4 1 2 3 4 3 1 4 1 2 2\n",
       " [38] 3 4 1 2 1 1 4 3 4 2 4 1 4 4 3 4 3 3 3 1 2 2 1 2 4 1 4 2 2 1 3 2 3 2 2 2 2\n",
       " [75] 2 2 3 1 2 4 2 4 4 1 2 3 1 2 4 4 4 2 2 2 1 4 2 3 2 3"
      ]
     },
     "metadata": {},
     "output_type": "display_data"
    }
   ],
   "source": [
    "datacluster$cluster"
   ]
  },
  {
   "cell_type": "code",
   "execution_count": 7,
   "metadata": {},
   "outputs": [
    {
     "name": "stdout",
     "output_type": "stream",
     "text": [
      "[1] \"Centroid points:\"\n",
      "         x        y\n",
      "1 21.31818 89.40909\n",
      "2 32.87097 26.25806\n",
      "3 67.52381 75.14286\n",
      "4 81.23077 28.50000\n"
     ]
    }
   ],
   "source": [
    "print(\"Centroid points:\")\n",
    "print(datacluster$centers)"
   ]
  },
  {
   "cell_type": "code",
   "execution_count": 8,
   "metadata": {},
   "outputs": [
    {
     "name": "stderr",
     "output_type": "stream",
     "text": [
      "Warning message:\n",
      "\"package 'factoextra' was built under R version 3.6.3\"Loading required package: ggplot2\n",
      "Registered S3 methods overwritten by 'ggplot2':\n",
      "  method         from \n",
      "  [.quosures     rlang\n",
      "  c.quosures     rlang\n",
      "  print.quosures rlang\n",
      "Welcome! Want to learn more? See two factoextra-related books at https://goo.gl/ve3WBa\n"
     ]
    }
   ],
   "source": [
    "library(factoextra)"
   ]
  },
  {
   "cell_type": "code",
   "execution_count": 9,
   "metadata": {},
   "outputs": [
    {
     "data": {
      "image/png": "[encoded data removed]",
      "text/plain": [
       "plot without title"
      ]
     },
     "metadata": {},
     "output_type": "display_data"
    }
   ],
   "source": [
    "fviz_cluster(datacluster, geom = \"point\", data = mydata) + ggtitle(\"k=4\")"
   ]
  },
  {
   "cell_type": "code",
   "execution_count": 10,
   "metadata": {},
   "outputs": [
    {
     "name": "stderr",
     "output_type": "stream",
     "text": [
      "Your code contains a unicode char which cannot be displayed in your\n",
      "current locale and R will silently convert it to an escaped form when the\n",
      "R kernel executes this code. This can lead to subtle errors if you use\n",
      "such chars to do comparisons. For more information, please see\n",
      "https://github.com/IRkernel/repr/wiki/Problems-with-unicode-on-windows"
     ]
    },
    {
     "data": {
      "image/png": "[encoded data removed]",
      "text/plain": [
       "plot without title"
      ]
     },
     "metadata": {},
     "output_type": "display_data"
    }
   ],
   "source": [
    "#trực quan hóa dữ liệu mới\n",
    "x_new <- c(80, 50, 70)\n",
    "y_new <- c(30, 45, 75)\n",
    "new_data <- data.frame(x=x_new, y=y_new)\n",
    "datacluster$cluster <- as.factor(datacluster$cluster)\n",
    "plot(x= mydata$x, y= mydata$y, xlab = \"x\", ylab = \"y\", col= datacluster$cluster, pch = 19)\n",
    "lines(x_new,y_new, col = \"orange\", type = \"p\")\n",
    "legend(\"topleft\", c(\"data_new\"), cex = 0.8, fill = c(\"orange\"))"
   ]
  },
  {
   "cell_type": "code",
   "execution_count": 11,
   "metadata": {},
   "outputs": [
    {
     "name": "stderr",
     "output_type": "stream",
     "text": [
      "Warning message:\n",
      "\"package 'ClusterR' was built under R version 3.6.3\"Loading required package: gtools\n",
      "Warning message:\n",
      "\"package 'gtools' was built under R version 3.6.3\""
     ]
    }
   ],
   "source": [
    "library(ClusterR)"
   ]
  },
  {
   "cell_type": "code",
   "execution_count": 12,
   "metadata": {},
   "outputs": [],
   "source": [
    "#Cach 1:\n",
    "pred_new = predict_KMeans(new_data, datacluster[[\"centers\"]])"
   ]
  },
  {
   "cell_type": "code",
   "execution_count": 13,
   "metadata": {},
   "outputs": [
    {
     "name": "stdout",
     "output_type": "stream",
     "text": [
      "[1] \"Predict newdata 1:\"\n",
      "[1] 4 2 3\n",
      "attr(,\"class\")\n",
      "[1] \"k-means clustering\"\n"
     ]
    }
   ],
   "source": [
    "print(\"Predict newdata 1:\")\n",
    "print(pred_new)"
   ]
  },
  {
   "cell_type": "code",
   "execution_count": 14,
   "metadata": {},
   "outputs": [],
   "source": [
    "#Cach 2\n",
    "clusters <- function(x, centers) {\n",
    "  # compute squared euclidean distance from each sample to each cluster center\n",
    "  tmp <- sapply(seq_len(nrow(x)),\n",
    "                function(i) apply(centers, 1,\n",
    "                                  function(v) sum((x[i, ]-v)^2)))\n",
    "  max.col(-t(tmp))  # find index of min distance\n",
    "}"
   ]
  },
  {
   "cell_type": "code",
   "execution_count": 15,
   "metadata": {},
   "outputs": [],
   "source": [
    "new <- clusters(new_data, datacluster[[\"centers\"]])"
   ]
  },
  {
   "cell_type": "code",
   "execution_count": 16,
   "metadata": {},
   "outputs": [
    {
     "name": "stdout",
     "output_type": "stream",
     "text": [
      "[1] \"Predict newdata 2:\"\n",
      "[1] 4 2 3\n"
     ]
    }
   ],
   "source": [
    "print(\"Predict newdata 2:\")\n",
    "print(new)"
   ]
  },
  {
   "cell_type": "markdown",
   "metadata": {},
   "source": [
    "## Ex2: Shopping"
   ]
  },
  {
   "cell_type": "code",
   "execution_count": 17,
   "metadata": {},
   "outputs": [
    {
     "data": {
      "text/html": [
       "<table>\n",
       "<thead><tr><th scope=col>CustomerID</th><th scope=col>Genre</th><th scope=col>Age</th><th scope=col>Annual.Income..k..</th><th scope=col>Spending.Score..1.100.</th></tr></thead>\n",
       "<tbody>\n",
       "\t<tr><td>1     </td><td>Male  </td><td>19    </td><td>15    </td><td>39    </td></tr>\n",
       "\t<tr><td>2     </td><td>Male  </td><td>21    </td><td>15    </td><td>81    </td></tr>\n",
       "\t<tr><td>3     </td><td>Female</td><td>20    </td><td>16    </td><td> 6    </td></tr>\n",
       "\t<tr><td>4     </td><td>Female</td><td>23    </td><td>16    </td><td>77    </td></tr>\n",
       "\t<tr><td>5     </td><td>Female</td><td>31    </td><td>17    </td><td>40    </td></tr>\n",
       "\t<tr><td>6     </td><td>Female</td><td>22    </td><td>17    </td><td>76    </td></tr>\n",
       "</tbody>\n",
       "</table>\n"
      ],
      "text/latex": [
       "\\begin{tabular}{r|lllll}\n",
       " CustomerID & Genre & Age & Annual.Income..k.. & Spending.Score..1.100.\\\\\n",
       "\\hline\n",
       "\t 1      & Male   & 19     & 15     & 39    \\\\\n",
       "\t 2      & Male   & 21     & 15     & 81    \\\\\n",
       "\t 3      & Female & 20     & 16     &  6    \\\\\n",
       "\t 4      & Female & 23     & 16     & 77    \\\\\n",
       "\t 5      & Female & 31     & 17     & 40    \\\\\n",
       "\t 6      & Female & 22     & 17     & 76    \\\\\n",
       "\\end{tabular}\n"
      ],
      "text/markdown": [
       "\n",
       "| CustomerID | Genre | Age | Annual.Income..k.. | Spending.Score..1.100. |\n",
       "|---|---|---|---|---|\n",
       "| 1      | Male   | 19     | 15     | 39     |\n",
       "| 2      | Male   | 21     | 15     | 81     |\n",
       "| 3      | Female | 20     | 16     |  6     |\n",
       "| 4      | Female | 23     | 16     | 77     |\n",
       "| 5      | Female | 31     | 17     | 40     |\n",
       "| 6      | Female | 22     | 17     | 76     |\n",
       "\n"
      ],
      "text/plain": [
       "  CustomerID Genre  Age Annual.Income..k.. Spending.Score..1.100.\n",
       "1 1          Male   19  15                 39                    \n",
       "2 2          Male   21  15                 81                    \n",
       "3 3          Female 20  16                  6                    \n",
       "4 4          Female 23  16                 77                    \n",
       "5 5          Female 31  17                 40                    \n",
       "6 6          Female 22  17                 76                    "
      ]
     },
     "metadata": {},
     "output_type": "display_data"
    }
   ],
   "source": [
    "#Doc du lieu shopping_data.csv\n",
    "data <- read.csv(\"Chapter 18-19\\\\shopping_data.csv\")\n",
    "head(data)"
   ]
  },
  {
   "cell_type": "code",
   "execution_count": 18,
   "metadata": {},
   "outputs": [
    {
     "name": "stdout",
     "output_type": "stream",
     "text": [
      "    CustomerID  Genre Age Annual.Income..k.. Spending.Score..1.100.\n",
      "195        195 Female  47                120                     16\n",
      "196        196 Female  35                120                     79\n",
      "197        197 Female  45                126                     28\n",
      "198        198   Male  32                126                     74\n",
      "199        199   Male  32                137                     18\n",
      "200        200   Male  30                137                     83\n",
      "[1] \"No rows:  200\"\n",
      "[1] \"No columns:  5\"\n",
      "   CustomerID        Genre          Age        Annual.Income..k..\n",
      " Min.   :  1.00   Female:112   Min.   :18.00   Min.   : 15.00    \n",
      " 1st Qu.: 50.75   Male  : 88   1st Qu.:28.75   1st Qu.: 41.50    \n",
      " Median :100.50                Median :36.00   Median : 61.50    \n",
      " Mean   :100.50                Mean   :38.85   Mean   : 60.56    \n",
      " 3rd Qu.:150.25                3rd Qu.:49.00   3rd Qu.: 78.00    \n",
      " Max.   :200.00                Max.   :70.00   Max.   :137.00    \n",
      " Spending.Score..1.100.\n",
      " Min.   : 1.00         \n",
      " 1st Qu.:34.75         \n",
      " Median :50.00         \n",
      " Mean   :50.20         \n",
      " 3rd Qu.:73.00         \n",
      " Max.   :99.00         \n"
     ]
    }
   ],
   "source": [
    "#Xem thong tin\n",
    "print(tail(data))\n",
    "print(paste(\"No rows: \", nrow(data)))\n",
    "print(paste(\"No columns: \", ncol(data)))\n",
    "print(summary(data))"
   ]
  },
  {
   "cell_type": "code",
   "execution_count": 19,
   "metadata": {},
   "outputs": [
    {
     "name": "stdout",
     "output_type": "stream",
     "text": [
      "'data.frame':\t200 obs. of  5 variables:\n",
      " $ CustomerID            : int  1 2 3 4 5 6 7 8 9 10 ...\n",
      " $ Genre                 : Factor w/ 2 levels \"Female\",\"Male\": 2 2 1 1 1 1 1 1 2 1 ...\n",
      " $ Age                   : int  19 21 20 23 31 22 35 23 64 30 ...\n",
      " $ Annual.Income..k..    : int  15 15 16 16 17 17 18 18 19 19 ...\n",
      " $ Spending.Score..1.100.: int  39 81 6 77 40 76 6 94 3 72 ...\n"
     ]
    }
   ],
   "source": [
    "str(data)"
   ]
  },
  {
   "cell_type": "code",
   "execution_count": 22,
   "metadata": {},
   "outputs": [
    {
     "data": {
      "text/html": [
       "<table>\n",
       "<thead><tr><th scope=col>Annual.Income..k..</th><th scope=col>Spending.Score..1.100.</th></tr></thead>\n",
       "<tbody>\n",
       "\t<tr><td>15</td><td>39</td></tr>\n",
       "\t<tr><td>15</td><td>81</td></tr>\n",
       "\t<tr><td>16</td><td> 6</td></tr>\n",
       "\t<tr><td>16</td><td>77</td></tr>\n",
       "\t<tr><td>17</td><td>40</td></tr>\n",
       "\t<tr><td>17</td><td>76</td></tr>\n",
       "</tbody>\n",
       "</table>\n"
      ],
      "text/latex": [
       "\\begin{tabular}{r|ll}\n",
       " Annual.Income..k.. & Spending.Score..1.100.\\\\\n",
       "\\hline\n",
       "\t 15 & 39\\\\\n",
       "\t 15 & 81\\\\\n",
       "\t 16 &  6\\\\\n",
       "\t 16 & 77\\\\\n",
       "\t 17 & 40\\\\\n",
       "\t 17 & 76\\\\\n",
       "\\end{tabular}\n"
      ],
      "text/markdown": [
       "\n",
       "| Annual.Income..k.. | Spending.Score..1.100. |\n",
       "|---|---|\n",
       "| 15 | 39 |\n",
       "| 15 | 81 |\n",
       "| 16 |  6 |\n",
       "| 16 | 77 |\n",
       "| 17 | 40 |\n",
       "| 17 | 76 |\n",
       "\n"
      ],
      "text/plain": [
       "  Annual.Income..k.. Spending.Score..1.100.\n",
       "1 15                 39                    \n",
       "2 15                 81                    \n",
       "3 16                  6                    \n",
       "4 16                 77                    \n",
       "5 17                 40                    \n",
       "6 17                 76                    "
      ]
     },
     "metadata": {},
     "output_type": "display_data"
    }
   ],
   "source": [
    "#Tao dataframe voi 2 cot Annual.Income..k.. & Spending.Score..1.100.\n",
    "shopping <- subset(data, select = c(4,5))\n",
    "head(shopping)"
   ]
  },
  {
   "cell_type": "code",
   "execution_count": 24,
   "metadata": {},
   "outputs": [
    {
     "data": {
      "image/png": "[encoded data removed]",
      "text/plain": [
       "Plot with title \"Annual Income vs Spending Score\""
      ]
     },
     "metadata": {},
     "output_type": "display_data"
    }
   ],
   "source": [
    "#Visualize\n",
    "plot(x = shopping$Annual.Income..k.., y = shopping$Spending.Score..1.100., xlab = \"Annual Income\", ylab = \"Spending Score\",\n",
    "    main = \"Annual Income vs Spending Score\", col = \"blue\", pch = 15)"
   ]
  },
  {
   "cell_type": "code",
   "execution_count": 25,
   "metadata": {},
   "outputs": [
    {
     "data": {
      "image/png": "[encoded data removed]",
      "text/plain": [
       "plot without title"
      ]
     },
     "metadata": {},
     "output_type": "display_data"
    }
   ],
   "source": [
    "#Ap dung elbow tim k\n",
    "wss <- (nrow(shopping) -1)*sum(apply(shopping,2,var))\n",
    "for(i in 1:10) wss[i] <- sum(kmeans(shopping, centers = i)$withinss)\n",
    "plot(1:10, wss, type=\"b\", xlab = \"Number of clusters\", ylab = \"within groups sum of clusters\")"
   ]
  },
  {
   "cell_type": "markdown",
   "metadata": {},
   "source": [
    "**Chọn k=5**"
   ]
  },
  {
   "cell_type": "code",
   "execution_count": 26,
   "metadata": {},
   "outputs": [
    {
     "name": "stdout",
     "output_type": "stream",
     "text": [
      "K-means clustering with 5 clusters of sizes 23, 22, 39, 81, 35\n",
      "\n",
      "Cluster means:\n",
      "  Annual.Income..k.. Spending.Score..1.100.\n",
      "1           26.30435               20.91304\n",
      "2           25.72727               79.36364\n",
      "3           86.53846               82.12821\n",
      "4           55.29630               49.51852\n",
      "5           88.20000               17.11429\n",
      "\n",
      "Clustering vector:\n",
      "  1   2   3   4   5   6   7   8   9  10  11  12  13  14  15  16  17  18  19  20 \n",
      "  1   2   1   2   1   2   1   2   1   2   1   2   1   2   1   2   1   2   1   2 \n",
      " 21  22  23  24  25  26  27  28  29  30  31  32  33  34  35  36  37  38  39  40 \n",
      "  1   2   1   2   1   2   1   2   1   2   1   2   1   2   1   2   1   2   1   2 \n",
      " 41  42  43  44  45  46  47  48  49  50  51  52  53  54  55  56  57  58  59  60 \n",
      "  1   2   1   4   1   2   4   4   4   4   4   4   4   4   4   4   4   4   4   4 \n",
      " 61  62  63  64  65  66  67  68  69  70  71  72  73  74  75  76  77  78  79  80 \n",
      "  4   4   4   4   4   4   4   4   4   4   4   4   4   4   4   4   4   4   4   4 \n",
      " 81  82  83  84  85  86  87  88  89  90  91  92  93  94  95  96  97  98  99 100 \n",
      "  4   4   4   4   4   4   4   4   4   4   4   4   4   4   4   4   4   4   4   4 \n",
      "101 102 103 104 105 106 107 108 109 110 111 112 113 114 115 116 117 118 119 120 \n",
      "  4   4   4   4   4   4   4   4   4   4   4   4   4   4   4   4   4   4   4   4 \n",
      "121 122 123 124 125 126 127 128 129 130 131 132 133 134 135 136 137 138 139 140 \n",
      "  4   4   4   3   5   3   4   3   5   3   5   3   4   3   5   3   5   3   5   3 \n",
      "141 142 143 144 145 146 147 148 149 150 151 152 153 154 155 156 157 158 159 160 \n",
      "  5   3   4   3   5   3   5   3   5   3   5   3   5   3   5   3   5   3   5   3 \n",
      "161 162 163 164 165 166 167 168 169 170 171 172 173 174 175 176 177 178 179 180 \n",
      "  5   3   5   3   5   3   5   3   5   3   5   3   5   3   5   3   5   3   5   3 \n",
      "181 182 183 184 185 186 187 188 189 190 191 192 193 194 195 196 197 198 199 200 \n",
      "  5   3   5   3   5   3   5   3   5   3   5   3   5   3   5   3   5   3   5   3 \n",
      "\n",
      "Within cluster sum of squares by cluster:\n",
      "[1]  5098.696  3519.455 13444.051  9875.111 12511.143\n",
      " (between_SS / total_SS =  83.5 %)\n",
      "\n",
      "Available components:\n",
      "\n",
      "[1] \"cluster\"      \"centers\"      \"totss\"        \"withinss\"     \"tot.withinss\"\n",
      "[6] \"betweenss\"    \"size\"         \"iter\"         \"ifault\"      \n"
     ]
    }
   ],
   "source": [
    "#clustering\n",
    "set.seed(42)\n",
    "shopping.cluster <- kmeans(shopping, centers = 5, nstart = 20)\n",
    "print(shoppingping.cluster)"
   ]
  },
  {
   "cell_type": "code",
   "execution_count": 27,
   "metadata": {},
   "outputs": [],
   "source": [
    "library(factoextra)"
   ]
  },
  {
   "cell_type": "code",
   "execution_count": 28,
   "metadata": {},
   "outputs": [
    {
     "data": {
      "image/png": "[encoded data removed]",
      "text/plain": [
       "plot without title"
      ]
     },
     "metadata": {},
     "output_type": "display_data"
    }
   ],
   "source": [
    "fviz_cluster(shopping.cluster, geom = \"point\", data = shopping) + ggtitle(\"k=5\")"
   ]
  },
  {
   "cell_type": "code",
   "execution_count": 29,
   "metadata": {},
   "outputs": [
    {
     "name": "stderr",
     "output_type": "stream",
     "text": [
      "Your code contains a unicode char which cannot be displayed in your\n",
      "current locale and R will silently convert it to an escaped form when the\n",
      "R kernel executes this code. This can lead to subtle errors if you use\n",
      "such chars to do comparisons. For more information, please see\n",
      "https://github.com/IRkernel/repr/wiki/Problems-with-unicode-on-windows"
     ]
    },
    {
     "data": {
      "image/png": "[encoded data removed]",
      "text/plain": [
       "plot without title"
      ]
     },
     "metadata": {},
     "output_type": "display_data"
    }
   ],
   "source": [
    "#trực quan hóa dữ liệu \n",
    "shopping.cluster$cluster <- as.factor(shopping.cluster$cluster)\n",
    "plot(x= shopping$Annual.Income..k.., y= shopping$Spending.Score..1.100., xlab = \"Annual Income\", ylab = \"Spending score\", \n",
    "     col= shopping.cluster$cluster, pch = 19)\n",
    "#lines(x,y, col = \"blue\", type = \"p\")\n",
    "#legend(\"topleft\", c(\"data_new\"), cex = 0.8, fill = c(\"blue\"))"
   ]
  },
  {
   "cell_type": "markdown",
   "metadata": {},
   "source": [
    "**Nhận xét**: Dựa vào biểu đồ ta thấy 5 nhóm có đặc tính như sau:\n",
    "+ Nhóm có Income thấp và spend ít\n",
    "+ Nhóm có Income trung bình và spend trung bình\n",
    "+ Nhóm có Income cao và spend ít\n",
    "+ Nhóm có Income thấp và spend nhiều\n",
    "+ Nhóm có Income cao và spend nhiều"
   ]
  },
  {
   "cell_type": "code",
   "execution_count": null,
   "metadata": {},
   "outputs": [],
   "source": []
  }
 ],
 "metadata": {
  "kernelspec": {
   "display_name": "R",
   "language": "R",
   "name": "ir"
  },
  "language_info": {
   "codemirror_mode": "r",
   "file_extension": ".r",
   "mimetype": "text/x-r-source",
   "name": "R",
   "pygments_lexer": "r",
   "version": "3.6.1"
  }
 },
 "nbformat": 4,
 "nbformat_minor": 2
}
