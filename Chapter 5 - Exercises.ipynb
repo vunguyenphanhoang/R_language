{
 "cells": [
  {
   "cell_type": "markdown",
   "metadata": {},
   "source": [
    "### Ex1: Tính BMI và đánh giá"
   ]
  },
  {
   "cell_type": "code",
   "execution_count": 1,
   "metadata": {},
   "outputs": [],
   "source": [
    "#tinh BMI\n",
    "bmi.function <- function(height, weight){\n",
    "    bmi <- weight/(height*height)\n",
    "    return(bmi)\n",
    "}"
   ]
  },
  {
   "cell_type": "code",
   "execution_count": 2,
   "metadata": {},
   "outputs": [],
   "source": [
    "#Danh gia.\n",
    "comment_bmi.fuction <- function(bmi){\n",
    "    if (bmi < 18.5){\n",
    "        return(\"Gay\")\n",
    "    } else if ( bmi <= 24.99){\n",
    "        return (\"Binh thuong\")\n",
    "    } else {\n",
    "        return(\"Thua can\")\n",
    "    }\n",
    "}\n"
   ]
  },
  {
   "cell_type": "code",
   "execution_count": 9,
   "metadata": {},
   "outputs": [
    {
     "name": "stdout",
     "output_type": "stream",
     "text": [
      "Input height (m) : 1.62\n",
      "Input weight (kg) : 53.5\n"
     ]
    }
   ],
   "source": [
    "height <- as.numeric(readline(prompt = \"Input height (m) : \"))\n",
    "weight <- as.numeric(readline(prompt = \"Input weight (kg) : \"))\n",
    "bmi <- round(bmi.function(height, weight),2)"
   ]
  },
  {
   "cell_type": "code",
   "execution_count": 10,
   "metadata": {},
   "outputs": [
    {
     "name": "stdout",
     "output_type": "stream",
     "text": [
      "[1] \"Height (m) =  1.62\"\n",
      "[1] \"Weight (kg) =  53.5\"\n",
      "[1] \"BMI =  20.39\"\n",
      "[1] \"Binh thuong\"\n"
     ]
    }
   ],
   "source": [
    "print(paste(\"Height (m) = \", height))\n",
    "print(paste(\"Weight (kg) = \", weight))\n",
    "print (paste(\"BMI = \", bmi))\n",
    "print(comment_bmi.fuction(bmi))"
   ]
  },
  {
   "cell_type": "markdown",
   "metadata": {},
   "source": [
    "### Ex2: Giải PT bậc 1, PT bậc 2"
   ]
  },
  {
   "cell_type": "markdown",
   "metadata": {},
   "source": [
    "#### PT bậc 1 ( ax + b = 0)"
   ]
  },
  {
   "cell_type": "code",
   "execution_count": 8,
   "metadata": {},
   "outputs": [],
   "source": [
    "ptb1.function <- function(a,b){\n",
    "    if (a == 0 & b != 0){\n",
    "        result <- \"Phuong trinh vo nghiem\"\n",
    "    } else if (a == 0 & b == 0){\n",
    "        result <- \"Phuong trinh vo so nghiem\"\n",
    "    } else {\n",
    "        result <- paste(\"Nghiem = \", -b/a)\n",
    "    }\n",
    "    return(result)\n",
    "}"
   ]
  },
  {
   "cell_type": "code",
   "execution_count": 9,
   "metadata": {},
   "outputs": [
    {
     "name": "stdout",
     "output_type": "stream",
     "text": [
      "Input a (ax + b = 0) : 5\n",
      "Input b (ax + b = 0) : 7\n"
     ]
    }
   ],
   "source": [
    "a <- as.numeric(readline(prompt = \"Input a (ax + b = 0) : \")) \n",
    "b <- as.numeric(readline(prompt = \"Input b (ax + b = 0) : \"))"
   ]
  },
  {
   "cell_type": "code",
   "execution_count": 10,
   "metadata": {},
   "outputs": [
    {
     "name": "stdout",
     "output_type": "stream",
     "text": [
      "[1] \"Giai phuong trinh ax + b = 0\"\n",
      "[1] \"a =  5\"\n",
      "[1] \"b =  7\"\n",
      "[1] \"Nghiem =  -1.4\"\n"
     ]
    }
   ],
   "source": [
    "print(\"Giai phuong trinh ax + b = 0\")\n",
    "print(paste(\"a = \", a))\n",
    "print(paste(\"b = \", b))\n",
    "print(ptb1.function(a,b))"
   ]
  },
  {
   "cell_type": "markdown",
   "metadata": {},
   "source": [
    "#### PT bậc 2 ($ax^2 + bx + c = 0$)"
   ]
  },
  {
   "cell_type": "code",
   "execution_count": 17,
   "metadata": {},
   "outputs": [],
   "source": [
    "ptb2.function <- function(a,b,c){\n",
    "    if (a==0){\n",
    "        result <- ptb1.function(b,c)\n",
    "    } else {\n",
    "        delta <- b*b - 4*a*c\n",
    "        if (delta <0 ){\n",
    "            result <- \"Phuong trinh vo nghiem\"\n",
    "        } else if (delta == 0){\n",
    "            result <- paste(\"Phuong trinh co nghiem kep x1 = x2 = x0 = \", -b/(2*a))\n",
    "        } else {\n",
    "            result <- paste(\"Nghiem x1 =\", (-b + sqrt(delta))/(2*a), \"Nghiem x2 = \", (-b - sqrt(delta))/(2*a))\n",
    "        }\n",
    "    }\n",
    "    return(result)\n",
    "}"
   ]
  },
  {
   "cell_type": "code",
   "execution_count": 18,
   "metadata": {},
   "outputs": [
    {
     "name": "stdout",
     "output_type": "stream",
     "text": [
      "Input a : -3\n",
      "Input b : 2\n",
      "Input c : 4\n"
     ]
    }
   ],
   "source": [
    "a <- as.numeric(readline(prompt = \"Input a : \")) \n",
    "b <- as.numeric(readline(prompt = \"Input b : \"))\n",
    "c <- as.numeric(readline(prompt = \"Input c : \"))\n",
    "result <- ptb2.function(a,b,c)"
   ]
  },
  {
   "cell_type": "code",
   "execution_count": 19,
   "metadata": {},
   "outputs": [
    {
     "name": "stdout",
     "output_type": "stream",
     "text": [
      "[1] \"Giai phuong trinh bac 2 ax^2 + bx + c = 0\"\n",
      "[1] \"a =  -3\"\n",
      "[1] \"b =  2\"\n",
      "[1] \"c =  4\"\n",
      "[1] \"Nghiem x1 = -0.86851709182133 Nghiem x2 =  1.535183758488\"\n"
     ]
    }
   ],
   "source": [
    "print(\"Giai phuong trinh bac 2 ax^2 + bx + c = 0\")\n",
    "print(paste(\"a = \",a))\n",
    "print(paste(\"b = \",b))\n",
    "print(paste(\"c = \",c))\n",
    "print(result)"
   ]
  },
  {
   "cell_type": "markdown",
   "metadata": {},
   "source": [
    "### Ex3: Xây dựng function"
   ]
  },
  {
   "cell_type": "code",
   "execution_count": 50,
   "metadata": {},
   "outputs": [],
   "source": [
    "source(\"User_functions.r\")"
   ]
  },
  {
   "cell_type": "markdown",
   "metadata": {},
   "source": [
    "#### Tien tien dien"
   ]
  },
  {
   "cell_type": "code",
   "execution_count": 26,
   "metadata": {},
   "outputs": [
    {
     "name": "stdout",
     "output_type": "stream",
     "text": [
      "Moi ban nhap so Kwh dien tieu thu : 200\n"
     ]
    }
   ],
   "source": [
    "kwh <- as.numeric(readline(prompt = \"Moi ban nhap so Kwh dien tieu thu : \"))"
   ]
  },
  {
   "cell_type": "code",
   "execution_count": 27,
   "metadata": {},
   "outputs": [
    {
     "name": "stdout",
     "output_type": "stream",
     "text": [
      "[1] \"Tien dien :  372,000 VND\"\n"
     ]
    }
   ],
   "source": [
    "tien_dien = tinh_tien_dien.function(kwh)\n",
    "print(paste(\"Tien dien : \", format(tien_dien, scientific = FALSE, big.mark = \",\"),\"VND\"))"
   ]
  },
  {
   "cell_type": "markdown",
   "metadata": {},
   "source": [
    "#### Kiem tra SNT"
   ]
  },
  {
   "cell_type": "code",
   "execution_count": 44,
   "metadata": {},
   "outputs": [
    {
     "name": "stdout",
     "output_type": "stream",
     "text": [
      "Moi ban nhap n : 9\n"
     ]
    }
   ],
   "source": [
    "n <- as.integer(readline(prompt = \"Moi ban nhap n : \"))"
   ]
  },
  {
   "cell_type": "code",
   "execution_count": 45,
   "metadata": {},
   "outputs": [],
   "source": [
    "result <- kiem_tra_SNT.function(n)"
   ]
  },
  {
   "cell_type": "code",
   "execution_count": 46,
   "metadata": {},
   "outputs": [
    {
     "name": "stdout",
     "output_type": "stream",
     "text": [
      "[1] \"9  khong la SNT\"\n"
     ]
    }
   ],
   "source": [
    "if (result){\n",
    "    print(paste(n, \" la SNT\"))\n",
    "} else {\n",
    "    print(paste(n, \" khong la SNT\"))\n",
    "}"
   ]
  },
  {
   "cell_type": "markdown",
   "metadata": {},
   "source": [
    "#### Tinh cuoc xe GOBIKE/GOSEND"
   ]
  },
  {
   "cell_type": "code",
   "execution_count": 47,
   "metadata": {},
   "outputs": [
    {
     "name": "stdout",
     "output_type": "stream",
     "text": [
      "Nhap loai dich vu (1: GOBIKE, 2: GOSEND) : 2\n",
      "Nhap so km : 10\n"
     ]
    }
   ],
   "source": [
    "dv <- as.integer(readline(prompt = 'Nhap loai dich vu (1: GOBIKE, 2: GOSEND) : '))\n",
    "sokm <-  as.numeric(readline(prompt = 'Nhap so km : '))"
   ]
  },
  {
   "cell_type": "code",
   "execution_count": 51,
   "metadata": {},
   "outputs": [],
   "source": [
    "thanh_tien <- tinh_cuoc_xe.function(dv,sokm)"
   ]
  },
  {
   "cell_type": "code",
   "execution_count": 52,
   "metadata": {},
   "outputs": [
    {
     "name": "stdout",
     "output_type": "stream",
     "text": [
      "[1] \"Dich vu : GOSEND\"\n",
      "[1] \"So km :  10\"\n",
      "[1] \"Tong tien:  47,000 VND\"\n"
     ]
    }
   ],
   "source": [
    "print(paste(\"Dich vu :\",ifelse(dv==1,\"GOBIKE\",\"GOSEND\")))\n",
    "print(paste(\"So km : \",sokm))\n",
    "print(paste(\"Tong tien: \", format(thanh_tien,scientific = FALSE, big.mark = \",\"),\"VND\"))"
   ]
  },
  {
   "cell_type": "code",
   "execution_count": null,
   "metadata": {},
   "outputs": [],
   "source": []
  }
 ],
 "metadata": {
  "kernelspec": {
   "display_name": "R",
   "language": "R",
   "name": "ir"
  },
  "language_info": {
   "codemirror_mode": "r",
   "file_extension": ".r",
   "mimetype": "text/x-r-source",
   "name": "R",
   "pygments_lexer": "r",
   "version": "3.6.1"
  }
 },
 "nbformat": 4,
 "nbformat_minor": 2
}
