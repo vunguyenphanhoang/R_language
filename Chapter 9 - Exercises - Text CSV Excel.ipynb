{
 "cells": [
  {
   "cell_type": "markdown",
   "metadata": {},
   "source": [
    "### Ex1: Đọc tập tin và xử lý"
   ]
  },
  {
   "cell_type": "code",
   "execution_count": 1,
   "metadata": {},
   "outputs": [],
   "source": [
    "#Doc tap tin SampleTextFile_10kb.txt\n",
    "sample_text <- readLines('Data_buoi_4\\\\Du_lieu\\\\SampleTextFile_10kb.txt')"
   ]
  },
  {
   "cell_type": "code",
   "execution_count": 2,
   "metadata": {},
   "outputs": [
    {
     "data": {
      "text/html": [
       "'Lorem ipsum dolor sit amet, consectetur adipiscing elit. Vivamus condimentum sagittis lacus, laoreet luctus ligula laoreet ut. Vestibulum ullamcorper accumsan velit vel vehicula. Proin tempor lacus arcu. Nunc at elit condimentum, semper nisi et, condimentum mi. In venenatis blandit nibh at sollicitudin. Vestibulum dapibus mauris at orci maximus pellentesque. Nullam id elementum ipsum. Suspendisse cursus lobortis viverra. Proin et erat at mauris tincidunt porttitor vitae ac dui.'"
      ],
      "text/latex": [
       "'Lorem ipsum dolor sit amet, consectetur adipiscing elit. Vivamus condimentum sagittis lacus, laoreet luctus ligula laoreet ut. Vestibulum ullamcorper accumsan velit vel vehicula. Proin tempor lacus arcu. Nunc at elit condimentum, semper nisi et, condimentum mi. In venenatis blandit nibh at sollicitudin. Vestibulum dapibus mauris at orci maximus pellentesque. Nullam id elementum ipsum. Suspendisse cursus lobortis viverra. Proin et erat at mauris tincidunt porttitor vitae ac dui.'"
      ],
      "text/markdown": [
       "'Lorem ipsum dolor sit amet, consectetur adipiscing elit. Vivamus condimentum sagittis lacus, laoreet luctus ligula laoreet ut. Vestibulum ullamcorper accumsan velit vel vehicula. Proin tempor lacus arcu. Nunc at elit condimentum, semper nisi et, condimentum mi. In venenatis blandit nibh at sollicitudin. Vestibulum dapibus mauris at orci maximus pellentesque. Nullam id elementum ipsum. Suspendisse cursus lobortis viverra. Proin et erat at mauris tincidunt porttitor vitae ac dui.'"
      ],
      "text/plain": [
       "[1] \"Lorem ipsum dolor sit amet, consectetur adipiscing elit. Vivamus condimentum sagittis lacus, laoreet luctus ligula laoreet ut. Vestibulum ullamcorper accumsan velit vel vehicula. Proin tempor lacus arcu. Nunc at elit condimentum, semper nisi et, condimentum mi. In venenatis blandit nibh at sollicitudin. Vestibulum dapibus mauris at orci maximus pellentesque. Nullam id elementum ipsum. Suspendisse cursus lobortis viverra. Proin et erat at mauris tincidunt porttitor vitae ac dui.\""
      ]
     },
     "metadata": {},
     "output_type": "display_data"
    }
   ],
   "source": [
    "#In ra noi dung cua phan tu dau tien trong tap tin\n",
    "sample_text[1]"
   ]
  },
  {
   "cell_type": "code",
   "execution_count": 3,
   "metadata": {},
   "outputs": [
    {
     "name": "stdout",
     "output_type": "stream",
     "text": [
      "[1] \"So phan tu cua tap tin: 27\"\n"
     ]
    }
   ],
   "source": [
    "#in so phan tu cua tap tin\n",
    "print(paste(\"So phan tu cua tap tin:\",length(sample_text)))"
   ]
  },
  {
   "cell_type": "code",
   "execution_count": 4,
   "metadata": {},
   "outputs": [
    {
     "name": "stdout",
     "output_type": "stream",
     "text": [
      "[1] \"So ki tu trong phan tu thu  1 : 482\"\n",
      "[1] \"So ki tu trong phan tu thu  2 : 0\"\n",
      "[1] \"So ki tu trong phan tu thu  3 : 931\"\n",
      "[1] \"So ki tu trong phan tu thu  4 : 0\"\n",
      "[1] \"So ki tu trong phan tu thu  5 : 878\"\n",
      "[1] \"So ki tu trong phan tu thu  6 : 0\"\n",
      "[1] \"So ki tu trong phan tu thu  7 : 601\"\n",
      "[1] \"So ki tu trong phan tu thu  8 : 0\"\n",
      "[1] \"So ki tu trong phan tu thu  9 : 645\"\n",
      "[1] \"So ki tu trong phan tu thu  10 : 0\"\n",
      "[1] \"So ki tu trong phan tu thu  11 : 730\"\n",
      "[1] \"So ki tu trong phan tu thu  12 : 0\"\n",
      "[1] \"So ki tu trong phan tu thu  13 : 437\"\n",
      "[1] \"So ki tu trong phan tu thu  14 : 0\"\n",
      "[1] \"So ki tu trong phan tu thu  15 : 434\"\n",
      "[1] \"So ki tu trong phan tu thu  16 : 0\"\n",
      "[1] \"So ki tu trong phan tu thu  17 : 944\"\n",
      "[1] \"So ki tu trong phan tu thu  18 : 0\"\n",
      "[1] \"So ki tu trong phan tu thu  19 : 629\"\n",
      "[1] \"So ki tu trong phan tu thu  20 : 0\"\n",
      "[1] \"So ki tu trong phan tu thu  21 : 772\"\n",
      "[1] \"So ki tu trong phan tu thu  22 : 0\"\n",
      "[1] \"So ki tu trong phan tu thu  23 : 615\"\n",
      "[1] \"So ki tu trong phan tu thu  24 : 0\"\n",
      "[1] \"So ki tu trong phan tu thu  25 : 449\"\n",
      "[1] \"So ki tu trong phan tu thu  26 : 0\"\n",
      "[1] \"So ki tu trong phan tu thu  27 : 909\"\n"
     ]
    }
   ],
   "source": [
    "#Moi phan tu co bao nhieu ki tu\n",
    "i<-1\n",
    "while (i<= length(sample_text)){\n",
    "    print(paste(\"So ki tu trong phan tu thu \",i, \":\",nchar(sample_text[i])))\n",
    "    i<- i+1\n",
    "}\n"
   ]
  },
  {
   "cell_type": "markdown",
   "metadata": {},
   "source": [
    "### Ex2: Đọc tập tin, xử lý, ghi nội dung vào tập tin"
   ]
  },
  {
   "cell_type": "code",
   "execution_count": 1,
   "metadata": {},
   "outputs": [
    {
     "name": "stdout",
     "output_type": "stream",
     "text": [
      "        V1 V2  V3 V4 V5\n",
      "1     Alex 25 177 57  F\n",
      "2    Lilly 31 163 69  F\n",
      "3     Mark 23 190 83  M\n",
      "4   Oliver 52 179 75  M\n",
      "5   Martha 76 163 70  F\n",
      "6    Lucas 49 183 83  M\n",
      "7 Caroline 26 164 53  F\n"
     ]
    }
   ],
   "source": [
    "#Doc tap tin cau truc dang bang Table0.txt\n",
    "df <- read.table(\"Data_buoi_4\\\\Du_lieu\\\\Table0.txt\")\n",
    "print(df)"
   ]
  },
  {
   "cell_type": "code",
   "execution_count": 6,
   "metadata": {},
   "outputs": [],
   "source": [
    "colnames(df) = c('Name','Age','Height','Weight','Sex')\n",
    "row.names(df) = df$Name"
   ]
  },
  {
   "cell_type": "code",
   "execution_count": 7,
   "metadata": {},
   "outputs": [
    {
     "data": {
      "text/html": [
       "<table>\n",
       "<thead><tr><th></th><th scope=col>Name</th><th scope=col>Age</th><th scope=col>Height</th><th scope=col>Weight</th><th scope=col>Sex</th></tr></thead>\n",
       "<tbody>\n",
       "\t<tr><th scope=row>Alex</th><td>Alex    </td><td>25      </td><td>177     </td><td>57      </td><td>F       </td></tr>\n",
       "\t<tr><th scope=row>Lilly</th><td>Lilly   </td><td>31      </td><td>163     </td><td>69      </td><td>F       </td></tr>\n",
       "\t<tr><th scope=row>Mark</th><td>Mark    </td><td>23      </td><td>190     </td><td>83      </td><td>M       </td></tr>\n",
       "\t<tr><th scope=row>Oliver</th><td>Oliver  </td><td>52      </td><td>179     </td><td>75      </td><td>M       </td></tr>\n",
       "\t<tr><th scope=row>Martha</th><td>Martha  </td><td>76      </td><td>163     </td><td>70      </td><td>F       </td></tr>\n",
       "\t<tr><th scope=row>Lucas</th><td>Lucas   </td><td>49      </td><td>183     </td><td>83      </td><td>M       </td></tr>\n",
       "\t<tr><th scope=row>Caroline</th><td>Caroline</td><td>26      </td><td>164     </td><td>53      </td><td>F       </td></tr>\n",
       "</tbody>\n",
       "</table>\n"
      ],
      "text/latex": [
       "\\begin{tabular}{r|lllll}\n",
       "  & Name & Age & Height & Weight & Sex\\\\\n",
       "\\hline\n",
       "\tAlex & Alex     & 25       & 177      & 57       & F       \\\\\n",
       "\tLilly & Lilly    & 31       & 163      & 69       & F       \\\\\n",
       "\tMark & Mark     & 23       & 190      & 83       & M       \\\\\n",
       "\tOliver & Oliver   & 52       & 179      & 75       & M       \\\\\n",
       "\tMartha & Martha   & 76       & 163      & 70       & F       \\\\\n",
       "\tLucas & Lucas    & 49       & 183      & 83       & M       \\\\\n",
       "\tCaroline & Caroline & 26       & 164      & 53       & F       \\\\\n",
       "\\end{tabular}\n"
      ],
      "text/markdown": [
       "\n",
       "| <!--/--> | Name | Age | Height | Weight | Sex |\n",
       "|---|---|---|---|---|---|\n",
       "| Alex | Alex     | 25       | 177      | 57       | F        |\n",
       "| Lilly | Lilly    | 31       | 163      | 69       | F        |\n",
       "| Mark | Mark     | 23       | 190      | 83       | M        |\n",
       "| Oliver | Oliver   | 52       | 179      | 75       | M        |\n",
       "| Martha | Martha   | 76       | 163      | 70       | F        |\n",
       "| Lucas | Lucas    | 49       | 183      | 83       | M        |\n",
       "| Caroline | Caroline | 26       | 164      | 53       | F        |\n",
       "\n"
      ],
      "text/plain": [
       "         Name     Age Height Weight Sex\n",
       "Alex     Alex     25  177    57     F  \n",
       "Lilly    Lilly    31  163    69     F  \n",
       "Mark     Mark     23  190    83     M  \n",
       "Oliver   Oliver   52  179    75     M  \n",
       "Martha   Martha   76  163    70     F  \n",
       "Lucas    Lucas    49  183    83     M  \n",
       "Caroline Caroline 26  164    53     F  "
      ]
     },
     "metadata": {},
     "output_type": "display_data"
    }
   ],
   "source": [
    "df"
   ]
  },
  {
   "cell_type": "code",
   "execution_count": 9,
   "metadata": {},
   "outputs": [
    {
     "name": "stdout",
     "output_type": "stream",
     "text": [
      "         Age Height Weight Sex\n",
      "Alex      25    177     57   F\n",
      "Lilly     31    163     69   F\n",
      "Mark      23    190     83   M\n",
      "Oliver    52    179     75   M\n",
      "Martha    76    163     70   F\n",
      "Lucas     49    183     83   M\n",
      "Caroline  26    164     53   F\n"
     ]
    }
   ],
   "source": [
    "#xoa cot Name thua\n",
    "df$Name <- NULL\n",
    "print(df)"
   ]
  },
  {
   "cell_type": "code",
   "execution_count": 10,
   "metadata": {},
   "outputs": [],
   "source": [
    "#Ghi noi dung vao tap tin Table0_new.txt\n",
    "write.table(df, file = 'D:/Data Science/LDS7 R Programming/Data_buoi_4/Du_lieu/Table0_new.txt', sep = '\\t')"
   ]
  },
  {
   "cell_type": "markdown",
   "metadata": {},
   "source": [
    "### Ex3: Đọc, ghi tập tin txt"
   ]
  },
  {
   "cell_type": "code",
   "execution_count": 13,
   "metadata": {},
   "outputs": [
    {
     "name": "stdout",
     "output_type": "stream",
     "text": [
      "    Name Age Height Weight Sex\n",
      "1   Alex  25    177     57   F\n",
      "2  Lilly  31    163     69   F\n",
      "3   Mark  23    190     83   M\n",
      "4 Oliver  52    179     75   M\n",
      "5 Martha  76    163     70   F\n",
      "6  Lucas  49    183     83   M\n"
     ]
    }
   ],
   "source": [
    "#Cung cap tap tin Table5.txt\n",
    "df <- read.table('Data_buoi_4\\\\Du_lieu\\\\Table6.txt', skip = 1, header = TRUE, stringsAsFactors = FALSE, comment.char = \"@\")\n",
    "print(head(df))"
   ]
  },
  {
   "cell_type": "code",
   "execution_count": 14,
   "metadata": {},
   "outputs": [
    {
     "data": {
      "text/html": [
       "105"
      ],
      "text/latex": [
       "105"
      ],
      "text/markdown": [
       "105"
      ],
      "text/plain": [
       "[1] 105"
      ]
     },
     "metadata": {},
     "output_type": "display_data"
    }
   ],
   "source": [
    "#Kiem tra co du lieu trung khong, neu co thi xoa cac dong trung\n",
    "nrow_bf <- nrow(df)\n",
    "nrow_bf"
   ]
  },
  {
   "cell_type": "code",
   "execution_count": 16,
   "metadata": {},
   "outputs": [
    {
     "name": "stderr",
     "output_type": "stream",
     "text": [
      "Warning message:\n",
      "\"package 'tidyverse' was built under R version 3.6.3\"-- Attaching packages --------------------------------------- tidyverse 1.3.0 --\n",
      "v ggplot2 3.3.0     v purrr   0.3.3\n",
      "v tibble  2.1.3     v dplyr   0.8.5\n",
      "v tidyr   1.0.2     v stringr 1.4.0\n",
      "v readr   1.3.1     v forcats 0.5.0\n",
      "Warning message:\n",
      "\"package 'ggplot2' was built under R version 3.6.3\"Warning message:\n",
      "\"package 'tibble' was built under R version 3.6.3\"Warning message:\n",
      "\"package 'tidyr' was built under R version 3.6.3\"Warning message:\n",
      "\"package 'readr' was built under R version 3.6.3\"Warning message:\n",
      "\"package 'purrr' was built under R version 3.6.3\"Warning message:\n",
      "\"package 'dplyr' was built under R version 3.6.3\"Warning message:\n",
      "\"package 'stringr' was built under R version 3.6.3\"Warning message:\n",
      "\"package 'forcats' was built under R version 3.6.3\"-- Conflicts ------------------------------------------ tidyverse_conflicts() --\n",
      "x dplyr::filter() masks stats::filter()\n",
      "x dplyr::lag()    masks stats::lag()\n"
     ]
    }
   ],
   "source": [
    "library(tidyverse)"
   ]
  },
  {
   "cell_type": "code",
   "execution_count": 19,
   "metadata": {},
   "outputs": [
    {
     "data": {
      "text/html": [
       "7"
      ],
      "text/latex": [
       "7"
      ],
      "text/markdown": [
       "7"
      ],
      "text/plain": [
       "[1] 7"
      ]
     },
     "metadata": {},
     "output_type": "display_data"
    }
   ],
   "source": [
    "df <- unique(df)\n",
    "nrow_af <- nrow(df)\n",
    "nrow_af"
   ]
  },
  {
   "cell_type": "code",
   "execution_count": 21,
   "metadata": {},
   "outputs": [
    {
     "name": "stdout",
     "output_type": "stream",
     "text": [
      "[1] \"Data after dropping duplicate:\"\n",
      "      Name Age Height Weight Sex\n",
      "1     Alex  25    177     57   F\n",
      "2    Lilly  31    163     69   F\n",
      "3     Mark  23    190     83   M\n",
      "4   Oliver  52    179     75   M\n",
      "5   Martha  76    163     70   F\n",
      "6    Lucas  49    183     83   M\n",
      "7 Caroline  26    164     53   F\n"
     ]
    }
   ],
   "source": [
    "print(\"Data after dropping duplicate:\")\n",
    "print(df)"
   ]
  },
  {
   "cell_type": "code",
   "execution_count": 22,
   "metadata": {},
   "outputs": [
    {
     "name": "stdout",
     "output_type": "stream",
     "text": [
      "[1] \"Data after add rowname and remove Name column:\"\n",
      "         Age Height Weight Sex\n",
      "Alex      25    177     57   F\n",
      "Lilly     31    163     69   F\n",
      "Mark      23    190     83   M\n",
      "Oliver    52    179     75   M\n",
      "Martha    76    163     70   F\n",
      "Lucas     49    183     83   M\n",
      "Caroline  26    164     53   F\n"
     ]
    }
   ],
   "source": [
    "#Dat rowname la cot Name. Xoa cot Name thua\n",
    "row.names(df) = df$Name\n",
    "df$Name <- NULL\n",
    "print(\"Data after add rowname and remove Name column:\")\n",
    "print(df)"
   ]
  },
  {
   "cell_type": "code",
   "execution_count": 23,
   "metadata": {},
   "outputs": [],
   "source": [
    "#Ghi lai noi dung sau khi chuan hoa va Table6_new.txt\n",
    "write.table(df, file = 'D:/Data Science/LDS7 R Programming/Data_buoi_4/Du_lieu/Table6_new.txt', sep = '\\t')"
   ]
  },
  {
   "cell_type": "code",
   "execution_count": 24,
   "metadata": {},
   "outputs": [
    {
     "name": "stdout",
     "output_type": "stream",
     "text": [
      "       Age Height Weight Sex\n",
      "Alex    25    177     57   F\n",
      "Lilly   31    163     69   F\n",
      "Mark    23    190     83   M\n",
      "Oliver  52    179     75   M\n",
      "Martha  76    163     70   F\n",
      "Lucas   49    183     83   M\n"
     ]
    }
   ],
   "source": [
    "#In noi dung trong file Table6_new.txt sau khi ghi ra file\n",
    "df_new <- read.table('Data_buoi_4\\\\Du_lieu\\\\Table6_new.txt')\n",
    "print(head(df_new))"
   ]
  },
  {
   "cell_type": "markdown",
   "metadata": {},
   "source": [
    "### Ex4: Đọc, xử lý, ghi tập tin csv"
   ]
  },
  {
   "cell_type": "code",
   "execution_count": 26,
   "metadata": {},
   "outputs": [
    {
     "name": "stdout",
     "output_type": "stream",
     "text": [
      "           Population Income Illiteracy Life.Exp Murder HS.Grad Frost   Area\n",
      "Alabama          3615   3624        2.1    69.05   15.1    41.3    20  50708\n",
      "Alaska            365   6315        1.5    69.31   11.3    66.7   152 566432\n",
      "Arizona          2212   4530        1.8    70.55    7.8    58.1    15 113417\n",
      "Arkansas         2110   3378        1.9    70.66   10.1    39.9    65  51945\n",
      "California      21198   5114        1.1    71.71   10.3    62.6    20 156361\n",
      "Colorado         2541   4884        0.7    72.06    6.8    63.9   166 103766\n"
     ]
    }
   ],
   "source": [
    "#Doc tap tin states2.csv vao df\n",
    "df <- read.csv('Data_buoi_4\\\\Du_lieu\\\\states2.csv', row.names = 1, sep = \";\", dec = \",\")\n",
    "print(head(df))"
   ]
  },
  {
   "cell_type": "code",
   "execution_count": 34,
   "metadata": {},
   "outputs": [
    {
     "name": "stdout",
     "output_type": "stream",
     "text": [
      "[1] \"Df1 with Income > 4500 & Population > 10000 :\"\n",
      "           Population Income Illiteracy Life.Exp Murder HS.Grad Frost   Area\n",
      "California      21198   5114        1.1    71.71   10.3    62.6    20 156361\n",
      "Illinois        11197   5107        0.9    70.14   10.3    52.6   127  55748\n",
      "New York        18076   4903        1.4    70.55   10.9    52.7    82  47831\n",
      "Ohio            10735   4561        0.8    70.82    7.4    53.2   124  40975\n"
     ]
    }
   ],
   "source": [
    "#Tao df1 tu df co income > 4500 va population > 10000\n",
    "df1 <- subset(df, df$Income > 4500 & df$Population > 10000)\n",
    "print(\"Df1 with Income > 4500 & Population > 10000 :\")\n",
    "print(head(df1))"
   ]
  },
  {
   "cell_type": "code",
   "execution_count": 35,
   "metadata": {},
   "outputs": [],
   "source": [
    "#Ghi df1 ra states_income.csv\n",
    "write.csv(df1, file = 'D:/Data Science/LDS7 R Programming/Data_buoi_4/Du_lieu/states_income.csv')"
   ]
  },
  {
   "cell_type": "code",
   "execution_count": 37,
   "metadata": {},
   "outputs": [
    {
     "name": "stdout",
     "output_type": "stream",
     "text": [
      "           Population Income Illiteracy Life.Exp Murder HS.Grad Frost   Area\n",
      "California      21198   5114        1.1    71.71   10.3    62.6    20 156361\n",
      "Illinois        11197   5107        0.9    70.14   10.3    52.6   127  55748\n",
      "New York        18076   4903        1.4    70.55   10.9    52.7    82  47831\n",
      "Ohio            10735   4561        0.8    70.82    7.4    53.2   124  40975\n"
     ]
    }
   ],
   "source": [
    "#Doc va hien thi lai du lieu tap tin vua ghi\n",
    "df_new <- read.csv('Data_buoi_4\\\\Du_lieu\\\\states_income.csv', row.names = 1)\n",
    "print(head(df_new))"
   ]
  },
  {
   "cell_type": "markdown",
   "metadata": {},
   "source": [
    "### Ex5: Đọc tập tin csv, xử lý, lưu vào tập tin xlsx\n"
   ]
  },
  {
   "cell_type": "code",
   "execution_count": 40,
   "metadata": {},
   "outputs": [
    {
     "name": "stdout",
     "output_type": "stream",
     "text": [
      "  Year     City      Sport     Discipline NOC           Event Event.gender\n",
      "1 1924 Chamonix    Skating Figure skating AUT      individual            M\n",
      "2 1924 Chamonix    Skating Figure skating AUT      individual            W\n",
      "3 1924 Chamonix    Skating Figure skating AUT           pairs            X\n",
      "4 1924 Chamonix  Bobsleigh      Bobsleigh BEL        four-man            M\n",
      "5 1924 Chamonix Ice Hockey     Ice Hockey CAN      ice hockey            M\n",
      "6 1924 Chamonix   Biathlon       Biathlon FIN military patrol            M\n",
      "   Medal\n",
      "1 Silver\n",
      "2   Gold\n",
      "3   Gold\n",
      "4 Bronze\n",
      "5   Gold\n",
      "6 Silver\n"
     ]
    }
   ],
   "source": [
    "#Cung cap tap tin medals.csv\n",
    "data <- read.csv('Data_buoi_4\\\\Du_lieu\\\\medals.csv')\n",
    "print(head(data))"
   ]
  },
  {
   "cell_type": "code",
   "execution_count": 41,
   "metadata": {},
   "outputs": [
    {
     "name": "stdout",
     "output_type": "stream",
     "text": [
      "[1] \"Kieu du lieu cua data: data.frame\"\n"
     ]
    }
   ],
   "source": [
    "#Cho biet kieu du lieu cua data\n",
    "print(paste(\"Kieu du lieu cua data:\", class(data)))"
   ]
  },
  {
   "cell_type": "code",
   "execution_count": 44,
   "metadata": {},
   "outputs": [
    {
     "name": "stdout",
     "output_type": "stream",
     "text": [
      "[1] \"data co: 2314  dong & 8 cot\"\n",
      "[1] \"Columns's name of data: Year, City, Sport, Discipline, NOC, Event, Event.gender, Medal\"\n"
     ]
    }
   ],
   "source": [
    "#Cho biet so dong, so cot va ten cac cot cua data\n",
    "print(paste(\"Data co:\", nrow(data),\" dong &\",ncol(data),\"cot\"))\n",
    "print(paste(\"Columns's name of data:\", toString(colnames(data))))"
   ]
  },
  {
   "cell_type": "code",
   "execution_count": 49,
   "metadata": {},
   "outputs": [
    {
     "name": "stdout",
     "output_type": "stream",
     "text": [
      "    Year        City  Sport      Discipline NOC      Event Event.gender  Medal\n",
      "100 1932 Lake Placid Skiing Cross Country S FIN       18km            M Bronze\n",
      "101 1932 Lake Placid Skiing Cross Country S FIN       50km            M   Gold\n",
      "102 1932 Lake Placid Skiing Cross Country S FIN       50km            M Silver\n",
      "110 1932 Lake Placid Skiing Cross Country S NOR       50km            M Bronze\n",
      "111 1932 Lake Placid Skiing Nordic Combined NOR individual            M Bronze\n",
      "112 1932 Lake Placid Skiing Nordic Combined NOR individual            M   Gold\n"
     ]
    }
   ],
   "source": [
    "# Tao 1 bo du lieu data_1932_skiing voi year = 1932 & sport = Skiing\n",
    "data_1932_skiing <- subset(data, data$Year == 1932 & data$Sport == 'Skiing')\n",
    "print(head(data_1932_skiing))"
   ]
  },
  {
   "cell_type": "code",
   "execution_count": 52,
   "metadata": {},
   "outputs": [],
   "source": [
    "library(\"xlsx\")"
   ]
  },
  {
   "cell_type": "code",
   "execution_count": 55,
   "metadata": {},
   "outputs": [],
   "source": [
    "#Ghi data_1932_skiing ra Excel file, sheetname = 1932_skiing\n",
    "write.xlsx(data_1932_skiing, file = \"D:/Data Science/LDS7 R Programming/Data_buoi_4/Du_lieu/medals_new.xlsx\", sheetName = \"1932_skiing\",append =  TRUE)"
   ]
  },
  {
   "cell_type": "markdown",
   "metadata": {},
   "source": [
    "### Ex6: Đọc và xử lý tập tin xlsx"
   ]
  },
  {
   "cell_type": "code",
   "execution_count": 61,
   "metadata": {},
   "outputs": [
    {
     "name": "stdout",
     "output_type": "stream",
     "text": [
      "  NA. Year        City  Sport      Discipline NOC      Event Event.gender\n",
      "1 100 1932 Lake Placid Skiing Cross Country S FIN       18km            M\n",
      "2 101 1932 Lake Placid Skiing Cross Country S FIN       50km            M\n",
      "3 102 1932 Lake Placid Skiing Cross Country S FIN       50km            M\n",
      "4 110 1932 Lake Placid Skiing Cross Country S NOR       50km            M\n",
      "5 111 1932 Lake Placid Skiing Nordic Combined NOR individual            M\n",
      "6 112 1932 Lake Placid Skiing Nordic Combined NOR individual            M\n",
      "   Medal\n",
      "1 Bronze\n",
      "2   Gold\n",
      "3 Silver\n",
      "4 Bronze\n",
      "5 Bronze\n",
      "6   Gold\n"
     ]
    }
   ],
   "source": [
    "#Doc tap tin data_1932_skiing \n",
    "data <- read.xlsx('Data_buoi_4\\\\Du_lieu\\\\medals_new.xlsx', sheetName = \"1932_skiing\")\n",
    "print(head(data))"
   ]
  },
  {
   "cell_type": "code",
   "execution_count": 62,
   "metadata": {},
   "outputs": [
    {
     "name": "stdout",
     "output_type": "stream",
     "text": [
      "  Year        City  Sport      Discipline NOC      Event Event.gender  Medal\n",
      "1 1932 Lake Placid Skiing Cross Country S FIN       18km            M Bronze\n",
      "2 1932 Lake Placid Skiing Cross Country S FIN       50km            M   Gold\n",
      "3 1932 Lake Placid Skiing Cross Country S FIN       50km            M Silver\n",
      "4 1932 Lake Placid Skiing Cross Country S NOR       50km            M Bronze\n",
      "5 1932 Lake Placid Skiing Nordic Combined NOR individual            M Bronze\n",
      "6 1932 Lake Placid Skiing Nordic Combined NOR individual            M   Gold\n"
     ]
    }
   ],
   "source": [
    "#Bo cot NA\n",
    "data$NA. <- NULL\n",
    "print(head(data))"
   ]
  },
  {
   "cell_type": "code",
   "execution_count": 69,
   "metadata": {},
   "outputs": [
    {
     "name": "stdout",
     "output_type": "stream",
     "text": [
      "[1] \"Number of Gold Medal: 4\"\n"
     ]
    }
   ],
   "source": [
    "#Cho biet co bao nhieu huy chuong vang trong danh sach nay\n",
    "print(paste(\"Number of Gold Medal:\",sum(data$Medal == 'Gold')))"
   ]
  },
  {
   "cell_type": "code",
   "execution_count": 79,
   "metadata": {},
   "outputs": [
    {
     "name": "stdout",
     "output_type": "stream",
     "text": [
      "[1] \"Detail list of Gold Medal:\"\n"
     ]
    },
    {
     "data": {
      "text/html": [
       "<table>\n",
       "<thead><tr><th></th><th scope=col>Year</th><th scope=col>City</th><th scope=col>Sport</th><th scope=col>Discipline</th><th scope=col>NOC</th><th scope=col>Event</th><th scope=col>Event.gender</th><th scope=col>Medal</th></tr></thead>\n",
       "<tbody>\n",
       "\t<tr><th scope=row>2</th><td>1932                </td><td>Lake Placid         </td><td>Skiing              </td><td>Cross Country S     </td><td>FIN                 </td><td>50km                </td><td>M                   </td><td>Gold                </td></tr>\n",
       "\t<tr><th scope=row>6</th><td>1932                </td><td>Lake Placid         </td><td>Skiing              </td><td>Nordic Combined     </td><td>NOR                 </td><td>individual          </td><td>M                   </td><td>Gold                </td></tr>\n",
       "\t<tr><th scope=row>9</th><td>1932                </td><td>Lake Placid         </td><td>Skiing              </td><td>Ski Jumping         </td><td>NOR                 </td><td>K90 individual (70m)</td><td>M                   </td><td>Gold                </td></tr>\n",
       "\t<tr><th scope=row>11</th><td>1932                </td><td>Lake Placid         </td><td>Skiing              </td><td>Cross Country S     </td><td>SWE                 </td><td>18km                </td><td>M                   </td><td>Gold                </td></tr>\n",
       "</tbody>\n",
       "</table>\n"
      ],
      "text/latex": [
       "\\begin{tabular}{r|llllllll}\n",
       "  & Year & City & Sport & Discipline & NOC & Event & Event.gender & Medal\\\\\n",
       "\\hline\n",
       "\t2 & 1932                 & Lake Placid          & Skiing               & Cross Country S      & FIN                  & 50km                 & M                    & Gold                \\\\\n",
       "\t6 & 1932                 & Lake Placid          & Skiing               & Nordic Combined      & NOR                  & individual           & M                    & Gold                \\\\\n",
       "\t9 & 1932                 & Lake Placid          & Skiing               & Ski Jumping          & NOR                  & K90 individual (70m) & M                    & Gold                \\\\\n",
       "\t11 & 1932                 & Lake Placid          & Skiing               & Cross Country S      & SWE                  & 18km                 & M                    & Gold                \\\\\n",
       "\\end{tabular}\n"
      ],
      "text/markdown": [
       "\n",
       "| <!--/--> | Year | City | Sport | Discipline | NOC | Event | Event.gender | Medal |\n",
       "|---|---|---|---|---|---|---|---|---|\n",
       "| 2 | 1932                 | Lake Placid          | Skiing               | Cross Country S      | FIN                  | 50km                 | M                    | Gold                 |\n",
       "| 6 | 1932                 | Lake Placid          | Skiing               | Nordic Combined      | NOR                  | individual           | M                    | Gold                 |\n",
       "| 9 | 1932                 | Lake Placid          | Skiing               | Ski Jumping          | NOR                  | K90 individual (70m) | M                    | Gold                 |\n",
       "| 11 | 1932                 | Lake Placid          | Skiing               | Cross Country S      | SWE                  | 18km                 | M                    | Gold                 |\n",
       "\n"
      ],
      "text/plain": [
       "   Year City        Sport  Discipline      NOC Event               \n",
       "2  1932 Lake Placid Skiing Cross Country S FIN 50km                \n",
       "6  1932 Lake Placid Skiing Nordic Combined NOR individual          \n",
       "9  1932 Lake Placid Skiing Ski Jumping     NOR K90 individual (70m)\n",
       "11 1932 Lake Placid Skiing Cross Country S SWE 18km                \n",
       "   Event.gender Medal\n",
       "2  M            Gold \n",
       "6  M            Gold \n",
       "9  M            Gold \n",
       "11 M            Gold "
      ]
     },
     "metadata": {},
     "output_type": "display_data"
    }
   ],
   "source": [
    "#Chi tiet ve cac huy chuong vang\n",
    "print(\"Detail list of Gold Medal:\")\n",
    "subset(data, data$Medal == 'Gold')"
   ]
  },
  {
   "cell_type": "code",
   "execution_count": null,
   "metadata": {},
   "outputs": [],
   "source": []
  }
 ],
 "metadata": {
  "kernelspec": {
   "display_name": "R",
   "language": "R",
   "name": "ir"
  },
  "language_info": {
   "codemirror_mode": "r",
   "file_extension": ".r",
   "mimetype": "text/x-r-source",
   "name": "R",
   "pygments_lexer": "r",
   "version": "3.6.1"
  }
 },
 "nbformat": 4,
 "nbformat_minor": 2
}
