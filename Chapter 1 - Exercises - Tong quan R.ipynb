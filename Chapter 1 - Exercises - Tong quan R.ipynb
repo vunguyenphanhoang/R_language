{
 "cells": [
  {
   "cell_type": "markdown",
   "metadata": {},
   "source": [
    "### Ex 1: Tính tổng, hiệu, tích, thương của 2 số a và b. In kết quả."
   ]
  },
  {
   "cell_type": "code",
   "execution_count": 1,
   "metadata": {},
   "outputs": [
    {
     "name": "stdout",
     "output_type": "stream",
     "text": [
      "Nhap a: 2\n",
      "Nhap b: 6\n"
     ]
    }
   ],
   "source": [
    "a <- as.numeric(readline(prompt = \"Nhap a: \"))\n",
    "b <- as.numeric(readline(prompt = \"Nhap b: \"))"
   ]
  },
  {
   "cell_type": "code",
   "execution_count": 4,
   "metadata": {},
   "outputs": [],
   "source": [
    "tong <- a+b\n",
    "hieu <- a-b\n",
    "tich <- a*b\n",
    "chia <- round(a/b,2)"
   ]
  },
  {
   "cell_type": "code",
   "execution_count": 6,
   "metadata": {},
   "outputs": [
    {
     "name": "stdout",
     "output_type": "stream",
     "text": [
      "[1] \"a =  2\"\n",
      "[1] \"b =  6\"\n",
      "[1] \"Tong a+b =  8\"\n",
      "[1] \"Tong a-b =  -4\"\n",
      "[1] \"Tong a*b =  12\"\n",
      "[1] \"Tong a/b =  0.33\"\n"
     ]
    }
   ],
   "source": [
    "print(paste(\"a = \", a))\n",
    "print(paste(\"b = \", b))\n",
    "print(paste(\"Tong a+b = \", tong))\n",
    "print(paste(\"Tong a-b = \", hieu))\n",
    "print(paste(\"Tong a*b = \", tich))\n",
    "print(paste(\"Tong a/b = \", chia))"
   ]
  }
 ],
 "metadata": {
  "kernelspec": {
   "display_name": "R",
   "language": "R",
   "name": "ir"
  },
  "language_info": {
   "codemirror_mode": "r",
   "file_extension": ".r",
   "mimetype": "text/x-r-source",
   "name": "R",
   "pygments_lexer": "r",
   "version": "3.6.1"
  }
 },
 "nbformat": 4,
 "nbformat_minor": 2
}
