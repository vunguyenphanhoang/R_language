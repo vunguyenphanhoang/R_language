{
 "cells": [
  {
   "cell_type": "markdown",
   "metadata": {},
   "source": [
    "### Ex1: Thông tin cá nhân"
   ]
  },
  {
   "cell_type": "code",
   "execution_count": 1,
   "metadata": {},
   "outputs": [
    {
     "name": "stdout",
     "output_type": "stream",
     "text": [
      "Nhap ten : Huong\n",
      "Nhap nam sinh : 1985\n",
      "Nhap can nang (kg) : 54\n",
      "Nhap chieu cao (m) : 1.63\n"
     ]
    }
   ],
   "source": [
    "#Nhap thong tin ten, nam sinh, can nang (kg), chieu cao(m)\n",
    "name <- readline(prompt = \"Nhap ten : \")\n",
    "birth <- as.numeric(readline(prompt = \"Nhap nam sinh : \"))\n",
    "weight <- as.numeric(readline(prompt = \"Nhap can nang (kg) : \"))\n",
    "height <- as.numeric(readline(prompt = \"Nhap chieu cao (m) : \"))"
   ]
  },
  {
   "cell_type": "code",
   "execution_count": 4,
   "metadata": {},
   "outputs": [],
   "source": [
    "#Tinh BMI\n",
    "BMI <- round(weight/(height*height),2)"
   ]
  },
  {
   "cell_type": "code",
   "execution_count": 6,
   "metadata": {},
   "outputs": [
    {
     "name": "stdout",
     "output_type": "stream",
     "text": [
      "[1] \"Name:  Huong , Year of birth : 1985 , Height:  1.63 (m), Weight:  54  (kg), BMI =  20.32\"\n"
     ]
    }
   ],
   "source": [
    "#In thong tin\n",
    "print(paste(\"Name: \", name, \", Year of birth :\", birth, \", Height: \", height , \"(m), Weight: \", weight, \" (kg), BMI = \", BMI))"
   ]
  },
  {
   "cell_type": "markdown",
   "metadata": {},
   "source": [
    "### Ex2: TÍnh tiền hóa đơn ăn uống"
   ]
  },
  {
   "cell_type": "code",
   "execution_count": 7,
   "metadata": {},
   "outputs": [
    {
     "name": "stdout",
     "output_type": "stream",
     "text": [
      "Nhap tong so tien cac mon an & nuoc uong : 1000000\n",
      "Nhap thue (10-20%) : 10\n",
      "Nhap tip (5-10%) : 5\n"
     ]
    }
   ],
   "source": [
    "#Nhap thong tin\n",
    "tongtien <- as.numeric(readline(prompt = \"Nhap tong so tien cac mon an & nuoc uong : \"))\n",
    "thue <- as.numeric(readline(prompt = \"Nhap thue (10-20%) : \"))\n",
    "tip <- as.numeric(readline(prompt = \"Nhap tip (5-10%) : \"))"
   ]
  },
  {
   "cell_type": "code",
   "execution_count": 14,
   "metadata": {},
   "outputs": [],
   "source": [
    "tax_m <- round(tongtien*thue/100,0)\n",
    "tip_m <- round(tongtien*tip/100,0)\n",
    "total <- tongtien + tax + tip_m"
   ]
  },
  {
   "cell_type": "code",
   "execution_count": 28,
   "metadata": {},
   "outputs": [
    {
     "name": "stdout",
     "output_type": "stream",
     "text": [
      "Tong tien cac mon an & nuoc uong :  1,000,000 VND \n",
      "Thue : 100,000 VND \n",
      "Tip :  50,000 VND \n",
      "Tong tien phai thanh toan : 1,150,000 VNDNULL\n"
     ]
    }
   ],
   "source": [
    "#In thong tin\n",
    "print(cat(\"Tong tien cac mon an & nuoc uong : \", format(tongtien, scientific = FALSE, big.mark = \",\"), \"VND\",\n",
    "          '\\nThue :', format(tax_m, scientific = FALSE, big.mark = \",\"), \"VND\",\n",
    "         \"\\nTip : \", format(tip_m, scientific = FALSE, big.mark = \",\"), \"VND\",\n",
    "         \"\\nTong tien phai thanh toan :\", format(total, scientific = FALSE, big.mark = \",\"), \"VND\"))"
   ]
  },
  {
   "cell_type": "markdown",
   "metadata": {},
   "source": [
    "**Cô ơi dòng cuối khi in ra em thấy có chữ NULL nhưng em không biết sai ở dâu và bỏ bằng cách nào. Cô xem dùm em với.**"
   ]
  },
  {
   "cell_type": "markdown",
   "metadata": {},
   "source": [
    "### Ex3: Tính tiền lãi gửi tiết kiệm"
   ]
  },
  {
   "cell_type": "code",
   "execution_count": 1,
   "metadata": {},
   "outputs": [
    {
     "name": "stdout",
     "output_type": "stream",
     "text": [
      "Nhap lai suat (%/nam) : 12\n",
      "So tien gui : 10000000\n",
      "So ngay gui : 365\n"
     ]
    }
   ],
   "source": [
    "rate <- as.numeric(readline(prompt = \"Nhap lai suat (%/nam) : \"))\n",
    "amount <- as.numeric(readline(prompt = \"So tien gui : \"))\n",
    "days <- as.numeric(readline(prompt = \"So ngay gui : \"))"
   ]
  },
  {
   "cell_type": "code",
   "execution_count": 2,
   "metadata": {},
   "outputs": [],
   "source": [
    "rate_1_day <- rate/365/100\n",
    "int_amt <- amount*days*rate_1_day\n",
    "total_amt <- amount + int_amt"
   ]
  },
  {
   "cell_type": "code",
   "execution_count": 10,
   "metadata": {},
   "outputs": [
    {
     "name": "stdout",
     "output_type": "stream",
     "text": [
      "[1] \"So tien gui :  10,000,000 VND\"\n",
      "[1] \"Lai suat :  12 (%)\"\n",
      "[1] \"So ngay gui :  365\"\n",
      "[1] \"So tien lai :  1,200,000 VND\"\n",
      "[1] \"Tong tien nhan duoc :  11,200,000 VND\"\n"
     ]
    }
   ],
   "source": [
    "#in thong tin\n",
    "print(paste(\"So tien gui : \", format(amount, big.mark = \",\", scientific = FALSE),\"VND\"))\n",
    "print(paste(\"Lai suat : \", format(rate, scientific = FALSE), \"(%)\"))\n",
    "print(paste(\"So ngay gui : \", format(days, big.mark = \",\", scientific = FALSE)))\n",
    "print(paste(\"So tien lai : \", format(int_amt, big.mark = \",\", scientific = FALSE),\"VND\"))\n",
    "print(paste(\"Tong tien nhan duoc : \", format(total_amt, big.mark = \",\", scientific = FALSE),\"VND\"))"
   ]
  },
  {
   "cell_type": "markdown",
   "metadata": {},
   "source": [
    "### Ex4: Tính bán kính và chu vi hình tròn"
   ]
  },
  {
   "cell_type": "code",
   "execution_count": 11,
   "metadata": {},
   "outputs": [
    {
     "name": "stdout",
     "output_type": "stream",
     "text": [
      "Moi ban nhap dien tich hinh tron : 12\n"
     ]
    }
   ],
   "source": [
    "dientich <- as.numeric(readline(prompt = \"Moi ban nhap dien tich hinh tron : \"))"
   ]
  },
  {
   "cell_type": "code",
   "execution_count": 20,
   "metadata": {},
   "outputs": [],
   "source": [
    "pi <- 3.14\n",
    "r <- sqrt(dientich/pi)"
   ]
  },
  {
   "cell_type": "code",
   "execution_count": 22,
   "metadata": {},
   "outputs": [],
   "source": [
    "chuvi <- 2*r*pi"
   ]
  },
  {
   "cell_type": "code",
   "execution_count": 24,
   "metadata": {},
   "outputs": [
    {
     "name": "stdout",
     "output_type": "stream",
     "text": [
      "[1] \"Ban kinh :  1.954906\"\n",
      "[1] \"Chu vi:  12.27681\"\n"
     ]
    }
   ],
   "source": [
    "print(paste(\"Ban kinh : \", format(r, big.mark = \",\", scientific = FALSE)))\n",
    "print(paste(\"Chu vi: \", format(chuvi, big.mark = \",\", scientific = FALSE)))"
   ]
  },
  {
   "cell_type": "markdown",
   "metadata": {},
   "source": [
    "### Ex5: Làm việc với chuỗi"
   ]
  },
  {
   "cell_type": "code",
   "execution_count": 27,
   "metadata": {},
   "outputs": [
    {
     "name": "stdout",
     "output_type": "stream",
     "text": [
      "Moi ban nhap chuoi thu 1 : Nguyen Thi\n",
      "Moi ban nhap chuoi thu 2 : Kim\n",
      "Moi ban nhap chuoi thu 3 : Huong\n",
      "Moi ban nhap vtri cat chuoi (index) : 5\n",
      "Moi ban nhap chuoi tim kiem : Thi\n",
      "Moi ban nhap chuoi thay the : \n"
     ]
    }
   ],
   "source": [
    "str1 <- readline(prompt = \"Moi ban nhap chuoi thu 1 : \")\n",
    "str2 <- readline(prompt = \"Moi ban nhap chuoi thu 2 : \")\n",
    "str3 <- readline(prompt = \"Moi ban nhap chuoi thu 3 : \")\n",
    "index <- readline(prompt = \"Moi ban nhap vtri cat chuoi (index) : \")\n",
    "str_search <- readline(prompt = \"Moi ban nhap chuoi tim kiem : \")\n",
    "str_replace <-readline(prompt = \"Moi ban nhap chuoi thay the : \")"
   ]
  },
  {
   "cell_type": "code",
   "execution_count": 31,
   "metadata": {},
   "outputs": [
    {
     "name": "stdout",
     "output_type": "stream",
     "text": [
      "[1] \"Chieu dai chuoi str1 :  10\"\n",
      "[1] \"Chieu dai chuoi str1 :  3\"\n",
      "[1] \"Chieu dai chuoi str1 :  5\"\n"
     ]
    }
   ],
   "source": [
    "#in chieu dai chuoi str1, str2, str3\n",
    "print(paste(\"Chieu dai chuoi str1 : \", nchar(str1)))\n",
    "print(paste(\"Chieu dai chuoi str2 : \", nchar(str2)))\n",
    "print(paste(\"Chieu dai chuoi str3 : \", nchar(str3)))"
   ]
  },
  {
   "cell_type": "code",
   "execution_count": 35,
   "metadata": {},
   "outputs": [
    {
     "name": "stdout",
     "output_type": "stream",
     "text": [
      "[1] \"Str4 :  en Thi\"\n"
     ]
    }
   ],
   "source": [
    "#tao chuoi str4 tu s1 va noi dung tu index den het chuoi\n",
    "index <- as.numeric(index)\n",
    "str4 <- substring(str1,5)\n",
    "print(paste(\"Str4 : \",str4))"
   ]
  },
  {
   "cell_type": "code",
   "execution_count": 37,
   "metadata": {},
   "outputs": [
    {
     "name": "stdout",
     "output_type": "stream",
     "text": [
      "[1] \"Str4 :  Nguye\"\n"
     ]
    }
   ],
   "source": [
    "#tao chuoi str5 tu s1 va noi dung tu dau den index\n",
    "str5 <- substring(str1,1,5)\n",
    "print(paste(\"Str5 : \",str5))"
   ]
  },
  {
   "cell_type": "code",
   "execution_count": 39,
   "metadata": {},
   "outputs": [
    {
     "name": "stdout",
     "output_type": "stream",
     "text": [
      "[1] \"String new :  Nguyen \"\n"
     ]
    }
   ],
   "source": [
    " #tao chuoi str_new bang cach thay the chuoi tim kiem bang chuoi thay the cho str1\n",
    "# thay the cho tat ca cac chuoi phu hop\n",
    "str_new <- gsub(str_search, str_replace, str1)\n",
    "print(paste(\"String new : \", str_new))"
   ]
  },
  {
   "cell_type": "code",
   "execution_count": 40,
   "metadata": {},
   "outputs": [
    {
     "name": "stdout",
     "output_type": "stream",
     "text": [
      "[1] \"String new :  Nguyen \"\n"
     ]
    }
   ],
   "source": [
    " #tao chuoi str_new bang cach thay the chuoi tim kiem bang chuoi thay the cho str1\n",
    "# thay the cho chuoi dau tien phu hop\n",
    "str_new <- sub(str_search, str_replace, str1)\n",
    "print(paste(\"String new : \", str_new))"
   ]
  },
  {
   "cell_type": "markdown",
   "metadata": {},
   "source": [
    "### Ex6: Khoảng cách giữa 2 ngày"
   ]
  },
  {
   "cell_type": "code",
   "execution_count": 78,
   "metadata": {},
   "outputs": [
    {
     "name": "stdout",
     "output_type": "stream",
     "text": [
      "Moi ban nhap ngay (dd-mm-yyyy) : 20-03-2020\n"
     ]
    }
   ],
   "source": [
    "date <- readline(prompt = \"Moi ban nhap ngay (dd-mm-yyyy) : \")"
   ]
  },
  {
   "cell_type": "code",
   "execution_count": 79,
   "metadata": {},
   "outputs": [],
   "source": [
    "date <- as.Date(date, format = \"%d-%m-%Y\")\n",
    "sys_date <- Sys.Date()\n",
    "distance <- sys_date - date"
   ]
  },
  {
   "cell_type": "code",
   "execution_count": 80,
   "metadata": {},
   "outputs": [
    {
     "name": "stdout",
     "output_type": "stream",
     "text": [
      "[1] \"Khoang cach giua ngay he thong va ngay ban nhap la  4  ngay\"\n"
     ]
    }
   ],
   "source": [
    "print(paste(\"Khoang cach giua ngay he thong va ngay ban nhap la \", distance, \" ngay\"))"
   ]
  },
  {
   "cell_type": "markdown",
   "metadata": {},
   "source": [
    "### Ex7: Bảy ngày tiếp theo"
   ]
  },
  {
   "cell_type": "code",
   "execution_count": 91,
   "metadata": {},
   "outputs": [
    {
     "name": "stdout",
     "output_type": "stream",
     "text": [
      "Moi ban nhap ngay (dd-mm-yyyy) : 1-3-2020\n"
     ]
    }
   ],
   "source": [
    "date_str <- readline(prompt = \"Moi ban nhap ngay (dd-mm-yyyy) : \")\n",
    "date_f <- as.Date(date_str, format = \"%d-%m-%Y\")"
   ]
  },
  {
   "cell_type": "code",
   "execution_count": 98,
   "metadata": {},
   "outputs": [
    {
     "name": "stdout",
     "output_type": "stream",
     "text": [
      "[1] \"2020-03-01  la  Sunday\"\n",
      "[1] \"7 ngay tiep theo la  2020-03-02, 2020-03-03, 2020-03-04, 2020-03-05, 2020-03-06, 2020-03-07, 2020-03-08\"\n"
     ]
    }
   ],
   "source": [
    "if(is.na(date_f)){\n",
    "    print(paste(\"Ngay \", date_str, \" khong hop le\"))\n",
    "} else {\n",
    "    seven_days <- seq.Date(date_f+1, length = 7, by = 1)\n",
    "    print(paste(date_f, \" la \", weekdays.Date(date_f)))\n",
    "    print(paste(\"7 ngay tiep theo la \", toString(seven_days)))\n",
    "}"
   ]
  }
 ],
 "metadata": {
  "kernelspec": {
   "display_name": "R",
   "language": "R",
   "name": "ir"
  },
  "language_info": {
   "codemirror_mode": "r",
   "file_extension": ".r",
   "mimetype": "text/x-r-source",
   "name": "R",
   "pygments_lexer": "r",
   "version": "3.6.1"
  }
 },
 "nbformat": 4,
 "nbformat_minor": 2
}
