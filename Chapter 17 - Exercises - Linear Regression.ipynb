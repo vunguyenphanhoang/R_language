{
 "cells": [
  {
   "cell_type": "markdown",
   "metadata": {},
   "source": [
    "## Ex1: Baseball"
   ]
  },
  {
   "cell_type": "code",
   "execution_count": 11,
   "metadata": {},
   "outputs": [
    {
     "name": "stdout",
     "output_type": "stream",
     "text": [
      "             Name Team       Position Height Weight   Age PosCategory\n",
      "1   Adam_Donachie  BAL        Catcher     74    180 22.99     Catcher\n",
      "2       Paul_Bako  BAL        Catcher     74    215 34.69     Catcher\n",
      "3 Ramon_Hernandez  BAL        Catcher     72    210 30.78     Catcher\n",
      "4    Kevin_Millar  BAL  First_Baseman     72    210 35.43   Infielder\n",
      "5     Chris_Gomez  BAL  First_Baseman     73    188 35.71   Infielder\n",
      "6   Brian_Roberts  BAL Second_Baseman     69    176 29.39   Infielder\n"
     ]
    }
   ],
   "source": [
    "#Ap dung Linear Regression de du doan can nang dua tren chieu cao\n",
    "#Doc du lieu baseball_20.txt\n",
    "data <- read.csv(\"Chapter 16- 17\\\\baseball.csv\")\n",
    "print(head(data))"
   ]
  },
  {
   "cell_type": "code",
   "execution_count": 12,
   "metadata": {},
   "outputs": [
    {
     "name": "stdout",
     "output_type": "stream",
     "text": [
      "[1] \"No rows of data is  1015\"\n",
      "[1] \"No columns of data is  7\"\n",
      "[1] \"Summary is \"\n",
      "              Name           Team                 Position       Height     \n",
      " Chris_Young    :   2   NYM    : 38   Relief_Pitcher  :315   Min.   :67.00  \n",
      " Tony_Pe?a      :   2   ATL    : 37   Starting_Pitcher:220   1st Qu.:72.00  \n",
      " A.J._Burnett   :   1   CHC    : 36   Outfielder      :194   Median :74.00  \n",
      " A.J._Murray    :   1   DET    : 36   Catcher         : 76   Mean   :73.69  \n",
      " A.J._Pierzynski:   1   OAK    : 36   Second_Baseman  : 58   3rd Qu.:75.00  \n",
      " Aaron_Boone    :   1   WAS    : 36   First_Baseman   : 55   Max.   :83.00  \n",
      " (Other)        :1007   (Other):796   (Other)         : 97                  \n",
      "     Weight           Age            PosCategory \n",
      " Min.   :150.0   Min.   :20.90   Catcher   : 76  \n",
      " 1st Qu.:186.0   1st Qu.:25.41   Infielder :210  \n",
      " Median :200.0   Median :27.90   Outfielder:194  \n",
      " Mean   :201.3   Mean   :28.71   Pitcher   :535  \n",
      " 3rd Qu.:215.0   3rd Qu.:31.19                   \n",
      " Max.   :290.0   Max.   :48.52                   \n",
      "                                                 \n"
     ]
    }
   ],
   "source": [
    "#Xem thong tin summary, so dong, so cot, str\n",
    "print(paste(\"No rows of data is \", nrow(data)))\n",
    "print(paste(\"No columns of data is \", ncol(data)))\n",
    "print(\"Summary is \")\n",
    "print(summary(data))"
   ]
  },
  {
   "cell_type": "code",
   "execution_count": 13,
   "metadata": {},
   "outputs": [
    {
     "name": "stdout",
     "output_type": "stream",
     "text": [
      "'data.frame':\t1015 obs. of  7 variables:\n",
      " $ Name       : Factor w/ 1013 levels \"A.J._Burnett\",..: 13 778 801 615 199 134 717 703 66 22 ...\n",
      " $ Team       : Factor w/ 30 levels \"ANA\",\"ARZ\",\"ATL\",..: 4 4 4 4 4 4 4 4 4 4 ...\n",
      " $ Position   : Factor w/ 8 levels \"Catcher\",\"First_Baseman\",..: 1 1 1 2 2 5 6 8 8 3 ...\n",
      " $ Height     : int  74 74 72 72 73 69 69 71 76 71 ...\n",
      " $ Weight     : int  180 215 210 210 188 176 209 200 231 180 ...\n",
      " $ Age        : num  23 34.7 30.8 35.4 35.7 ...\n",
      " $ PosCategory: Factor w/ 4 levels \"Catcher\",\"Infielder\",..: 1 1 1 2 2 2 2 2 2 3 ...\n"
     ]
    }
   ],
   "source": [
    "str(data)"
   ]
  },
  {
   "cell_type": "code",
   "execution_count": 14,
   "metadata": {},
   "outputs": [
    {
     "data": {
      "text/html": [
       "<table>\n",
       "<thead><tr><th scope=col>Height</th><th scope=col>Weight</th></tr></thead>\n",
       "<tbody>\n",
       "\t<tr><td>74 </td><td>180</td></tr>\n",
       "\t<tr><td>74 </td><td>215</td></tr>\n",
       "\t<tr><td>72 </td><td>210</td></tr>\n",
       "\t<tr><td>72 </td><td>210</td></tr>\n",
       "\t<tr><td>73 </td><td>188</td></tr>\n",
       "\t<tr><td>69 </td><td>176</td></tr>\n",
       "</tbody>\n",
       "</table>\n"
      ],
      "text/latex": [
       "\\begin{tabular}{r|ll}\n",
       " Height & Weight\\\\\n",
       "\\hline\n",
       "\t 74  & 180\\\\\n",
       "\t 74  & 215\\\\\n",
       "\t 72  & 210\\\\\n",
       "\t 72  & 210\\\\\n",
       "\t 73  & 188\\\\\n",
       "\t 69  & 176\\\\\n",
       "\\end{tabular}\n"
      ],
      "text/markdown": [
       "\n",
       "| Height | Weight |\n",
       "|---|---|\n",
       "| 74  | 180 |\n",
       "| 74  | 215 |\n",
       "| 72  | 210 |\n",
       "| 72  | 210 |\n",
       "| 73  | 188 |\n",
       "| 69  | 176 |\n",
       "\n"
      ],
      "text/plain": [
       "  Height Weight\n",
       "1 74     180   \n",
       "2 74     215   \n",
       "3 72     210   \n",
       "4 72     210   \n",
       "5 73     188   \n",
       "6 69     176   "
      ]
     },
     "metadata": {},
     "output_type": "display_data"
    }
   ],
   "source": [
    "baseball <- data[c(\"Height\",\"Weight\")]\n",
    "head(baseball)"
   ]
  },
  {
   "cell_type": "code",
   "execution_count": 15,
   "metadata": {},
   "outputs": [
    {
     "name": "stdout",
     "output_type": "stream",
     "text": [
      "[1] \"Data after updating is : \"\n",
      "  Height   Weight\n",
      "1 1.8796 81.64656\n",
      "2 1.8796 97.52228\n",
      "3 1.8288 95.25432\n",
      "4 1.8288 95.25432\n",
      "5 1.8542 85.27530\n",
      "6 1.7526 79.83219\n"
     ]
    }
   ],
   "source": [
    "#Update lai thong tin chieu cao va can nang\n",
    "baseball[\"Height\"] <- baseball[\"Height\"]*0.0254\n",
    "baseball[\"Weight\"] <- baseball[\"Weight\"]*0.453592\n",
    "print(\"Data after updating is : \")\n",
    "print(head(baseball))"
   ]
  },
  {
   "cell_type": "code",
   "execution_count": 16,
   "metadata": {},
   "outputs": [
    {
     "data": {
      "image/png": "[encoded data removed]",
      "text/plain": [
       "Plot with title \"Height vs Weight\""
      ]
     },
     "metadata": {},
     "output_type": "display_data"
    }
   ],
   "source": [
    "#ve bieu do bieu dien moi quan he input va output(scatter plot)\n",
    "scatter.smooth(x= baseball$Height, y = baseball$Weight, main = \"Height vs Weight\")"
   ]
  },
  {
   "cell_type": "code",
   "execution_count": 17,
   "metadata": {},
   "outputs": [
    {
     "data": {
      "image/png": "[encoded data removed]",
      "text/plain": [
       "Plot with title \"Weight\""
      ]
     },
     "metadata": {},
     "output_type": "display_data"
    }
   ],
   "source": [
    "#Kiem tra outliers\n",
    "par(mfrow = c(1,2) ) #divide graph area in 2 columns\n",
    "boxplot(baseball$Height, main = \"Height\",\n",
    "       sub = paste(\"Outliers rows:\", boxplot.stats(baseball$Height)$out))\n",
    "boxplot(baseball$Weight, main = \"Weight\",\n",
    "       sub = paste(\"Outliers rows:\", boxplot.stats(baseball$Weight)$out))"
   ]
  },
  {
   "cell_type": "code",
   "execution_count": 19,
   "metadata": {},
   "outputs": [
    {
     "name": "stdout",
     "output_type": "stream",
     "text": [
      "[1] \"ht_outliers: \"\n",
      " [1] 2.0574 2.0320 2.0320 2.0320 2.0320 2.0828 2.0320 2.0574 2.0828 2.1082\n",
      "[11] 1.7018 1.7018\n",
      "[1] \"Numrows:  2\"\n"
     ]
    }
   ],
   "source": [
    "#Loai bo outliers\n",
    "ht_outliers <- boxplot.stats(baseball$Height)$out\n",
    "print(\"ht_outliers: \")\n",
    "print(ht_outliers)\n",
    "print(paste(\"Numrows: \", sum(baseball$Height == ht_outliers[1])))"
   ]
  },
  {
   "cell_type": "code",
   "execution_count": 20,
   "metadata": {},
   "outputs": [
    {
     "name": "stdout",
     "output_type": "stream",
     "text": [
      "[1] \"wt_outliers: \"\n",
      "[1] 117.9339 122.4698 131.5417 126.0986 117.9339 117.9339 117.9339\n",
      "[1] \"Numrows:  4\"\n"
     ]
    }
   ],
   "source": [
    "wt_outliers <- boxplot.stats(baseball$Weight)$out\n",
    "print(\"wt_outliers: \")\n",
    "print(wt_outliers)\n",
    "print(paste(\"Numrows: \", sum(baseball$Weight == wt_outliers[1])))"
   ]
  },
  {
   "cell_type": "code",
   "execution_count": 21,
   "metadata": {},
   "outputs": [
    {
     "name": "stdout",
     "output_type": "stream",
     "text": [
      "[1] \"Befor drop: 1015\"\n",
      "[1] \"After drop: 998\"\n"
     ]
    }
   ],
   "source": [
    "#Drop rows have outliers\n",
    "print(paste(\"Befor drop:\", nrow(baseball)))\n",
    "for (record in ht_outliers) {\n",
    "    baseball <- baseball[baseball$Height != record,]\n",
    "}\n",
    "for (record in wt_outliers) {\n",
    "    baseball <- baseball[baseball$Weight != record,]\n",
    "}\n",
    "print(paste(\"After drop:\", nrow(baseball)))"
   ]
  },
  {
   "cell_type": "code",
   "execution_count": 24,
   "metadata": {},
   "outputs": [
    {
     "name": "stdout",
     "output_type": "stream",
     "text": [
      "[1] \"select train row index\"\n",
      " [1] 561 997 321 153  74 228 146 634  49 128\n",
      "[1] \"Rows of train data and test data:\"\n",
      "[1] 698\n",
      "[1] 300\n"
     ]
    }
   ],
   "source": [
    "#tao train test voi ti le 70 30\n",
    "set.seed(42) # giu lai bo du lieu lan dau tao khi chay lai nhieu lan\n",
    "trainingRowindex <- sample(1:nrow(baseball), 0.7*nrow(baseball))#row indicate for train data\n",
    "print(\"select train row index\")\n",
    "print(trainingRowindex[1:10]) \n",
    "trainingdata <- baseball[trainingRowindex,] #train data\n",
    "testdata <- baseball[-trainingRowindex,] #train data\n",
    "print(\"Rows of train data and test data:\")\n",
    "print(nrow(trainingdata))\n",
    "print(nrow(testdata))"
   ]
  },
  {
   "cell_type": "code",
   "execution_count": 25,
   "metadata": {},
   "outputs": [],
   "source": [
    "#build model Linear Regression\n",
    "lmMod <- lm(Weight ~ Height, data = trainingdata) #build model\n",
    "weight_pred <- predict(lmMod, testdata) #predict length"
   ]
  },
  {
   "cell_type": "code",
   "execution_count": 26,
   "metadata": {},
   "outputs": [
    {
     "name": "stdout",
     "output_type": "stream",
     "text": [
      "[1] \"mes: 62.1665992405898\"\n"
     ]
    }
   ],
   "source": [
    "mse <- mean(lmMod$residuals^2) #tinh mean square errors to model\n",
    "print(paste(\"mes:\",mse))"
   ]
  },
  {
   "cell_type": "code",
   "execution_count": 27,
   "metadata": {},
   "outputs": [
    {
     "name": "stdout",
     "output_type": "stream",
     "text": [
      "[1] \"mes: 57.1830374137474\"\n"
     ]
    }
   ],
   "source": [
    "#mean square error cua testdata\n",
    "mse_test = mean((testdata$Weight - weight_pred)^2)\n",
    "print(paste(\"mes:\",mse_test))"
   ]
  },
  {
   "cell_type": "code",
   "execution_count": 28,
   "metadata": {},
   "outputs": [
    {
     "name": "stdout",
     "output_type": "stream",
     "text": [
      "\n",
      "Call:\n",
      "lm(formula = Weight ~ Height, data = trainingdata)\n",
      "\n",
      "Residuals:\n",
      "     Min       1Q   Median       3Q      Max \n",
      "-22.8230  -5.6531  -0.1704   5.1062  27.6049 \n",
      "\n",
      "Coefficients:\n",
      "            Estimate Std. Error t value Pr(>|t|)    \n",
      "(Intercept)  -52.482     10.113   -5.19 2.76e-07 ***\n",
      "Height        76.675      5.408   14.18  < 2e-16 ***\n",
      "---\n",
      "Signif. codes:  0 '***' 0.001 '**' 0.01 '*' 0.05 '.' 0.1 ' ' 1\n",
      "\n",
      "Residual standard error: 7.896 on 696 degrees of freedom\n",
      "Multiple R-squared:  0.2241,\tAdjusted R-squared:  0.223 \n",
      "F-statistic:   201 on 1 and 696 DF,  p-value: < 2.2e-16\n",
      "\n"
     ]
    }
   ],
   "source": [
    "print(summary(lmMod))"
   ]
  },
  {
   "cell_type": "markdown",
   "metadata": {},
   "source": [
    "**Model fits about 22.41% data -> not good**"
   ]
  },
  {
   "cell_type": "code",
   "execution_count": 29,
   "metadata": {},
   "outputs": [
    {
     "name": "stdout",
     "output_type": "stream",
     "text": [
      "(Intercept)      Height \n",
      "  -52.48233    76.67488 \n"
     ]
    }
   ],
   "source": [
    "##model coefficients, Intercept va Variance score\n",
    "print(coef(lmMod))"
   ]
  },
  {
   "cell_type": "code",
   "execution_count": 30,
   "metadata": {},
   "outputs": [
    {
     "name": "stdout",
     "output_type": "stream",
     "text": [
      "[1] \"slope: 76.6748792521459\"\n",
      "[1] \"intercept: -52.4823323447599\"\n"
     ]
    }
   ],
   "source": [
    "slope <- coef(lmMod)['Height']\n",
    "intercept <- coef(lmMod)['(Intercept)']\n",
    "print(paste(\"slope:\", slope))\n",
    "print(paste(\"intercept:\", intercept))"
   ]
  },
  {
   "cell_type": "code",
   "execution_count": 31,
   "metadata": {},
   "outputs": [
    {
     "name": "stdout",
     "output_type": "stream",
     "text": [
      "[1] 83.61558 87.44932 95.11681\n"
     ]
    }
   ],
   "source": [
    "#Cho chieu cao lan luot la \n",
    "x <- c(1.775, 1.825, 1.925)\n",
    "y <- intercept + slope*x\n",
    "print(y)"
   ]
  },
  {
   "cell_type": "code",
   "execution_count": 32,
   "metadata": {},
   "outputs": [
    {
     "data": {
      "text/html": [
       "<dl class=dl-horizontal>\n",
       "\t<dt>1</dt>\n",
       "\t\t<dd>83.6155783277991</dd>\n",
       "\t<dt>2</dt>\n",
       "\t\t<dd>87.4493222904064</dd>\n",
       "\t<dt>3</dt>\n",
       "\t\t<dd>95.116810215621</dd>\n",
       "</dl>\n"
      ],
      "text/latex": [
       "\\begin{description*}\n",
       "\\item[1] 83.6155783277991\n",
       "\\item[2] 87.4493222904064\n",
       "\\item[3] 95.116810215621\n",
       "\\end{description*}\n"
      ],
      "text/markdown": [
       "1\n",
       ":   83.61557832779912\n",
       ":   87.44932229040643\n",
       ":   95.116810215621\n",
       "\n"
      ],
      "text/plain": [
       "       1        2        3 \n",
       "83.61558 87.44932 95.11681 "
      ]
     },
     "metadata": {},
     "output_type": "display_data"
    }
   ],
   "source": [
    "#Cach 2:\n",
    "predict(lmMod, data.frame(Height = x))"
   ]
  },
  {
   "cell_type": "code",
   "execution_count": 36,
   "metadata": {},
   "outputs": [
    {
     "data": {
      "image/png": "[encoded data removed]",
      "text/plain": [
       "Plot with title \"Baseball Regression\""
      ]
     },
     "metadata": {},
     "output_type": "display_data"
    }
   ],
   "source": [
    "#Ve hinh va xem ket qua\n",
    "plot(baseball$Height, baseball$Weight, main = \"Baseball Regression\", xlab = \"Height\", ylab = \"Weight\", pch = 19, \n",
    "     frame = FALSE, col = \"blue\")\n",
    "lines(x,y, col = \"red\", type = \"p\")\n",
    "abline(lmMod, baseball, col = \"green\")\n",
    "legend(\"topleft\", c(\"dataset\",\"data_predict\"), cex = 0.8, fill = c(\"blue\", \"red\"))"
   ]
  },
  {
   "cell_type": "markdown",
   "metadata": {},
   "source": [
    "## Ex2: Petrol Consumption"
   ]
  },
  {
   "cell_type": "markdown",
   "metadata": {},
   "source": [
    "#### Yêu cầu 1: Áp dụng Linear regression để dự đoán Petrol Consumption dựa trên Petrol_tax, Population_Driver_licence(%)"
   ]
  },
  {
   "cell_type": "code",
   "execution_count": 48,
   "metadata": {},
   "outputs": [
    {
     "name": "stdout",
     "output_type": "stream",
     "text": [
      "  Petrol_tax Average_income Paved_Highways Population_Driver_licence...\n",
      "1        9.0           3571           1976                        0.525\n",
      "2        9.0           4092           1250                        0.572\n",
      "3        9.0           3865           1586                        0.580\n",
      "4        7.5           4870           2351                        0.529\n",
      "5        8.0           4399            431                        0.544\n",
      "6       10.0           5342           1333                        0.571\n",
      "  Petrol_Consumption\n",
      "1                541\n",
      "2                524\n",
      "3                561\n",
      "4                414\n",
      "5                410\n",
      "6                457\n"
     ]
    }
   ],
   "source": [
    "#Doc du lieu \n",
    "data <- read.csv(\"Chapter 16- 17\\\\petrol_consumption.csv\")\n",
    "print(head(data))"
   ]
  },
  {
   "cell_type": "code",
   "execution_count": 49,
   "metadata": {},
   "outputs": [
    {
     "name": "stdout",
     "output_type": "stream",
     "text": [
      "[1] \"No rows of data is  48\"\n",
      "[1] \"No columns of data is  5\"\n",
      "[1] \"Summary is \"\n",
      "   Petrol_tax     Average_income Paved_Highways  Population_Driver_licence...\n",
      " Min.   : 5.000   Min.   :3063   Min.   :  431   Min.   :0.4510              \n",
      " 1st Qu.: 7.000   1st Qu.:3739   1st Qu.: 3110   1st Qu.:0.5298              \n",
      " Median : 7.500   Median :4298   Median : 4736   Median :0.5645              \n",
      " Mean   : 7.668   Mean   :4242   Mean   : 5565   Mean   :0.5703              \n",
      " 3rd Qu.: 8.125   3rd Qu.:4579   3rd Qu.: 7156   3rd Qu.:0.5952              \n",
      " Max.   :10.000   Max.   :5342   Max.   :17782   Max.   :0.7240              \n",
      " Petrol_Consumption\n",
      " Min.   :344.0     \n",
      " 1st Qu.:509.5     \n",
      " Median :568.5     \n",
      " Mean   :576.8     \n",
      " 3rd Qu.:632.8     \n",
      " Max.   :968.0     \n"
     ]
    }
   ],
   "source": [
    "#Xem thong tin summary, so dong, so cot, str\n",
    "print(paste(\"No rows of data is \", nrow(data)))\n",
    "print(paste(\"No columns of data is \", ncol(data)))\n",
    "print(\"Summary is \")\n",
    "print(summary(data))"
   ]
  },
  {
   "cell_type": "code",
   "execution_count": 50,
   "metadata": {},
   "outputs": [
    {
     "name": "stdout",
     "output_type": "stream",
     "text": [
      "'data.frame':\t48 obs. of  5 variables:\n",
      " $ Petrol_tax                  : num  9 9 9 7.5 8 10 8 8 8 7 ...\n",
      " $ Average_income              : int  3571 4092 3865 4870 4399 5342 5319 5126 4447 4512 ...\n",
      " $ Paved_Highways              : int  1976 1250 1586 2351 431 1333 11868 2138 8577 8507 ...\n",
      " $ Population_Driver_licence...: num  0.525 0.572 0.58 0.529 0.544 0.571 0.451 0.553 0.529 0.552 ...\n",
      " $ Petrol_Consumption          : int  541 524 561 414 410 457 344 467 464 498 ...\n"
     ]
    }
   ],
   "source": [
    "str(data)"
   ]
  },
  {
   "cell_type": "code",
   "execution_count": 51,
   "metadata": {},
   "outputs": [
    {
     "data": {
      "image/png": "[encoded data removed]",
      "text/plain": [
       "plot without title"
      ]
     },
     "metadata": {},
     "output_type": "display_data"
    }
   ],
   "source": [
    "#ve bieu do bieu dien moi quan he cua Petrol_tax vs Petrol_Consumption;Average_income vs Petrol_Consumption; \n",
    "#Paved_Highways vs Petrol_Consumption\n",
    "pairs(~Petrol_Consumption+Petrol_tax+Average_income+Paved_Highways+Population_Driver_licence..., data = data)"
   ]
  },
  {
   "cell_type": "code",
   "execution_count": 52,
   "metadata": {},
   "outputs": [
    {
     "data": {
      "text/html": [
       "<table>\n",
       "<thead><tr><th scope=col>Petrol_tax</th><th scope=col>Population_Driver_licence...</th><th scope=col>Petrol_Consumption</th></tr></thead>\n",
       "<tbody>\n",
       "\t<tr><td> 9.0 </td><td>0.525</td><td>541  </td></tr>\n",
       "\t<tr><td> 9.0 </td><td>0.572</td><td>524  </td></tr>\n",
       "\t<tr><td> 9.0 </td><td>0.580</td><td>561  </td></tr>\n",
       "\t<tr><td> 7.5 </td><td>0.529</td><td>414  </td></tr>\n",
       "\t<tr><td> 8.0 </td><td>0.544</td><td>410  </td></tr>\n",
       "\t<tr><td>10.0 </td><td>0.571</td><td>457  </td></tr>\n",
       "</tbody>\n",
       "</table>\n"
      ],
      "text/latex": [
       "\\begin{tabular}{r|lll}\n",
       " Petrol\\_tax & Population\\_Driver\\_licence... & Petrol\\_Consumption\\\\\n",
       "\\hline\n",
       "\t  9.0  & 0.525 & 541  \\\\\n",
       "\t  9.0  & 0.572 & 524  \\\\\n",
       "\t  9.0  & 0.580 & 561  \\\\\n",
       "\t  7.5  & 0.529 & 414  \\\\\n",
       "\t  8.0  & 0.544 & 410  \\\\\n",
       "\t 10.0  & 0.571 & 457  \\\\\n",
       "\\end{tabular}\n"
      ],
      "text/markdown": [
       "\n",
       "| Petrol_tax | Population_Driver_licence... | Petrol_Consumption |\n",
       "|---|---|---|\n",
       "|  9.0  | 0.525 | 541   |\n",
       "|  9.0  | 0.572 | 524   |\n",
       "|  9.0  | 0.580 | 561   |\n",
       "|  7.5  | 0.529 | 414   |\n",
       "|  8.0  | 0.544 | 410   |\n",
       "| 10.0  | 0.571 | 457   |\n",
       "\n"
      ],
      "text/plain": [
       "  Petrol_tax Population_Driver_licence... Petrol_Consumption\n",
       "1  9.0       0.525                        541               \n",
       "2  9.0       0.572                        524               \n",
       "3  9.0       0.580                        561               \n",
       "4  7.5       0.529                        414               \n",
       "5  8.0       0.544                        410               \n",
       "6 10.0       0.571                        457               "
      ]
     },
     "metadata": {},
     "output_type": "display_data"
    }
   ],
   "source": [
    "input <- data[c(\"Petrol_tax\",\"Population_Driver_licence...\",\"Petrol_Consumption\")]\n",
    "head(input)"
   ]
  },
  {
   "cell_type": "code",
   "execution_count": 53,
   "metadata": {},
   "outputs": [
    {
     "ename": "ERROR",
     "evalue": "Error in parse(text = x, srcfile = src): <text>:3:15: unexpected ','\n2: par(mfrow = c(1,3) ) #divide graph area in 3 columns\n3: boxplot(input$,\n                 ^\n",
     "output_type": "error",
     "traceback": [
      "Error in parse(text = x, srcfile = src): <text>:3:15: unexpected ','\n2: par(mfrow = c(1,3) ) #divide graph area in 3 columns\n3: boxplot(input$,\n                 ^\nTraceback:\n"
     ]
    }
   ],
   "source": [
    "#Kiem tra outliers\n",
    "par(mfrow = c(1,3) ) #divide graph area in 3 columns\n",
    "boxplot(input$, main = \"Petrol_tax\",\n",
    "       sub = paste(\"Outliers rows:\", boxplot.stats(input$Petrol_tax)$out))\n",
    "boxplot(input$Population_Driver_licence..., main = \"Population_Driver_licence...\",\n",
    "       sub = paste(\"Outliers rows:\", boxplot.stats(input$Population_Driver_licence...)$out))\n",
    "boxplot(input$Petrol_Consumption, main = \"Petrol_Consumption\",\n",
    "       sub = paste(\"Outliers rows:\", boxplot.stats(input$Petrol_Consumption)$out))"
   ]
  },
  {
   "cell_type": "code",
   "execution_count": 54,
   "metadata": {},
   "outputs": [
    {
     "name": "stdout",
     "output_type": "stream",
     "text": [
      "[1] \"Petrol_tax_outliers: \"\n",
      "[1] 5\n",
      "[1] \"Numrows:  1\"\n",
      "[1] \"population_outliers: \"\n",
      "[1] 0.724\n",
      "[1] \"Numrows:  1\"\n",
      "[1] \"Consumption_outliers: \"\n",
      "[1] 865 968\n",
      "[1] \"Numrows:  1\"\n"
     ]
    }
   ],
   "source": [
    "#Loai outliers\n",
    "Petrol_tax_outliers <- boxplot.stats(input$Petrol_tax)$out\n",
    "print(\"Petrol_tax_outliers: \")\n",
    "print(Petrol_tax_outliers)\n",
    "print(paste(\"Numrows: \", sum(input$Petrol_tax == Petrol_tax_outliers[1])))\n",
    "\n",
    "population_outliers <- boxplot.stats(input$Population_Driver_licence...)$out\n",
    "print(\"population_outliers: \")\n",
    "print(population_outliers)\n",
    "print(paste(\"Numrows: \", sum(input$Population_Driver_licence... == population_outliers[1])))\n",
    "\n",
    "Consumption_outliers <- boxplot.stats(input$Petrol_Consumption)$out\n",
    "print(\"Consumption_outliers: \")\n",
    "print(Consumption_outliers)\n",
    "print(paste(\"Numrows: \", sum(input$Petrol_Consumption == Consumption_outliers[1])))"
   ]
  },
  {
   "cell_type": "code",
   "execution_count": 55,
   "metadata": {},
   "outputs": [
    {
     "name": "stdout",
     "output_type": "stream",
     "text": [
      "[1] \"Befor drop: 48\"\n",
      "[1] \"After drop: 45\"\n"
     ]
    }
   ],
   "source": [
    "#Loai outliers\n",
    "print(paste(\"Befor drop:\", nrow(input)))\n",
    "for (record in Petrol_tax_outliers) {\n",
    "    input <- input[input$Petrol_tax != record,]\n",
    "}\n",
    "for (record in population_outliers) {\n",
    "    input <- input[input$Population_Driver_licence... != record,]\n",
    "}\n",
    "for (record in Consumption_outliers) {\n",
    "    input <- input[input$Petrol_Consumption != record,]\n",
    "}\n",
    "print(paste(\"After drop:\", nrow(input)))"
   ]
  },
  {
   "cell_type": "code",
   "execution_count": 56,
   "metadata": {},
   "outputs": [
    {
     "name": "stdout",
     "output_type": "stream",
     "text": [
      "[1] \"correlation Petrol Consumption vs Petrol tax and Population_Driver_licence :\"\n",
      "[1] -0.4629515\n",
      "[1] 0.6052256\n"
     ]
    }
   ],
   "source": [
    "#Tinh correlation\n",
    "print(\"correlation Petrol Consumption vs Petrol tax and Population_Driver_licence :\")\n",
    "print(cor(input$Petrol_Consumption, input$Petrol_tax))\n",
    "print(cor(input$Petrol_Consumption, input$Population_Driver_licence...))"
   ]
  },
  {
   "cell_type": "code",
   "execution_count": 57,
   "metadata": {},
   "outputs": [
    {
     "name": "stdout",
     "output_type": "stream",
     "text": [
      "[1] \"select train row index\"\n",
      " [1] 37  1 25 10 36 18 24  7 41 43\n",
      "[1] \"Rows of train data and test data:\"\n",
      "[1] 36\n",
      "[1] 9\n"
     ]
    }
   ],
   "source": [
    "#tao train test voi ti le 80 20\n",
    "set.seed(42) # giu lai bo du lieu lan dau tao khi chay lai nhieu lan\n",
    "trainingRowindex <- sample(1:nrow(input), 0.8*nrow(input))#row indicate for train data\n",
    "print(\"select train row index\")\n",
    "print(trainingRowindex[1:10]) \n",
    "trainingdata <- input[trainingRowindex,] #train data\n",
    "testdata <- input[-trainingRowindex,] #train data\n",
    "print(\"Rows of train data and test data:\")\n",
    "print(nrow(trainingdata))\n",
    "print(nrow(testdata))"
   ]
  },
  {
   "cell_type": "code",
   "execution_count": 60,
   "metadata": {},
   "outputs": [],
   "source": [
    "#build model Linear Regression\n",
    "lmMod <- lm(Petrol_Consumption ~ Petrol_tax+Population_Driver_licence..., data = trainingdata) #build model\n",
    "y_pred <- predict(lmMod, testdata) #predict length"
   ]
  },
  {
   "cell_type": "code",
   "execution_count": 61,
   "metadata": {},
   "outputs": [
    {
     "name": "stdout",
     "output_type": "stream",
     "text": [
      "[1] \"mes: 4739.38834330755\"\n"
     ]
    }
   ],
   "source": [
    "mse <- mean(lmMod$residuals^2) #tinh mean square errors to model\n",
    "print(paste(\"mes:\",mse))"
   ]
  },
  {
   "cell_type": "code",
   "execution_count": 62,
   "metadata": {},
   "outputs": [
    {
     "name": "stdout",
     "output_type": "stream",
     "text": [
      "[1] \"mes in testdata: 1247.25293774595\"\n"
     ]
    }
   ],
   "source": [
    "#mean square error cua testdata\n",
    "mse_test = mean((testdata$Petrol_Consumption - y_pred)^2)\n",
    "print(paste(\"mes in testdata:\",mse_test))"
   ]
  },
  {
   "cell_type": "code",
   "execution_count": 63,
   "metadata": {},
   "outputs": [
    {
     "name": "stdout",
     "output_type": "stream",
     "text": [
      "\n",
      "Call:\n",
      "lm(formula = Petrol_Consumption ~ Petrol_tax + Population_Driver_licence..., \n",
      "    data = trainingdata)\n",
      "\n",
      "Residuals:\n",
      "    Min      1Q  Median      3Q     Max \n",
      "-125.16  -61.70    7.70   58.74  151.40 \n",
      "\n",
      "Coefficients:\n",
      "                             Estimate Std. Error t value Pr(>|t|)   \n",
      "(Intercept)                    256.26     221.90   1.155  0.25647   \n",
      "Petrol_tax                     -31.34      14.47  -2.166  0.03762 * \n",
      "Population_Driver_licence...   973.59     270.33   3.602  0.00103 **\n",
      "---\n",
      "Signif. codes:  0 '***' 0.001 '**' 0.01 '*' 0.05 '.' 0.1 ' ' 1\n",
      "\n",
      "Residual standard error: 71.9 on 33 degrees of freedom\n",
      "Multiple R-squared:  0.457,\tAdjusted R-squared:  0.4241 \n",
      "F-statistic: 13.89 on 2 and 33 DF,  p-value: 4.205e-05\n",
      "\n"
     ]
    }
   ],
   "source": [
    "print(summary(lmMod))"
   ]
  },
  {
   "cell_type": "markdown",
   "metadata": {},
   "source": [
    "**Model has R-square slow and fits ~ 45.7% data -> not good**"
   ]
  },
  {
   "cell_type": "code",
   "execution_count": 64,
   "metadata": {},
   "outputs": [
    {
     "name": "stdout",
     "output_type": "stream",
     "text": [
      "                 (Intercept)                   Petrol_tax \n",
      "                   256.25506                    -31.34155 \n",
      "Population_Driver_licence... \n",
      "                   973.59063 \n"
     ]
    }
   ],
   "source": [
    "##model coefficients, Intercept va Variance score\n",
    "print(coef(lmMod))"
   ]
  },
  {
   "cell_type": "code",
   "execution_count": 66,
   "metadata": {},
   "outputs": [
    {
     "name": "stdout",
     "output_type": "stream",
     "text": [
      "[1] \"intercept: 256.255062418025\"\n",
      "[1] \"Petrol tax: -31.3415479167604\"\n",
      "[1] \"Population_Driver_licence: 973.590630793001\"\n"
     ]
    }
   ],
   "source": [
    "intercept <- coef(lmMod)['(Intercept)']\n",
    "m1 <- coef(lmMod)['Petrol_tax']\n",
    "m2 <- coef(lmMod)['Population_Driver_licence...']\n",
    "print(paste(\"intercept:\", intercept))\n",
    "print(paste(\"Petrol tax:\", m1))\n",
    "print(paste(\"Population_Driver_licence:\", m2))"
   ]
  },
  {
   "cell_type": "code",
   "execution_count": 67,
   "metadata": {},
   "outputs": [
    {
     "name": "stdout",
     "output_type": "stream",
     "text": [
      "Petrol_tax \n",
      "  538.8637 \n"
     ]
    }
   ],
   "source": [
    "#predict\n",
    "#Cach 1\n",
    "x1 <- 9\n",
    "x2 <- 0.58\n",
    "y <- (m1*x1 + m2*x2 + intercept)\n",
    "print(y)"
   ]
  },
  {
   "cell_type": "code",
   "execution_count": 69,
   "metadata": {},
   "outputs": [
    {
     "name": "stdout",
     "output_type": "stream",
     "text": [
      "[1] \"y = 538.863697027122\"\n"
     ]
    }
   ],
   "source": [
    "#predict\n",
    "#Cach 2\n",
    "y1 <- predict(lmMod, data.frame(Petrol_tax = x1, Population_Driver_licence... = x2 ))\n",
    "print(paste(\"y =\",y1))"
   ]
  },
  {
   "cell_type": "markdown",
   "metadata": {},
   "source": [
    "### Yêu cầu 2: Áp dụng BMA để lựa chọn model với các thuộc tính phù hợp cho việc dùng Linear Regression dự đoán Petrol_Consumption"
   ]
  },
  {
   "cell_type": "code",
   "execution_count": 70,
   "metadata": {},
   "outputs": [
    {
     "name": "stderr",
     "output_type": "stream",
     "text": [
      "Warning message:\n",
      "\"package 'BMA' was built under R version 3.6.2\"Loading required package: survival\n",
      "Warning message:\n",
      "\"package 'survival' was built under R version 3.6.3\"Loading required package: leaps\n",
      "Warning message:\n",
      "\"package 'leaps' was built under R version 3.6.2\"Loading required package: robustbase\n",
      "Warning message:\n",
      "\"package 'robustbase' was built under R version 3.6.2\"\n",
      "Attaching package: 'robustbase'\n",
      "\n",
      "The following object is masked from 'package:survival':\n",
      "\n",
      "    heart\n",
      "\n",
      "Loading required package: inline\n",
      "Loading required package: rrcov\n",
      "Warning message:\n",
      "\"package 'rrcov' was built under R version 3.6.2\"Scalable Robust Estimators with High Breakdown Point (version 1.5-2)\n",
      "\n"
     ]
    }
   ],
   "source": [
    "library(BMA)"
   ]
  },
  {
   "cell_type": "code",
   "execution_count": 71,
   "metadata": {},
   "outputs": [],
   "source": [
    "#get input data\n",
    "yvar <- data[,('Petrol_Consumption')]\n",
    "xvar <- data[,c(-5)]\n",
    "bma = bicreg(xvar, yvar, strict = F, OR = 2)#Khong co moi tuong quan de strict = F, OR = 2"
   ]
  },
  {
   "cell_type": "code",
   "execution_count": 72,
   "metadata": {},
   "outputs": [
    {
     "name": "stdout",
     "output_type": "stream",
     "text": [
      "\n",
      "Call:\n",
      "bicreg(x = xvar, y = yvar, strict = F, OR = 2)\n",
      "\n",
      "\n",
      "  1  models were selected\n",
      " Best  1  models (cumulative posterior probability =  1 ): \n",
      "\n",
      "                              p!=0   EV         SD         model 1   \n",
      "Intercept                     100    307.32790  156.83067   307.32790\n",
      "Petrol_tax                    100    -29.48381   10.58358   -29.48381\n",
      "Average_income                100     -0.06802    0.01701    -0.06802\n",
      "Paved_Highways                  0      0.00000    0.00000       .    \n",
      "Population_Driver_licence...  100   1374.76841  183.66954  1374.76841\n",
      "                                                                     \n",
      "nVar                                                            3    \n",
      "r2                                                            0.675  \n",
      "BIC                                                         -42.31437\n",
      "post prob                                                     1      \n",
      "                             p!=0   EV          SD          model 1     \n",
      "Intercept                    \"100\" \" 307.32790\" \"156.83067\" \" 307.32790\"\n",
      "Petrol_tax                   \"100\" \" -29.48381\" \" 10.58358\" \" -29.48381\"\n",
      "Average_income               \"100\" \"  -0.06802\" \"  0.01701\" \"  -0.06802\"\n",
      "Paved_Highways               \"  0\" \"   0.00000\" \"  0.00000\" \"     .\"    \n",
      "Population_Driver_licence... \"100\" \"1374.76841\" \"183.66954\" \"1374.76841\"\n",
      "                             \"\"    \"\"           \"\"          \"\"          \n",
      "nVar                         \"\"    \"\"           \"\"          \"     3\"    \n",
      "r2                           \"\"    \"\"           \"\"          \"   0.675\"  \n",
      "BIC                          \"\"    \"\"           \"\"          \" -42.31437\"\n",
      "post prob                    \"\"    \"\"           \"\"          \"   1\"      \n"
     ]
    }
   ],
   "source": [
    "print(summary(bma))"
   ]
  },
  {
   "cell_type": "code",
   "execution_count": 73,
   "metadata": {},
   "outputs": [
    {
     "data": {
      "image/png": "[encoded data removed]",
      "text/plain": [
       "Plot with title \"Models selected by BMA\""
      ]
     },
     "metadata": {},
     "output_type": "display_data"
    }
   ],
   "source": [
    "#visualize\n",
    "imageplot.bma(bma)"
   ]
  },
  {
   "cell_type": "markdown",
   "metadata": {},
   "source": [
    "**BMA đưa ra chỉ có một model tốt nhất với 3 variables :Petrol_tax, Average_income, Population_Driver_licence...**"
   ]
  },
  {
   "cell_type": "code",
   "execution_count": null,
   "metadata": {},
   "outputs": [],
   "source": []
  }
 ],
 "metadata": {
  "kernelspec": {
   "display_name": "R",
   "language": "R",
   "name": "ir"
  },
  "language_info": {
   "codemirror_mode": "r",
   "file_extension": ".r",
   "mimetype": "text/x-r-source",
   "name": "R",
   "pygments_lexer": "r",
   "version": "3.6.1"
  }
 },
 "nbformat": 4,
 "nbformat_minor": 2
}
