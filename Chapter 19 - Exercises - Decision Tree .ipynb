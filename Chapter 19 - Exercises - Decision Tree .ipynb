{
 "cells": [
  {
   "cell_type": "markdown",
   "metadata": {},
   "source": [
    "## Ex1: Classification Animal"
   ]
  },
  {
   "cell_type": "code",
   "execution_count": 1,
   "metadata": {},
   "outputs": [
    {
     "data": {
      "text/html": [
       "<table>\n",
       "<thead><tr><th scope=col>V1</th><th scope=col>V2</th><th scope=col>V3</th><th scope=col>V4</th><th scope=col>V5</th><th scope=col>V6</th><th scope=col>V7</th><th scope=col>V8</th><th scope=col>V9</th><th scope=col>V10</th><th scope=col>V11</th><th scope=col>V12</th><th scope=col>V13</th><th scope=col>V14</th><th scope=col>V15</th><th scope=col>V16</th><th scope=col>V17</th><th scope=col>V18</th></tr></thead>\n",
       "<tbody>\n",
       "\t<tr><td>aardvark</td><td>1       </td><td>0       </td><td>0       </td><td>1       </td><td>0       </td><td>0       </td><td>1       </td><td>1       </td><td>1       </td><td>1       </td><td>0       </td><td>0       </td><td>4       </td><td>0       </td><td>0       </td><td>1       </td><td>1       </td></tr>\n",
       "\t<tr><td>antelope</td><td>1       </td><td>0       </td><td>0       </td><td>1       </td><td>0       </td><td>0       </td><td>0       </td><td>1       </td><td>1       </td><td>1       </td><td>0       </td><td>0       </td><td>4       </td><td>1       </td><td>0       </td><td>1       </td><td>1       </td></tr>\n",
       "\t<tr><td>bass    </td><td>0       </td><td>0       </td><td>1       </td><td>0       </td><td>0       </td><td>1       </td><td>1       </td><td>1       </td><td>1       </td><td>0       </td><td>0       </td><td>1       </td><td>0       </td><td>1       </td><td>0       </td><td>0       </td><td>4       </td></tr>\n",
       "\t<tr><td>bear    </td><td>1       </td><td>0       </td><td>0       </td><td>1       </td><td>0       </td><td>0       </td><td>1       </td><td>1       </td><td>1       </td><td>1       </td><td>0       </td><td>0       </td><td>4       </td><td>0       </td><td>0       </td><td>1       </td><td>1       </td></tr>\n",
       "\t<tr><td>boar    </td><td>1       </td><td>0       </td><td>0       </td><td>1       </td><td>0       </td><td>0       </td><td>1       </td><td>1       </td><td>1       </td><td>1       </td><td>0       </td><td>0       </td><td>4       </td><td>1       </td><td>0       </td><td>1       </td><td>1       </td></tr>\n",
       "\t<tr><td>buffalo </td><td>1       </td><td>0       </td><td>0       </td><td>1       </td><td>0       </td><td>0       </td><td>0       </td><td>1       </td><td>1       </td><td>1       </td><td>0       </td><td>0       </td><td>4       </td><td>1       </td><td>0       </td><td>1       </td><td>1       </td></tr>\n",
       "</tbody>\n",
       "</table>\n"
      ],
      "text/latex": [
       "\\begin{tabular}{r|llllllllllllllllll}\n",
       " V1 & V2 & V3 & V4 & V5 & V6 & V7 & V8 & V9 & V10 & V11 & V12 & V13 & V14 & V15 & V16 & V17 & V18\\\\\n",
       "\\hline\n",
       "\t aardvark & 1        & 0        & 0        & 1        & 0        & 0        & 1        & 1        & 1        & 1        & 0        & 0        & 4        & 0        & 0        & 1        & 1       \\\\\n",
       "\t antelope & 1        & 0        & 0        & 1        & 0        & 0        & 0        & 1        & 1        & 1        & 0        & 0        & 4        & 1        & 0        & 1        & 1       \\\\\n",
       "\t bass     & 0        & 0        & 1        & 0        & 0        & 1        & 1        & 1        & 1        & 0        & 0        & 1        & 0        & 1        & 0        & 0        & 4       \\\\\n",
       "\t bear     & 1        & 0        & 0        & 1        & 0        & 0        & 1        & 1        & 1        & 1        & 0        & 0        & 4        & 0        & 0        & 1        & 1       \\\\\n",
       "\t boar     & 1        & 0        & 0        & 1        & 0        & 0        & 1        & 1        & 1        & 1        & 0        & 0        & 4        & 1        & 0        & 1        & 1       \\\\\n",
       "\t buffalo  & 1        & 0        & 0        & 1        & 0        & 0        & 0        & 1        & 1        & 1        & 0        & 0        & 4        & 1        & 0        & 1        & 1       \\\\\n",
       "\\end{tabular}\n"
      ],
      "text/markdown": [
       "\n",
       "| V1 | V2 | V3 | V4 | V5 | V6 | V7 | V8 | V9 | V10 | V11 | V12 | V13 | V14 | V15 | V16 | V17 | V18 |\n",
       "|---|---|---|---|---|---|---|---|---|---|---|---|---|---|---|---|---|---|\n",
       "| aardvark | 1        | 0        | 0        | 1        | 0        | 0        | 1        | 1        | 1        | 1        | 0        | 0        | 4        | 0        | 0        | 1        | 1        |\n",
       "| antelope | 1        | 0        | 0        | 1        | 0        | 0        | 0        | 1        | 1        | 1        | 0        | 0        | 4        | 1        | 0        | 1        | 1        |\n",
       "| bass     | 0        | 0        | 1        | 0        | 0        | 1        | 1        | 1        | 1        | 0        | 0        | 1        | 0        | 1        | 0        | 0        | 4        |\n",
       "| bear     | 1        | 0        | 0        | 1        | 0        | 0        | 1        | 1        | 1        | 1        | 0        | 0        | 4        | 0        | 0        | 1        | 1        |\n",
       "| boar     | 1        | 0        | 0        | 1        | 0        | 0        | 1        | 1        | 1        | 1        | 0        | 0        | 4        | 1        | 0        | 1        | 1        |\n",
       "| buffalo  | 1        | 0        | 0        | 1        | 0        | 0        | 0        | 1        | 1        | 1        | 0        | 0        | 4        | 1        | 0        | 1        | 1        |\n",
       "\n"
      ],
      "text/plain": [
       "  V1       V2 V3 V4 V5 V6 V7 V8 V9 V10 V11 V12 V13 V14 V15 V16 V17 V18\n",
       "1 aardvark 1  0  0  1  0  0  1  1  1   1   0   0   4   0   0   1   1  \n",
       "2 antelope 1  0  0  1  0  0  0  1  1   1   0   0   4   1   0   1   1  \n",
       "3 bass     0  0  1  0  0  1  1  1  1   0   0   1   0   1   0   0   4  \n",
       "4 bear     1  0  0  1  0  0  1  1  1   1   0   0   4   0   0   1   1  \n",
       "5 boar     1  0  0  1  0  0  1  1  1   1   0   0   4   1   0   1   1  \n",
       "6 buffalo  1  0  0  1  0  0  0  1  1   1   0   0   4   1   0   1   1  "
      ]
     },
     "metadata": {},
     "output_type": "display_data"
    }
   ],
   "source": [
    "#Doc du lieu\n",
    "data <- read.csv(\"Chapter 18-19\\\\zoo.data.txt\", header = FALSE)\n",
    "head(data)"
   ]
  },
  {
   "cell_type": "code",
   "execution_count": 2,
   "metadata": {},
   "outputs": [
    {
     "name": "stdout",
     "output_type": "stream",
     "text": [
      "         V1 V2 V3 V4 V5 V6 V7 V8 V9 V10 V11 V12 V13 V14 V15 V16 V17 V18\n",
      "96  vulture  0  1  1  0  1  0  1  0   1   1   0   0   2   1   0   1   2\n",
      "97  wallaby  1  0  0  1  0  0  0  1   1   1   0   0   2   1   0   1   1\n",
      "98     wasp  1  0  1  0  1  0  0  0   0   1   1   0   6   0   0   0   6\n",
      "99     wolf  1  0  0  1  0  0  1  1   1   1   0   0   4   1   0   1   1\n",
      "100    worm  0  0  1  0  0  0  0  0   0   1   0   0   0   0   0   0   7\n",
      "101    wren  0  1  1  0  1  0  0  0   1   1   0   0   2   1   0   0   2\n",
      "[1] \"No rows:  101\"\n",
      "[1] \"No columns:  18\"\n",
      "        V1           V2               V3              V4        \n",
      " frog    : 2   Min.   :0.0000   Min.   :0.000   Min.   :0.0000  \n",
      " aardvark: 1   1st Qu.:0.0000   1st Qu.:0.000   1st Qu.:0.0000  \n",
      " antelope: 1   Median :0.0000   Median :0.000   Median :1.0000  \n",
      " bass    : 1   Mean   :0.4257   Mean   :0.198   Mean   :0.5842  \n",
      " bear    : 1   3rd Qu.:1.0000   3rd Qu.:0.000   3rd Qu.:1.0000  \n",
      " boar    : 1   Max.   :1.0000   Max.   :1.000   Max.   :1.0000  \n",
      " (Other) :94                                                    \n",
      "       V5               V6               V7               V8        \n",
      " Min.   :0.0000   Min.   :0.0000   Min.   :0.0000   Min.   :0.0000  \n",
      " 1st Qu.:0.0000   1st Qu.:0.0000   1st Qu.:0.0000   1st Qu.:0.0000  \n",
      " Median :0.0000   Median :0.0000   Median :0.0000   Median :1.0000  \n",
      " Mean   :0.4059   Mean   :0.2376   Mean   :0.3564   Mean   :0.5545  \n",
      " 3rd Qu.:1.0000   3rd Qu.:0.0000   3rd Qu.:1.0000   3rd Qu.:1.0000  \n",
      " Max.   :1.0000   Max.   :1.0000   Max.   :1.0000   Max.   :1.0000  \n",
      "                                                                    \n",
      "       V9             V10              V11              V12         \n",
      " Min.   :0.000   Min.   :0.0000   Min.   :0.0000   Min.   :0.00000  \n",
      " 1st Qu.:0.000   1st Qu.:1.0000   1st Qu.:1.0000   1st Qu.:0.00000  \n",
      " Median :1.000   Median :1.0000   Median :1.0000   Median :0.00000  \n",
      " Mean   :0.604   Mean   :0.8218   Mean   :0.7921   Mean   :0.07921  \n",
      " 3rd Qu.:1.000   3rd Qu.:1.0000   3rd Qu.:1.0000   3rd Qu.:0.00000  \n",
      " Max.   :1.000   Max.   :1.0000   Max.   :1.0000   Max.   :1.00000  \n",
      "                                                                    \n",
      "      V13              V14             V15              V16        \n",
      " Min.   :0.0000   Min.   :0.000   Min.   :0.0000   Min.   :0.0000  \n",
      " 1st Qu.:0.0000   1st Qu.:2.000   1st Qu.:0.0000   1st Qu.:0.0000  \n",
      " Median :0.0000   Median :4.000   Median :1.0000   Median :0.0000  \n",
      " Mean   :0.1683   Mean   :2.842   Mean   :0.7426   Mean   :0.1287  \n",
      " 3rd Qu.:0.0000   3rd Qu.:4.000   3rd Qu.:1.0000   3rd Qu.:0.0000  \n",
      " Max.   :1.0000   Max.   :8.000   Max.   :1.0000   Max.   :1.0000  \n",
      "                                                                   \n",
      "      V17              V18       \n",
      " Min.   :0.0000   Min.   :1.000  \n",
      " 1st Qu.:0.0000   1st Qu.:1.000  \n",
      " Median :0.0000   Median :2.000  \n",
      " Mean   :0.4356   Mean   :2.832  \n",
      " 3rd Qu.:1.0000   3rd Qu.:4.000  \n",
      " Max.   :1.0000   Max.   :7.000  \n",
      "                                 \n"
     ]
    }
   ],
   "source": [
    "#Xem thong tin\n",
    "print(tail(data))\n",
    "print(paste(\"No rows: \", nrow(data)))\n",
    "print(paste(\"No columns: \", ncol(data)))\n",
    "print(summary(data))"
   ]
  },
  {
   "cell_type": "code",
   "execution_count": 3,
   "metadata": {},
   "outputs": [
    {
     "name": "stdout",
     "output_type": "stream",
     "text": [
      "'data.frame':\t101 obs. of  18 variables:\n",
      " $ V1 : Factor w/ 100 levels \"aardvark\",\"antelope\",..: 1 2 3 4 5 6 7 8 9 10 ...\n",
      " $ V2 : int  1 1 0 1 1 1 1 0 0 1 ...\n",
      " $ V3 : int  0 0 0 0 0 0 0 0 0 0 ...\n",
      " $ V4 : int  0 0 1 0 0 0 0 1 1 0 ...\n",
      " $ V5 : int  1 1 0 1 1 1 1 0 0 1 ...\n",
      " $ V6 : int  0 0 0 0 0 0 0 0 0 0 ...\n",
      " $ V7 : int  0 0 1 0 0 0 0 1 1 0 ...\n",
      " $ V8 : int  1 0 1 1 1 0 0 0 1 0 ...\n",
      " $ V9 : int  1 1 1 1 1 1 1 1 1 1 ...\n",
      " $ V10: int  1 1 1 1 1 1 1 1 1 1 ...\n",
      " $ V11: int  1 1 0 1 1 1 1 0 0 1 ...\n",
      " $ V12: int  0 0 0 0 0 0 0 0 0 0 ...\n",
      " $ V13: int  0 0 1 0 0 0 0 1 1 0 ...\n",
      " $ V14: int  4 4 0 4 4 4 4 0 0 4 ...\n",
      " $ V15: int  0 1 1 0 1 1 1 1 1 0 ...\n",
      " $ V16: int  0 0 0 0 0 0 1 1 0 1 ...\n",
      " $ V17: int  1 1 0 1 1 1 1 0 0 0 ...\n",
      " $ V18: int  1 1 4 1 1 1 1 4 4 1 ...\n"
     ]
    }
   ],
   "source": [
    "str(data)"
   ]
  },
  {
   "cell_type": "code",
   "execution_count": 4,
   "metadata": {},
   "outputs": [
    {
     "name": "stdout",
     "output_type": "stream",
     "text": [
      "  V2 V3 V4 V5 V6 V7 V8 V9 V10 V11 V12 V13 V14 V15 V16 V17 V18\n",
      "1  1  0  0  1  0  0  1  1   1   1   0   0   4   0   0   1   1\n",
      "2  1  0  0  1  0  0  0  1   1   1   0   0   4   1   0   1   1\n",
      "3  0  0  1  0  0  1  1  1   1   0   0   1   0   1   0   0   4\n",
      "4  1  0  0  1  0  0  1  1   1   1   0   0   4   0   0   1   1\n",
      "5  1  0  0  1  0  0  1  1   1   1   0   0   4   1   0   1   1\n",
      "6  1  0  0  1  0  0  0  1   1   1   0   0   4   1   0   1   1\n"
     ]
    }
   ],
   "source": [
    "#Bo cot ten animal\n",
    "data <- subset(data, select = -V1)\n",
    "print(head(data))"
   ]
  },
  {
   "cell_type": "code",
   "execution_count": 5,
   "metadata": {},
   "outputs": [
    {
     "name": "stdout",
     "output_type": "stream",
     "text": [
      "[1] \"select train row index\"\n",
      " [1]  95  11  15  61  89   7  64  39  84  86  74  41  80 101  62  45  16   3  69\n",
      "[20]  79  10  31  57   4  59  37  18  26  50  48  32  96  91  27  52  47  19   1\n",
      "[39]  56  25  28  44  40  30  82  51  49  12  66   8  20  35  24  92  33  77  13\n",
      "[58]  23  36   6   2   9  38  83  67  98  60  75  54  97  22  65  53  63  87\n",
      "[1] \"Rows of train data and test data:\"\n",
      "[1] 75\n",
      "[1] 26\n"
     ]
    }
   ],
   "source": [
    "#Tao tao traing & test\n",
    "#set.seed(42) # giu lai bo du lieu lan dau tao khi chay lai nhieu lan\n",
    "trainingRowindex <- sample(1:nrow(data),  size = 0.75*nrow(data))#row indicate for train data, replace= FALSE khong co bo mau nao trung voi bo mau nao\n",
    "print(\"select train row index\")\n",
    "print(trainingRowindex) \n",
    "trainingdata <- data[trainingRowindex,] #train data\n",
    "testdata <- data[-trainingRowindex,] #train data\n",
    "print(\"Rows of train data and test data:\")\n",
    "print(nrow(trainingdata))\n",
    "print(nrow(testdata))"
   ]
  },
  {
   "cell_type": "code",
   "execution_count": 6,
   "metadata": {},
   "outputs": [
    {
     "name": "stderr",
     "output_type": "stream",
     "text": [
      "Warning message:\n",
      "\"package 'rpart' was built under R version 3.6.3\""
     ]
    }
   ],
   "source": [
    "library(rpart)"
   ]
  },
  {
   "cell_type": "code",
   "execution_count": 7,
   "metadata": {},
   "outputs": [
    {
     "name": "stdout",
     "output_type": "stream",
     "text": [
      "n= 75 \n",
      "\n",
      "node), split, n, loss, yval, (yprob)\n",
      "      * denotes terminal node\n",
      "\n",
      "  1) root 75 45 1 (0.4 0.17 0.053 0.16 0.04 0.093 0.08)  \n",
      "    2) V5>=0.5 30  0 1 (1 0 0 0 0 0 0) *\n",
      "    3) V5< 0.5 45 32 2 (0 0.29 0.089 0.27 0.067 0.16 0.13)  \n",
      "      6) V3>=0.5 13  0 2 (0 1 0 0 0 0 0) *\n",
      "      7) V3< 0.5 32 20 4 (0 0 0.12 0.38 0.094 0.22 0.19)  \n",
      "       14) V13>=0.5 12  0 4 (0 0 0 1 0 0 0) *\n",
      "       15) V13< 0.5 20 13 6 (0 0 0.2 0 0.15 0.35 0.3)  \n",
      "         30) V10>=0.5 7  3 3 (0 0 0.57 0 0.43 0 0)  \n",
      "           60) V7< 0.5 3  0 3 (0 0 1 0 0 0 0) *\n",
      "           61) V7>=0.5 4  1 5 (0 0 0.25 0 0.75 0 0)  \n",
      "            122) V4< 0.5 1  0 3 (0 0 1 0 0 0 0) *\n",
      "            123) V4>=0.5 3  0 5 (0 0 0 0 1 0 0) *\n",
      "         31) V10< 0.5 13  6 6 (0 0 0 0 0 0.54 0.46)  \n",
      "           62) V7< 0.5 8  1 6 (0 0 0 0 0 0.88 0.12)  \n",
      "            124) V14>=3 7  0 6 (0 0 0 0 0 1 0) *\n",
      "            125) V14< 3 1  0 7 (0 0 0 0 0 0 1) *\n",
      "           63) V7>=0.5 5  0 7 (0 0 0 0 0 0 1) *\n"
     ]
    }
   ],
   "source": [
    "#build model\n",
    "data.tree <- rpart(V18 ~ ., data = trainingdata, method = 'class', minbucket = 1)\n",
    "print(data.tree)"
   ]
  },
  {
   "cell_type": "code",
   "execution_count": 8,
   "metadata": {},
   "outputs": [
    {
     "name": "stderr",
     "output_type": "stream",
     "text": [
      "Warning message:\n",
      "\"package 'rpart.plot' was built under R version 3.6.3\""
     ]
    }
   ],
   "source": [
    "library(rpart.plot)"
   ]
  },
  {
   "cell_type": "code",
   "execution_count": 9,
   "metadata": {},
   "outputs": [
    {
     "data": {
      "image/png": "[encoded data removed]",
      "text/plain": [
       "plot without title"
      ]
     },
     "metadata": {},
     "output_type": "display_data"
    }
   ],
   "source": [
    "#Visualize\n",
    "prp(data.tree, type = 2, extra = \"auto\", nn = TRUE, branch = 1, varlen = 0, yesno = 2)"
   ]
  },
  {
   "cell_type": "code",
   "execution_count": 10,
   "metadata": {},
   "outputs": [],
   "source": [
    "#test model\n",
    "pred_new = predict(data.tree, testdata, type = \"class\")"
   ]
  },
  {
   "cell_type": "code",
   "execution_count": 11,
   "metadata": {},
   "outputs": [
    {
     "name": "stdout",
     "output_type": "stream",
     "text": [
      "[1] \"Predict vs Actual:\"\n",
      "    Predict Actual\n",
      "5         1      1\n",
      "14        7      7\n",
      "17        2      2\n",
      "21        2      2\n",
      "29        1      1\n",
      "34        2      2\n",
      "42        2      2\n",
      "43        6      6\n",
      "46        1      1\n",
      "55        1      1\n",
      "58        2      2\n",
      "68        1      1\n",
      "70        1      1\n",
      "71        1      1\n",
      "72        2      2\n",
      "73        6      7\n",
      "76        1      1\n",
      "78        7      7\n",
      "81        3      3\n",
      "85        1      1\n",
      "88        2      2\n",
      "90        5      5\n",
      "93        4      4\n",
      "94        1      1\n",
      "99        1      1\n",
      "100       7      7\n"
     ]
    }
   ],
   "source": [
    "print(\"Predict vs Actual:\")\n",
    "result <- data.frame(Predict = pred_new, Actual = testdata$V18)\n",
    "print(result)"
   ]
  },
  {
   "cell_type": "code",
   "execution_count": 12,
   "metadata": {},
   "outputs": [
    {
     "name": "stdout",
     "output_type": "stream",
     "text": [
      "[1] \"Accuracy 2: 0.961538461538462\"\n"
     ]
    }
   ],
   "source": [
    "misClassificError <- mean(pred_new != testdata$V18)\n",
    "print(paste(\"Accuracy 2:\", 1 - misClassificError))"
   ]
  },
  {
   "cell_type": "code",
   "execution_count": 14,
   "metadata": {},
   "outputs": [],
   "source": [
    "#Predict new data\n",
    "newdata = data.frame(V2 = c(1,1),\n",
    "                    V3 = c(0,0),\n",
    "                    V4 = c(0,1),\n",
    "                    V5 = c(1,0),\n",
    "                    V6 = c(0,1),\n",
    "                    V7 = c(0,0),\n",
    "                    V8 = c(1,0),\n",
    "                    V9 = c(1,0),\n",
    "                    V10 = c(1,0),\n",
    "                    V11 = c(0,1),\n",
    "                    V12 = c(0,1),\n",
    "                    V13 = c(0,0),\n",
    "                    V14 = c(4,6),\n",
    "                    V15 = c(0,0),\n",
    "                    V16 = c(0,0),\n",
    "                    V17 = c(1,0))"
   ]
  },
  {
   "cell_type": "code",
   "execution_count": 15,
   "metadata": {},
   "outputs": [
    {
     "name": "stdout",
     "output_type": "stream",
     "text": [
      "[1] \"New predictions:\"\n",
      "1 2 \n",
      "1 6 \n",
      "Levels: 1 2 3 4 5 6 7\n"
     ]
    }
   ],
   "source": [
    "pred_new = predict(data.tree, newdata, type = \"class\")\n",
    "print(\"New predictions:\")\n",
    "print(pred_new)"
   ]
  },
  {
   "cell_type": "markdown",
   "metadata": {},
   "source": [
    "## Ex2: Baseball\n",
    "##### Áp dụng Decision Tree để dự đoán cân nặng dựa trên chiều cao"
   ]
  },
  {
   "cell_type": "code",
   "execution_count": 17,
   "metadata": {},
   "outputs": [
    {
     "name": "stdout",
     "output_type": "stream",
     "text": [
      "             Name Team       Position Height Weight   Age PosCategory\n",
      "1   Adam_Donachie  BAL        Catcher     74    180 22.99     Catcher\n",
      "2       Paul_Bako  BAL        Catcher     74    215 34.69     Catcher\n",
      "3 Ramon_Hernandez  BAL        Catcher     72    210 30.78     Catcher\n",
      "4    Kevin_Millar  BAL  First_Baseman     72    210 35.43   Infielder\n",
      "5     Chris_Gomez  BAL  First_Baseman     73    188 35.71   Infielder\n",
      "6   Brian_Roberts  BAL Second_Baseman     69    176 29.39   Infielder\n"
     ]
    }
   ],
   "source": [
    "data <- read.csv(\"Chapter 18-19\\\\baseball.csv\")\n",
    "print(head(data))"
   ]
  },
  {
   "cell_type": "code",
   "execution_count": 18,
   "metadata": {},
   "outputs": [
    {
     "name": "stdout",
     "output_type": "stream",
     "text": [
      "[1] \"No rows of data is  1015\"\n",
      "[1] \"No columns of data is  7\"\n",
      "[1] \"Summary is \"\n",
      "              Name           Team                 Position       Height     \n",
      " Chris_Young    :   2   NYM    : 38   Relief_Pitcher  :315   Min.   :67.00  \n",
      " Tony_Pe?a      :   2   ATL    : 37   Starting_Pitcher:220   1st Qu.:72.00  \n",
      " A.J._Burnett   :   1   CHC    : 36   Outfielder      :194   Median :74.00  \n",
      " A.J._Murray    :   1   DET    : 36   Catcher         : 76   Mean   :73.69  \n",
      " A.J._Pierzynski:   1   OAK    : 36   Second_Baseman  : 58   3rd Qu.:75.00  \n",
      " Aaron_Boone    :   1   WAS    : 36   First_Baseman   : 55   Max.   :83.00  \n",
      " (Other)        :1007   (Other):796   (Other)         : 97                  \n",
      "     Weight           Age            PosCategory \n",
      " Min.   :150.0   Min.   :20.90   Catcher   : 76  \n",
      " 1st Qu.:186.0   1st Qu.:25.41   Infielder :210  \n",
      " Median :200.0   Median :27.90   Outfielder:194  \n",
      " Mean   :201.3   Mean   :28.71   Pitcher   :535  \n",
      " 3rd Qu.:215.0   3rd Qu.:31.19                   \n",
      " Max.   :290.0   Max.   :48.52                   \n",
      "                                                 \n"
     ]
    }
   ],
   "source": [
    "#Xem thong tin summary, so dong, so cot, str\n",
    "print(paste(\"No rows of data is \", nrow(data)))\n",
    "print(paste(\"No columns of data is \", ncol(data)))\n",
    "print(\"Summary is \")\n",
    "print(summary(data))"
   ]
  },
  {
   "cell_type": "code",
   "execution_count": 19,
   "metadata": {},
   "outputs": [
    {
     "name": "stdout",
     "output_type": "stream",
     "text": [
      "'data.frame':\t1015 obs. of  7 variables:\n",
      " $ Name       : Factor w/ 1013 levels \"A.J._Burnett\",..: 13 778 801 615 199 134 717 703 66 22 ...\n",
      " $ Team       : Factor w/ 30 levels \"ANA\",\"ARZ\",\"ATL\",..: 4 4 4 4 4 4 4 4 4 4 ...\n",
      " $ Position   : Factor w/ 8 levels \"Catcher\",\"First_Baseman\",..: 1 1 1 2 2 5 6 8 8 3 ...\n",
      " $ Height     : int  74 74 72 72 73 69 69 71 76 71 ...\n",
      " $ Weight     : int  180 215 210 210 188 176 209 200 231 180 ...\n",
      " $ Age        : num  23 34.7 30.8 35.4 35.7 ...\n",
      " $ PosCategory: Factor w/ 4 levels \"Catcher\",\"Infielder\",..: 1 1 1 2 2 2 2 2 2 3 ...\n"
     ]
    }
   ],
   "source": [
    "str(data)"
   ]
  },
  {
   "cell_type": "code",
   "execution_count": 20,
   "metadata": {},
   "outputs": [
    {
     "data": {
      "text/html": [
       "<table>\n",
       "<thead><tr><th scope=col>Height</th><th scope=col>Weight</th></tr></thead>\n",
       "<tbody>\n",
       "\t<tr><td>74 </td><td>180</td></tr>\n",
       "\t<tr><td>74 </td><td>215</td></tr>\n",
       "\t<tr><td>72 </td><td>210</td></tr>\n",
       "\t<tr><td>72 </td><td>210</td></tr>\n",
       "\t<tr><td>73 </td><td>188</td></tr>\n",
       "\t<tr><td>69 </td><td>176</td></tr>\n",
       "</tbody>\n",
       "</table>\n"
      ],
      "text/latex": [
       "\\begin{tabular}{r|ll}\n",
       " Height & Weight\\\\\n",
       "\\hline\n",
       "\t 74  & 180\\\\\n",
       "\t 74  & 215\\\\\n",
       "\t 72  & 210\\\\\n",
       "\t 72  & 210\\\\\n",
       "\t 73  & 188\\\\\n",
       "\t 69  & 176\\\\\n",
       "\\end{tabular}\n"
      ],
      "text/markdown": [
       "\n",
       "| Height | Weight |\n",
       "|---|---|\n",
       "| 74  | 180 |\n",
       "| 74  | 215 |\n",
       "| 72  | 210 |\n",
       "| 72  | 210 |\n",
       "| 73  | 188 |\n",
       "| 69  | 176 |\n",
       "\n"
      ],
      "text/plain": [
       "  Height Weight\n",
       "1 74     180   \n",
       "2 74     215   \n",
       "3 72     210   \n",
       "4 72     210   \n",
       "5 73     188   \n",
       "6 69     176   "
      ]
     },
     "metadata": {},
     "output_type": "display_data"
    }
   ],
   "source": [
    "baseball <- data[c(\"Height\",\"Weight\")]\n",
    "head(baseball)"
   ]
  },
  {
   "cell_type": "code",
   "execution_count": 21,
   "metadata": {},
   "outputs": [
    {
     "name": "stdout",
     "output_type": "stream",
     "text": [
      "[1] \"Data after updating is : \"\n",
      "  Height   Weight\n",
      "1 1.8796 81.64656\n",
      "2 1.8796 97.52228\n",
      "3 1.8288 95.25432\n",
      "4 1.8288 95.25432\n",
      "5 1.8542 85.27530\n",
      "6 1.7526 79.83219\n"
     ]
    }
   ],
   "source": [
    "#Update lai thong tin chieu cao va can nang\n",
    "baseball[\"Height\"] <- baseball[\"Height\"]*0.0254\n",
    "baseball[\"Weight\"] <- baseball[\"Weight\"]*0.453592\n",
    "print(\"Data after updating is : \")\n",
    "print(head(baseball))"
   ]
  },
  {
   "cell_type": "code",
   "execution_count": 22,
   "metadata": {},
   "outputs": [
    {
     "data": {
      "image/png": "[encoded data removed]",
      "text/plain": [
       "Plot with title \"Height vs Weight\""
      ]
     },
     "metadata": {},
     "output_type": "display_data"
    }
   ],
   "source": [
    "#ve bieu do bieu dien moi quan he input va output(scatter plot)\n",
    "scatter.smooth(x= baseball$Height, y = baseball$Weight, main = \"Height vs Weight\")"
   ]
  },
  {
   "cell_type": "code",
   "execution_count": 23,
   "metadata": {},
   "outputs": [
    {
     "data": {
      "image/png": "[encoded data removed]",
      "text/plain": [
       "Plot with title \"Weight\""
      ]
     },
     "metadata": {},
     "output_type": "display_data"
    }
   ],
   "source": [
    "#Kiem tra outliers\n",
    "par(mfrow = c(1,2) ) #divide graph area in 2 columns\n",
    "boxplot(baseball$Height, main = \"Height\",\n",
    "       sub = paste(\"Outliers rows:\", boxplot.stats(baseball$Height)$out))\n",
    "boxplot(baseball$Weight, main = \"Weight\",\n",
    "       sub = paste(\"Outliers rows:\", boxplot.stats(baseball$Weight)$out))"
   ]
  },
  {
   "cell_type": "code",
   "execution_count": 24,
   "metadata": {},
   "outputs": [
    {
     "name": "stdout",
     "output_type": "stream",
     "text": [
      "[1] \"ht_outliers: \"\n",
      " [1] 2.0574 2.0320 2.0320 2.0320 2.0320 2.0828 2.0320 2.0574 2.0828 2.1082\n",
      "[11] 1.7018 1.7018\n",
      "[1] \"Numrows:  2\"\n"
     ]
    }
   ],
   "source": [
    "#Loai bo outliers\n",
    "ht_outliers <- boxplot.stats(baseball$Height)$out\n",
    "print(\"ht_outliers: \")\n",
    "print(ht_outliers)\n",
    "print(paste(\"Numrows: \", sum(baseball$Height == ht_outliers[1])))"
   ]
  },
  {
   "cell_type": "code",
   "execution_count": 25,
   "metadata": {},
   "outputs": [
    {
     "name": "stdout",
     "output_type": "stream",
     "text": [
      "[1] \"wt_outliers: \"\n",
      "[1] 117.9339 122.4698 131.5417 126.0986 117.9339 117.9339 117.9339\n",
      "[1] \"Numrows:  4\"\n"
     ]
    }
   ],
   "source": [
    "wt_outliers <- boxplot.stats(baseball$Weight)$out\n",
    "print(\"wt_outliers: \")\n",
    "print(wt_outliers)\n",
    "print(paste(\"Numrows: \", sum(baseball$Weight == wt_outliers[1])))"
   ]
  },
  {
   "cell_type": "code",
   "execution_count": 26,
   "metadata": {},
   "outputs": [
    {
     "name": "stdout",
     "output_type": "stream",
     "text": [
      "[1] \"Befor drop: 1015\"\n",
      "[1] \"After drop: 998\"\n"
     ]
    }
   ],
   "source": [
    "#Drop rows have outliers\n",
    "print(paste(\"Befor drop:\", nrow(baseball)))\n",
    "for (record in ht_outliers) {\n",
    "    baseball <- baseball[baseball$Height != record,]\n",
    "}\n",
    "for (record in wt_outliers) {\n",
    "    baseball <- baseball[baseball$Weight != record,]\n",
    "}\n",
    "print(paste(\"After drop:\", nrow(baseball)))"
   ]
  },
  {
   "cell_type": "code",
   "execution_count": 27,
   "metadata": {},
   "outputs": [
    {
     "name": "stdout",
     "output_type": "stream",
     "text": [
      "[1] \"select train row index\"\n",
      " [1] 561 997 321 153  74 228 146 634  49 128\n",
      "[1] \"Rows of train data and test data:\"\n",
      "[1] 698\n",
      "[1] 300\n"
     ]
    }
   ],
   "source": [
    "#tao train test voi ti le 70 30\n",
    "set.seed(42) # giu lai bo du lieu lan dau tao khi chay lai nhieu lan\n",
    "trainingRowindex <- sample(1:nrow(baseball), 0.7*nrow(baseball))#row indicate for train data\n",
    "print(\"select train row index\")\n",
    "print(trainingRowindex[1:10]) \n",
    "trainingdata <- baseball[trainingRowindex,] #train data\n",
    "testdata <- baseball[-trainingRowindex,] #train data\n",
    "print(\"Rows of train data and test data:\")\n",
    "print(nrow(trainingdata))\n",
    "print(nrow(testdata))"
   ]
  },
  {
   "cell_type": "code",
   "execution_count": 28,
   "metadata": {},
   "outputs": [
    {
     "name": "stdout",
     "output_type": "stream",
     "text": [
      "Call:\n",
      "rpart(formula = Weight ~ Height, data = trainingdata, method = \"anova\")\n",
      "  n= 698 \n",
      "\n",
      "          CP nsplit rel error    xerror       xstd\n",
      "1 0.15717992      0 1.0000000 1.0032151 0.04888121\n",
      "2 0.02896649      1 0.8428201 0.8747585 0.04657139\n",
      "3 0.02483727      2 0.8138536 0.8720701 0.04630771\n",
      "4 0.01126342      3 0.7890163 0.8338157 0.04438520\n",
      "5 0.01000000      4 0.7777529 0.8290693 0.04417677\n",
      "\n",
      "Variable importance\n",
      "Height \n",
      "   100 \n",
      "\n",
      "Node number 1: 698 observations,    complexity param=0.1571799\n",
      "  mean=90.84057, MSE=80.12391 \n",
      "  left son=2 (340 obs) right son=3 (358 obs)\n",
      "  Primary splits:\n",
      "      Height < 1.8669 to the left,  improve=0.1571799, (0 missing)\n",
      "\n",
      "Node number 2: 340 observations,    complexity param=0.02483727\n",
      "  mean=87.19906, MSE=62.91233 \n",
      "  left son=4 (223 obs) right son=5 (117 obs)\n",
      "  Primary splits:\n",
      "      Height < 1.8415 to the left,  improve=0.06493916, (0 missing)\n",
      "\n",
      "Node number 3: 358 observations,    complexity param=0.02896649\n",
      "  mean=94.29899, MSE=71.91557 \n",
      "  left son=6 (226 obs) right son=7 (132 obs)\n",
      "  Primary splits:\n",
      "      Height < 1.9177 to the left,  improve=0.06292272, (0 missing)\n",
      "\n",
      "Node number 4: 223 observations,    complexity param=0.01126342\n",
      "  mean=85.73499, MSE=58.39945 \n",
      "  left son=8 (53 obs) right son=9 (170 obs)\n",
      "  Primary splits:\n",
      "      Height < 1.7907 to the left,  improve=0.04836978, (0 missing)\n",
      "\n",
      "Node number 5: 117 observations\n",
      "  mean=89.98955, MSE=59.64148 \n",
      "\n",
      "Node number 6: 226 observations\n",
      "  mean=92.67326, MSE=64.91579 \n",
      "\n",
      "Node number 7: 132 observations\n",
      "  mean=97.08243, MSE=71.62737 \n",
      "\n",
      "Node number 8: 53 observations\n",
      "  mean=82.72491, MSE=46.68662 \n",
      "\n",
      "Node number 9: 170 observations\n",
      "  mean=86.67343, MSE=58.34567 \n",
      "\n",
      "n= 698 \n",
      "\n",
      "node), split, n, deviance, yval\n",
      "      * denotes terminal node\n",
      "\n",
      "1) root 698 55926.490 90.84057  \n",
      "  2) Height< 1.8669 340 21390.190 87.19906  \n",
      "    4) Height< 1.8415 223 13023.080 85.73499  \n",
      "      8) Height< 1.7907 53  2474.391 82.72491 *\n",
      "      9) Height>=1.7907 170  9918.763 86.67343 *\n",
      "    5) Height>=1.8415 117  6978.054 89.98955 *\n",
      "  3) Height>=1.8669 358 25745.780 94.29899  \n",
      "    6) Height< 1.9177 226 14670.970 92.67326 *\n",
      "    7) Height>=1.9177 132  9454.813 97.08243 *\n"
     ]
    }
   ],
   "source": [
    "#build model\n",
    "baseball.tree <- rpart(Weight~Height, data = trainingdata, method = \"anova\")\n",
    "print(summary(baseball.tree))"
   ]
  },
  {
   "cell_type": "code",
   "execution_count": 29,
   "metadata": {},
   "outputs": [
    {
     "data": {
      "image/png": "[encoded data removed]",
      "text/plain": [
       "plot without title"
      ]
     },
     "metadata": {},
     "output_type": "display_data"
    }
   ],
   "source": [
    "#draw tree\n",
    "prp(baseball.tree, type = 2, extra = \"auto\", nn = TRUE, branch = 1, varlen = 0, yesno = 2)"
   ]
  },
  {
   "cell_type": "code",
   "execution_count": 30,
   "metadata": {},
   "outputs": [],
   "source": [
    "#test model\n",
    "pred_new = predict(baseball.tree, testdata, type = \"vector\")"
   ]
  },
  {
   "cell_type": "code",
   "execution_count": 31,
   "metadata": {},
   "outputs": [
    {
     "name": "stdout",
     "output_type": "stream",
     "text": [
      "[1] \"mse in test: 57.8497168055646\"\n"
     ]
    }
   ],
   "source": [
    "#mean square error\n",
    "mse_Test = mean((testdata$Weight - pred_new)^2)\n",
    "print(paste(\"mse in test:\", mse_Test))"
   ]
  },
  {
   "cell_type": "code",
   "execution_count": 32,
   "metadata": {},
   "outputs": [
    {
     "name": "stdout",
     "output_type": "stream",
     "text": [
      "       1        2        3 \n",
      "82.72491 86.67343 97.08243 \n"
     ]
    }
   ],
   "source": [
    "#new predictions\n",
    "x <- c(1.775, 1.825, 1.925)\n",
    "y1 <- predict(baseball.tree, data.frame(Height = x), type = \"vector\")\n",
    "print(y1)"
   ]
  },
  {
   "cell_type": "code",
   "execution_count": null,
   "metadata": {},
   "outputs": [],
   "source": []
  }
 ],
 "metadata": {
  "kernelspec": {
   "display_name": "R",
   "language": "R",
   "name": "ir"
  },
  "language_info": {
   "codemirror_mode": "r",
   "file_extension": ".r",
   "mimetype": "text/x-r-source",
   "name": "R",
   "pygments_lexer": "r",
   "version": "3.6.1"
  }
 },
 "nbformat": 4,
 "nbformat_minor": 2
}
