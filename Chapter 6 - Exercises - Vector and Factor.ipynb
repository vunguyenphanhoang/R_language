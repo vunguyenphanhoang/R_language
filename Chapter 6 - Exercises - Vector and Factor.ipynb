{
 "cells": [
  {
   "cell_type": "markdown",
   "metadata": {},
   "source": [
    "### EX1: Vector Friends"
   ]
  },
  {
   "cell_type": "code",
   "execution_count": 1,
   "metadata": {},
   "outputs": [
    {
     "name": "stdout",
     "output_type": "stream",
     "text": [
      "Input your friends'name : Yen\n",
      " Continue: 1, Stop: !1 :1\n",
      "Input your friends'name : Thuy\n",
      " Continue: 1, Stop: !1 :0\n"
     ]
    }
   ],
   "source": [
    "names.vector <- c(\"Ha\", \"Hang\", \"Thu\")\n",
    "\n",
    "repeat{\n",
    "    len <- length(names.vector)\n",
    "    names.vector[len+1] <- readline(prompt = \"Input your friends'name : \")\n",
    "    continue <- as.integer(readline(prompt = \" Continue: 1, Stop: !1 :\"))\n",
    "    if(continue !=1){\n",
    "        break\n",
    "    }\n",
    "}"
   ]
  },
  {
   "cell_type": "code",
   "execution_count": 19,
   "metadata": {},
   "outputs": [
    {
     "name": "stdout",
     "output_type": "stream",
     "text": [
      "[1] \"Co 5  nguoi ban la:  Ha, Hang, Thu, Yen, Thuy\"\n",
      "[1] \"Ten hai nguoi ban dau tien la: Ha, Hang\"\n",
      "[1] \"Ten nguoi ban thu 2 va thu 3 la: Hang, Thu\"\n",
      "[1] \"Ten hai nguoi ban cuoi la: Yen, Thuy\"\n",
      "[1] \"Sap xep danh sach tang dan: Ha, Hang, Thu, Thuy, Yen\"\n",
      "[1] \"Sap xep danh sach giam dan: Yen, Thuy, Thu, Hang, Ha\"\n"
     ]
    }
   ],
   "source": [
    "#Trong vector co bao nhieu ban. In ten cua cac ban trong vector\n",
    "print(paste(\"Co\", length(names.vector), \" nguoi ban la: \", toString(names.vector)))\n",
    "#Ten 2 nguoi ban dau\n",
    "print(paste(\"Ten hai nguoi ban dau tien la:\", toString(names.vector[1:2] )))\n",
    "#Ten nguoi ban thu 2 va thu 3\n",
    "print(paste(\"Ten nguoi ban thu 2 va thu 3 la:\", toString(names.vector[2:3] )))\n",
    "#Ten 2 nguoi ban cuoi\n",
    "len <- length(names.vector)\n",
    "print(paste(\"Ten hai nguoi ban cuoi la:\", toString(names.vector[(len -1):len] )))\n",
    "#Sap xep danh sach tang dan\n",
    "print(paste(\"Sap xep danh sach tang dan:\", toString(sort(names.vector))))\n",
    "#Sap xep danh sach giam dan\n",
    "print(paste(\"Sap xep danh sach giam dan:\", toString(sort(names.vector, decreasing = TRUE))))"
   ]
  },
  {
   "cell_type": "markdown",
   "metadata": {},
   "source": [
    "### Ex2: Vector Numbers"
   ]
  },
  {
   "cell_type": "code",
   "execution_count": 3,
   "metadata": {},
   "outputs": [
    {
     "name": "stdout",
     "output_type": "stream",
     "text": [
      "[1] \"vec1 : 2, 5, 8, 12, 16\"\n",
      "[1] \"vec2 : 5, 6, 7, 8, 9\"\n",
      "[1] \"vec3 : -3, -1, 1, 4, 7\"\n"
     ]
    }
   ],
   "source": [
    "vec1 <- c(2,5,8,12,16)\n",
    "vec2 <- c(5:9)\n",
    "#Vec3 = vec1 - vec2\n",
    "vec3 <- vec1 - vec2\n",
    "print(paste(\"vec1 :\", toString(vec1)))\n",
    "print(paste(\"vec2 :\", toString(vec2)))\n",
    "print(paste(\"vec3 :\", toString(vec3)))"
   ]
  },
  {
   "cell_type": "code",
   "execution_count": 26,
   "metadata": {},
   "outputs": [
    {
     "name": "stdout",
     "output_type": "stream",
     "text": [
      "[1] \"Vec4 = 2, 4, 6, 8, 10, 12, 14, 16, 18, 20, 22, 24, 26, 28, 30, 32, 34, 36, 38, 40, 42, 44, 46, 48, 50, 52, 54, 56, 58, 60, 62, 64, 66, 68, 70, 72, 74, 76, 78, 80, 82, 84, 86, 88, 90, 92, 94, 96, 98, 100, 102, 104, 106, 108, 110, 112, 114, 116, 118, 120, 122, 124, 126, 128, 130, 132, 134, 136, 138, 140, 142, 144, 146, 148, 150, 152, 154, 156, 158, 160, 162, 164, 166, 168, 170, 172, 174, 176, 178, 180, 182, 184, 186, 188, 190, 192, 194, 196, 198, 200\"\n",
      "[1] \"Gia tri cac phan tu vi tri 5,10,15,20 =  10, 20, 30, 40\"\n",
      "[1] \"Gia tri cac phan tu vi tri tu 10 den 30 =  20, 22, 24, 26, 28, 30, 32, 34, 36, 38, 40, 42, 44, 46, 48, 50, 52, 54, 56, 58, 60\"\n"
     ]
    }
   ],
   "source": [
    "#vec4 co 100 phan tu, bat dau = 2, moi phan tu cach nhau 2\n",
    "vec4 <- seq(2,length.out = 100, by = 2)\n",
    "print(paste(\"Vec4 =\", toString(vec4)))\n",
    "print(paste(\"Gia tri cac phan tu vi tri 5,10,15,20 = \", toString(vec4[c(5,10,15,20)])))\n",
    "print(paste(\"Gia tri cac phan tu vi tri tu 10 den 30 = \", toString(vec4[10:30])))"
   ]
  },
  {
   "cell_type": "markdown",
   "metadata": {},
   "source": [
    "### Ex3: Vector Alphabets"
   ]
  },
  {
   "cell_type": "code",
   "execution_count": 37,
   "metadata": {},
   "outputs": [
    {
     "name": "stdout",
     "output_type": "stream",
     "text": [
      "[1] \"Alphabets:  a, b, c, d, e, f, g, h, i, j, k, l, m, n, o, p, q, r, s, t, u, v, w, x, y, z\"\n",
      "[1] \"Vowels:  a, e, i, o, u\"\n",
      "[1] \"Consonants:  b, c, d, f, g, h, j, k, l, m, n, p, q, r, s, t, v, w, x, y, z\"\n",
      "[1] \"Consonants & Vowels:  ba, ce, di, fo, gu, ha, je, ki, lo, mu, na, pe, qi, ro, su, ta, ve, wi, xo, yu, za\"\n"
     ]
    }
   ],
   "source": [
    "#Tao vector chua bang chu cai tieng anh\n",
    "alphabet <- letters[]\n",
    "vowel <- c('a','e','i','o','u')\n",
    "consonant <- alphabet[!(alphabet %in% vowel)]\n",
    "string <- sub(\" \",\"\",paste(consonant,vowel))\n",
    "print(paste(\"Alphabets: \", toString(alphabet)))\n",
    "print(paste(\"Vowels: \", toString(vowel)))\n",
    "print(paste(\"Consonants: \", toString(consonant)))\n",
    "print(paste(\"Consonants & Vowels: \", toString(string)))"
   ]
  },
  {
   "cell_type": "markdown",
   "metadata": {},
   "source": [
    "### Ex4: Factor Numbers"
   ]
  },
  {
   "cell_type": "code",
   "execution_count": 24,
   "metadata": {},
   "outputs": [
    {
     "name": "stdout",
     "output_type": "stream",
     "text": [
      "[1] \"vector (X) : 1, 2, 3, 3, 5, 3, 2, 4, NA, 11, 22, 47, 47, 11, 47, 11\"\n",
      "[1] \"Cac levels trong factor :  1, 2, 3, 4, 5, 11, 22, 47\"\n",
      "[1] \"So levels trong factor: 8\"\n"
     ]
    }
   ],
   "source": [
    "X <- c(1,2,3,3,5,3,2,4,NA,11,22,47,47,11,47,11)\n",
    "print(paste(\"vector (X) :\", toString(X)))\n",
    "#Tao factor tu vector\n",
    "f <- factor(X)\n",
    "#In cac level trong factor\n",
    "print(paste(\"Cac levels trong factor : \", toString(levels(f))))\n",
    "#In so luong level trong factor\n",
    "print(paste(\"So levels trong factor:\", nlevels(f)))"
   ]
  },
  {
   "cell_type": "markdown",
   "metadata": {},
   "source": [
    "### Ex5: Factor Strings"
   ]
  },
  {
   "cell_type": "code",
   "execution_count": 41,
   "metadata": {},
   "outputs": [
    {
     "name": "stdout",
     "output_type": "stream",
     "text": [
      "[1] \"Levels in factor: high, low, medium\"\n",
      "[1] \"Number of Levels in factor: 3\"\n"
     ]
    }
   ],
   "source": [
    "#Tao vector\n",
    "v1 <- c(\"low\",\"high\",\"medium\",\"high\",\"low\",\"medium\",\"high\")\n",
    "v1.factor <- factor(v1)\n",
    "print(paste(\"Levels in factor:\", toString(levels(v1.factor))))\n",
    "print(paste(\"Number of Levels in factor:\", toString(nlevels(v1.factor))))"
   ]
  },
  {
   "cell_type": "code",
   "execution_count": 42,
   "metadata": {},
   "outputs": [
    {
     "name": "stdout",
     "output_type": "stream",
     "text": [
      "[1] \"Levels in factor after add 'medium high': high, low, medium, medium high\"\n",
      "[1] \"Number of Levels in factor after add 'medium high': 4\"\n"
     ]
    }
   ],
   "source": [
    "#Add new level medium high\n",
    "level_v1.factor <- levels(v1.factor)\n",
    "nlevel_v1.factor <- nlevels(v1.factor)\n",
    "level_v1.factor[nlevel_v1.factor+1] <- \"medium high\"\n",
    "v1.factor <- factor(v1, levels = level_v1.factor)\n",
    "print(paste(\"Levels in factor after add 'medium high':\", toString(levels(v1.factor))))\n",
    "print(paste(\"Number of Levels in factor after add 'medium high':\", toString(nlevels(v1.factor))))"
   ]
  },
  {
   "cell_type": "code",
   "execution_count": 45,
   "metadata": {},
   "outputs": [
    {
     "name": "stdout",
     "output_type": "stream",
     "text": [
      "[1] \"Summarize:\"\n",
      "[1] \"high : 3 elements\"\n",
      "[1] \"low : 2 elements\"\n",
      "[1] \"medium : 2 elements\"\n",
      "[1] \"medium high : 0 elements\"\n"
     ]
    }
   ],
   "source": [
    "#Thong ke so luong phan tu trong factor\n",
    "print(\"Summarize:\")\n",
    "for (cur in levels(v1.factor)){\n",
    "    count <- 0\n",
    "    for (item in v1.factor){\n",
    "        if(cur == item){\n",
    "            count <- count + 1\n",
    "        }\n",
    "    }\n",
    "    print (paste(cur, \":\", count, \"elements\"))\n",
    "}"
   ]
  },
  {
   "cell_type": "code",
   "execution_count": null,
   "metadata": {},
   "outputs": [],
   "source": []
  }
 ],
 "metadata": {
  "kernelspec": {
   "display_name": "R",
   "language": "R",
   "name": "ir"
  },
  "language_info": {
   "codemirror_mode": "r",
   "file_extension": ".r",
   "mimetype": "text/x-r-source",
   "name": "R",
   "pygments_lexer": "r",
   "version": "3.6.1"
  }
 },
 "nbformat": 4,
 "nbformat_minor": 2
}
