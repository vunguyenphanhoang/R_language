{
 "cells": [
  {
   "cell_type": "markdown",
   "metadata": {},
   "source": [
    "### Ex1: Painters school - PIE"
   ]
  },
  {
   "cell_type": "code",
   "execution_count": 1,
   "metadata": {},
   "outputs": [],
   "source": [
    "#Su dung thu vien MASS\n",
    "library('MASS')"
   ]
  },
  {
   "cell_type": "code",
   "execution_count": 2,
   "metadata": {},
   "outputs": [
    {
     "name": "stdout",
     "output_type": "stream",
     "text": [
      "              Composition Drawing Colour Expression School\n",
      "Da Udine               10       8     16          3      A\n",
      "Da Vinci               15      16      4         14      A\n",
      "Del Piombo              8      13     16          7      A\n",
      "Del Sarto              12      16      9          8      A\n",
      "Fr. Penni               0      15      8          0      A\n",
      "Guilio Romano          15      16      4         14      A\n",
      "[1] \"Class of painters: data.frame\"\n",
      "[1] \"No rows of painters: 54\"\n",
      "[1] \"No columns of painters: 5\"\n"
     ]
    }
   ],
   "source": [
    "#Doc du lieu painters. Cho biet kieu du lieu, so dong, so cot\n",
    "print(head(painters))\n",
    "print(paste(\"Class of painters:\",class(painters)))\n",
    "print(paste(\"No rows of painters:\", nrow(painters)))\n",
    "print(paste(\"No columns of painters:\", ncol(painters)))"
   ]
  },
  {
   "cell_type": "code",
   "execution_count": 3,
   "metadata": {},
   "outputs": [
    {
     "name": "stdout",
     "output_type": "stream",
     "text": [
      "[1] \"Class of school: factor\"\n"
     ]
    },
    {
     "data": {
      "text/html": [
       "<ol class=list-inline>\n",
       "\t<li>A</li>\n",
       "\t<li>A</li>\n",
       "\t<li>A</li>\n",
       "\t<li>A</li>\n",
       "\t<li>A</li>\n",
       "\t<li>A</li>\n",
       "\t<li>A</li>\n",
       "\t<li>A</li>\n",
       "\t<li>A</li>\n",
       "\t<li>A</li>\n",
       "\t<li>B</li>\n",
       "\t<li>B</li>\n",
       "\t<li>B</li>\n",
       "\t<li>B</li>\n",
       "\t<li>B</li>\n",
       "\t<li>B</li>\n",
       "\t<li>C</li>\n",
       "\t<li>C</li>\n",
       "\t<li>C</li>\n",
       "\t<li>C</li>\n",
       "\t<li>C</li>\n",
       "\t<li>C</li>\n",
       "\t<li>D</li>\n",
       "\t<li>D</li>\n",
       "\t<li>D</li>\n",
       "\t<li>D</li>\n",
       "\t<li>D</li>\n",
       "\t<li>D</li>\n",
       "\t<li>D</li>\n",
       "\t<li>D</li>\n",
       "\t<li>D</li>\n",
       "\t<li>D</li>\n",
       "\t<li>E</li>\n",
       "\t<li>E</li>\n",
       "\t<li>E</li>\n",
       "\t<li>E</li>\n",
       "\t<li>E</li>\n",
       "\t<li>E</li>\n",
       "\t<li>E</li>\n",
       "\t<li>F</li>\n",
       "\t<li>F</li>\n",
       "\t<li>F</li>\n",
       "\t<li>F</li>\n",
       "\t<li>G</li>\n",
       "\t<li>G</li>\n",
       "\t<li>G</li>\n",
       "\t<li>G</li>\n",
       "\t<li>G</li>\n",
       "\t<li>G</li>\n",
       "\t<li>G</li>\n",
       "\t<li>H</li>\n",
       "\t<li>H</li>\n",
       "\t<li>H</li>\n",
       "\t<li>H</li>\n",
       "</ol>\n",
       "\n",
       "<details>\n",
       "\t<summary style=display:list-item;cursor:pointer>\n",
       "\t\t<strong>Levels</strong>:\n",
       "\t</summary>\n",
       "\t<ol class=list-inline>\n",
       "\t\t<li>'A'</li>\n",
       "\t\t<li>'B'</li>\n",
       "\t\t<li>'C'</li>\n",
       "\t\t<li>'D'</li>\n",
       "\t\t<li>'E'</li>\n",
       "\t\t<li>'F'</li>\n",
       "\t\t<li>'G'</li>\n",
       "\t\t<li>'H'</li>\n",
       "\t</ol>\n",
       "</details>"
      ],
      "text/latex": [
       "\\begin{enumerate*}\n",
       "\\item A\n",
       "\\item A\n",
       "\\item A\n",
       "\\item A\n",
       "\\item A\n",
       "\\item A\n",
       "\\item A\n",
       "\\item A\n",
       "\\item A\n",
       "\\item A\n",
       "\\item B\n",
       "\\item B\n",
       "\\item B\n",
       "\\item B\n",
       "\\item B\n",
       "\\item B\n",
       "\\item C\n",
       "\\item C\n",
       "\\item C\n",
       "\\item C\n",
       "\\item C\n",
       "\\item C\n",
       "\\item D\n",
       "\\item D\n",
       "\\item D\n",
       "\\item D\n",
       "\\item D\n",
       "\\item D\n",
       "\\item D\n",
       "\\item D\n",
       "\\item D\n",
       "\\item D\n",
       "\\item E\n",
       "\\item E\n",
       "\\item E\n",
       "\\item E\n",
       "\\item E\n",
       "\\item E\n",
       "\\item E\n",
       "\\item F\n",
       "\\item F\n",
       "\\item F\n",
       "\\item F\n",
       "\\item G\n",
       "\\item G\n",
       "\\item G\n",
       "\\item G\n",
       "\\item G\n",
       "\\item G\n",
       "\\item G\n",
       "\\item H\n",
       "\\item H\n",
       "\\item H\n",
       "\\item H\n",
       "\\end{enumerate*}\n",
       "\n",
       "\\emph{Levels}: \\begin{enumerate*}\n",
       "\\item 'A'\n",
       "\\item 'B'\n",
       "\\item 'C'\n",
       "\\item 'D'\n",
       "\\item 'E'\n",
       "\\item 'F'\n",
       "\\item 'G'\n",
       "\\item 'H'\n",
       "\\end{enumerate*}\n"
      ],
      "text/markdown": [
       "1. A\n",
       "2. A\n",
       "3. A\n",
       "4. A\n",
       "5. A\n",
       "6. A\n",
       "7. A\n",
       "8. A\n",
       "9. A\n",
       "10. A\n",
       "11. B\n",
       "12. B\n",
       "13. B\n",
       "14. B\n",
       "15. B\n",
       "16. B\n",
       "17. C\n",
       "18. C\n",
       "19. C\n",
       "20. C\n",
       "21. C\n",
       "22. C\n",
       "23. D\n",
       "24. D\n",
       "25. D\n",
       "26. D\n",
       "27. D\n",
       "28. D\n",
       "29. D\n",
       "30. D\n",
       "31. D\n",
       "32. D\n",
       "33. E\n",
       "34. E\n",
       "35. E\n",
       "36. E\n",
       "37. E\n",
       "38. E\n",
       "39. E\n",
       "40. F\n",
       "41. F\n",
       "42. F\n",
       "43. F\n",
       "44. G\n",
       "45. G\n",
       "46. G\n",
       "47. G\n",
       "48. G\n",
       "49. G\n",
       "50. G\n",
       "51. H\n",
       "52. H\n",
       "53. H\n",
       "54. H\n",
       "\n",
       "\n",
       "\n",
       "**Levels**: 1. 'A'\n",
       "2. 'B'\n",
       "3. 'C'\n",
       "4. 'D'\n",
       "5. 'E'\n",
       "6. 'F'\n",
       "7. 'G'\n",
       "8. 'H'\n",
       "\n",
       "\n"
      ],
      "text/plain": [
       " [1] A A A A A A A A A A B B B B B B C C C C C C D D D D D D D D D D E E E E E E\n",
       "[39] E F F F F G G G G G G G H H H H\n",
       "Levels: A B C D E F G H"
      ]
     },
     "metadata": {},
     "output_type": "display_data"
    }
   ],
   "source": [
    "#Lay du lieu school trong painters\n",
    "school <- painters$School\n",
    "print(paste(\"Class of school:\",class(school)))\n",
    "school"
   ]
  },
  {
   "cell_type": "code",
   "execution_count": 4,
   "metadata": {},
   "outputs": [
    {
     "name": "stdout",
     "output_type": "stream",
     "text": [
      "[1] \"Class of school after converting: table\"\n"
     ]
    }
   ],
   "source": [
    "#Chuyen school thanh table. In ket qua\n",
    "school <- table(school)\n",
    "print(paste(\"Class of school after converting:\", class(school)))"
   ]
  },
  {
   "cell_type": "code",
   "execution_count": 5,
   "metadata": {},
   "outputs": [
    {
     "data": {
      "text/plain": [
       "school\n",
       " A  B  C  D  E  F  G  H \n",
       "10  6  6 10  7  4  7  4 "
      ]
     },
     "metadata": {},
     "output_type": "display_data"
    }
   ],
   "source": [
    "school"
   ]
  },
  {
   "cell_type": "code",
   "execution_count": 6,
   "metadata": {},
   "outputs": [],
   "source": [
    "#Ve pie chart\n",
    "library('plotrix')"
   ]
  },
  {
   "cell_type": "code",
   "execution_count": 7,
   "metadata": {},
   "outputs": [
    {
     "data": {
      "image/png": "[encoded data removed]",
      "text/plain": [
       "plot without title"
      ]
     },
     "metadata": {},
     "output_type": "display_data"
    }
   ],
   "source": [
    "pie(school)"
   ]
  },
  {
   "cell_type": "code",
   "execution_count": 8,
   "metadata": {},
   "outputs": [
    {
     "data": {
      "image/png": "[encoded data removed]",
      "text/plain": [
       "plot without title"
      ]
     },
     "metadata": {},
     "output_type": "display_data"
    }
   ],
   "source": [
    "#Ve pie chart voi cac mau tu chon\n",
    "#nrow(school)\n",
    "colors <- c('red', 'orange','yellow','green','blue', 'plum','violet','purple')\n",
    "pie(school, col = colors)"
   ]
  },
  {
   "cell_type": "markdown",
   "metadata": {},
   "source": [
    "### Ex2: PIE 3D"
   ]
  },
  {
   "cell_type": "code",
   "execution_count": 9,
   "metadata": {},
   "outputs": [],
   "source": [
    "library('plotrix')"
   ]
  },
  {
   "cell_type": "code",
   "execution_count": 10,
   "metadata": {},
   "outputs": [],
   "source": [
    "tree_species <- c(\"Beech\", \"Chestnut\",\"Hawthorn\",\"Red maple\", \"Witch Hazel\", \"Yellow Birch\")\n",
    "number_of_trees <- c(2,2,1,4,1,1)"
   ]
  },
  {
   "cell_type": "code",
   "execution_count": 11,
   "metadata": {},
   "outputs": [
    {
     "data": {
      "text/html": [
       "<ol class=list-inline>\n",
       "\t<li>18.2</li>\n",
       "\t<li>18.2</li>\n",
       "\t<li>9.1</li>\n",
       "\t<li>36.4</li>\n",
       "\t<li>9.1</li>\n",
       "\t<li>9.1</li>\n",
       "</ol>\n"
      ],
      "text/latex": [
       "\\begin{enumerate*}\n",
       "\\item 18.2\n",
       "\\item 18.2\n",
       "\\item 9.1\n",
       "\\item 36.4\n",
       "\\item 9.1\n",
       "\\item 9.1\n",
       "\\end{enumerate*}\n"
      ],
      "text/markdown": [
       "1. 18.2\n",
       "2. 18.2\n",
       "3. 9.1\n",
       "4. 36.4\n",
       "5. 9.1\n",
       "6. 9.1\n",
       "\n",
       "\n"
      ],
      "text/plain": [
       "[1] 18.2 18.2  9.1 36.4  9.1  9.1"
      ]
     },
     "metadata": {},
     "output_type": "display_data"
    }
   ],
   "source": [
    "#Tinh piepercent\n",
    "piepercent <- round(100*number_of_trees/sum(number_of_trees),1)\n",
    "piepercent"
   ]
  },
  {
   "cell_type": "code",
   "execution_count": 12,
   "metadata": {},
   "outputs": [
    {
     "data": {
      "image/png": "[encoded data removed]",
      "text/plain": [
       "Plot with title \"Number of Trees of each spieces\""
      ]
     },
     "metadata": {},
     "output_type": "display_data"
    }
   ],
   "source": [
    "#Ve pie 3D\n",
    "pie3D(piepercent, labels = piepercent, main = \"Number of Trees of each spieces\", col = rainbow(length(tree_species)))\n",
    "legend(\"topright\", tree_species, cex = 0.8, fill = rainbow(length(tree_species)))"
   ]
  },
  {
   "cell_type": "code",
   "execution_count": 16,
   "metadata": {},
   "outputs": [
    {
     "data": {
      "image/png": "[encoded data removed]",
      "text/plain": [
       "Plot with title \"Number of trees of each spiecies\""
      ]
     },
     "metadata": {},
     "output_type": "display_data"
    }
   ],
   "source": [
    "# Ve barchart\n",
    "barplot(number_of_trees, xlab = \"Tree spieces\", ylab = \"Number of trees\", main = \"Number of trees of each spiecies\", \n",
    "        names.arg = tree_species, col= \"green\")"
   ]
  },
  {
   "cell_type": "markdown",
   "metadata": {},
   "source": [
    "### Ex3: BAR Chart nhóm cột"
   ]
  },
  {
   "cell_type": "code",
   "execution_count": 17,
   "metadata": {},
   "outputs": [],
   "source": [
    "#Cho du lieu\n",
    "year <- c(2014, 2015, 2016, 2017) \n",
    "first_fallen <- c(309, 271, 263, 255) \n",
    "one_hundred_fallen <- c(309,314,312,304)"
   ]
  },
  {
   "cell_type": "code",
   "execution_count": 18,
   "metadata": {},
   "outputs": [
    {
     "name": "stdout",
     "output_type": "stream",
     "text": [
      "     first_fallen one_hundred_fallen\n",
      "2014          309                309\n",
      "2015          271                314\n",
      "2016          263                312\n",
      "2017          255                304\n"
     ]
    }
   ],
   "source": [
    "dt <- data.frame(row.names = year, first_fallen,one_hundred_fallen ) \n",
    "print(dt)"
   ]
  },
  {
   "cell_type": "code",
   "execution_count": 19,
   "metadata": {},
   "outputs": [
    {
     "data": {
      "image/png": "[encoded data removed]",
      "text/plain": [
       "Plot with title \"First and last dates of leaf fall in Yellow Birch\""
      ]
     },
     "metadata": {},
     "output_type": "display_data"
    }
   ],
   "source": [
    "barplot(t(as.matrix(dt)), beside = TRUE, main = \"First and last dates of leaf fall in Yellow Birch\", col = c(\"yellow\",\"red\"))\n",
    "legend(\"bottomright\", c(\"first_fallen\",\"100% fallen\"), cex = 0.8, fill = c(\"yellow\",\"red\"))"
   ]
  },
  {
   "cell_type": "markdown",
   "metadata": {},
   "source": [
    "### Ex4: Airquality - Histogram"
   ]
  },
  {
   "cell_type": "code",
   "execution_count": 20,
   "metadata": {},
   "outputs": [
    {
     "data": {
      "text/html": [
       "<table>\n",
       "<thead><tr><th scope=col>Ozone</th><th scope=col>Solar.R</th><th scope=col>Wind</th><th scope=col>Temp</th><th scope=col>Month</th><th scope=col>Day</th></tr></thead>\n",
       "<tbody>\n",
       "\t<tr><td>41  </td><td>190 </td><td> 7.4</td><td>67  </td><td>5   </td><td>1   </td></tr>\n",
       "\t<tr><td>36  </td><td>118 </td><td> 8.0</td><td>72  </td><td>5   </td><td>2   </td></tr>\n",
       "\t<tr><td>12  </td><td>149 </td><td>12.6</td><td>74  </td><td>5   </td><td>3   </td></tr>\n",
       "\t<tr><td>18  </td><td>313 </td><td>11.5</td><td>62  </td><td>5   </td><td>4   </td></tr>\n",
       "\t<tr><td>NA  </td><td> NA </td><td>14.3</td><td>56  </td><td>5   </td><td>5   </td></tr>\n",
       "\t<tr><td>28  </td><td> NA </td><td>14.9</td><td>66  </td><td>5   </td><td>6   </td></tr>\n",
       "</tbody>\n",
       "</table>\n"
      ],
      "text/latex": [
       "\\begin{tabular}{r|llllll}\n",
       " Ozone & Solar.R & Wind & Temp & Month & Day\\\\\n",
       "\\hline\n",
       "\t 41   & 190  &  7.4 & 67   & 5    & 1   \\\\\n",
       "\t 36   & 118  &  8.0 & 72   & 5    & 2   \\\\\n",
       "\t 12   & 149  & 12.6 & 74   & 5    & 3   \\\\\n",
       "\t 18   & 313  & 11.5 & 62   & 5    & 4   \\\\\n",
       "\t NA   &  NA  & 14.3 & 56   & 5    & 5   \\\\\n",
       "\t 28   &  NA  & 14.9 & 66   & 5    & 6   \\\\\n",
       "\\end{tabular}\n"
      ],
      "text/markdown": [
       "\n",
       "| Ozone | Solar.R | Wind | Temp | Month | Day |\n",
       "|---|---|---|---|---|---|\n",
       "| 41   | 190  |  7.4 | 67   | 5    | 1    |\n",
       "| 36   | 118  |  8.0 | 72   | 5    | 2    |\n",
       "| 12   | 149  | 12.6 | 74   | 5    | 3    |\n",
       "| 18   | 313  | 11.5 | 62   | 5    | 4    |\n",
       "| NA   |  NA  | 14.3 | 56   | 5    | 5    |\n",
       "| 28   |  NA  | 14.9 | 66   | 5    | 6    |\n",
       "\n"
      ],
      "text/plain": [
       "  Ozone Solar.R Wind Temp Month Day\n",
       "1 41    190      7.4 67   5     1  \n",
       "2 36    118      8.0 72   5     2  \n",
       "3 12    149     12.6 74   5     3  \n",
       "4 18    313     11.5 62   5     4  \n",
       "5 NA     NA     14.3 56   5     5  \n",
       "6 28     NA     14.9 66   5     6  "
      ]
     },
     "metadata": {},
     "output_type": "display_data"
    },
    {
     "name": "stdout",
     "output_type": "stream",
     "text": [
      "'data.frame':\t153 obs. of  6 variables:\n",
      " $ Ozone  : int  41 36 12 18 NA 28 23 19 8 NA ...\n",
      " $ Solar.R: int  190 118 149 313 NA NA 299 99 19 194 ...\n",
      " $ Wind   : num  7.4 8 12.6 11.5 14.3 14.9 8.6 13.8 20.1 8.6 ...\n",
      " $ Temp   : int  67 72 74 62 56 66 65 59 61 69 ...\n",
      " $ Month  : int  5 5 5 5 5 5 5 5 5 5 ...\n",
      " $ Day    : int  1 2 3 4 5 6 7 8 9 10 ...\n"
     ]
    }
   ],
   "source": [
    "#In thong tin du lieu airquality\n",
    "head(airquality)\n",
    "str(airquality)      "
   ]
  },
  {
   "cell_type": "code",
   "execution_count": 21,
   "metadata": {},
   "outputs": [
    {
     "name": "stdout",
     "output_type": "stream",
     "text": [
      "  [1] 67 72 74 62 56 66 65 59 61 69 74 69 66 68 58 64 66 57 68 62 59 73 61 61 57\n",
      " [26] 58 57 67 81 79 76 78 74 67 84 85 79 82 87 90 87 93 92 82 80 79 77 72 65 73\n",
      " [51] 76 77 76 76 76 75 78 73 80 77 83 84 85 81 84 83 83 88 92 92 89 82 73 81 91\n",
      " [76] 80 81 82 84 87 85 74 81 82 86 85 82 86 88 86 83 81 81 81 82 86 85 87 89 90\n",
      "[101] 90 92 86 86 82 80 79 77 79 76 78 78 77 72 75 79 81 86 88 97 94 96 94 91 92\n",
      "[126] 93 93 87 84 80 78 75 73 81 76 77 71 71 78 67 76 68 82 64 71 81 69 63 70 77\n",
      "[151] 75 76 68\n"
     ]
    }
   ],
   "source": [
    "#Tao bien chua du lieu temp\n",
    "temp <- airquality$Temp\n",
    "print(temp)"
   ]
  },
  {
   "cell_type": "code",
   "execution_count": 22,
   "metadata": {},
   "outputs": [
    {
     "data": {
      "text/plain": [
       "temp\n",
       "56 57 58 59 61 62 63 64 65 66 67 68 69 70 71 72 73 74 75 76 77 78 79 80 81 82 \n",
       " 1  3  2  2  3  2  1  2  2  3  4  4  3  1  3  3  5  4  4  9  7  6  6  5 11  9 \n",
       "83 84 85 86 87 88 89 90 91 92 93 94 96 97 \n",
       " 4  5  5  7  5  3  2  3  2  5  3  2  1  1 "
      ]
     },
     "metadata": {},
     "output_type": "display_data"
    }
   ],
   "source": [
    "table(temp)"
   ]
  },
  {
   "cell_type": "code",
   "execution_count": 23,
   "metadata": {},
   "outputs": [
    {
     "data": {
      "image/png": "[encoded data removed]",
      "text/plain": [
       "Plot with title \"Daily temperature\""
      ]
     },
     "metadata": {},
     "output_type": "display_data"
    }
   ],
   "source": [
    "#Ve histogram lien quan den bien temp nay voi so cot phan chia du lieu la 5\n",
    "hist(temp, xlab = \"temporary\", main = \"Daily temperature\", xlim = c(min(temp) - 20, max(temp) + 10), ylim = c(0,100), breaks = 5, col = \"yellow\")"
   ]
  },
  {
   "cell_type": "code",
   "execution_count": 29,
   "metadata": {},
   "outputs": [
    {
     "data": {
      "image/png": "[encoded data removed]",
      "text/plain": [
       "Plot with title \"Daily temperature\""
      ]
     },
     "metadata": {},
     "output_type": "display_data"
    }
   ],
   "source": [
    "#Ve histogram thay truc tung tu frequency -> truc tung la density\n",
    "hist(temp, xlab = \"temporary\", main = \"Daily temperature\", xlim = c(min(temp) - 20, max(temp) + 10), \n",
    "      col = \"orange\", freq = FALSE)"
   ]
  },
  {
   "cell_type": "code",
   "execution_count": 42,
   "metadata": {},
   "outputs": [
    {
     "data": {
      "image/png": "[encoded data removed]",
      "text/plain": [
       "Plot with title \"Daily temperature\""
      ]
     },
     "metadata": {},
     "output_type": "display_data"
    }
   ],
   "source": [
    "# Hay ve mot do thi co so luong mau tren moi cot (co 9 cot)\n",
    "h <- hist(temp, xlab = \"temporary\", main = \"Daily temperature\", xlim = c(min(temp) - 20, max(temp) + 10), \n",
    "     breaks = 9, col = \"orange\")\n",
    "text(h$mids,h$counts,labels=h$counts, adj=c(0.5, -0.5))"
   ]
  },
  {
   "cell_type": "markdown",
   "metadata": {},
   "source": [
    "### Ex5: AirPassengers - Histogram"
   ]
  },
  {
   "cell_type": "code",
   "execution_count": 44,
   "metadata": {},
   "outputs": [
    {
     "name": "stderr",
     "output_type": "stream",
     "text": [
      "Your code contains a unicode char which cannot be displayed in your\n",
      "current locale and R will silently convert it to an escaped form when the\n",
      "R kernel executes this code. This can lead to subtle errors if you use\n",
      "such chars to do comparisons. For more information, please see\n",
      "https://github.com/IRkernel/repr/wiki/Problems-with-unicode-on-windows"
     ]
    },
    {
     "name": "stdout",
     "output_type": "stream",
     "text": [
      "     Jan Feb Mar Apr May Jun Jul Aug Sep Oct Nov Dec\n",
      "1949 112 118 132 129 121 135 148 148 136 119 104 118\n",
      "1950 115 126 141 135 125 149 170 170 158 133 114 140\n",
      "1951 145 150 178 163 172 178 199 199 184 162 146 166\n",
      "1952 171 180 193 181 183 218 230 242 209 191 172 194\n",
      "1953 196 196 236 235 229 243 264 272 237 211 180 201\n",
      "1954 204 188 235 227 234 264 302 293 259 229 203 229\n",
      "1955 242 233 267 269 270 315 364 347 312 274 237 278\n",
      "1956 284 277 317 313 318 374 413 405 355 306 271 306\n",
      "1957 315 301 356 348 355 422 465 467 404 347 305 336\n",
      "1958 340 318 362 348 363 435 491 505 404 359 310 337\n",
      "1959 360 342 406 396 420 472 548 559 463 407 362 405\n",
      "1960 417 391 419 461 472 535 622 606 508 461 390 432\n",
      " Time-Series [1:144] from 1949 to 1961: 112 118 132 129 121 135 148 148 136 119 ...\n"
     ]
    }
   ],
   "source": [
    "#Sử dụng dữ liệu AirPassengers \n",
    "#In thông tin về dữ liệu này \n",
    "print(AirPassengers)\n",
    "str(AirPassengers)   "
   ]
  },
  {
   "cell_type": "code",
   "execution_count": 54,
   "metadata": {},
   "outputs": [
    {
     "name": "stderr",
     "output_type": "stream",
     "text": [
      "Your code contains a unicode char which cannot be displayed in your\n",
      "current locale and R will silently convert it to an escaped form when the\n",
      "R kernel executes this code. This can lead to subtle errors if you use\n",
      "such chars to do comparisons. For more information, please see\n",
      "https://github.com/IRkernel/repr/wiki/Problems-with-unicode-on-windows"
     ]
    },
    {
     "data": {
      "image/png": "[encoded data removed]",
      "text/plain": [
       "Plot with title \"Histogram of AIR Passengers\""
      ]
     },
     "metadata": {},
     "output_type": "display_data"
    }
   ],
   "source": [
    "#Vẽ histogram thể hiện thông tin AirPassengers với 10 khoảng (cột), màu cầu vồng, dùng density\n",
    "h <- hist(AirPassengers, xlab = \"No of Air Passengers\", main = \"Histogram of AIR Passengers\", xlim = c(min(AirPassengers) - 20, max(AirPassengers) + 100),\n",
    "          breaks = 10, col = rainbow(10), freq = FALSE, las = 1)\n",
    "lines(density(AirPassengers))"
   ]
  },
  {
   "cell_type": "markdown",
   "metadata": {},
   "source": [
    "### Ex6: Chol - Histogram"
   ]
  },
  {
   "cell_type": "code",
   "execution_count": 56,
   "metadata": {},
   "outputs": [
    {
     "name": "stderr",
     "output_type": "stream",
     "text": [
      "Your code contains a unicode char which cannot be displayed in your\n",
      "current locale and R will silently convert it to an escaped form when the\n",
      "R kernel executes this code. This can lead to subtle errors if you use\n",
      "such chars to do comparisons. For more information, please see\n",
      "https://github.com/IRkernel/repr/wiki/Problems-with-unicode-on-windows"
     ]
    },
    {
     "data": {
      "text/html": [
       "<table>\n",
       "<thead><tr><th scope=col>AGE</th><th scope=col>HEIGHT</th><th scope=col>WEIGHT</th><th scope=col>CHOL</th><th scope=col>SMOKE</th><th scope=col>BLOOD</th><th scope=col>MORT</th></tr></thead>\n",
       "<tbody>\n",
       "\t<tr><td>20    </td><td>176   </td><td>77    </td><td>195   </td><td>nonsmo</td><td>b     </td><td>alive </td></tr>\n",
       "\t<tr><td>53    </td><td>167   </td><td>56    </td><td>250   </td><td>sigare</td><td>o     </td><td>dead  </td></tr>\n",
       "\t<tr><td>44    </td><td>170   </td><td>80    </td><td>304   </td><td>sigare</td><td>a     </td><td>dead  </td></tr>\n",
       "\t<tr><td>37    </td><td>173   </td><td>89    </td><td>178   </td><td>nonsmo</td><td>o     </td><td>alive </td></tr>\n",
       "\t<tr><td>26    </td><td>170   </td><td>71    </td><td>206   </td><td>sigare</td><td>o     </td><td>alive </td></tr>\n",
       "\t<tr><td>41    </td><td>165   </td><td>62    </td><td>284   </td><td>sigare</td><td>o     </td><td>alive </td></tr>\n",
       "</tbody>\n",
       "</table>\n"
      ],
      "text/latex": [
       "\\begin{tabular}{r|lllllll}\n",
       " AGE & HEIGHT & WEIGHT & CHOL & SMOKE & BLOOD & MORT\\\\\n",
       "\\hline\n",
       "\t 20     & 176    & 77     & 195    & nonsmo & b      & alive \\\\\n",
       "\t 53     & 167    & 56     & 250    & sigare & o      & dead  \\\\\n",
       "\t 44     & 170    & 80     & 304    & sigare & a      & dead  \\\\\n",
       "\t 37     & 173    & 89     & 178    & nonsmo & o      & alive \\\\\n",
       "\t 26     & 170    & 71     & 206    & sigare & o      & alive \\\\\n",
       "\t 41     & 165    & 62     & 284    & sigare & o      & alive \\\\\n",
       "\\end{tabular}\n"
      ],
      "text/markdown": [
       "\n",
       "| AGE | HEIGHT | WEIGHT | CHOL | SMOKE | BLOOD | MORT |\n",
       "|---|---|---|---|---|---|---|\n",
       "| 20     | 176    | 77     | 195    | nonsmo | b      | alive  |\n",
       "| 53     | 167    | 56     | 250    | sigare | o      | dead   |\n",
       "| 44     | 170    | 80     | 304    | sigare | a      | dead   |\n",
       "| 37     | 173    | 89     | 178    | nonsmo | o      | alive  |\n",
       "| 26     | 170    | 71     | 206    | sigare | o      | alive  |\n",
       "| 41     | 165    | 62     | 284    | sigare | o      | alive  |\n",
       "\n"
      ],
      "text/plain": [
       "  AGE HEIGHT WEIGHT CHOL SMOKE  BLOOD MORT \n",
       "1 20  176    77     195  nonsmo b     alive\n",
       "2 53  167    56     250  sigare o     dead \n",
       "3 44  170    80     304  sigare a     dead \n",
       "4 37  173    89     178  nonsmo o     alive\n",
       "5 26  170    71     206  sigare o     alive\n",
       "6 41  165    62     284  sigare o     alive"
      ]
     },
     "metadata": {},
     "output_type": "display_data"
    }
   ],
   "source": [
    "#Cung cấp tập tin chol.txt \n",
    "#Đọc nội dung tập tin vào \n",
    "chol <- read.table(\"Chapter 12\\\\LDS7_Data_Day_6\\\\chol.txt\", header = TRUE)\n",
    "head(chol)"
   ]
  },
  {
   "cell_type": "code",
   "execution_count": 57,
   "metadata": {},
   "outputs": [
    {
     "name": "stderr",
     "output_type": "stream",
     "text": [
      "Your code contains a unicode char which cannot be displayed in your\n",
      "current locale and R will silently convert it to an escaped form when the\n",
      "R kernel executes this code. This can lead to subtle errors if you use\n",
      "such chars to do comparisons. For more information, please see\n",
      "https://github.com/IRkernel/repr/wiki/Problems-with-unicode-on-windows"
     ]
    },
    {
     "name": "stdout",
     "output_type": "stream",
     "text": [
      "[1] \"data.frame\"\n",
      "'data.frame':\t200 obs. of  7 variables:\n",
      " $ AGE   : int  20 53 44 37 26 41 39 28 33 39 ...\n",
      " $ HEIGHT: int  176 167 170 173 170 165 174 171 180 166 ...\n",
      " $ WEIGHT: int  77 56 80 89 71 62 75 68 100 74 ...\n",
      " $ CHOL  : int  195 250 304 178 206 284 232 152 209 150 ...\n",
      " $ SMOKE : Factor w/ 3 levels \"nonsmo\",\"pipe\",..: 1 3 3 1 3 3 3 2 3 3 ...\n",
      " $ BLOOD : Factor w/ 4 levels \"a\",\"ab\",\"b\",\"o\": 3 4 1 4 4 4 4 1 1 1 ...\n",
      " $ MORT  : Factor w/ 2 levels \"alive\",\"dead\": 1 2 2 1 1 1 1 1 1 1 ...\n"
     ]
    }
   ],
   "source": [
    "#Cho biết kiểu của nội dung\n",
    "#In thông tin nội dung\n",
    "print(class(chol))\n",
    "str(chol)"
   ]
  },
  {
   "cell_type": "code",
   "execution_count": 61,
   "metadata": {},
   "outputs": [
    {
     "name": "stderr",
     "output_type": "stream",
     "text": [
      "Your code contains a unicode char which cannot be displayed in your\n",
      "current locale and R will silently convert it to an escaped form when the\n",
      "R kernel executes this code. This can lead to subtle errors if you use\n",
      "such chars to do comparisons. For more information, please see\n",
      "https://github.com/IRkernel/repr/wiki/Problems-with-unicode-on-windows"
     ]
    },
    {
     "data": {
      "image/png": "[encoded data removed]",
      "text/plain": [
       "Plot with title \"Histogram of Age\""
      ]
     },
     "metadata": {},
     "output_type": "display_data"
    }
   ],
   "source": [
    "#Vẽ histogram thể hiện thông tin AGE, có gắn thông tin số lượng trên mỗi cột\n",
    "chol_age <- hist(chol$AGE, xlab = \"Age\", main = \"Histogram of Age\", xlim = c(min(chol$AGE) - 20, max(chol$AGE) + 50), col = rainbow(10), las = 1)\n",
    "text(chol_age$mids,chol_age$counts,labels=chol_age$counts, adj=c(0.5, -0.5))"
   ]
  },
  {
   "cell_type": "markdown",
   "metadata": {},
   "source": [
    "### Ex7: Leaves had fallen - Line graph"
   ]
  },
  {
   "cell_type": "code",
   "execution_count": 1,
   "metadata": {},
   "outputs": [],
   "source": [
    "#Tao du lieu\n",
    "years <- c(2014, 2015, 2016, 2017) \n",
    "first_fallen <- c(309, 271, 263, 255) \n",
    "one_hundred_fallen <- c(309,314,312,304)"
   ]
  },
  {
   "cell_type": "code",
   "execution_count": 16,
   "metadata": {},
   "outputs": [
    {
     "data": {
      "image/png": "[encoded data removed]",
      "text/plain": [
       "Plot with title \"First fallen & One hundread fallen\""
      ]
     },
     "metadata": {},
     "output_type": "display_data"
    }
   ],
   "source": [
    "g_range <- range(first_fallen, one_hundred_fallen)\n",
    "plot(first_fallen, type = \"o\", col = \"red\", xlab = \"year\", ylab = \"numbers\", ylim = g_range, \n",
    "     main = \"First fallen & One hundread fallen\", xaxt='n')\n",
    "axis(1, at = 1:4 ,labels = years)\n",
    "box()\n",
    "lines(one_hundred_fallen, type = \"o\", col = \"blue\")\n",
    "legend(\"bottomleft\", c(\"first_fallen\",\"one_hundred_fallen\"),  fill = c(\"red\",\"blue\"))"
   ]
  },
  {
   "cell_type": "markdown",
   "metadata": {},
   "source": [
    "### Ex8: Tech_com Line graph"
   ]
  },
  {
   "cell_type": "code",
   "execution_count": 19,
   "metadata": {},
   "outputs": [
    {
     "data": {
      "text/html": [
       "<table>\n",
       "<thead><tr><th scope=col>Company</th><th scope=col>Women..all</th><th scope=col>Women..tech.</th><th scope=col>Men..all.</th><th scope=col>Men..tech.</th></tr></thead>\n",
       "<tbody>\n",
       "\t<tr><td>Facebook</td><td>32      </td><td>16      </td><td>84      </td><td>68      </td></tr>\n",
       "\t<tr><td>Google  </td><td>30      </td><td>18      </td><td>82      </td><td>70      </td></tr>\n",
       "\t<tr><td>Apple   </td><td>30      </td><td>20      </td><td>80      </td><td>70      </td></tr>\n",
       "\t<tr><td>Yahoo   </td><td>37      </td><td>15      </td><td>85      </td><td>62      </td></tr>\n",
       "</tbody>\n",
       "</table>\n"
      ],
      "text/latex": [
       "\\begin{tabular}{r|lllll}\n",
       " Company & Women..all & Women..tech. & Men..all. & Men..tech.\\\\\n",
       "\\hline\n",
       "\t Facebook & 32       & 16       & 84       & 68      \\\\\n",
       "\t Google   & 30       & 18       & 82       & 70      \\\\\n",
       "\t Apple    & 30       & 20       & 80       & 70      \\\\\n",
       "\t Yahoo    & 37       & 15       & 85       & 62      \\\\\n",
       "\\end{tabular}\n"
      ],
      "text/markdown": [
       "\n",
       "| Company | Women..all | Women..tech. | Men..all. | Men..tech. |\n",
       "|---|---|---|---|---|\n",
       "| Facebook | 32       | 16       | 84       | 68       |\n",
       "| Google   | 30       | 18       | 82       | 70       |\n",
       "| Apple    | 30       | 20       | 80       | 70       |\n",
       "| Yahoo    | 37       | 15       | 85       | 62       |\n",
       "\n"
      ],
      "text/plain": [
       "  Company  Women..all Women..tech. Men..all. Men..tech.\n",
       "1 Facebook 32         16           84        68        \n",
       "2 Google   30         18           82        70        \n",
       "3 Apple    30         20           80        70        \n",
       "4 Yahoo    37         15           85        62        "
      ]
     },
     "metadata": {},
     "output_type": "display_data"
    },
    {
     "name": "stdout",
     "output_type": "stream",
     "text": [
      "[1] \"data.frame\"\n"
     ]
    }
   ],
   "source": [
    "#Doc va hien thi noi dung tap tin tech_comp.csv\n",
    "tech_com <- read.csv(\"Chapter11\\\\Tech_comp.csv\")\n",
    "head(tech_com)\n",
    "print(class(tech_com))"
   ]
  },
  {
   "cell_type": "code",
   "execution_count": 25,
   "metadata": {},
   "outputs": [
    {
     "data": {
      "text/html": [
       "<ol class=list-inline>\n",
       "\t<li>16</li>\n",
       "\t<li>12</li>\n",
       "\t<li>10</li>\n",
       "\t<li>23</li>\n",
       "</ol>\n"
      ],
      "text/latex": [
       "\\begin{enumerate*}\n",
       "\\item 16\n",
       "\\item 12\n",
       "\\item 10\n",
       "\\item 23\n",
       "\\end{enumerate*}\n"
      ],
      "text/markdown": [
       "1. 16\n",
       "2. 12\n",
       "3. 10\n",
       "4. 23\n",
       "\n",
       "\n"
      ],
      "text/plain": [
       "[1] 16 12 10 23"
      ]
     },
     "metadata": {},
     "output_type": "display_data"
    },
    {
     "data": {
      "text/html": [
       "<ol class=list-inline>\n",
       "\t<li>16</li>\n",
       "\t<li>12</li>\n",
       "\t<li>10</li>\n",
       "\t<li>22</li>\n",
       "</ol>\n"
      ],
      "text/latex": [
       "\\begin{enumerate*}\n",
       "\\item 16\n",
       "\\item 12\n",
       "\\item 10\n",
       "\\item 22\n",
       "\\end{enumerate*}\n"
      ],
      "text/markdown": [
       "1. 16\n",
       "2. 12\n",
       "3. 10\n",
       "4. 22\n",
       "\n",
       "\n"
      ],
      "text/plain": [
       "[1] 16 12 10 22"
      ]
     },
     "metadata": {},
     "output_type": "display_data"
    }
   ],
   "source": [
    "#Ve bieu do so sanh men_tech vs men_non_tech; women_tech vs women_non_tech\n",
    "men_non_tech <- tech_com$Men..all. - tech_com$Men..tech.\n",
    "women_non_tech <- tech_com$Women..all - tech_com$Women..tech.\n",
    "men_non_tech\n",
    "women_non_tech"
   ]
  },
  {
   "cell_type": "code",
   "execution_count": 24,
   "metadata": {},
   "outputs": [
    {
     "data": {
      "image/png": "[encoded data removed]",
      "text/plain": [
       "Plot with title \"Tech vs Non Tech in Companies\""
      ]
     },
     "metadata": {},
     "output_type": "display_data"
    }
   ],
   "source": [
    "g_range <- range(0,tech_com$Men..tech., tech_com$Women..tech., men_non_tech, women_non_tech)\n",
    "plot(tech_com$Men..tech., type = \"o\", col = \"red\", xlab = \"Company\", ylab = \"numbers\", ylim = g_range, \n",
    "     main = \"Tech vs Non Tech in Companies\", xaxt='n')\n",
    "axis(1, at = 1:4 ,labels = tech_com$Company)\n",
    "box()\n",
    "lines(tech_com$Women..tech., type = \"o\", col = \"blue\")\n",
    "lines(men_non_tech, type = \"o\", col = \"purple\")\n",
    "lines(women_non_tech, type = \"o\", col = \"yellow\")\n",
    "legend(\"bottomleft\", c(\"Men tech\",\"Women tech\",\"Men non tech\",\"Women non tech\"),  fill = c(\"red\",\"blue\",\"purple\",\"yellow\"))"
   ]
  },
  {
   "cell_type": "markdown",
   "metadata": {},
   "source": [
    "### Ex9: Tech_com Scatter plot"
   ]
  },
  {
   "cell_type": "code",
   "execution_count": 26,
   "metadata": {},
   "outputs": [
    {
     "name": "stdout",
     "output_type": "stream",
     "text": [
      "  eruptions waiting\n",
      "1     3.600      79\n",
      "2     1.800      54\n",
      "3     3.333      74\n",
      "4     2.283      62\n",
      "5     4.533      85\n",
      "6     2.883      55\n",
      "[1] \"data.frame\"\n"
     ]
    }
   ],
   "source": [
    "#Su dung du lieu co san faithful\n",
    "print(head(faithful))\n",
    "print(class(faithful))"
   ]
  },
  {
   "cell_type": "code",
   "execution_count": 28,
   "metadata": {},
   "outputs": [
    {
     "data": {
      "image/png": "[encoded data removed]",
      "text/plain": [
       "plot without title"
      ]
     },
     "metadata": {},
     "output_type": "display_data"
    }
   ],
   "source": [
    "#ve bieu do the hien moi quan he giua eruptions & waiting\n",
    "plot(x = faithful$eruptions, y= faithful$waiting, xlim = c(0,max(faithful$eruptions)), ylim = c(0,max(faithful$waiting)))"
   ]
  },
  {
   "cell_type": "code",
   "execution_count": 32,
   "metadata": {},
   "outputs": [
    {
     "data": {
      "image/png": "[encoded data removed]",
      "text/plain": [
       "plot without title"
      ]
     },
     "metadata": {},
     "output_type": "display_data"
    }
   ],
   "source": [
    "##ve bieu do the hien moi quan he giua eruptions & waiting và regression line\n",
    "plot(x = faithful$eruptions, y= faithful$waiting, xlim = c(0,max(faithful$eruptions)), ylim = c(0,max(faithful$waiting)), col = \"blue\")\n",
    "abline(lm(faithful$waiting ~ faithful$eruptions ), col = \"red\")"
   ]
  },
  {
   "cell_type": "code",
   "execution_count": null,
   "metadata": {},
   "outputs": [],
   "source": []
  }
 ],
 "metadata": {
  "kernelspec": {
   "display_name": "R",
   "language": "R",
   "name": "ir"
  },
  "language_info": {
   "codemirror_mode": "r",
   "file_extension": ".r",
   "mimetype": "text/x-r-source",
   "name": "R",
   "pygments_lexer": "r",
   "version": "3.6.1"
  }
 },
 "nbformat": 4,
 "nbformat_minor": 2
}
