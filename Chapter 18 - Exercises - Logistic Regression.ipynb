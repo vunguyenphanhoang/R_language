{
 "cells": [
  {
   "cell_type": "markdown",
   "metadata": {},
   "source": [
    "## Ex1: Diabetes"
   ]
  },
  {
   "cell_type": "code",
   "execution_count": 1,
   "metadata": {},
   "outputs": [
    {
     "data": {
      "text/html": [
       "<table>\n",
       "<thead><tr><th scope=col>Pregnancies</th><th scope=col>Glucose</th><th scope=col>BloodPressure</th><th scope=col>SkinThickness</th><th scope=col>Insulin</th><th scope=col>BMI</th><th scope=col>DiabetesPedigreeFunction</th><th scope=col>Age</th><th scope=col>Outcome</th></tr></thead>\n",
       "<tbody>\n",
       "\t<tr><td>6    </td><td>148  </td><td>72   </td><td>35   </td><td>  0  </td><td>33.6 </td><td>0.627</td><td>50   </td><td>1    </td></tr>\n",
       "\t<tr><td>1    </td><td> 85  </td><td>66   </td><td>29   </td><td>  0  </td><td>26.6 </td><td>0.351</td><td>31   </td><td>0    </td></tr>\n",
       "\t<tr><td>8    </td><td>183  </td><td>64   </td><td> 0   </td><td>  0  </td><td>23.3 </td><td>0.672</td><td>32   </td><td>1    </td></tr>\n",
       "\t<tr><td>1    </td><td> 89  </td><td>66   </td><td>23   </td><td> 94  </td><td>28.1 </td><td>0.167</td><td>21   </td><td>0    </td></tr>\n",
       "\t<tr><td>0    </td><td>137  </td><td>40   </td><td>35   </td><td>168  </td><td>43.1 </td><td>2.288</td><td>33   </td><td>1    </td></tr>\n",
       "\t<tr><td>5    </td><td>116  </td><td>74   </td><td> 0   </td><td>  0  </td><td>25.6 </td><td>0.201</td><td>30   </td><td>0    </td></tr>\n",
       "</tbody>\n",
       "</table>\n"
      ],
      "text/latex": [
       "\\begin{tabular}{r|lllllllll}\n",
       " Pregnancies & Glucose & BloodPressure & SkinThickness & Insulin & BMI & DiabetesPedigreeFunction & Age & Outcome\\\\\n",
       "\\hline\n",
       "\t 6     & 148   & 72    & 35    &   0   & 33.6  & 0.627 & 50    & 1    \\\\\n",
       "\t 1     &  85   & 66    & 29    &   0   & 26.6  & 0.351 & 31    & 0    \\\\\n",
       "\t 8     & 183   & 64    &  0    &   0   & 23.3  & 0.672 & 32    & 1    \\\\\n",
       "\t 1     &  89   & 66    & 23    &  94   & 28.1  & 0.167 & 21    & 0    \\\\\n",
       "\t 0     & 137   & 40    & 35    & 168   & 43.1  & 2.288 & 33    & 1    \\\\\n",
       "\t 5     & 116   & 74    &  0    &   0   & 25.6  & 0.201 & 30    & 0    \\\\\n",
       "\\end{tabular}\n"
      ],
      "text/markdown": [
       "\n",
       "| Pregnancies | Glucose | BloodPressure | SkinThickness | Insulin | BMI | DiabetesPedigreeFunction | Age | Outcome |\n",
       "|---|---|---|---|---|---|---|---|---|\n",
       "| 6     | 148   | 72    | 35    |   0   | 33.6  | 0.627 | 50    | 1     |\n",
       "| 1     |  85   | 66    | 29    |   0   | 26.6  | 0.351 | 31    | 0     |\n",
       "| 8     | 183   | 64    |  0    |   0   | 23.3  | 0.672 | 32    | 1     |\n",
       "| 1     |  89   | 66    | 23    |  94   | 28.1  | 0.167 | 21    | 0     |\n",
       "| 0     | 137   | 40    | 35    | 168   | 43.1  | 2.288 | 33    | 1     |\n",
       "| 5     | 116   | 74    |  0    |   0   | 25.6  | 0.201 | 30    | 0     |\n",
       "\n"
      ],
      "text/plain": [
       "  Pregnancies Glucose BloodPressure SkinThickness Insulin BMI \n",
       "1 6           148     72            35              0     33.6\n",
       "2 1            85     66            29              0     26.6\n",
       "3 8           183     64             0              0     23.3\n",
       "4 1            89     66            23             94     28.1\n",
       "5 0           137     40            35            168     43.1\n",
       "6 5           116     74             0              0     25.6\n",
       "  DiabetesPedigreeFunction Age Outcome\n",
       "1 0.627                    50  1      \n",
       "2 0.351                    31  0      \n",
       "3 0.672                    32  1      \n",
       "4 0.167                    21  0      \n",
       "5 2.288                    33  1      \n",
       "6 0.201                    30  0      "
      ]
     },
     "metadata": {},
     "output_type": "display_data"
    }
   ],
   "source": [
    "mydata <- read.csv(\"Chapter 18-19\\\\diabetes.csv\")\n",
    "head(mydata)"
   ]
  },
  {
   "cell_type": "code",
   "execution_count": 2,
   "metadata": {},
   "outputs": [
    {
     "name": "stdout",
     "output_type": "stream",
     "text": [
      "    Pregnancies Glucose BloodPressure SkinThickness Insulin  BMI\n",
      "763           9      89            62             0       0 22.5\n",
      "764          10     101            76            48     180 32.9\n",
      "765           2     122            70            27       0 36.8\n",
      "766           5     121            72            23     112 26.2\n",
      "767           1     126            60             0       0 30.1\n",
      "768           1      93            70            31       0 30.4\n",
      "    DiabetesPedigreeFunction Age Outcome\n",
      "763                    0.142  33       0\n",
      "764                    0.171  63       0\n",
      "765                    0.340  27       0\n",
      "766                    0.245  30       0\n",
      "767                    0.349  47       1\n",
      "768                    0.315  23       0\n",
      "[1] \"No rows:  768\"\n",
      "[1] \"No columns:  9\"\n",
      "  Pregnancies        Glucose      BloodPressure    SkinThickness  \n",
      " Min.   : 0.000   Min.   :  0.0   Min.   :  0.00   Min.   : 0.00  \n",
      " 1st Qu.: 1.000   1st Qu.: 99.0   1st Qu.: 62.00   1st Qu.: 0.00  \n",
      " Median : 3.000   Median :117.0   Median : 72.00   Median :23.00  \n",
      " Mean   : 3.845   Mean   :120.9   Mean   : 69.11   Mean   :20.54  \n",
      " 3rd Qu.: 6.000   3rd Qu.:140.2   3rd Qu.: 80.00   3rd Qu.:32.00  \n",
      " Max.   :17.000   Max.   :199.0   Max.   :122.00   Max.   :99.00  \n",
      "    Insulin           BMI        DiabetesPedigreeFunction      Age       \n",
      " Min.   :  0.0   Min.   : 0.00   Min.   :0.0780           Min.   :21.00  \n",
      " 1st Qu.:  0.0   1st Qu.:27.30   1st Qu.:0.2437           1st Qu.:24.00  \n",
      " Median : 30.5   Median :32.00   Median :0.3725           Median :29.00  \n",
      " Mean   : 79.8   Mean   :31.99   Mean   :0.4719           Mean   :33.24  \n",
      " 3rd Qu.:127.2   3rd Qu.:36.60   3rd Qu.:0.6262           3rd Qu.:41.00  \n",
      " Max.   :846.0   Max.   :67.10   Max.   :2.4200           Max.   :81.00  \n",
      "    Outcome     \n",
      " Min.   :0.000  \n",
      " 1st Qu.:0.000  \n",
      " Median :0.000  \n",
      " Mean   :0.349  \n",
      " 3rd Qu.:1.000  \n",
      " Max.   :1.000  \n"
     ]
    }
   ],
   "source": [
    "#Xem thong tin\n",
    "print(tail(mydata))\n",
    "print(paste(\"No rows: \", nrow(mydata)))\n",
    "print(paste(\"No columns: \", ncol(mydata)))\n",
    "print(summary(mydata))"
   ]
  },
  {
   "cell_type": "code",
   "execution_count": 3,
   "metadata": {},
   "outputs": [
    {
     "name": "stdout",
     "output_type": "stream",
     "text": [
      "'data.frame':\t768 obs. of  9 variables:\n",
      " $ Pregnancies             : int  6 1 8 1 0 5 3 10 2 8 ...\n",
      " $ Glucose                 : int  148 85 183 89 137 116 78 115 197 125 ...\n",
      " $ BloodPressure           : int  72 66 64 66 40 74 50 0 70 96 ...\n",
      " $ SkinThickness           : int  35 29 0 23 35 0 32 0 45 0 ...\n",
      " $ Insulin                 : int  0 0 0 94 168 0 88 0 543 0 ...\n",
      " $ BMI                     : num  33.6 26.6 23.3 28.1 43.1 25.6 31 35.3 30.5 0 ...\n",
      " $ DiabetesPedigreeFunction: num  0.627 0.351 0.672 0.167 2.288 ...\n",
      " $ Age                     : int  50 31 32 21 33 30 26 29 53 54 ...\n",
      " $ Outcome                 : int  1 0 1 0 1 0 1 0 1 1 ...\n"
     ]
    }
   ],
   "source": [
    "str(mydata)"
   ]
  },
  {
   "cell_type": "code",
   "execution_count": 4,
   "metadata": {},
   "outputs": [
    {
     "name": "stderr",
     "output_type": "stream",
     "text": [
      "Warning message:\n",
      "\"package 'corrplot' was built under R version 3.6.3\"corrplot 0.84 loaded\n"
     ]
    }
   ],
   "source": [
    "library('corrplot')"
   ]
  },
  {
   "cell_type": "code",
   "execution_count": 5,
   "metadata": {},
   "outputs": [
    {
     "name": "stderr",
     "output_type": "stream",
     "text": [
      "Warning message:\n",
      "\"package 'Amelia' was built under R version 3.6.3\"Loading required package: Rcpp\n",
      "## \n",
      "## Amelia II: Multiple Imputation\n",
      "## (Version 1.7.6, built: 2019-11-24)\n",
      "## Copyright (C) 2005-2020 James Honaker, Gary King and Matthew Blackwell\n",
      "## Refer to http://gking.harvard.edu/amelia/ for more information\n",
      "## \n"
     ]
    },
    {
     "data": {
      "image/png": "[encoded data removed]",
      "text/plain": [
       "Plot with title \"Missing values vs observerd\""
      ]
     },
     "metadata": {},
     "output_type": "display_data"
    }
   ],
   "source": [
    "#check missing values\n",
    "library(Amelia)\n",
    "missmap(mydata, main = \"Missing values vs observerd\")"
   ]
  },
  {
   "cell_type": "code",
   "execution_count": 6,
   "metadata": {},
   "outputs": [
    {
     "data": {
      "image/png": "[encoded data removed]",
      "text/plain": [
       "Plot with title \"Age\""
      ]
     },
     "metadata": {},
     "output_type": "display_data"
    }
   ],
   "source": [
    "#Xem outlier\n",
    "par(mfrow = c(2,4) ) #divide graph area in 2 columns\n",
    "boxplot(mydata$Pregnancies, main = \"Pregnancies\",\n",
    "       sub = paste(\"Outliers rows:\", boxplot.stats(mydata$Pregnancies)$out))\n",
    "boxplot(mydata$Glucose, main = \"Glucose\",\n",
    "       sub = paste(\"Outliers rows:\", boxplot.stats(mydata$Glucose)$out))\n",
    "boxplot(mydata$BloodPressure, main = \"BloodPressure\",\n",
    "       sub = paste(\"Outliers rows:\", boxplot.stats(mydata$BloodPressure)$out))\n",
    "boxplot(mydata$SkinThickness, main = \"SkinThickness\",\n",
    "       sub = paste(\"Outliers rows:\", boxplot.stats(mydata$SkinThickness)$out))\n",
    "boxplot(mydata$Insulin, main = \"Insulin\",\n",
    "       sub = paste(\"Outliers rows:\", boxplot.stats(mydata$Insulin)$out))\n",
    "boxplot(mydata$BMI, main = \"BMI\",\n",
    "       sub = paste(\"Outliers rows:\", boxplot.stats(mydata$BMI)$out))\n",
    "boxplot(mydata$DiabetesPedigreeFunction, main = \"DiabetesPedigreeFunction\",\n",
    "       sub = paste(\"Outliers rows:\", boxplot.stats(mydata$DiabetesPedigreeFunction)$out))\n",
    "boxplot(mydata$Age, main = \"Age\",\n",
    "       sub = paste(\"Outliers rows:\", boxplot.stats(mydata$Age)$out))"
   ]
  },
  {
   "cell_type": "markdown",
   "metadata": {},
   "source": [
    "**Tất cả thuộc tính đều có outliers**"
   ]
  },
  {
   "cell_type": "code",
   "execution_count": 7,
   "metadata": {},
   "outputs": [],
   "source": [
    "#Loai bo outliers\n",
    "pregnancy_outliers <- boxplot.stats(mydata$Pregnancies)$out\n",
    "glucose_outliers <- boxplot.stats(mydata$Glucose)$out\n",
    "blood_outliers <- boxplot.stats(mydata$BloodPressure)$out\n",
    "skin_outliers <- boxplot.stats(mydata$SkinThickness)$out\n",
    "insulin_outliers <- boxplot.stats(mydata$Insulin)$out\n",
    "bmi_outliers <- boxplot.stats(mydata$BMI)$out\n",
    "diabe_outliers <- boxplot.stats(mydata$DiabetesPedigreeFunction)$out\n",
    "age_outliers <- boxplot.stats(mydata$Age)$out"
   ]
  },
  {
   "cell_type": "code",
   "execution_count": 8,
   "metadata": {},
   "outputs": [
    {
     "name": "stdout",
     "output_type": "stream",
     "text": [
      "[1] \"Befor drop: 768\"\n",
      "[1] \"After drop: 639\"\n"
     ]
    }
   ],
   "source": [
    "#Drop rows have outliers\n",
    "print(paste(\"Befor drop:\", nrow(mydata)))\n",
    "for (record in pregnancy_outliers) {\n",
    "    mydata <- mydata[mydata$Pregnancies != record,]\n",
    "}\n",
    "for (record in glucose_outliers) {\n",
    "    mydata <- mydata[mydata$Glucose != record,]\n",
    "}\n",
    "for (record in blood_outliers) {\n",
    "    mydata <- mydata[mydata$BloodPressure != record,]\n",
    "}\n",
    "for (record in skin_outliers) {\n",
    "    mydata <- mydata[mydata$SkinThickness != record,]\n",
    "}\n",
    "for (record in insulin_outliers) {\n",
    "    mydata <- mydata[mydata$Insulin != record,]\n",
    "}\n",
    "for (record in diabe_outliers) {\n",
    "    mydata <- mydata[mydata$DiabetesPedigreeFunction != record,]\n",
    "}\n",
    "for (record in bmi_outliers) {\n",
    "    mydata <- mydata[mydata$BMI != record,]\n",
    "}\n",
    "for (record in age_outliers) {\n",
    "    mydata <- mydata[mydata$Age != record,]\n",
    "}\n",
    "print(paste(\"After drop:\", nrow(mydata)))"
   ]
  },
  {
   "cell_type": "code",
   "execution_count": 9,
   "metadata": {},
   "outputs": [
    {
     "name": "stdout",
     "output_type": "stream",
     "text": [
      "                          Pregnancies      Glucose BloodPressure SkinThickness\n",
      "Pregnancies               1.000000000  0.142092517    0.21066621  -0.094424883\n",
      "Glucose                   0.142092517  1.000000000    0.23875395  -0.004609418\n",
      "BloodPressure             0.210666213  0.238753951    1.00000000   0.037387877\n",
      "SkinThickness            -0.094424883 -0.004609418    0.03738788   1.000000000\n",
      "Insulin                  -0.114509967  0.248224910   -0.04151341   0.487565719\n",
      "BMI                       0.036958384  0.192504027    0.30330108   0.390340123\n",
      "DiabetesPedigreeFunction  0.009289255  0.066530243    0.02429020   0.148486222\n",
      "Age                       0.567437572  0.286681756    0.35403561  -0.143375999\n",
      "Outcome                   0.227986634  0.492740046    0.18329784   0.030675629\n",
      "                             Insulin        BMI DiabetesPedigreeFunction\n",
      "Pregnancies              -0.11450997 0.03695838              0.009289255\n",
      "Glucose                   0.24822491 0.19250403              0.066530243\n",
      "BloodPressure            -0.04151341 0.30330108              0.024290197\n",
      "SkinThickness             0.48756572 0.39034012              0.148486222\n",
      "Insulin                   1.00000000 0.18863500              0.213190744\n",
      "BMI                       0.18863500 1.00000000              0.144757166\n",
      "DiabetesPedigreeFunction  0.21319074 0.14475717              1.000000000\n",
      "Age                      -0.08953490 0.06336980              0.030080766\n",
      "Outcome                   0.09774559 0.26937130              0.179072499\n",
      "                                 Age    Outcome\n",
      "Pregnancies               0.56743757 0.22798663\n",
      "Glucose                   0.28668176 0.49274005\n",
      "BloodPressure             0.35403561 0.18329784\n",
      "SkinThickness            -0.14337600 0.03067563\n",
      "Insulin                  -0.08953490 0.09774559\n",
      "BMI                       0.06336980 0.26937130\n",
      "DiabetesPedigreeFunction  0.03008077 0.17907250\n",
      "Age                       1.00000000 0.26334387\n",
      "Outcome                   0.26334387 1.00000000\n"
     ]
    },
    {
     "data": {
      "image/png": "[encoded data removed]",
      "text/plain": [
       "Plot with title \"\""
      ]
     },
     "metadata": {},
     "output_type": "display_data"
    }
   ],
   "source": [
    "#TInh correlation giua moi cap numeric variables\n",
    "correlations <- cor(mydata[,1:9])\n",
    "print(correlations)\n",
    "corrplot(correlations, method = \"circle\")"
   ]
  },
  {
   "cell_type": "code",
   "execution_count": 10,
   "metadata": {},
   "outputs": [
    {
     "name": "stdout",
     "output_type": "stream",
     "text": [
      "[1] \"select train row index\"\n",
      "  [1] 600 294 540  22 635 396  92 488 319 167 273 299 409  57 631  71 543  21\n",
      " [19] 262 603 609 166 410 290 517 501 196 190 155 220 504 402 569 506 582 386\n",
      " [37] 358 530 629 242 213 295 459 456 466 130 463 438 377  98 550 292 378 185\n",
      " [55] 110 361  89 442  73 256 621 494 125 226 398 245  23 142 291 275 369 373\n",
      " [73] 309 168 333 634 154 153 537 165  63 310 230 347 444 485 552 114 134 565\n",
      " [91]  19 483   6   1 128   7 132 413 414 304  41 106 602 158 381  48 244 382\n",
      "[109]  40 632 559 420 464  39 516 547 493 341 237 184 251 399 257 235 313 186\n",
      "[127] 287   2 411 334 145 179 542 279 116 146 283 578 395 580 583 214 416  61\n",
      "[145] 250 383 449  20 335 121 470 365 329 431 423 617 239 439  62  96 441 133\n",
      "[163]  35 477  25 296 613 387 500 234 227 608  42 139 460 623 176 551 170 443\n",
      "[181] 129 238 615  69 392 532 293  56 461 636 589  49 407 445 122  79 422 417\n",
      "[199] 218 357 306 202 258  52 346  54 221 351  18  51  59 433 498 595 219  50\n",
      "[217] 601 480 248 571 182 598 246 252 281 217 228 303 171 412 554 314 240 465\n",
      "[235] 305 100 548  83  33 482 487 620 562 519 195 363 161 486 630 419 447 138\n",
      "[253] 592 286 428 148 127  32 325 575 117 566 564  77 612 200 260 253 103 491\n",
      "[271] 380 362  88  38 611 364 136 367 123 353 446  26 499 508 599 404 160 157\n",
      "[289] 225 156  53 119 545 282 514 473 331 339  65 216 549 328 115 479 269 481\n",
      "[307] 204 327  86 563  78 553  31 511 490 394 525 163 497 458 264 297   4  29\n",
      "[325] 450 531  34 573 208 249  93 342  16 150 149 619 451 390 503 274 289 544\n",
      "[343] 429 616 614 521  95 236 605 118 151 301 259 374 224  75 124  60  15 524\n",
      "[361] 512 152 518 263 144 360 135 188 366 233  70 472 355   8 384  27 141 140\n",
      "[379]  66 372 174 475 270 284 457 354 434 243 618 546 343 223 207 198  64 492\n",
      "[397] 522 585 312 147 455 205 172 587 424 126 385 454 555 194 180 391 397 452\n",
      "[415] 425 317 285 137  10 222 471 561 370 495 340 356 210  11 322 324  37 164\n",
      "[433] 534 271 330  76 201 437 421 590 568 311  12 627 581 111 376\n",
      "[1] \"Rows of train data and test data:\"\n",
      "[1] 447\n",
      "[1] 192\n"
     ]
    }
   ],
   "source": [
    "#Tao tao traing & test\n",
    "#set.seed(42) # giu lai bo du lieu lan dau tao khi chay lai nhieu lan\n",
    "trainingRowindex <- sample(1:nrow(mydata),  size = 0.7*nrow(mydata), replace = FALSE)#row indicate for train data, replace= FALSE khong co bo mau nao trung voi bo mau nao\n",
    "print(\"select train row index\")\n",
    "print(trainingRowindex) \n",
    "trainingdata <- mydata[trainingRowindex,] #train data\n",
    "testdata <- mydata[-trainingRowindex,] #train data\n",
    "print(\"Rows of train data and test data:\")\n",
    "print(nrow(trainingdata))\n",
    "print(nrow(testdata))"
   ]
  },
  {
   "cell_type": "code",
   "execution_count": 11,
   "metadata": {},
   "outputs": [
    {
     "name": "stdout",
     "output_type": "stream",
     "text": [
      "\n",
      "Call:\n",
      "glm(formula = Outcome ~ ., family = \"binomial\", data = trainingdata)\n",
      "\n",
      "Deviance Residuals: \n",
      "    Min       1Q   Median       3Q      Max  \n",
      "-2.3102  -0.7044  -0.4008   0.6224   2.4693  \n",
      "\n",
      "Coefficients:\n",
      "                          Estimate Std. Error z value Pr(>|z|)    \n",
      "(Intercept)              -9.724385   1.118994  -8.690  < 2e-16 ***\n",
      "Pregnancies               0.058700   0.045542   1.289  0.19742    \n",
      "Glucose                   0.037881   0.005149   7.357 1.88e-13 ***\n",
      "BloodPressure            -0.010293   0.012625  -0.815  0.41489    \n",
      "SkinThickness            -0.004413   0.010018  -0.441  0.65956    \n",
      "Insulin                  -0.001952   0.001887  -1.035  0.30079    \n",
      "BMI                       0.119807   0.024806   4.830 1.37e-06 ***\n",
      "DiabetesPedigreeFunction  1.470846   0.492662   2.986  0.00283 ** \n",
      "Age                       0.013164   0.013900   0.947  0.34360    \n",
      "---\n",
      "Signif. codes:  0 '***' 0.001 '**' 0.01 '*' 0.05 '.' 0.1 ' ' 1\n",
      "\n",
      "(Dispersion parameter for binomial family taken to be 1)\n",
      "\n",
      "    Null deviance: 554.16  on 446  degrees of freedom\n",
      "Residual deviance: 400.06  on 438  degrees of freedom\n",
      "AIC: 418.06\n",
      "\n",
      "Number of Fisher Scoring iterations: 5\n",
      "\n"
     ]
    }
   ],
   "source": [
    "#Xay mo hinh\n",
    "mylogit <- glm(Outcome ~ ., data = trainingdata, family = \"binomial\")\n",
    "print(summary(mylogit))"
   ]
  },
  {
   "cell_type": "code",
   "execution_count": 12,
   "metadata": {},
   "outputs": [],
   "source": [
    "pred = predict(mylogit, newdata = testdata, type = \"response\")"
   ]
  },
  {
   "cell_type": "code",
   "execution_count": 13,
   "metadata": {},
   "outputs": [
    {
     "name": "stdout",
     "output_type": "stream",
     "text": [
      "[1] \"Testdata admit vs predict (10 rows:)\"\n",
      "    testAdmin pred_value.30.40.\n",
      "117         1                 0\n",
      "120         0                 0\n",
      "123         0                 0\n",
      "127         0                 1\n",
      "128         0                 0\n",
      "130         1                 0\n",
      "131         1                 1\n",
      "133         1                 1\n",
      "134         0                 0\n",
      "135         0                 0\n",
      "138         0                 0\n"
     ]
    }
   ],
   "source": [
    "pred_value <- ifelse(pred > 0.5,1,0)\n",
    "print(\"Testdata admit vs predict (10 rows:)\")\n",
    "result <- data.frame(testAdmin = testdata$Outcome[30:40], pred_value[30:40])\n",
    "print(result)"
   ]
  },
  {
   "cell_type": "code",
   "execution_count": 14,
   "metadata": {},
   "outputs": [
    {
     "name": "stdout",
     "output_type": "stream",
     "text": [
      "117 120 123 127 128 130 131 133 134 135 138 \n",
      "  0   0   0   1   0   0   1   1   0   0   0 \n",
      " [1] 1 0 0 0 0 1 1 1 0 0 0\n"
     ]
    }
   ],
   "source": [
    "print(pred_value[30:40])\n",
    "print(testdata$Outcome[30:40])"
   ]
  },
  {
   "cell_type": "code",
   "execution_count": 15,
   "metadata": {},
   "outputs": [
    {
     "name": "stdout",
     "output_type": "stream",
     "text": [
      "[1] \"Accuracy 1: 0.78125\"\n",
      "[1] \"Accuracy 2: 0.78125\"\n"
     ]
    }
   ],
   "source": [
    "#Tinh toan do chinh xac cua mo hinh\n",
    "#Solution 1\n",
    "accuracy <- table(pred_value, testdata[,\"Outcome\"])\n",
    "accuracy <- sum(diag(accuracy))/sum(accuracy)\n",
    "print(paste(\"Accuracy 1:\", accuracy))\n",
    "#Solution 2\n",
    "misclassficerror <- mean(pred_value != testdata$Outcome)\n",
    "print(paste(\"Accuracy 2:\", 1-misclassficerror))"
   ]
  },
  {
   "cell_type": "code",
   "execution_count": 16,
   "metadata": {},
   "outputs": [
    {
     "name": "stdout",
     "output_type": "stream",
     "text": [
      "[1] \"Pregnancies\"              \"Glucose\"                 \n",
      "[3] \"BloodPressure\"            \"SkinThickness\"           \n",
      "[5] \"Insulin\"                  \"BMI\"                     \n",
      "[7] \"DiabetesPedigreeFunction\" \"Age\"                     \n",
      "[9] \"Outcome\"                 \n"
     ]
    }
   ],
   "source": [
    "#Make new predict\n",
    "# 8, 176, 90, 34, 300, 33.7, 0.467, 58\n",
    "# 1, 100, 66, 15, 56, 23.6, 0.666, 26\n",
    "# 12, 88, 74, 40, 54, 35.3, 0.378, 48\n",
    "print(colnames(testdata))"
   ]
  },
  {
   "cell_type": "code",
   "execution_count": 17,
   "metadata": {},
   "outputs": [],
   "source": [
    "#Du doan\n",
    "y1 <- predict(mylogit, newdata = data.frame(Pregnancies = c(8, 1, 12),\n",
    "                                           Glucose = c(176,100,88),\n",
    "                                           BloodPressure = c(90,66,74),\n",
    "                                           SkinThickness = c(34,15,40),\n",
    "                                           Insulin = c(300,56,54),\n",
    "                                           BMI = c(33.7,23.6,35.3),\n",
    "                                           DiabetesPedigreeFunction = c(0.467,0.666,0.378),\n",
    "                                           Age = c(58,26,48)),\n",
    "             type = \"response\")"
   ]
  },
  {
   "cell_type": "code",
   "execution_count": 18,
   "metadata": {},
   "outputs": [
    {
     "name": "stdout",
     "output_type": "stream",
     "text": [
      "[1] \"result:\"\n",
      "1 2 3 \n",
      "1 0 0 \n"
     ]
    }
   ],
   "source": [
    "y1 <- ifelse(y1 > 0.5, 1, 0)\n",
    "print(\"result:\")\n",
    "print(y1)"
   ]
  },
  {
   "cell_type": "markdown",
   "metadata": {},
   "source": [
    "## Lựa chọn thuộc tính dùng BMA"
   ]
  },
  {
   "cell_type": "code",
   "execution_count": 19,
   "metadata": {},
   "outputs": [
    {
     "data": {
      "text/html": [
       "<ol class=list-inline>\n",
       "\t<li>'Pregnancies'</li>\n",
       "\t<li>'Glucose'</li>\n",
       "\t<li>'BloodPressure'</li>\n",
       "\t<li>'SkinThickness'</li>\n",
       "\t<li>'Insulin'</li>\n",
       "\t<li>'BMI'</li>\n",
       "\t<li>'DiabetesPedigreeFunction'</li>\n",
       "\t<li>'Age'</li>\n",
       "\t<li>'Outcome'</li>\n",
       "</ol>\n"
      ],
      "text/latex": [
       "\\begin{enumerate*}\n",
       "\\item 'Pregnancies'\n",
       "\\item 'Glucose'\n",
       "\\item 'BloodPressure'\n",
       "\\item 'SkinThickness'\n",
       "\\item 'Insulin'\n",
       "\\item 'BMI'\n",
       "\\item 'DiabetesPedigreeFunction'\n",
       "\\item 'Age'\n",
       "\\item 'Outcome'\n",
       "\\end{enumerate*}\n"
      ],
      "text/markdown": [
       "1. 'Pregnancies'\n",
       "2. 'Glucose'\n",
       "3. 'BloodPressure'\n",
       "4. 'SkinThickness'\n",
       "5. 'Insulin'\n",
       "6. 'BMI'\n",
       "7. 'DiabetesPedigreeFunction'\n",
       "8. 'Age'\n",
       "9. 'Outcome'\n",
       "\n",
       "\n"
      ],
      "text/plain": [
       "[1] \"Pregnancies\"              \"Glucose\"                 \n",
       "[3] \"BloodPressure\"            \"SkinThickness\"           \n",
       "[5] \"Insulin\"                  \"BMI\"                     \n",
       "[7] \"DiabetesPedigreeFunction\" \"Age\"                     \n",
       "[9] \"Outcome\"                 "
      ]
     },
     "metadata": {},
     "output_type": "display_data"
    }
   ],
   "source": [
    "cols <- colnames(mydata)\n",
    "cols\n",
    "yvar <- mydata[,('Outcome')]\n",
    "xvar <- mydata[,cols[-9]]"
   ]
  },
  {
   "cell_type": "code",
   "execution_count": 20,
   "metadata": {},
   "outputs": [
    {
     "name": "stderr",
     "output_type": "stream",
     "text": [
      "Warning message:\n",
      "\"package 'BMA' was built under R version 3.6.2\"Loading required package: survival\n",
      "Warning message:\n",
      "\"package 'survival' was built under R version 3.6.3\"Loading required package: leaps\n",
      "Warning message:\n",
      "\"package 'leaps' was built under R version 3.6.2\"Loading required package: robustbase\n",
      "Warning message:\n",
      "\"package 'robustbase' was built under R version 3.6.2\"\n",
      "Attaching package: 'robustbase'\n",
      "\n",
      "The following object is masked from 'package:survival':\n",
      "\n",
      "    heart\n",
      "\n",
      "Loading required package: inline\n",
      "\n",
      "Attaching package: 'inline'\n",
      "\n",
      "The following object is masked from 'package:Rcpp':\n",
      "\n",
      "    registerPlugin\n",
      "\n",
      "Loading required package: rrcov\n",
      "Warning message:\n",
      "\"package 'rrcov' was built under R version 3.6.2\"Scalable Robust Estimators with High Breakdown Point (version 1.5-2)\n",
      "\n"
     ]
    }
   ],
   "source": [
    "library('BMA')"
   ]
  },
  {
   "cell_type": "code",
   "execution_count": 21,
   "metadata": {},
   "outputs": [],
   "source": [
    "bma = bicreg(xvar, yvar, strict = F, OR = 2)#Khong co moi tuong quan de strict = F, OR = 2"
   ]
  },
  {
   "cell_type": "code",
   "execution_count": 22,
   "metadata": {},
   "outputs": [
    {
     "name": "stdout",
     "output_type": "stream",
     "text": [
      "\n",
      "Call:\n",
      "bicreg(x = xvar, y = yvar, strict = F, OR = 2)\n",
      "\n",
      "\n",
      "  1  models were selected\n",
      " Best  1  models (cumulative posterior probability =  1 ): \n",
      "\n",
      "                          p!=0   EV       SD         model 1   \n",
      "Intercept                 100   -1.06392  0.0927644    -1.06392\n",
      "Pregnancies               100    0.02272  0.0047269     0.02272\n",
      "Glucose                   100    0.00685  0.0005387     0.00685\n",
      "BloodPressure               0    0.00000  0.0000000       .    \n",
      "SkinThickness               0    0.00000  0.0000000       .    \n",
      "Insulin                     0    0.00000  0.0000000       .    \n",
      "BMI                       100    0.01172  0.0024389     0.01172\n",
      "DiabetesPedigreeFunction  100    0.23196  0.0614925     0.23196\n",
      "Age                         0    0.00000  0.0000000       .    \n",
      "                                                               \n",
      "nVar                                                      4    \n",
      "r2                                                      0.315  \n",
      "BIC                                                  -215.64690\n",
      "post prob                                               1      \n",
      "                         p!=0   EV        SD          model 1     \n",
      "Intercept                \"100\" \"-1.06392\" \"0.0927644\" \"  -1.06392\"\n",
      "Pregnancies              \"100\" \" 0.02272\" \"0.0047269\" \"   0.02272\"\n",
      "Glucose                  \"100\" \" 0.00685\" \"0.0005387\" \"   0.00685\"\n",
      "BloodPressure            \"  0\" \" 0.00000\" \"0.0000000\" \"     .\"    \n",
      "SkinThickness            \"  0\" \" 0.00000\" \"0.0000000\" \"     .\"    \n",
      "Insulin                  \"  0\" \" 0.00000\" \"0.0000000\" \"     .\"    \n",
      "BMI                      \"100\" \" 0.01172\" \"0.0024389\" \"   0.01172\"\n",
      "DiabetesPedigreeFunction \"100\" \" 0.23196\" \"0.0614925\" \"   0.23196\"\n",
      "Age                      \"  0\" \" 0.00000\" \"0.0000000\" \"     .\"    \n",
      "                         \"\"    \"\"         \"\"          \"\"          \n",
      "nVar                     \"\"    \"\"         \"\"          \"     4\"    \n",
      "r2                       \"\"    \"\"         \"\"          \"   0.315\"  \n",
      "BIC                      \"\"    \"\"         \"\"          \"-215.64690\"\n",
      "post prob                \"\"    \"\"         \"\"          \"   1\"      \n"
     ]
    }
   ],
   "source": [
    "print(summary(bma))"
   ]
  },
  {
   "cell_type": "code",
   "execution_count": 23,
   "metadata": {},
   "outputs": [
    {
     "data": {
      "image/png": "[encoded data removed]",
      "text/plain": [
       "Plot with title \"Models selected by BMA\""
      ]
     },
     "metadata": {},
     "output_type": "display_data"
    }
   ],
   "source": [
    "#visualize\n",
    "imageplot.bma(bma)"
   ]
  },
  {
   "cell_type": "markdown",
   "metadata": {},
   "source": [
    "**BMA đề xuất chỉ 1 model tốt nhất với 4 variables: Pregnancies, Glucose, BMI và DiabetesPedigreeFunction**"
   ]
  },
  {
   "cell_type": "code",
   "execution_count": 24,
   "metadata": {},
   "outputs": [
    {
     "name": "stderr",
     "output_type": "stream",
     "text": [
      "Warning message:\n",
      "\"package 'relaimpo' was built under R version 3.6.3\"Loading required package: MASS\n",
      "Loading required package: boot\n",
      "Warning message:\n",
      "\"package 'boot' was built under R version 3.6.3\"\n",
      "Attaching package: 'boot'\n",
      "\n",
      "The following object is masked from 'package:robustbase':\n",
      "\n",
      "    salinity\n",
      "\n",
      "The following object is masked from 'package:survival':\n",
      "\n",
      "    aml\n",
      "\n",
      "Loading required package: survey\n",
      "Warning message:\n",
      "\"package 'survey' was built under R version 3.6.3\"Loading required package: grid\n",
      "Loading required package: Matrix\n",
      "\n",
      "Attaching package: 'survey'\n",
      "\n",
      "The following object is masked from 'package:graphics':\n",
      "\n",
      "    dotchart\n",
      "\n",
      "Loading required package: mitools\n",
      "Warning message:\n",
      "\"package 'mitools' was built under R version 3.6.3\"This is the global version of package relaimpo.\n",
      "\n",
      "If you are a non-US user, a version with the interesting additional metric pmvd is available\n",
      "\n",
      "from Ulrike Groempings web site at prof.beuth-hochschule.de/groemping.\n",
      "\n"
     ]
    }
   ],
   "source": [
    "library('relaimpo')"
   ]
  },
  {
   "cell_type": "code",
   "execution_count": 25,
   "metadata": {},
   "outputs": [],
   "source": [
    "m = lm(Outcome ~  Pregnancies+Glucose+BMI+DiabetesPedigreeFunction, data = mydata)"
   ]
  },
  {
   "cell_type": "code",
   "execution_count": 26,
   "metadata": {},
   "outputs": [
    {
     "data": {
      "text/plain": [
       "Response variable: Outcome \n",
       "Total response variance: 0.2153639 \n",
       "Analysis based on 639 observations \n",
       "\n",
       "4 Regressors: \n",
       "Pregnancies Glucose BMI DiabetesPedigreeFunction \n",
       "Proportion of variance explained by model: 31.47%\n",
       "Metrics are normalized to sum to 100% (rela=TRUE). \n",
       "\n",
       "Relative importance metrics: \n",
       "\n",
       "                                lmg\n",
       "Pregnancies              0.11992318\n",
       "Glucose                  0.65821238\n",
       "BMI                      0.14989005\n",
       "DiabetesPedigreeFunction 0.07197439\n",
       "\n",
       "Average coefficients for different model sizes: \n",
       "\n",
       "                                  1X         2Xs         3Xs        4Xs\n",
       "Pregnancies              0.032444850 0.028741903 0.025544055 0.02272065\n",
       "Glucose                  0.007841235 0.007482791 0.007152464 0.00684976\n",
       "BMI                      0.019429372 0.016618307 0.014052056 0.01171745\n",
       "DiabetesPedigreeFunction 0.331143268 0.287853450 0.255415123 0.23195845"
      ]
     },
     "metadata": {},
     "output_type": "display_data"
    }
   ],
   "source": [
    "calc.relimp(m, type = \"lmg\", rela = T, rank = T)"
   ]
  },
  {
   "cell_type": "markdown",
   "metadata": {},
   "source": [
    "## Ex2: Low birth weight\n",
    "##### Yêu cầu: Logistic Regression để thực hiện việc xác định trẻ có thiếu cân hay không dựa vào thông tin còn lại."
   ]
  },
  {
   "cell_type": "code",
   "execution_count": 123,
   "metadata": {},
   "outputs": [
    {
     "data": {
      "text/html": [
       "<table>\n",
       "<thead><tr><th scope=col>id</th><th scope=col>headcirumference</th><th scope=col>length</th><th scope=col>Birthweight</th><th scope=col>Gestation</th><th scope=col>smoker</th><th scope=col>motherage</th><th scope=col>mnocig</th><th scope=col>mheight</th><th scope=col>mppwt</th><th scope=col>fage</th><th scope=col>fedyrs</th><th scope=col>fnocig</th><th scope=col>fheight</th><th scope=col>lowbwt</th><th scope=col>mage35</th><th scope=col>LowBirthWeight</th></tr></thead>\n",
       "<tbody>\n",
       "\t<tr><td>1313  </td><td>12    </td><td>17    </td><td>5.8   </td><td>33    </td><td>0     </td><td>24    </td><td> 0    </td><td>58    </td><td> 99   </td><td>26    </td><td>16    </td><td> 0    </td><td>66    </td><td>1     </td><td>0     </td><td>Low   </td></tr>\n",
       "\t<tr><td> 431  </td><td>12    </td><td>19    </td><td>4.2   </td><td>33    </td><td>1     </td><td>20    </td><td> 7    </td><td>63    </td><td>109   </td><td>20    </td><td>10    </td><td>35    </td><td>71    </td><td>1     </td><td>0     </td><td>Low   </td></tr>\n",
       "\t<tr><td> 808  </td><td>13    </td><td>19    </td><td>6.4   </td><td>34    </td><td>0     </td><td>26    </td><td> 0    </td><td>65    </td><td>140   </td><td>25    </td><td>12    </td><td>25    </td><td>69    </td><td>0     </td><td>0     </td><td>Normal</td></tr>\n",
       "\t<tr><td> 300  </td><td>12    </td><td>18    </td><td>4.5   </td><td>35    </td><td>1     </td><td>41    </td><td> 7    </td><td>65    </td><td>125   </td><td>37    </td><td>14    </td><td>25    </td><td>68    </td><td>1     </td><td>1     </td><td>Low   </td></tr>\n",
       "\t<tr><td> 516  </td><td>13    </td><td>18    </td><td>5.8   </td><td>35    </td><td>1     </td><td>20    </td><td>35    </td><td>67    </td><td>125   </td><td>23    </td><td>12    </td><td>50    </td><td>73    </td><td>1     </td><td>0     </td><td>Low   </td></tr>\n",
       "\t<tr><td> 321  </td><td>13    </td><td>19    </td><td>6.8   </td><td>37    </td><td>0     </td><td>28    </td><td> 0    </td><td>62    </td><td>118   </td><td>39    </td><td>10    </td><td> 0    </td><td>67    </td><td>0     </td><td>0     </td><td>Normal</td></tr>\n",
       "</tbody>\n",
       "</table>\n"
      ],
      "text/latex": [
       "\\begin{tabular}{r|lllllllllllllllll}\n",
       " id & headcirumference & length & Birthweight & Gestation & smoker & motherage & mnocig & mheight & mppwt & fage & fedyrs & fnocig & fheight & lowbwt & mage35 & LowBirthWeight\\\\\n",
       "\\hline\n",
       "\t 1313   & 12     & 17     & 5.8    & 33     & 0      & 24     &  0     & 58     &  99    & 26     & 16     &  0     & 66     & 1      & 0      & Low   \\\\\n",
       "\t  431   & 12     & 19     & 4.2    & 33     & 1      & 20     &  7     & 63     & 109    & 20     & 10     & 35     & 71     & 1      & 0      & Low   \\\\\n",
       "\t  808   & 13     & 19     & 6.4    & 34     & 0      & 26     &  0     & 65     & 140    & 25     & 12     & 25     & 69     & 0      & 0      & Normal\\\\\n",
       "\t  300   & 12     & 18     & 4.5    & 35     & 1      & 41     &  7     & 65     & 125    & 37     & 14     & 25     & 68     & 1      & 1      & Low   \\\\\n",
       "\t  516   & 13     & 18     & 5.8    & 35     & 1      & 20     & 35     & 67     & 125    & 23     & 12     & 50     & 73     & 1      & 0      & Low   \\\\\n",
       "\t  321   & 13     & 19     & 6.8    & 37     & 0      & 28     &  0     & 62     & 118    & 39     & 10     &  0     & 67     & 0      & 0      & Normal\\\\\n",
       "\\end{tabular}\n"
      ],
      "text/markdown": [
       "\n",
       "| id | headcirumference | length | Birthweight | Gestation | smoker | motherage | mnocig | mheight | mppwt | fage | fedyrs | fnocig | fheight | lowbwt | mage35 | LowBirthWeight |\n",
       "|---|---|---|---|---|---|---|---|---|---|---|---|---|---|---|---|---|\n",
       "| 1313   | 12     | 17     | 5.8    | 33     | 0      | 24     |  0     | 58     |  99    | 26     | 16     |  0     | 66     | 1      | 0      | Low    |\n",
       "|  431   | 12     | 19     | 4.2    | 33     | 1      | 20     |  7     | 63     | 109    | 20     | 10     | 35     | 71     | 1      | 0      | Low    |\n",
       "|  808   | 13     | 19     | 6.4    | 34     | 0      | 26     |  0     | 65     | 140    | 25     | 12     | 25     | 69     | 0      | 0      | Normal |\n",
       "|  300   | 12     | 18     | 4.5    | 35     | 1      | 41     |  7     | 65     | 125    | 37     | 14     | 25     | 68     | 1      | 1      | Low    |\n",
       "|  516   | 13     | 18     | 5.8    | 35     | 1      | 20     | 35     | 67     | 125    | 23     | 12     | 50     | 73     | 1      | 0      | Low    |\n",
       "|  321   | 13     | 19     | 6.8    | 37     | 0      | 28     |  0     | 62     | 118    | 39     | 10     |  0     | 67     | 0      | 0      | Normal |\n",
       "\n"
      ],
      "text/plain": [
       "  id   headcirumference length Birthweight Gestation smoker motherage mnocig\n",
       "1 1313 12               17     5.8         33        0      24         0    \n",
       "2  431 12               19     4.2         33        1      20         7    \n",
       "3  808 13               19     6.4         34        0      26         0    \n",
       "4  300 12               18     4.5         35        1      41         7    \n",
       "5  516 13               18     5.8         35        1      20        35    \n",
       "6  321 13               19     6.8         37        0      28         0    \n",
       "  mheight mppwt fage fedyrs fnocig fheight lowbwt mage35 LowBirthWeight\n",
       "1 58       99   26   16      0     66      1      0      Low           \n",
       "2 63      109   20   10     35     71      1      0      Low           \n",
       "3 65      140   25   12     25     69      0      0      Normal        \n",
       "4 65      125   37   14     25     68      1      1      Low           \n",
       "5 67      125   23   12     50     73      1      0      Low           \n",
       "6 62      118   39   10      0     67      0      0      Normal        "
      ]
     },
     "metadata": {},
     "output_type": "display_data"
    }
   ],
   "source": [
    "mydata <- read.csv(\"Chapter 18-19\\\\birthweight_reduced.csv\")\n",
    "head(mydata)"
   ]
  },
  {
   "cell_type": "code",
   "execution_count": 124,
   "metadata": {},
   "outputs": [
    {
     "name": "stdout",
     "output_type": "stream",
     "text": [
      "     id headcirumference length Birthweight Gestation smoker motherage mnocig\n",
      "37 1764               15     22        10.0        41      1        32     12\n",
      "38  553               14     21         8.6        42      0        24      0\n",
      "39 1191               13     21         8.0        42      0        21      0\n",
      "40 1360               13     22        10.0        44      0        20      0\n",
      "41  223               13     19         8.5        45      1        28     25\n",
      "42 1187               14     20         8.9        44      0        20      0\n",
      "   mheight mppwt fage fedyrs fnocig fheight lowbwt mage35 LowBirthWeight\n",
      "37      68   154   38     14     25      71      0      0         Normal\n",
      "38      69   143   30     12      0      72      0      0         Normal\n",
      "39      65   132   21     10     25      73      0      0         Normal\n",
      "40      63   125   23     10     35      70      0      0         Normal\n",
      "41      64   118   30     16      0      72      0      0         Normal\n",
      "42      68   150   26     14     25      74      0      0         Normal\n",
      "[1] \"No rows:  42\"\n",
      "[1] \"No columns:  17\"\n",
      "       id         headcirumference     length       Birthweight    \n",
      " Min.   :  27.0   Min.   :12.00    Min.   :17.00   Min.   : 4.200  \n",
      " 1st Qu.: 537.2   1st Qu.:13.00    1st Qu.:19.00   1st Qu.: 6.450  \n",
      " Median : 821.0   Median :13.00    Median :20.00   Median : 7.250  \n",
      " Mean   : 894.1   Mean   :13.26    Mean   :19.93   Mean   : 7.264  \n",
      " 3rd Qu.:1269.5   3rd Qu.:14.00    3rd Qu.:21.00   3rd Qu.: 8.000  \n",
      " Max.   :1764.0   Max.   :15.00    Max.   :22.00   Max.   :10.000  \n",
      "   Gestation         smoker         motherage         mnocig      \n",
      " Min.   :33.00   Min.   :0.0000   Min.   :18.00   Min.   : 0.000  \n",
      " 1st Qu.:38.00   1st Qu.:0.0000   1st Qu.:20.25   1st Qu.: 0.000  \n",
      " Median :39.50   Median :1.0000   Median :24.00   Median : 4.500  \n",
      " Mean   :39.19   Mean   :0.5238   Mean   :25.55   Mean   : 9.429  \n",
      " 3rd Qu.:41.00   3rd Qu.:1.0000   3rd Qu.:29.00   3rd Qu.:15.750  \n",
      " Max.   :45.00   Max.   :1.0000   Max.   :41.00   Max.   :50.000  \n",
      "    mheight         mppwt            fage          fedyrs          fnocig     \n",
      " Min.   :58.0   Min.   : 99.0   Min.   :19.0   Min.   :10.00   Min.   : 0.00  \n",
      " 1st Qu.:63.0   1st Qu.:115.0   1st Qu.:23.0   1st Qu.:12.00   1st Qu.: 0.00  \n",
      " Median :64.0   Median :125.0   Median :29.5   Median :14.00   Median :18.50  \n",
      " Mean   :64.4   Mean   :125.9   Mean   :28.9   Mean   :13.67   Mean   :17.19  \n",
      " 3rd Qu.:66.0   3rd Qu.:135.0   3rd Qu.:32.0   3rd Qu.:16.00   3rd Qu.:25.00  \n",
      " Max.   :71.0   Max.   :170.0   Max.   :46.0   Max.   :16.00   Max.   :50.00  \n",
      "    fheight          lowbwt           mage35        LowBirthWeight\n",
      " Min.   :66.00   Min.   :0.0000   Min.   :0.00000   Low   : 6     \n",
      " 1st Qu.:69.00   1st Qu.:0.0000   1st Qu.:0.00000   Normal:36     \n",
      " Median :71.00   Median :0.0000   Median :0.00000                 \n",
      " Mean   :70.76   Mean   :0.1429   Mean   :0.09524                 \n",
      " 3rd Qu.:72.00   3rd Qu.:0.0000   3rd Qu.:0.00000                 \n",
      " Max.   :78.00   Max.   :1.0000   Max.   :1.00000                 \n"
     ]
    }
   ],
   "source": [
    "#Xem thong tin\n",
    "print(tail(mydata))\n",
    "print(paste(\"No rows: \", nrow(mydata)))\n",
    "print(paste(\"No columns: \", ncol(mydata)))\n",
    "print(summary(mydata))"
   ]
  },
  {
   "cell_type": "code",
   "execution_count": 125,
   "metadata": {},
   "outputs": [
    {
     "name": "stdout",
     "output_type": "stream",
     "text": [
      "'data.frame':\t42 obs. of  17 variables:\n",
      " $ id              : int  1313 431 808 300 516 321 1363 575 822 1081 ...\n",
      " $ headcirumference: int  12 12 13 12 13 13 12 12 13 14 ...\n",
      " $ length          : int  17 19 19 18 18 19 19 19 19 21 ...\n",
      " $ Birthweight     : num  5.8 4.2 6.4 4.5 5.8 6.8 5.2 6.1 7.5 8 ...\n",
      " $ Gestation       : int  33 33 34 35 35 37 37 37 38 38 ...\n",
      " $ smoker          : int  0 1 0 1 1 0 1 1 0 0 ...\n",
      " $ motherage       : int  24 20 26 41 20 28 20 19 20 18 ...\n",
      " $ mnocig          : int  0 7 0 7 35 0 7 7 0 0 ...\n",
      " $ mheight         : int  58 63 65 65 67 62 64 65 62 67 ...\n",
      " $ mppwt           : int  99 109 140 125 125 118 104 132 103 109 ...\n",
      " $ fage            : int  26 20 25 37 23 39 20 20 22 20 ...\n",
      " $ fedyrs          : int  16 10 12 14 12 10 10 14 14 12 ...\n",
      " $ fnocig          : int  0 35 25 25 50 0 35 0 0 7 ...\n",
      " $ fheight         : int  66 71 69 68 73 67 73 72 70 67 ...\n",
      " $ lowbwt          : int  1 1 0 1 1 0 1 0 0 0 ...\n",
      " $ mage35          : int  0 0 0 1 0 0 0 0 0 0 ...\n",
      " $ LowBirthWeight  : Factor w/ 2 levels \"Low\",\"Normal\": 1 1 2 1 1 2 1 2 2 2 ...\n"
     ]
    }
   ],
   "source": [
    "str(mydata)"
   ]
  },
  {
   "cell_type": "code",
   "execution_count": 126,
   "metadata": {},
   "outputs": [
    {
     "data": {
      "image/png": "[encoded data removed]",
      "text/plain": [
       "Plot with title \"Missing values vs observerd\""
      ]
     },
     "metadata": {},
     "output_type": "display_data"
    }
   ],
   "source": [
    "#check missing values\n",
    "library(Amelia)\n",
    "missmap(mydata, main = \"Missing values vs observerd\")"
   ]
  },
  {
   "cell_type": "code",
   "execution_count": 127,
   "metadata": {},
   "outputs": [],
   "source": [
    "library('corrplot')"
   ]
  },
  {
   "cell_type": "code",
   "execution_count": 128,
   "metadata": {},
   "outputs": [
    {
     "name": "stdout",
     "output_type": "stream",
     "text": [
      "\n",
      "   Low Normal \n",
      "     6     36 \n"
     ]
    }
   ],
   "source": [
    "#Check class bias\n",
    "print(table(mydata$LowBirthWeight))"
   ]
  },
  {
   "cell_type": "code",
   "execution_count": 129,
   "metadata": {},
   "outputs": [],
   "source": [
    "#Function box plot\n",
    "boxplot.fuction <- function(column, columns_name) {\n",
    "  plot <- boxplot(column, main = columns_name,\n",
    "                   sub = paste(\"Outliers rows:\", boxplot.stats(column)$out))\n",
    "}"
   ]
  },
  {
   "cell_type": "code",
   "execution_count": 130,
   "metadata": {},
   "outputs": [
    {
     "data": {
      "text/html": [
       "<ol class=list-inline>\n",
       "\t<li>'headcirumference'</li>\n",
       "\t<li>'length'</li>\n",
       "\t<li>'Birthweight'</li>\n",
       "\t<li>'Gestation'</li>\n",
       "\t<li>'smoker'</li>\n",
       "\t<li>'motherage'</li>\n",
       "\t<li>'mnocig'</li>\n",
       "\t<li>'mheight'</li>\n",
       "\t<li>'mppwt'</li>\n",
       "\t<li>'fage'</li>\n",
       "\t<li>'fedyrs'</li>\n",
       "\t<li>'fnocig'</li>\n",
       "\t<li>'fheight'</li>\n",
       "\t<li>'lowbwt'</li>\n",
       "\t<li>'mage35'</li>\n",
       "</ol>\n"
      ],
      "text/latex": [
       "\\begin{enumerate*}\n",
       "\\item 'headcirumference'\n",
       "\\item 'length'\n",
       "\\item 'Birthweight'\n",
       "\\item 'Gestation'\n",
       "\\item 'smoker'\n",
       "\\item 'motherage'\n",
       "\\item 'mnocig'\n",
       "\\item 'mheight'\n",
       "\\item 'mppwt'\n",
       "\\item 'fage'\n",
       "\\item 'fedyrs'\n",
       "\\item 'fnocig'\n",
       "\\item 'fheight'\n",
       "\\item 'lowbwt'\n",
       "\\item 'mage35'\n",
       "\\end{enumerate*}\n"
      ],
      "text/markdown": [
       "1. 'headcirumference'\n",
       "2. 'length'\n",
       "3. 'Birthweight'\n",
       "4. 'Gestation'\n",
       "5. 'smoker'\n",
       "6. 'motherage'\n",
       "7. 'mnocig'\n",
       "8. 'mheight'\n",
       "9. 'mppwt'\n",
       "10. 'fage'\n",
       "11. 'fedyrs'\n",
       "12. 'fnocig'\n",
       "13. 'fheight'\n",
       "14. 'lowbwt'\n",
       "15. 'mage35'\n",
       "\n",
       "\n"
      ],
      "text/plain": [
       " [1] \"headcirumference\" \"length\"           \"Birthweight\"      \"Gestation\"       \n",
       " [5] \"smoker\"           \"motherage\"        \"mnocig\"           \"mheight\"         \n",
       " [9] \"mppwt\"            \"fage\"             \"fedyrs\"           \"fnocig\"          \n",
       "[13] \"fheight\"          \"lowbwt\"           \"mage35\"          "
      ]
     },
     "metadata": {},
     "output_type": "display_data"
    },
    {
     "data": {
      "image/png": "[encoded data removed]",
      "text/plain": [
       "Plot with title \"mage35\""
      ]
     },
     "metadata": {},
     "output_type": "display_data"
    }
   ],
   "source": [
    "#Xem outlier\n",
    "cols <- colnames(mydata[,c(-1,-17)])\n",
    "cols\n",
    "par(mfrow = c(3,5) ) #divide graph area in 2 columns\n",
    "for (record in cols) {\n",
    "    boxplot.fuction(mydata[[record]], record)\n",
    "}\n",
    "#boxplot.fuction(mydata)"
   ]
  },
  {
   "cell_type": "markdown",
   "metadata": {},
   "source": [
    "Nhận xét: 'Gestation' 'mnocig' 'mheight' 'mppwt' 'fage' 'fheight'  có outliers"
   ]
  },
  {
   "cell_type": "code",
   "execution_count": 131,
   "metadata": {},
   "outputs": [
    {
     "name": "stdout",
     "output_type": "stream",
     "text": [
      "[1] \"Befor drop: 42\"\n",
      "[1] \"After drop: 36\"\n"
     ]
    }
   ],
   "source": [
    "#Loai bo outliers\n",
    "str_outliers <- c( 'Gestation', 'mnocig' ,'mheight', 'mppwt' ,'fage', 'fheight')\n",
    "print(paste(\"Befor drop:\", nrow(mydata)))\n",
    "for (str in str_outliers) {\n",
    "    outliers <- boxplot.stats(mydata[[str]])$out\n",
    "    for (record in outliers) {\n",
    "    mydata <- mydata[mydata[[str]] != record,]\n",
    "    }    \n",
    "}\n",
    "print(paste(\"After drop:\", nrow(mydata)))"
   ]
  },
  {
   "cell_type": "code",
   "execution_count": 132,
   "metadata": {},
   "outputs": [
    {
     "name": "stdout",
     "output_type": "stream",
     "text": [
      "                 headcirumference       length Birthweight    Gestation\n",
      "headcirumference       1.00000000  0.534915249  0.68633480  0.336398480\n",
      "length                 0.53491525  1.000000000  0.70888862  0.589639533\n",
      "Birthweight            0.68633480  0.708888620  1.00000000  0.691606423\n",
      "Gestation              0.33639848  0.589639533  0.69160642  1.000000000\n",
      "smoker                -0.20983719 -0.314221062 -0.31605483 -0.141250150\n",
      "motherage              0.10536894 -0.091848088 -0.08588716 -0.139895295\n",
      "mnocig                -0.12891541 -0.296087635 -0.20455236 -0.062704342\n",
      "mheight                0.34058737  0.274303118  0.30156879  0.071706628\n",
      "mppwt                  0.24756903  0.217369813  0.29288289  0.110469221\n",
      "fage                   0.19845538  0.008036612  0.02204126  0.008592422\n",
      "fedyrs                 0.07572824 -0.012717688  0.01372577  0.104300785\n",
      "fnocig                -0.10638565 -0.015881109 -0.12710985 -0.109123981\n",
      "fheight               -0.02027312  0.176473707  0.07694426  0.169168530\n",
      "lowbwt                -0.42640143 -0.493307964 -0.55851600 -0.483230871\n",
      "mage35                 0.05716620 -0.012800541 -0.13428368 -0.150377152\n",
      "                       smoker   motherage      mnocig      mheight\n",
      "headcirumference -0.209837193  0.10536894 -0.12891541  0.340587373\n",
      "length           -0.314221062 -0.09184809 -0.29608764  0.274303118\n",
      "Birthweight      -0.316054834 -0.08588716 -0.20455236  0.301568790\n",
      "Gestation        -0.141250150 -0.13989530 -0.06270434  0.071706628\n",
      "smoker            1.000000000  0.15546321  0.77646743 -0.009077576\n",
      "motherage         0.155463211  1.00000000  0.10653487 -0.019721494\n",
      "mnocig            0.776467432  0.10653487  1.00000000  0.091415507\n",
      "mheight          -0.009077576 -0.01972149  0.09141551  1.000000000\n",
      "mppwt            -0.130035319  0.12457898 -0.08538263  0.672014205\n",
      "fage              0.166462528  0.80342226  0.11225836 -0.192057916\n",
      "fedyrs           -0.040223087  0.35779083  0.07154546  0.050544164\n",
      "fnocig            0.431962959  0.22739766  0.41191273 -0.040675150\n",
      "fheight           0.072385396 -0.09595542  0.15944324  0.315976683\n",
      "lowbwt            0.318754260  0.11071905  0.24029619  0.091352432\n",
      "mage35            0.013495043  0.60020289 -0.09854213  0.141315127\n",
      "                         mppwt          fage      fedyrs      fnocig\n",
      "headcirumference  0.2475690336  0.1984553818  0.07572824 -0.10638565\n",
      "length            0.2173698130  0.0080366115 -0.01271769 -0.01588111\n",
      "Birthweight       0.2928828868  0.0220412619  0.01372577 -0.12710985\n",
      "Gestation         0.1104692211  0.0085924216  0.10430078 -0.10912398\n",
      "smoker           -0.1300353192  0.1664625279 -0.04022309  0.43196296\n",
      "motherage         0.1245789839  0.8034222606  0.35779083  0.22739766\n",
      "mnocig           -0.0853826337  0.1122583605  0.07154546  0.41191273\n",
      "mheight           0.6720142046 -0.1920579164  0.05054416 -0.04067515\n",
      "mppwt             1.0000000000 -0.0007237032  0.09393814 -0.05713275\n",
      "fage             -0.0007237032  1.0000000000  0.18562016  0.21022964\n",
      "fedyrs            0.0939381374  0.1856201574  1.00000000 -0.24008069\n",
      "fnocig           -0.0571327523  0.2102296392 -0.24008069  1.00000000\n",
      "fheight           0.2101535910 -0.2517350609  0.12176434  0.28792867\n",
      "lowbwt           -0.1613907953 -0.0918235025 -0.21796177  0.35685556\n",
      "mage35            0.0112676307  0.2128986438  0.17532837  0.11676793\n",
      "                     fheight      lowbwt      mage35\n",
      "headcirumference -0.02027312 -0.42640143  0.05716620\n",
      "length            0.17647371 -0.49330796 -0.01280054\n",
      "Birthweight       0.07694426 -0.55851600 -0.13428368\n",
      "Gestation         0.16916853 -0.48323087 -0.15037715\n",
      "smoker            0.07238540  0.31875426  0.01349504\n",
      "motherage        -0.09595542  0.11071905  0.60020289\n",
      "mnocig            0.15944324  0.24029619 -0.09854213\n",
      "mheight           0.31597668  0.09135243  0.14131513\n",
      "mppwt             0.21015359 -0.16139080  0.01126763\n",
      "fage             -0.25173506 -0.09182350  0.21289864\n",
      "fedyrs            0.12176434 -0.21796177  0.17532837\n",
      "fnocig            0.28792867  0.35685556  0.11676793\n",
      "fheight           1.00000000  0.05510861 -0.03389891\n",
      "lowbwt            0.05510861  1.00000000  0.36563621\n",
      "mage35           -0.03389891  0.36563621  1.00000000\n"
     ]
    },
    {
     "data": {
      "image/png": "[encoded data removed]",
      "text/plain": [
       "Plot with title \"\""
      ]
     },
     "metadata": {},
     "output_type": "display_data"
    }
   ],
   "source": [
    "#TInh correlation giua moi cap numeric variables\n",
    "correlations <- cor(mydata[,2:16])\n",
    "print(correlations)\n",
    "corrplot(correlations, method = \"circle\")"
   ]
  },
  {
   "cell_type": "code",
   "execution_count": 133,
   "metadata": {},
   "outputs": [
    {
     "data": {
      "text/html": [
       "<table>\n",
       "<thead><tr><th></th><th scope=col>headcirumference</th><th scope=col>length</th><th scope=col>Birthweight</th><th scope=col>Gestation</th><th scope=col>smoker</th><th scope=col>motherage</th><th scope=col>mnocig</th><th scope=col>mheight</th><th scope=col>mppwt</th><th scope=col>fage</th><th scope=col>fedyrs</th><th scope=col>fnocig</th><th scope=col>fheight</th><th scope=col>lowbwt</th><th scope=col>mage35</th><th scope=col>LowBirthWeight</th></tr></thead>\n",
       "<tbody>\n",
       "\t<tr><th scope=row>3</th><td>13    </td><td>19    </td><td>6.4   </td><td>34    </td><td>0     </td><td>26    </td><td> 0    </td><td>65    </td><td>140   </td><td>25    </td><td>12    </td><td>25    </td><td>69    </td><td>0     </td><td>0     </td><td>Normal</td></tr>\n",
       "\t<tr><th scope=row>4</th><td>12    </td><td>18    </td><td>4.5   </td><td>35    </td><td>1     </td><td>41    </td><td> 7    </td><td>65    </td><td>125   </td><td>37    </td><td>14    </td><td>25    </td><td>68    </td><td>1     </td><td>1     </td><td>Low   </td></tr>\n",
       "\t<tr><th scope=row>5</th><td>13    </td><td>18    </td><td>5.8   </td><td>35    </td><td>1     </td><td>20    </td><td>35    </td><td>67    </td><td>125   </td><td>23    </td><td>12    </td><td>50    </td><td>73    </td><td>1     </td><td>0     </td><td>Low   </td></tr>\n",
       "\t<tr><th scope=row>6</th><td>13    </td><td>19    </td><td>6.8   </td><td>37    </td><td>0     </td><td>28    </td><td> 0    </td><td>62    </td><td>118   </td><td>39    </td><td>10    </td><td> 0    </td><td>67    </td><td>0     </td><td>0     </td><td>Normal</td></tr>\n",
       "\t<tr><th scope=row>7</th><td>12    </td><td>19    </td><td>5.2   </td><td>37    </td><td>1     </td><td>20    </td><td> 7    </td><td>64    </td><td>104   </td><td>20    </td><td>10    </td><td>35    </td><td>73    </td><td>1     </td><td>0     </td><td>Low   </td></tr>\n",
       "\t<tr><th scope=row>8</th><td>12    </td><td>19    </td><td>6.1   </td><td>37    </td><td>1     </td><td>19    </td><td> 7    </td><td>65    </td><td>132   </td><td>20    </td><td>14    </td><td> 0    </td><td>72    </td><td>0     </td><td>0     </td><td>Normal</td></tr>\n",
       "</tbody>\n",
       "</table>\n"
      ],
      "text/latex": [
       "\\begin{tabular}{r|llllllllllllllll}\n",
       "  & headcirumference & length & Birthweight & Gestation & smoker & motherage & mnocig & mheight & mppwt & fage & fedyrs & fnocig & fheight & lowbwt & mage35 & LowBirthWeight\\\\\n",
       "\\hline\n",
       "\t3 & 13     & 19     & 6.4    & 34     & 0      & 26     &  0     & 65     & 140    & 25     & 12     & 25     & 69     & 0      & 0      & Normal\\\\\n",
       "\t4 & 12     & 18     & 4.5    & 35     & 1      & 41     &  7     & 65     & 125    & 37     & 14     & 25     & 68     & 1      & 1      & Low   \\\\\n",
       "\t5 & 13     & 18     & 5.8    & 35     & 1      & 20     & 35     & 67     & 125    & 23     & 12     & 50     & 73     & 1      & 0      & Low   \\\\\n",
       "\t6 & 13     & 19     & 6.8    & 37     & 0      & 28     &  0     & 62     & 118    & 39     & 10     &  0     & 67     & 0      & 0      & Normal\\\\\n",
       "\t7 & 12     & 19     & 5.2    & 37     & 1      & 20     &  7     & 64     & 104    & 20     & 10     & 35     & 73     & 1      & 0      & Low   \\\\\n",
       "\t8 & 12     & 19     & 6.1    & 37     & 1      & 19     &  7     & 65     & 132    & 20     & 14     &  0     & 72     & 0      & 0      & Normal\\\\\n",
       "\\end{tabular}\n"
      ],
      "text/markdown": [
       "\n",
       "| <!--/--> | headcirumference | length | Birthweight | Gestation | smoker | motherage | mnocig | mheight | mppwt | fage | fedyrs | fnocig | fheight | lowbwt | mage35 | LowBirthWeight |\n",
       "|---|---|---|---|---|---|---|---|---|---|---|---|---|---|---|---|---|\n",
       "| 3 | 13     | 19     | 6.4    | 34     | 0      | 26     |  0     | 65     | 140    | 25     | 12     | 25     | 69     | 0      | 0      | Normal |\n",
       "| 4 | 12     | 18     | 4.5    | 35     | 1      | 41     |  7     | 65     | 125    | 37     | 14     | 25     | 68     | 1      | 1      | Low    |\n",
       "| 5 | 13     | 18     | 5.8    | 35     | 1      | 20     | 35     | 67     | 125    | 23     | 12     | 50     | 73     | 1      | 0      | Low    |\n",
       "| 6 | 13     | 19     | 6.8    | 37     | 0      | 28     |  0     | 62     | 118    | 39     | 10     |  0     | 67     | 0      | 0      | Normal |\n",
       "| 7 | 12     | 19     | 5.2    | 37     | 1      | 20     |  7     | 64     | 104    | 20     | 10     | 35     | 73     | 1      | 0      | Low    |\n",
       "| 8 | 12     | 19     | 6.1    | 37     | 1      | 19     |  7     | 65     | 132    | 20     | 14     |  0     | 72     | 0      | 0      | Normal |\n",
       "\n"
      ],
      "text/plain": [
       "  headcirumference length Birthweight Gestation smoker motherage mnocig mheight\n",
       "3 13               19     6.4         34        0      26         0     65     \n",
       "4 12               18     4.5         35        1      41         7     65     \n",
       "5 13               18     5.8         35        1      20        35     67     \n",
       "6 13               19     6.8         37        0      28         0     62     \n",
       "7 12               19     5.2         37        1      20         7     64     \n",
       "8 12               19     6.1         37        1      19         7     65     \n",
       "  mppwt fage fedyrs fnocig fheight lowbwt mage35 LowBirthWeight\n",
       "3 140   25   12     25     69      0      0      Normal        \n",
       "4 125   37   14     25     68      1      1      Low           \n",
       "5 125   23   12     50     73      1      0      Low           \n",
       "6 118   39   10      0     67      0      0      Normal        \n",
       "7 104   20   10     35     73      1      0      Low           \n",
       "8 132   20   14      0     72      0      0      Normal        "
      ]
     },
     "metadata": {},
     "output_type": "display_data"
    }
   ],
   "source": [
    "mydata <- mydata[,2:17]\n",
    "head(mydata)"
   ]
  },
  {
   "cell_type": "code",
   "execution_count": 134,
   "metadata": {},
   "outputs": [
    {
     "name": "stdout",
     "output_type": "stream",
     "text": [
      "[1] \"select train row index\"\n",
      " [1] 18 19 20 10 34  1 28  4  8 35 15 16 26 27 21 22 31  7 36 13 29 23 11  6  2\n",
      "[1] \"Rows of train data and test data:\"\n",
      "[1] 25\n",
      "[1] 11\n"
     ]
    }
   ],
   "source": [
    "#Tao tao traing & test\n",
    "#set.seed(42) # giu lai bo du lieu lan dau tao khi chay lai nhieu lan\n",
    "trainingRowindex <- sample(1:nrow(mydata),  size = 0.7*nrow(mydata), replace = FALSE)#row indicate for train data, replace= FALSE khong co bo mau nao trung voi bo mau nao\n",
    "print(\"select train row index\")\n",
    "print(trainingRowindex) \n",
    "trainingdata <- mydata[trainingRowindex,] #train data\n",
    "testdata <- mydata[-trainingRowindex,] #train data\n",
    "print(\"Rows of train data and test data:\")\n",
    "print(nrow(trainingdata))\n",
    "print(nrow(testdata))"
   ]
  },
  {
   "cell_type": "code",
   "execution_count": 135,
   "metadata": {},
   "outputs": [
    {
     "name": "stdout",
     "output_type": "stream",
     "text": [
      "\n",
      "Call:\n",
      "glm(formula = LowBirthWeight ~ ., family = \"binomial\", data = trainingdata)\n",
      "\n",
      "Deviance Residuals: \n",
      "       Min          1Q      Median          3Q         Max  \n",
      "-3.971e-06   3.971e-06   3.971e-06   3.971e-06   3.971e-06  \n",
      "\n",
      "Coefficients:\n",
      "                   Estimate Std. Error z value Pr(>|z|)\n",
      "(Intercept)       2.557e+01  2.692e+06       0        1\n",
      "headcirumference  1.195e-07  1.032e+05       0        1\n",
      "length            9.214e-08  7.624e+04       0        1\n",
      "Birthweight      -1.056e-07  9.118e+04       0        1\n",
      "Gestation         1.524e-07  3.800e+04       0        1\n",
      "smoker            1.017e-06  2.336e+05       0        1\n",
      "motherage         3.000e-08  3.004e+04       0        1\n",
      "mnocig           -4.174e-08  1.120e+04       0        1\n",
      "mheight           1.112e-07  3.787e+04       0        1\n",
      "mppwt            -3.065e-08  4.971e+03       0        1\n",
      "fage             -7.717e-08  1.970e+04       0        1\n",
      "fedyrs           -5.545e-08  3.196e+04       0        1\n",
      "fnocig            1.815e-08  4.260e+03       0        1\n",
      "fheight          -2.594e-07  2.748e+04       0        1\n",
      "lowbwt           -5.113e+01  4.753e+05       0        1\n",
      "mage35            2.030e-06  3.729e+05       0        1\n",
      "\n",
      "(Dispersion parameter for binomial family taken to be 1)\n",
      "\n",
      "    Null deviance: 8.3972e+00  on 24  degrees of freedom\n",
      "Residual deviance: 3.9425e-10  on  9  degrees of freedom\n",
      "AIC: 32\n",
      "\n",
      "Number of Fisher Scoring iterations: 24\n",
      "\n"
     ]
    }
   ],
   "source": [
    "#Xay mo hinh\n",
    "mylogit <- glm(LowBirthWeight ~ ., data = trainingdata, family = \"binomial\")\n",
    "print(summary(mylogit))"
   ]
  },
  {
   "cell_type": "code",
   "execution_count": 136,
   "metadata": {},
   "outputs": [],
   "source": [
    "pred = predict(mylogit, newdata = testdata, type = \"response\")"
   ]
  },
  {
   "cell_type": "code",
   "execution_count": 137,
   "metadata": {},
   "outputs": [
    {
     "name": "stdout",
     "output_type": "stream",
     "text": [
      "[1] \"Testdata admit vs predict \"\n",
      "   testAdmin pred_value\n",
      "5        Low        Low\n",
      "7        Low        Low\n",
      "11    Normal     Normal\n",
      "14    Normal     Normal\n",
      "16    Normal     Normal\n",
      "21    Normal     Normal\n",
      "28    Normal     Normal\n",
      "29    Normal     Normal\n",
      "36    Normal     Normal\n",
      "38    Normal     Normal\n",
      "39    Normal     Normal\n"
     ]
    }
   ],
   "source": [
    "pred_value <- ifelse(pred > 0.5,\"Normal\",\"Low\")\n",
    "print(\"Testdata admit vs predict \")\n",
    "result <- data.frame(testAdmin = testdata$LowBirthWeight, pred_value)\n",
    "print(result)"
   ]
  },
  {
   "cell_type": "code",
   "execution_count": 138,
   "metadata": {},
   "outputs": [
    {
     "name": "stdout",
     "output_type": "stream",
     "text": [
      "[1] \"Accuracy 1: 1\"\n",
      "[1] \"Accuracy 2: 1\"\n"
     ]
    }
   ],
   "source": [
    "#Tinh toan do chinh xac cua mo hinh\n",
    "#Solution 1\n",
    "accuracy <- table(pred_value, testdata[,\"LowBirthWeight\"])\n",
    "accuracy <- sum(diag(accuracy))/sum(accuracy)\n",
    "print(paste(\"Accuracy 1:\", accuracy))\n",
    "#Solution 2\n",
    "misclassficerror <- mean(pred_value != testdata$LowBirthWeight)\n",
    "print(paste(\"Accuracy 2:\", 1-misclassficerror))"
   ]
  },
  {
   "cell_type": "code",
   "execution_count": 139,
   "metadata": {},
   "outputs": [
    {
     "data": {
      "text/html": [
       "<ol class=list-inline>\n",
       "\t<li>'headcirumference'</li>\n",
       "\t<li>'length'</li>\n",
       "\t<li>'Birthweight'</li>\n",
       "\t<li>'Gestation'</li>\n",
       "\t<li>'smoker'</li>\n",
       "\t<li>'motherage'</li>\n",
       "\t<li>'mnocig'</li>\n",
       "\t<li>'mheight'</li>\n",
       "\t<li>'mppwt'</li>\n",
       "\t<li>'fage'</li>\n",
       "\t<li>'fedyrs'</li>\n",
       "\t<li>'fnocig'</li>\n",
       "\t<li>'fheight'</li>\n",
       "\t<li>'lowbwt'</li>\n",
       "\t<li>'mage35'</li>\n",
       "\t<li>'LowBirthWeight'</li>\n",
       "</ol>\n"
      ],
      "text/latex": [
       "\\begin{enumerate*}\n",
       "\\item 'headcirumference'\n",
       "\\item 'length'\n",
       "\\item 'Birthweight'\n",
       "\\item 'Gestation'\n",
       "\\item 'smoker'\n",
       "\\item 'motherage'\n",
       "\\item 'mnocig'\n",
       "\\item 'mheight'\n",
       "\\item 'mppwt'\n",
       "\\item 'fage'\n",
       "\\item 'fedyrs'\n",
       "\\item 'fnocig'\n",
       "\\item 'fheight'\n",
       "\\item 'lowbwt'\n",
       "\\item 'mage35'\n",
       "\\item 'LowBirthWeight'\n",
       "\\end{enumerate*}\n"
      ],
      "text/markdown": [
       "1. 'headcirumference'\n",
       "2. 'length'\n",
       "3. 'Birthweight'\n",
       "4. 'Gestation'\n",
       "5. 'smoker'\n",
       "6. 'motherage'\n",
       "7. 'mnocig'\n",
       "8. 'mheight'\n",
       "9. 'mppwt'\n",
       "10. 'fage'\n",
       "11. 'fedyrs'\n",
       "12. 'fnocig'\n",
       "13. 'fheight'\n",
       "14. 'lowbwt'\n",
       "15. 'mage35'\n",
       "16. 'LowBirthWeight'\n",
       "\n",
       "\n"
      ],
      "text/plain": [
       " [1] \"headcirumference\" \"length\"           \"Birthweight\"      \"Gestation\"       \n",
       " [5] \"smoker\"           \"motherage\"        \"mnocig\"           \"mheight\"         \n",
       " [9] \"mppwt\"            \"fage\"             \"fedyrs\"           \"fnocig\"          \n",
       "[13] \"fheight\"          \"lowbwt\"           \"mage35\"           \"LowBirthWeight\"  "
      ]
     },
     "metadata": {},
     "output_type": "display_data"
    }
   ],
   "source": [
    "names(testdata)"
   ]
  },
  {
   "cell_type": "code",
   "execution_count": 140,
   "metadata": {},
   "outputs": [],
   "source": [
    "#predict new\n",
    "#sample (12,18,4.5,35,1,41,7,65,125,37,14,25,68,1,1)\n",
    "y1 <- predict(mylogit, newdata = data.frame(headcirumference = c(12),\n",
    "                                           length = c(18),\n",
    "                                           Birthweight = c(4.5),\n",
    "                                           Gestation = c(35),\n",
    "                                           smoker = c(1),\n",
    "                                           motherage = c(41),\n",
    "                                           mnocig = c(7),\n",
    "                                           mheight = c(65),\n",
    "                                           mppwt = c(125),\n",
    "                                           fage = c(37),\n",
    "                                           fedyrs = c(14),\n",
    "                                           fnocig = c(25),\n",
    "                                           fheight = c(68),\n",
    "                                           lowbwt = c(1),\n",
    "                                           mage35 = c(1)), type = \"response\")"
   ]
  },
  {
   "cell_type": "code",
   "execution_count": 141,
   "metadata": {},
   "outputs": [
    {
     "name": "stdout",
     "output_type": "stream",
     "text": [
      "[1] \"result:\"\n",
      "    1 \n",
      "\"Low\" \n"
     ]
    }
   ],
   "source": [
    "y1 <- ifelse(y1 > 0.5 , \"Normal\", \"Low\")\n",
    "print(\"result:\")\n",
    "print(y1)"
   ]
  },
  {
   "cell_type": "markdown",
   "metadata": {},
   "source": [
    "## Lựa chọn thuộc tính dùng BMA"
   ]
  },
  {
   "cell_type": "code",
   "execution_count": 150,
   "metadata": {},
   "outputs": [
    {
     "name": "stdout",
     "output_type": "stream",
     "text": [
      "'data.frame':\t36 obs. of  16 variables:\n",
      " $ headcirumference: int  13 12 13 13 12 12 13 14 14 14 ...\n",
      " $ length          : int  19 18 18 19 19 19 19 21 20 20 ...\n",
      " $ Birthweight     : num  6.4 4.5 5.8 6.8 5.2 6.1 7.5 8 8.6 7.1 ...\n",
      " $ Gestation       : int  34 35 35 37 37 37 38 38 38 38 ...\n",
      " $ smoker          : int  0 1 1 0 1 1 0 0 0 0 ...\n",
      " $ motherage       : int  26 41 20 28 20 19 20 18 29 31 ...\n",
      " $ mnocig          : int  0 7 35 0 7 7 0 0 0 0 ...\n",
      " $ mheight         : int  65 65 67 62 64 65 62 67 64 64 ...\n",
      " $ mppwt           : int  140 125 125 118 104 132 103 109 135 125 ...\n",
      " $ fage            : int  25 37 23 39 20 20 22 20 31 35 ...\n",
      " $ fedyrs          : int  12 14 12 10 10 14 14 12 16 16 ...\n",
      " $ fnocig          : int  25 25 50 0 35 0 0 7 0 0 ...\n",
      " $ fheight         : int  69 68 73 67 73 72 70 67 70 72 ...\n",
      " $ lowbwt          : int  0 1 1 0 1 0 0 0 0 0 ...\n",
      " $ mage35          : int  0 1 0 0 0 0 0 0 0 0 ...\n",
      " $ LowBirthWeight  : Factor w/ 2 levels \"Low\",\"Normal\": 2 1 1 2 1 2 2 2 2 2 ...\n"
     ]
    }
   ],
   "source": [
    "str(mydata)"
   ]
  },
  {
   "cell_type": "code",
   "execution_count": 144,
   "metadata": {},
   "outputs": [
    {
     "data": {
      "text/html": [
       "<ol class=list-inline>\n",
       "\t<li>'headcirumference'</li>\n",
       "\t<li>'length'</li>\n",
       "\t<li>'Birthweight'</li>\n",
       "\t<li>'Gestation'</li>\n",
       "\t<li>'smoker'</li>\n",
       "\t<li>'motherage'</li>\n",
       "\t<li>'mnocig'</li>\n",
       "\t<li>'mheight'</li>\n",
       "\t<li>'mppwt'</li>\n",
       "\t<li>'fage'</li>\n",
       "\t<li>'fedyrs'</li>\n",
       "\t<li>'fnocig'</li>\n",
       "\t<li>'fheight'</li>\n",
       "\t<li>'lowbwt'</li>\n",
       "\t<li>'mage35'</li>\n",
       "\t<li>'LowBirthWeight'</li>\n",
       "</ol>\n"
      ],
      "text/latex": [
       "\\begin{enumerate*}\n",
       "\\item 'headcirumference'\n",
       "\\item 'length'\n",
       "\\item 'Birthweight'\n",
       "\\item 'Gestation'\n",
       "\\item 'smoker'\n",
       "\\item 'motherage'\n",
       "\\item 'mnocig'\n",
       "\\item 'mheight'\n",
       "\\item 'mppwt'\n",
       "\\item 'fage'\n",
       "\\item 'fedyrs'\n",
       "\\item 'fnocig'\n",
       "\\item 'fheight'\n",
       "\\item 'lowbwt'\n",
       "\\item 'mage35'\n",
       "\\item 'LowBirthWeight'\n",
       "\\end{enumerate*}\n"
      ],
      "text/markdown": [
       "1. 'headcirumference'\n",
       "2. 'length'\n",
       "3. 'Birthweight'\n",
       "4. 'Gestation'\n",
       "5. 'smoker'\n",
       "6. 'motherage'\n",
       "7. 'mnocig'\n",
       "8. 'mheight'\n",
       "9. 'mppwt'\n",
       "10. 'fage'\n",
       "11. 'fedyrs'\n",
       "12. 'fnocig'\n",
       "13. 'fheight'\n",
       "14. 'lowbwt'\n",
       "15. 'mage35'\n",
       "16. 'LowBirthWeight'\n",
       "\n",
       "\n"
      ],
      "text/plain": [
       " [1] \"headcirumference\" \"length\"           \"Birthweight\"      \"Gestation\"       \n",
       " [5] \"smoker\"           \"motherage\"        \"mnocig\"           \"mheight\"         \n",
       " [9] \"mppwt\"            \"fage\"             \"fedyrs\"           \"fnocig\"          \n",
       "[13] \"fheight\"          \"lowbwt\"           \"mage35\"           \"LowBirthWeight\"  "
      ]
     },
     "metadata": {},
     "output_type": "display_data"
    }
   ],
   "source": [
    "cols <- colnames(mydata)\n",
    "cols\n",
    "yvar <- mydata[,('LowBirthWeight')]\n",
    "xvar <- mydata[,cols[-16]]"
   ]
  },
  {
   "cell_type": "code",
   "execution_count": 145,
   "metadata": {},
   "outputs": [
    {
     "name": "stderr",
     "output_type": "stream",
     "text": [
      "Warning message:\n",
      "\"package 'BMA' was built under R version 3.6.2\"Loading required package: survival\n",
      "Warning message:\n",
      "\"package 'survival' was built under R version 3.6.3\"Loading required package: leaps\n",
      "Warning message:\n",
      "\"package 'leaps' was built under R version 3.6.2\"Loading required package: robustbase\n",
      "Warning message:\n",
      "\"package 'robustbase' was built under R version 3.6.2\"\n",
      "Attaching package: 'robustbase'\n",
      "\n",
      "The following object is masked from 'package:survival':\n",
      "\n",
      "    heart\n",
      "\n",
      "Loading required package: inline\n",
      "\n",
      "Attaching package: 'inline'\n",
      "\n",
      "The following object is masked from 'package:Rcpp':\n",
      "\n",
      "    registerPlugin\n",
      "\n",
      "Loading required package: rrcov\n",
      "Warning message:\n",
      "\"package 'rrcov' was built under R version 3.6.2\"Scalable Robust Estimators with High Breakdown Point (version 1.5-2)\n",
      "\n"
     ]
    }
   ],
   "source": [
    "library('BMA')"
   ]
  },
  {
   "cell_type": "code",
   "execution_count": 146,
   "metadata": {},
   "outputs": [],
   "source": [
    "bma = bicreg(xvar, yvar, strict = F, OR = 2)#Khong co moi tuong quan de strict = F, OR = 2"
   ]
  },
  {
   "cell_type": "code",
   "execution_count": 147,
   "metadata": {},
   "outputs": [
    {
     "name": "stdout",
     "output_type": "stream",
     "text": [
      "\n",
      "Call:\n",
      "bicreg(x = xvar, y = yvar, strict = F, OR = 2)\n",
      "\n",
      "\n",
      "  1  models were selected\n",
      " Best  1  models (cumulative posterior probability =  1 ): \n",
      "\n",
      "                  p!=0   EV  SD         model 1 \n",
      "Intercept         100    2   7.400e-17     2.0  \n",
      "headcirumference    0    0   0.000e+00     .    \n",
      "length              0    0   0.000e+00     .    \n",
      "Birthweight         0    0   0.000e+00     .    \n",
      "Gestation           0    0   0.000e+00     .    \n",
      "smoker              0    0   0.000e+00     .    \n",
      "motherage           0    0   0.000e+00     .    \n",
      "mnocig              0    0   0.000e+00     .    \n",
      "mheight             0    0   0.000e+00     .    \n",
      "mppwt               0    0   0.000e+00     .    \n",
      "fage                0    0   0.000e+00     .    \n",
      "fedyrs              0    0   0.000e+00     .    \n",
      "fnocig              0    0   0.000e+00     .    \n",
      "fheight             0    0   0.000e+00     .    \n",
      "lowbwt            100   -1   2.564e-16    -1.0  \n",
      "mage35              0    0   0.000e+00     .    \n",
      "                                                \n",
      "nVar                                         1  \n",
      "r2                                         0.999\n",
      "BIC                                     -245.1  \n",
      "post prob                                  1    \n",
      "                 p!=0   EV  SD          model 1   \n",
      "Intercept        \"100\" \" 2\" \"7.400e-17\" \"   2.0\"  \n",
      "headcirumference \"  0\" \" 0\" \"0.000e+00\" \"   .\"    \n",
      "length           \"  0\" \" 0\" \"0.000e+00\" \"   .\"    \n",
      "Birthweight      \"  0\" \" 0\" \"0.000e+00\" \"   .\"    \n",
      "Gestation        \"  0\" \" 0\" \"0.000e+00\" \"   .\"    \n",
      "smoker           \"  0\" \" 0\" \"0.000e+00\" \"   .\"    \n",
      "motherage        \"  0\" \" 0\" \"0.000e+00\" \"   .\"    \n",
      "mnocig           \"  0\" \" 0\" \"0.000e+00\" \"   .\"    \n",
      "mheight          \"  0\" \" 0\" \"0.000e+00\" \"   .\"    \n",
      "mppwt            \"  0\" \" 0\" \"0.000e+00\" \"   .\"    \n",
      "fage             \"  0\" \" 0\" \"0.000e+00\" \"   .\"    \n",
      "fedyrs           \"  0\" \" 0\" \"0.000e+00\" \"   .\"    \n",
      "fnocig           \"  0\" \" 0\" \"0.000e+00\" \"   .\"    \n",
      "fheight          \"  0\" \" 0\" \"0.000e+00\" \"   .\"    \n",
      "lowbwt           \"100\" \"-1\" \"2.564e-16\" \"  -1.0\"  \n",
      "mage35           \"  0\" \" 0\" \"0.000e+00\" \"   .\"    \n",
      "                 \"\"    \"\"   \"\"          \"\"        \n",
      "nVar             \"\"    \"\"   \"\"          \"     1\"  \n",
      "r2               \"\"    \"\"   \"\"          \"   0.999\"\n",
      "BIC              \"\"    \"\"   \"\"          \"-245.1\"  \n",
      "post prob        \"\"    \"\"   \"\"          \"   1\"    \n"
     ]
    }
   ],
   "source": [
    "print(summary(bma))"
   ]
  },
  {
   "cell_type": "code",
   "execution_count": 148,
   "metadata": {},
   "outputs": [
    {
     "data": {
      "image/png": "[encoded data removed]",
      "text/plain": [
       "Plot with title \"Models selected by BMA\""
      ]
     },
     "metadata": {},
     "output_type": "display_data"
    }
   ],
   "source": [
    "#visualize\n",
    "imageplot.bma(bma)"
   ]
  },
  {
   "cell_type": "markdown",
   "metadata": {},
   "source": [
    "**BMA đề xuất chỉ 1 model tốt nhất với chỉ 1 variables: lowbwt**"
   ]
  },
  {
   "cell_type": "code",
   "execution_count": null,
   "metadata": {},
   "outputs": [],
   "source": []
  }
 ],
 "metadata": {
  "kernelspec": {
   "display_name": "R",
   "language": "R",
   "name": "ir"
  },
  "language_info": {
   "codemirror_mode": "r",
   "file_extension": ".r",
   "mimetype": "text/x-r-source",
   "name": "R",
   "pygments_lexer": "r",
   "version": "3.6.1"
  }
 },
 "nbformat": 4,
 "nbformat_minor": 2
}
