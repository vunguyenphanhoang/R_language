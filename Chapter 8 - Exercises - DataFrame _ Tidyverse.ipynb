{
 "cells": [
  {
   "cell_type": "markdown",
   "metadata": {},
   "source": [
    "### Ex1: Tao dataframe"
   ]
  },
  {
   "cell_type": "code",
   "execution_count": 1,
   "metadata": {},
   "outputs": [
    {
     "data": {
      "text/html": [
       "<table>\n",
       "<thead><tr><th></th><th scope=col>Age</th><th scope=col>Height</th><th scope=col>Weight</th><th scope=col>Sex</th></tr></thead>\n",
       "<tbody>\n",
       "\t<tr><th scope=row>Alex</th><td>25 </td><td>177</td><td>57 </td><td>F  </td></tr>\n",
       "\t<tr><th scope=row>Lilly</th><td>31 </td><td>163</td><td>69 </td><td>F  </td></tr>\n",
       "\t<tr><th scope=row>Mark</th><td>23 </td><td>190</td><td>83 </td><td>M  </td></tr>\n",
       "\t<tr><th scope=row>Oliver</th><td>52 </td><td>179</td><td>75 </td><td>M  </td></tr>\n",
       "\t<tr><th scope=row>Martha</th><td>76 </td><td>163</td><td>70 </td><td>F  </td></tr>\n",
       "\t<tr><th scope=row>Lucas</th><td>49 </td><td>183</td><td>83 </td><td>M  </td></tr>\n",
       "\t<tr><th scope=row>Caroline</th><td>26 </td><td>164</td><td>53 </td><td>F  </td></tr>\n",
       "</tbody>\n",
       "</table>\n"
      ],
      "text/latex": [
       "\\begin{tabular}{r|llll}\n",
       "  & Age & Height & Weight & Sex\\\\\n",
       "\\hline\n",
       "\tAlex & 25  & 177 & 57  & F  \\\\\n",
       "\tLilly & 31  & 163 & 69  & F  \\\\\n",
       "\tMark & 23  & 190 & 83  & M  \\\\\n",
       "\tOliver & 52  & 179 & 75  & M  \\\\\n",
       "\tMartha & 76  & 163 & 70  & F  \\\\\n",
       "\tLucas & 49  & 183 & 83  & M  \\\\\n",
       "\tCaroline & 26  & 164 & 53  & F  \\\\\n",
       "\\end{tabular}\n"
      ],
      "text/markdown": [
       "\n",
       "| <!--/--> | Age | Height | Weight | Sex |\n",
       "|---|---|---|---|---|\n",
       "| Alex | 25  | 177 | 57  | F   |\n",
       "| Lilly | 31  | 163 | 69  | F   |\n",
       "| Mark | 23  | 190 | 83  | M   |\n",
       "| Oliver | 52  | 179 | 75  | M   |\n",
       "| Martha | 76  | 163 | 70  | F   |\n",
       "| Lucas | 49  | 183 | 83  | M   |\n",
       "| Caroline | 26  | 164 | 53  | F   |\n",
       "\n"
      ],
      "text/plain": [
       "         Age Height Weight Sex\n",
       "Alex     25  177    57     F  \n",
       "Lilly    31  163    69     F  \n",
       "Mark     23  190    83     M  \n",
       "Oliver   52  179    75     M  \n",
       "Martha   76  163    70     F  \n",
       "Lucas    49  183    83     M  \n",
       "Caroline 26  164    53     F  "
      ]
     },
     "metadata": {},
     "output_type": "display_data"
    }
   ],
   "source": [
    "Name <- c(\"Alex\", \"Lilly\", \"Mark\", \"Oliver\", \"Martha\", \"Lucas\", \"Caroline\")\n",
    "Age <- c(25, 31, 23, 52, 76, 49, 26)\n",
    "Height <- c(177, 163, 190, 179, 163, 183, 164)\n",
    "Weight <- c(57, 69, 83, 75, 70, 83, 53)\n",
    "Sex <- as.factor(c(\"F\", \"F\", \"M\", \"M\", \"F\", \"M\", \"F\"))\n",
    "df <- data.frame(row.names = Name, Age, Height, Weight, Sex)\n",
    "df"
   ]
  },
  {
   "cell_type": "code",
   "execution_count": 2,
   "metadata": {},
   "outputs": [
    {
     "name": "stdout",
     "output_type": "stream",
     "text": [
      "[1] \"Levels of Sex: F, M\"\n"
     ]
    }
   ],
   "source": [
    "#In level cua Sex\n",
    "print(paste(\"Levels of Sex:\",toString(levels(df$Sex))))"
   ]
  },
  {
   "cell_type": "code",
   "execution_count": 3,
   "metadata": {},
   "outputs": [
    {
     "data": {
      "text/html": [
       "<table>\n",
       "<thead><tr><th></th><th scope=col>Working</th></tr></thead>\n",
       "<tbody>\n",
       "\t<tr><th scope=row>Alex</th><td>Yes</td></tr>\n",
       "\t<tr><th scope=row>Lilly</th><td>No </td></tr>\n",
       "\t<tr><th scope=row>Mark</th><td>No </td></tr>\n",
       "\t<tr><th scope=row>Oliver</th><td>Yes</td></tr>\n",
       "\t<tr><th scope=row>Martha</th><td>Yes</td></tr>\n",
       "\t<tr><th scope=row>Lucas</th><td>No </td></tr>\n",
       "\t<tr><th scope=row>Caroline</th><td>Yes</td></tr>\n",
       "</tbody>\n",
       "</table>\n"
      ],
      "text/latex": [
       "\\begin{tabular}{r|l}\n",
       "  & Working\\\\\n",
       "\\hline\n",
       "\tAlex & Yes\\\\\n",
       "\tLilly & No \\\\\n",
       "\tMark & No \\\\\n",
       "\tOliver & Yes\\\\\n",
       "\tMartha & Yes\\\\\n",
       "\tLucas & No \\\\\n",
       "\tCaroline & Yes\\\\\n",
       "\\end{tabular}\n"
      ],
      "text/markdown": [
       "\n",
       "| <!--/--> | Working |\n",
       "|---|---|\n",
       "| Alex | Yes |\n",
       "| Lilly | No  |\n",
       "| Mark | No  |\n",
       "| Oliver | Yes |\n",
       "| Martha | Yes |\n",
       "| Lucas | No  |\n",
       "| Caroline | Yes |\n",
       "\n"
      ],
      "text/plain": [
       "         Working\n",
       "Alex     Yes    \n",
       "Lilly    No     \n",
       "Mark     No     \n",
       "Oliver   Yes    \n",
       "Martha   Yes    \n",
       "Lucas    No     \n",
       "Caroline Yes    "
      ]
     },
     "metadata": {},
     "output_type": "display_data"
    }
   ],
   "source": [
    "#Tao dataframe moi\n",
    "Working <- c(\"Yes\",\"No\",\"No\",\"Yes\",\"Yes\",\"No\",\"Yes\")\n",
    "df2 <- data.frame(row.names = Name, Working)\n",
    "df2"
   ]
  },
  {
   "cell_type": "code",
   "execution_count": 4,
   "metadata": {},
   "outputs": [
    {
     "data": {
      "text/html": [
       "<table>\n",
       "<thead><tr><th></th><th scope=col>Age</th><th scope=col>Height</th><th scope=col>Weight</th><th scope=col>Sex</th><th scope=col>Working</th></tr></thead>\n",
       "<tbody>\n",
       "\t<tr><th scope=row>Alex</th><td>25 </td><td>177</td><td>57 </td><td>F  </td><td>Yes</td></tr>\n",
       "\t<tr><th scope=row>Lilly</th><td>31 </td><td>163</td><td>69 </td><td>F  </td><td>No </td></tr>\n",
       "\t<tr><th scope=row>Mark</th><td>23 </td><td>190</td><td>83 </td><td>M  </td><td>No </td></tr>\n",
       "\t<tr><th scope=row>Oliver</th><td>52 </td><td>179</td><td>75 </td><td>M  </td><td>Yes</td></tr>\n",
       "\t<tr><th scope=row>Martha</th><td>76 </td><td>163</td><td>70 </td><td>F  </td><td>Yes</td></tr>\n",
       "\t<tr><th scope=row>Lucas</th><td>49 </td><td>183</td><td>83 </td><td>M  </td><td>No </td></tr>\n",
       "\t<tr><th scope=row>Caroline</th><td>26 </td><td>164</td><td>53 </td><td>F  </td><td>Yes</td></tr>\n",
       "</tbody>\n",
       "</table>\n"
      ],
      "text/latex": [
       "\\begin{tabular}{r|lllll}\n",
       "  & Age & Height & Weight & Sex & Working\\\\\n",
       "\\hline\n",
       "\tAlex & 25  & 177 & 57  & F   & Yes\\\\\n",
       "\tLilly & 31  & 163 & 69  & F   & No \\\\\n",
       "\tMark & 23  & 190 & 83  & M   & No \\\\\n",
       "\tOliver & 52  & 179 & 75  & M   & Yes\\\\\n",
       "\tMartha & 76  & 163 & 70  & F   & Yes\\\\\n",
       "\tLucas & 49  & 183 & 83  & M   & No \\\\\n",
       "\tCaroline & 26  & 164 & 53  & F   & Yes\\\\\n",
       "\\end{tabular}\n"
      ],
      "text/markdown": [
       "\n",
       "| <!--/--> | Age | Height | Weight | Sex | Working |\n",
       "|---|---|---|---|---|---|\n",
       "| Alex | 25  | 177 | 57  | F   | Yes |\n",
       "| Lilly | 31  | 163 | 69  | F   | No  |\n",
       "| Mark | 23  | 190 | 83  | M   | No  |\n",
       "| Oliver | 52  | 179 | 75  | M   | Yes |\n",
       "| Martha | 76  | 163 | 70  | F   | Yes |\n",
       "| Lucas | 49  | 183 | 83  | M   | No  |\n",
       "| Caroline | 26  | 164 | 53  | F   | Yes |\n",
       "\n"
      ],
      "text/plain": [
       "         Age Height Weight Sex Working\n",
       "Alex     25  177    57     F   Yes    \n",
       "Lilly    31  163    69     F   No     \n",
       "Mark     23  190    83     M   No     \n",
       "Oliver   52  179    75     M   Yes    \n",
       "Martha   76  163    70     F   Yes    \n",
       "Lucas    49  183    83     M   No     \n",
       "Caroline 26  164    53     F   Yes    "
      ]
     },
     "metadata": {},
     "output_type": "display_data"
    }
   ],
   "source": [
    "#Tao dataframe moi chua 2 dataframe df va df2\n",
    "new_df <- cbind(df,df2)\n",
    "new_df"
   ]
  },
  {
   "cell_type": "code",
   "execution_count": 5,
   "metadata": {},
   "outputs": [
    {
     "name": "stdout",
     "output_type": "stream",
     "text": [
      "[1] \"Number of row and column : 7 and 5\"\n"
     ]
    }
   ],
   "source": [
    "#Cho biet so dong, so cot cua new dataframe\n",
    "print(paste(\"Number of row and column :\", dim(new_df)[1],\"and\", dim(new_df)[2]))"
   ]
  },
  {
   "cell_type": "code",
   "execution_count": 6,
   "metadata": {},
   "outputs": [
    {
     "name": "stdout",
     "output_type": "stream",
     "text": [
      "'data.frame':\t7 obs. of  5 variables:\n",
      " $ Age    : num  25 31 23 52 76 49 26\n",
      " $ Height : num  177 163 190 179 163 183 164\n",
      " $ Weight : num  57 69 83 75 70 83 53\n",
      " $ Sex    : Factor w/ 2 levels \"F\",\"M\": 1 1 2 2 1 2 1\n",
      " $ Working: Factor w/ 2 levels \"No\",\"Yes\": 2 1 1 2 2 1 2\n"
     ]
    }
   ],
   "source": [
    "#cho biet kieu du lieu cua tung cot\n",
    "str(new_df)"
   ]
  },
  {
   "cell_type": "markdown",
   "metadata": {},
   "source": [
    "### Ex2: Tao va lam viec voi dataframe"
   ]
  },
  {
   "cell_type": "code",
   "execution_count": 7,
   "metadata": {},
   "outputs": [
    {
     "name": "stdout",
     "output_type": "stream",
     "text": [
      "    a b   c\n",
      "1  -3 d yes\n",
      "2  -5 e  no\n",
      "3  -6 f  no\n",
      "4   4 g  no\n",
      "5  -7 h  no\n",
      "6  -5 i yes\n",
      "7   3 j  no\n",
      "8   3 k yes\n",
      "9  -1 l yes\n",
      "10  6 m  no\n"
     ]
    }
   ],
   "source": [
    "a <- (floor(runif(10, -10, 10)))\n",
    "b <- letters[4:13]\n",
    "c <- c(\"yes\",\"no\",\"no\",\"no\",\"no\",\"yes\",\"no\",\"yes\",\"yes\",\"no\")\n",
    "df <- data.frame(a,b,c)\n",
    "print(df)"
   ]
  },
  {
   "cell_type": "code",
   "execution_count": 8,
   "metadata": {},
   "outputs": [
    {
     "name": "stdout",
     "output_type": "stream",
     "text": [
      "    a b   c\n",
      "5  -7 h  no\n",
      "3  -6 f  no\n",
      "2  -5 e  no\n",
      "6  -5 i yes\n",
      "1  -3 d yes\n",
      "9  -1 l yes\n",
      "7   3 j  no\n",
      "8   3 k yes\n",
      "4   4 g  no\n",
      "10  6 m  no\n"
     ]
    }
   ],
   "source": [
    "#In dataframe voi thu tu duoc sap xep tang dan trong cot a\n",
    "print(df[with(df,order(a)),])"
   ]
  },
  {
   "cell_type": "code",
   "execution_count": 9,
   "metadata": {},
   "outputs": [
    {
     "name": "stdout",
     "output_type": "stream",
     "text": [
      "      [,1] [,2] [,3] [,4]\n",
      " [1,]    1   11   21   31\n",
      " [2,]    2   12   22   32\n",
      " [3,]    3   13   23   33\n",
      " [4,]    4   14   24   34\n",
      " [5,]    5   15   25   35\n",
      " [6,]    6   16   26   36\n",
      " [7,]    7   17   27   37\n",
      " [8,]    8   18   28   38\n",
      " [9,]    9   19   29   39\n",
      "[10,]   10   20   30   40\n"
     ]
    }
   ],
   "source": [
    "#Tao matrix.data\n",
    "matrix.data <- matrix(1:40, nrow = 10, ncol = 4)\n",
    "print(matrix.data)"
   ]
  },
  {
   "cell_type": "code",
   "execution_count": 10,
   "metadata": {},
   "outputs": [],
   "source": [
    "#Tao dataframe tu matrix.data\n",
    "df <- data.frame(matrix.data)\n",
    "rownames(df)<- sub(\" \",\"\",paste(\"id_\",1:nrow(df)))\n",
    "colnames(df)<- sub(\" \",\"\",paste(\"variable_\",1:ncol(df)))"
   ]
  },
  {
   "cell_type": "code",
   "execution_count": 11,
   "metadata": {},
   "outputs": [
    {
     "data": {
      "text/html": [
       "<table>\n",
       "<thead><tr><th></th><th scope=col>variable_1</th><th scope=col>variable_2</th><th scope=col>variable_3</th><th scope=col>variable_4</th></tr></thead>\n",
       "<tbody>\n",
       "\t<tr><th scope=row>id_1</th><td> 1</td><td>11</td><td>21</td><td>31</td></tr>\n",
       "\t<tr><th scope=row>id_2</th><td> 2</td><td>12</td><td>22</td><td>32</td></tr>\n",
       "\t<tr><th scope=row>id_3</th><td> 3</td><td>13</td><td>23</td><td>33</td></tr>\n",
       "\t<tr><th scope=row>id_4</th><td> 4</td><td>14</td><td>24</td><td>34</td></tr>\n",
       "\t<tr><th scope=row>id_5</th><td> 5</td><td>15</td><td>25</td><td>35</td></tr>\n",
       "\t<tr><th scope=row>id_6</th><td> 6</td><td>16</td><td>26</td><td>36</td></tr>\n",
       "\t<tr><th scope=row>id_7</th><td> 7</td><td>17</td><td>27</td><td>37</td></tr>\n",
       "\t<tr><th scope=row>id_8</th><td> 8</td><td>18</td><td>28</td><td>38</td></tr>\n",
       "\t<tr><th scope=row>id_9</th><td> 9</td><td>19</td><td>29</td><td>39</td></tr>\n",
       "\t<tr><th scope=row>id_10</th><td>10</td><td>20</td><td>30</td><td>40</td></tr>\n",
       "</tbody>\n",
       "</table>\n"
      ],
      "text/latex": [
       "\\begin{tabular}{r|llll}\n",
       "  & variable\\_1 & variable\\_2 & variable\\_3 & variable\\_4\\\\\n",
       "\\hline\n",
       "\tid\\_1 &  1 & 11 & 21 & 31\\\\\n",
       "\tid\\_2 &  2 & 12 & 22 & 32\\\\\n",
       "\tid\\_3 &  3 & 13 & 23 & 33\\\\\n",
       "\tid\\_4 &  4 & 14 & 24 & 34\\\\\n",
       "\tid\\_5 &  5 & 15 & 25 & 35\\\\\n",
       "\tid\\_6 &  6 & 16 & 26 & 36\\\\\n",
       "\tid\\_7 &  7 & 17 & 27 & 37\\\\\n",
       "\tid\\_8 &  8 & 18 & 28 & 38\\\\\n",
       "\tid\\_9 &  9 & 19 & 29 & 39\\\\\n",
       "\tid\\_10 & 10 & 20 & 30 & 40\\\\\n",
       "\\end{tabular}\n"
      ],
      "text/markdown": [
       "\n",
       "| <!--/--> | variable_1 | variable_2 | variable_3 | variable_4 |\n",
       "|---|---|---|---|---|\n",
       "| id_1 |  1 | 11 | 21 | 31 |\n",
       "| id_2 |  2 | 12 | 22 | 32 |\n",
       "| id_3 |  3 | 13 | 23 | 33 |\n",
       "| id_4 |  4 | 14 | 24 | 34 |\n",
       "| id_5 |  5 | 15 | 25 | 35 |\n",
       "| id_6 |  6 | 16 | 26 | 36 |\n",
       "| id_7 |  7 | 17 | 27 | 37 |\n",
       "| id_8 |  8 | 18 | 28 | 38 |\n",
       "| id_9 |  9 | 19 | 29 | 39 |\n",
       "| id_10 | 10 | 20 | 30 | 40 |\n",
       "\n"
      ],
      "text/plain": [
       "      variable_1 variable_2 variable_3 variable_4\n",
       "id_1   1         11         21         31        \n",
       "id_2   2         12         22         32        \n",
       "id_3   3         13         23         33        \n",
       "id_4   4         14         24         34        \n",
       "id_5   5         15         25         35        \n",
       "id_6   6         16         26         36        \n",
       "id_7   7         17         27         37        \n",
       "id_8   8         18         28         38        \n",
       "id_9   9         19         29         39        \n",
       "id_10 10         20         30         40        "
      ]
     },
     "metadata": {},
     "output_type": "display_data"
    }
   ],
   "source": [
    "df"
   ]
  },
  {
   "cell_type": "markdown",
   "metadata": {},
   "source": [
    "### Ex3: Làm việc với dataframe"
   ]
  },
  {
   "cell_type": "code",
   "execution_count": 12,
   "metadata": {},
   "outputs": [
    {
     "name": "stdout",
     "output_type": "stream",
     "text": [
      "           Population Income Illiteracy Life Exp Murder HS Grad Frost   Area\n",
      "Alabama          3615   3624        2.1    69.05   15.1    41.3    20  50708\n",
      "Alaska            365   6315        1.5    69.31   11.3    66.7   152 566432\n",
      "Arizona          2212   4530        1.8    70.55    7.8    58.1    15 113417\n",
      "Arkansas         2110   3378        1.9    70.66   10.1    39.9    65  51945\n",
      "California      21198   5114        1.1    71.71   10.3    62.6    20 156361\n",
      "Colorado         2541   4884        0.7    72.06    6.8    63.9   166 103766\n"
     ]
    }
   ],
   "source": [
    "#Su dung du lieu co san R state.77\n",
    "print(head(state.x77))"
   ]
  },
  {
   "cell_type": "code",
   "execution_count": 13,
   "metadata": {},
   "outputs": [
    {
     "name": "stdout",
     "output_type": "stream",
     "text": [
      "[1] \"matrix\"\n"
     ]
    }
   ],
   "source": [
    "#In kieu du lieu state.77\n",
    "print(class(state.x77))"
   ]
  },
  {
   "cell_type": "code",
   "execution_count": 14,
   "metadata": {},
   "outputs": [],
   "source": [
    "state.x77.df <- data.frame(state.x77)"
   ]
  },
  {
   "cell_type": "code",
   "execution_count": 15,
   "metadata": {},
   "outputs": [
    {
     "name": "stdout",
     "output_type": "stream",
     "text": [
      "[1] \"So State co Income < 4300: 20\"\n"
     ]
    }
   ],
   "source": [
    "rows_state_4300 <- nrow(state.x77.df[state.x77.df$Income < 4300,])\n",
    "print(paste(\"So State co Income < 4300:\",rows_state_4300))"
   ]
  },
  {
   "cell_type": "code",
   "execution_count": 16,
   "metadata": {},
   "outputs": [
    {
     "name": "stdout",
     "output_type": "stream",
     "text": [
      "[1] \"Danh sach cac State co Income < 4300\"\n",
      "               Population Income Illiteracy Life.Exp Murder HS.Grad Frost\n",
      "Alabama              3615   3624        2.1    69.05   15.1    41.3    20\n",
      "Arkansas             2110   3378        1.9    70.66   10.1    39.9    65\n",
      "Georgia              4931   4091        2.0    68.54   13.9    40.6    60\n",
      "Idaho                 813   4119        0.6    71.87    5.3    59.5   126\n",
      "Kentucky             3387   3712        1.6    70.10   10.6    38.5    95\n",
      "Louisiana            3806   3545        2.8    68.76   13.2    42.2    12\n",
      "Maine                1058   3694        0.7    70.39    2.7    54.7   161\n",
      "Mississippi          2341   3098        2.4    68.09   12.5    41.0    50\n",
      "Missouri             4767   4254        0.8    70.69    9.3    48.8   108\n",
      "New Hampshire         812   4281        0.7    71.23    3.3    57.6   174\n",
      "New Mexico           1144   3601        2.2    70.32    9.7    55.2   120\n",
      "North Carolina       5441   3875        1.8    69.21   11.1    38.5    80\n",
      "Oklahoma             2715   3983        1.1    71.42    6.4    51.6    82\n",
      "South Carolina       2816   3635        2.3    67.96   11.6    37.8    65\n",
      "South Dakota          681   4167        0.5    72.08    1.7    53.3   172\n",
      "Tennessee            4173   3821        1.7    70.11   11.0    41.8    70\n",
      "Texas               12237   4188        2.2    70.90   12.2    47.4    35\n",
      "Utah                 1203   4022        0.6    72.90    4.5    67.3   137\n",
      "Vermont               472   3907        0.6    71.64    5.5    57.1   168\n",
      "West Virginia        1799   3617        1.4    69.48    6.7    41.6   100\n",
      "                 Area\n",
      "Alabama         50708\n",
      "Arkansas        51945\n",
      "Georgia         58073\n",
      "Idaho           82677\n",
      "Kentucky        39650\n",
      "Louisiana       44930\n",
      "Maine           30920\n",
      "Mississippi     47296\n",
      "Missouri        68995\n",
      "New Hampshire    9027\n",
      "New Mexico     121412\n",
      "North Carolina  48798\n",
      "Oklahoma        68782\n",
      "South Carolina  30225\n",
      "South Dakota    75955\n",
      "Tennessee       41328\n",
      "Texas          262134\n",
      "Utah            82096\n",
      "Vermont          9267\n",
      "West Virginia   24070\n"
     ]
    }
   ],
   "source": [
    "#In danh sach cac bang co Income < 4300\n",
    "print('Danh sach cac State co Income < 4300')\n",
    "print(state.x77.df[state.x77.df$Income < 4300,])"
   ]
  },
  {
   "cell_type": "code",
   "execution_count": 17,
   "metadata": {},
   "outputs": [],
   "source": [
    "#In state co Income cao nhat\n",
    "max_income <- max(state.x77.df$Income)"
   ]
  },
  {
   "cell_type": "code",
   "execution_count": 18,
   "metadata": {},
   "outputs": [
    {
     "name": "stdout",
     "output_type": "stream",
     "text": [
      "[1] \"State co Income cao nhat:  Alaska voi Income: 6315\"\n"
     ]
    }
   ],
   "source": [
    "print(paste(\"State co Income cao nhat: \",row.names(state.x77.df[state.x77.df$Income == max_income,]), \"voi Income:\",max_income))"
   ]
  },
  {
   "cell_type": "code",
   "execution_count": 19,
   "metadata": {},
   "outputs": [
    {
     "name": "stdout",
     "output_type": "stream",
     "text": [
      "[1] \"State co Life.Exp cao nhat:  Hawaii voi Life.Exp: 73.6\"\n"
     ]
    }
   ],
   "source": [
    "#In state co Life.Exp cao nhat\n",
    "max_life <- max(state.x77.df$Life.Exp)\n",
    "print(paste(\"State co Life.Exp cao nhat: \",row.names(state.x77.df[state.x77.df$Life.Exp == max_life,]), \"voi Life.Exp:\",max_life))"
   ]
  },
  {
   "cell_type": "code",
   "execution_count": 20,
   "metadata": {},
   "outputs": [
    {
     "name": "stdout",
     "output_type": "stream",
     "text": [
      "[1] \"State co Life.Exp thap nhat:  South Carolina voi Life.Exp: 67.96\"\n"
     ]
    }
   ],
   "source": [
    "#In state co Life.Exp thap nhat\n",
    "min_life <- min(state.x77.df$Life.Exp)\n",
    "print(paste(\"State co Life.Exp thap nhat: \",row.names(state.x77.df[state.x77.df$Life.Exp == min_life,]), \"voi Life.Exp:\",min_life))"
   ]
  },
  {
   "cell_type": "markdown",
   "metadata": {},
   "source": [
    "### Ex4: Lam viec voi dataframe"
   ]
  },
  {
   "cell_type": "code",
   "execution_count": 21,
   "metadata": {},
   "outputs": [
    {
     "name": "stdout",
     "output_type": "stream",
     "text": [
      "           state.abb state.area     state.division state.region\n",
      "Alabama           AL      51609 East South Central        South\n",
      "Alaska            AK     589757            Pacific         West\n",
      "Arizona           AZ     113909           Mountain         West\n",
      "Arkansas          AR      53104 West South Central        South\n",
      "California        CA     158693            Pacific         West\n",
      "Colorado          CO     104247           Mountain         West\n"
     ]
    }
   ],
   "source": [
    "df <- data.frame(row.names = state.name,state.abb, state.area, state.division, state.region)\n",
    "print(head(df))"
   ]
  },
  {
   "cell_type": "code",
   "execution_count": 22,
   "metadata": {},
   "outputs": [
    {
     "name": "stdout",
     "output_type": "stream",
     "text": [
      "           abb    are                div   reg\n",
      "Alabama     AL  51609 East South Central South\n",
      "Alaska      AK 589757            Pacific  West\n",
      "Arizona     AZ 113909           Mountain  West\n",
      "Arkansas    AR  53104 West South Central South\n",
      "California  CA 158693            Pacific  West\n",
      "Colorado    CO 104247           Mountain  West\n"
     ]
    }
   ],
   "source": [
    "colnames(df) <- substr(colnames(df),7,9)\n",
    "print(head(df))"
   ]
  },
  {
   "cell_type": "code",
   "execution_count": 23,
   "metadata": {},
   "outputs": [
    {
     "name": "stdout",
     "output_type": "stream",
     "text": [
      "           Population Income Illiteracy Life Exp Murder HS Grad Frost   Area\n",
      "Alabama          3615   3624        2.1    69.05   15.1    41.3    20  50708\n",
      "Alaska            365   6315        1.5    69.31   11.3    66.7   152 566432\n",
      "Arizona          2212   4530        1.8    70.55    7.8    58.1    15 113417\n",
      "Arkansas         2110   3378        1.9    70.66   10.1    39.9    65  51945\n",
      "California      21198   5114        1.1    71.71   10.3    62.6    20 156361\n",
      "Colorado         2541   4884        0.7    72.06    6.8    63.9   166 103766\n",
      "           abb    are                div   reg\n",
      "Alabama     AL  51609 East South Central South\n",
      "Alaska      AK 589757            Pacific  West\n",
      "Arizona     AZ 113909           Mountain  West\n",
      "Arkansas    AR  53104 West South Central South\n",
      "California  CA 158693            Pacific  West\n",
      "Colorado    CO 104247           Mountain  West\n"
     ]
    }
   ],
   "source": [
    "#Tao dataframe tu state.x77 va df moi tao\n",
    "new_df <- cbind(state.x77, df)\n",
    "print(head(new_df))"
   ]
  },
  {
   "cell_type": "code",
   "execution_count": 24,
   "metadata": {},
   "outputs": [
    {
     "name": "stdout",
     "output_type": "stream",
     "text": [
      "           Population Income Illiteracy Murder   Area   reg\n",
      "Alabama          3615   3624        2.1   15.1  50708 South\n",
      "Alaska            365   6315        1.5   11.3 566432  West\n",
      "Arizona          2212   4530        1.8    7.8 113417  West\n",
      "Arkansas         2110   3378        1.9   10.1  51945 South\n",
      "California      21198   5114        1.1   10.3 156361  West\n",
      "Colorado         2541   4884        0.7    6.8 103766  West\n"
     ]
    }
   ],
   "source": [
    "#Loai bo cac cot div, Life Exp, HS Grad, Frost, abb & are\n",
    "new_df$`Life Exp` <- NULL\n",
    "new_df$div <- NULL\n",
    "new_df$`HS Grad` <- NULL\n",
    "new_df$Frost <- NULL\n",
    "new_df$abb <- NULL\n",
    "new_df$are <- NULL\n",
    "print(head(new_df))"
   ]
  },
  {
   "cell_type": "code",
   "execution_count": 25,
   "metadata": {},
   "outputs": [],
   "source": [
    "#Add illiteracy.levels\n",
    "new_df$illiteracy.levels <- ifelse(new_df$Illiteracy < 1,\"Low\", ifelse(new_df$Illiteracy < 2, \"Some\",\"High\"))"
   ]
  },
  {
   "cell_type": "code",
   "execution_count": 26,
   "metadata": {},
   "outputs": [
    {
     "name": "stdout",
     "output_type": "stream",
     "text": [
      "[1] \"New datafram after add illiteracy.levels:\"\n",
      "           Population Income Illiteracy Murder   Area   reg illiteracy.levels\n",
      "Alabama          3615   3624        2.1   15.1  50708 South              High\n",
      "Alaska            365   6315        1.5   11.3 566432  West              Some\n",
      "Arizona          2212   4530        1.8    7.8 113417  West              Some\n",
      "Arkansas         2110   3378        1.9   10.1  51945 South              Some\n",
      "California      21198   5114        1.1   10.3 156361  West              Some\n",
      "Colorado         2541   4884        0.7    6.8 103766  West               Low\n"
     ]
    }
   ],
   "source": [
    "print(\"New datafram after add illiteracy.levels:\")\n",
    "print(head(new_df))"
   ]
  },
  {
   "cell_type": "code",
   "execution_count": 27,
   "metadata": {},
   "outputs": [
    {
     "name": "stdout",
     "output_type": "stream",
     "text": [
      "[1] \"Number of regions : 4\"\n",
      "[1] \"Regions are: Northeast, South, North Central, West\"\n"
     ]
    }
   ],
   "source": [
    "#Cho biet co bao nhieu vung va la nhung vung nao\n",
    "print(paste(\"Number of regions :\",nlevels(new_df$reg)))\n",
    "print(paste(\"Regions are:\",toString(levels(new_df$reg))))"
   ]
  },
  {
   "cell_type": "markdown",
   "metadata": {},
   "source": [
    "### Ex5: Sử dụng function trong package Tidyverse"
   ]
  },
  {
   "cell_type": "code",
   "execution_count": 28,
   "metadata": {},
   "outputs": [
    {
     "name": "stderr",
     "output_type": "stream",
     "text": [
      "Warning message:\n",
      "\"package 'tidyverse' was built under R version 3.6.3\"-- Attaching packages --------------------------------------- tidyverse 1.3.0 --\n",
      "v ggplot2 3.3.0     v purrr   0.3.3\n",
      "v tibble  2.1.3     v dplyr   0.8.5\n",
      "v tidyr   1.0.2     v stringr 1.4.0\n",
      "v readr   1.3.1     v forcats 0.5.0\n",
      "Warning message:\n",
      "\"package 'ggplot2' was built under R version 3.6.3\"Warning message:\n",
      "\"package 'tibble' was built under R version 3.6.3\"Warning message:\n",
      "\"package 'tidyr' was built under R version 3.6.3\"Warning message:\n",
      "\"package 'readr' was built under R version 3.6.3\"Warning message:\n",
      "\"package 'purrr' was built under R version 3.6.3\"Warning message:\n",
      "\"package 'dplyr' was built under R version 3.6.3\"Warning message:\n",
      "\"package 'stringr' was built under R version 3.6.3\"Warning message:\n",
      "\"package 'forcats' was built under R version 3.6.3\"-- Conflicts ------------------------------------------ tidyverse_conflicts() --\n",
      "x dplyr::filter() masks stats::filter()\n",
      "x dplyr::lag()    masks stats::lag()\n"
     ]
    }
   ],
   "source": [
    "library(tidyverse)"
   ]
  },
  {
   "cell_type": "code",
   "execution_count": 29,
   "metadata": {},
   "outputs": [
    {
     "name": "stdout",
     "output_type": "stream",
     "text": [
      "  id gender height weight  bmi age  bmc  bmd   fat  lean pcfat\n",
      "1  1      F    150     49 21.8  53 1312 0.88 17802 28600  37.3\n",
      "2  2      M    165     52 19.1  65 1309 0.84  8381 40229  16.8\n",
      "3  3      F    157     57 23.1  64 1230 0.84 19221 36057  34.0\n",
      "4  4      F    156     53 21.8  56 1171 0.80 17472 33094  33.8\n",
      "5  5      M    160     51 19.9  54 1681 0.98  7336 40621  14.8\n",
      "6  6      F    153     47 20.1  52 1358 0.91 14904 30068  32.2\n"
     ]
    }
   ],
   "source": [
    "#Cho du lieu Obesity_data.csv. Doc du lieu va dataframe. In head\n",
    "Obesity.df <- read.csv(\"Data_buoi_4/Obesity_data.csv\")\n",
    "print(head(Obesity.df))"
   ]
  },
  {
   "cell_type": "code",
   "execution_count": 30,
   "metadata": {},
   "outputs": [
    {
     "name": "stdout",
     "output_type": "stream",
     "text": [
      "  id gender height weight  bmi age\n",
      "1  1      F    150     49 21.8  53\n",
      "2  2      M    165     52 19.1  65\n",
      "3  3      F    157     57 23.1  64\n",
      "4  4      F    156     53 21.8  56\n",
      "5  5      M    160     51 19.9  54\n",
      "6  6      F    153     47 20.1  52\n"
     ]
    }
   ],
   "source": [
    "#Tao dataframe data1 chua cac cot id,gender,height, weight, bmi. In head\n",
    "data1 <- select(Obesity.df, c(id,gender,height, weight, bmi, age))\n",
    "print(head(data1))"
   ]
  },
  {
   "cell_type": "code",
   "execution_count": 31,
   "metadata": {},
   "outputs": [
    {
     "name": "stdout",
     "output_type": "stream",
     "text": [
      "  id gender height weight  bmi age\n",
      "1  1      F    150     49 21.8  53\n",
      "2  2      M    165     52 19.1  65\n",
      "3  3      F    157     57 23.1  64\n",
      "4  4      F    156     53 21.8  56\n",
      "5  5      M    160     51 19.9  54\n",
      "6  6      F    153     47 20.1  52\n"
     ]
    }
   ],
   "source": [
    "#Tu data1 loc nhung dong co bmi >=18.5 & <= 24.9 dua vao data2\n",
    "data2 <- filter(data1, bmi >= 18.5 & bmi <=24.9)\n",
    "print(head(data2))"
   ]
  },
  {
   "cell_type": "code",
   "execution_count": 32,
   "metadata": {},
   "outputs": [
    {
     "name": "stdout",
     "output_type": "stream",
     "text": [
      "  id gender height weight  bmi age height_m\n",
      "1  1      F    150     49 21.8  53     1.50\n",
      "2  2      M    165     52 19.1  65     1.65\n",
      "3  3      F    157     57 23.1  64     1.57\n",
      "4  4      F    156     53 21.8  56     1.56\n",
      "5  5      M    160     51 19.9  54     1.60\n",
      "6  6      F    153     47 20.1  52     1.53\n"
     ]
    }
   ],
   "source": [
    "#Them cot height_m = height/100 vao data1\n",
    "data1 <- mutate(data1, height_m = height/100)\n",
    "print(head(data1))"
   ]
  },
  {
   "cell_type": "code",
   "execution_count": 33,
   "metadata": {},
   "outputs": [
    {
     "name": "stdout",
     "output_type": "stream",
     "text": [
      "    id gender height weight  bmi age height_m\n",
      "1  179      M    162     38 14.5  55     1.62\n",
      "2 1016      F    162     40 15.2  54     1.62\n",
      "3  731      F    151     35 15.4  33     1.51\n",
      "4 1200      F    155     37 15.4  44     1.55\n",
      "5  699      F    150     35 15.6  24     1.50\n",
      "6  335      M    169     45 15.8  50     1.69\n"
     ]
    }
   ],
   "source": [
    "#voi data1 Order by bmi\n",
    "data1 <- arrange(data1, bmi)\n",
    "print(head(data1))"
   ]
  },
  {
   "cell_type": "code",
   "execution_count": 34,
   "metadata": {},
   "outputs": [
    {
     "data": {
      "text/html": [
       "<table>\n",
       "<thead><tr><th scope=col>gender</th><th scope=col>count</th><th scope=col>mean.height</th><th scope=col>mean.weight</th></tr></thead>\n",
       "<tbody>\n",
       "\t<tr><td>F       </td><td>862     </td><td>153.2912</td><td>52.31090</td></tr>\n",
       "\t<tr><td>M       </td><td>355     </td><td>165.0592</td><td>62.02254</td></tr>\n",
       "</tbody>\n",
       "</table>\n"
      ],
      "text/latex": [
       "\\begin{tabular}{r|llll}\n",
       " gender & count & mean.height & mean.weight\\\\\n",
       "\\hline\n",
       "\t F        & 862      & 153.2912 & 52.31090\\\\\n",
       "\t M        & 355      & 165.0592 & 62.02254\\\\\n",
       "\\end{tabular}\n"
      ],
      "text/markdown": [
       "\n",
       "| gender | count | mean.height | mean.weight |\n",
       "|---|---|---|---|\n",
       "| F        | 862      | 153.2912 | 52.31090 |\n",
       "| M        | 355      | 165.0592 | 62.02254 |\n",
       "\n"
      ],
      "text/plain": [
       "  gender count mean.height mean.weight\n",
       "1 F      862   153.2912    52.31090   \n",
       "2 M      355   165.0592    62.02254   "
      ]
     },
     "metadata": {},
     "output_type": "display_data"
    }
   ],
   "source": [
    "#Tinh gia tri trung binh cua height, weight theo gender.\n",
    "gender_group = group_by(data1, gender)\n",
    "summary_gender = summarise(gender_group,\n",
    "                   count = n(),\n",
    "                   mean.height = mean(height, na.rm = T),\n",
    "                   mean.weight = mean(weight, na.rm = T))\n",
    "summary_gender"
   ]
  },
  {
   "cell_type": "code",
   "execution_count": 36,
   "metadata": {},
   "outputs": [
    {
     "data": {
      "text/html": [
       "<table>\n",
       "<thead><tr><th scope=col>gender</th><th scope=col>age</th><th scope=col>n</th></tr></thead>\n",
       "<tbody>\n",
       "\t<tr><td>F </td><td>14</td><td> 4</td></tr>\n",
       "\t<tr><td>F </td><td>16</td><td> 2</td></tr>\n",
       "\t<tr><td>F </td><td>18</td><td>10</td></tr>\n",
       "\t<tr><td>F </td><td>19</td><td>27</td></tr>\n",
       "\t<tr><td>F </td><td>20</td><td>13</td></tr>\n",
       "\t<tr><td>F </td><td>21</td><td> 8</td></tr>\n",
       "</tbody>\n",
       "</table>\n"
      ],
      "text/latex": [
       "\\begin{tabular}{r|lll}\n",
       " gender & age & n\\\\\n",
       "\\hline\n",
       "\t F  & 14 &  4\\\\\n",
       "\t F  & 16 &  2\\\\\n",
       "\t F  & 18 & 10\\\\\n",
       "\t F  & 19 & 27\\\\\n",
       "\t F  & 20 & 13\\\\\n",
       "\t F  & 21 &  8\\\\\n",
       "\\end{tabular}\n"
      ],
      "text/markdown": [
       "\n",
       "| gender | age | n |\n",
       "|---|---|---|\n",
       "| F  | 14 |  4 |\n",
       "| F  | 16 |  2 |\n",
       "| F  | 18 | 10 |\n",
       "| F  | 19 | 27 |\n",
       "| F  | 20 | 13 |\n",
       "| F  | 21 |  8 |\n",
       "\n"
      ],
      "text/plain": [
       "  gender age n \n",
       "1 F      14   4\n",
       "2 F      16   2\n",
       "3 F      18  10\n",
       "4 F      19  27\n",
       "5 F      20  13\n",
       "6 F      21   8"
      ]
     },
     "metadata": {},
     "output_type": "display_data"
    }
   ],
   "source": [
    "#Voi data1, dem so luong theo gender va age\n",
    "gender_age_group = count(data1, gender,age)\n",
    "head(gender_age_group)"
   ]
  },
  {
   "cell_type": "code",
   "execution_count": 37,
   "metadata": {},
   "outputs": [
    {
     "data": {
      "text/html": [
       "<table>\n",
       "<thead><tr><th scope=col>id</th><th scope=col>gender</th><th scope=col>height</th><th scope=col>weight</th><th scope=col>bmi</th><th scope=col>age</th><th scope=col>height_m</th></tr></thead>\n",
       "<tbody>\n",
       "\t<tr><td>121 </td><td>F   </td><td>150 </td><td>59  </td><td>26.2</td><td>77  </td><td>1.50</td></tr>\n",
       "\t<tr><td>838 </td><td>F   </td><td>158 </td><td>51  </td><td>20.4</td><td>56  </td><td>1.58</td></tr>\n",
       "\t<tr><td>666 </td><td>F   </td><td>155 </td><td>51  </td><td>21.2</td><td>26  </td><td>1.55</td></tr>\n",
       "\t<tr><td>378 </td><td>F   </td><td>148 </td><td>46  </td><td>21.0</td><td>45  </td><td>1.48</td></tr>\n",
       "\t<tr><td>356 </td><td>F   </td><td>154 </td><td>60  </td><td>25.3</td><td>55  </td><td>1.54</td></tr>\n",
       "\t<tr><td>565 </td><td>F   </td><td>144 </td><td>41  </td><td>19.8</td><td>81  </td><td>1.44</td></tr>\n",
       "\t<tr><td>151 </td><td>F   </td><td>149 </td><td>49  </td><td>22.1</td><td>38  </td><td>1.49</td></tr>\n",
       "\t<tr><td>  8 </td><td>M   </td><td>167 </td><td>65  </td><td>23.3</td><td>50  </td><td>1.67</td></tr>\n",
       "\t<tr><td>207 </td><td>F   </td><td>160 </td><td>56  </td><td>21.9</td><td>41  </td><td>1.60</td></tr>\n",
       "\t<tr><td>204 </td><td>F   </td><td>154 </td><td>52  </td><td>21.9</td><td>50  </td><td>1.54</td></tr>\n",
       "</tbody>\n",
       "</table>\n"
      ],
      "text/latex": [
       "\\begin{tabular}{r|lllllll}\n",
       " id & gender & height & weight & bmi & age & height\\_m\\\\\n",
       "\\hline\n",
       "\t 121  & F    & 150  & 59   & 26.2 & 77   & 1.50\\\\\n",
       "\t 838  & F    & 158  & 51   & 20.4 & 56   & 1.58\\\\\n",
       "\t 666  & F    & 155  & 51   & 21.2 & 26   & 1.55\\\\\n",
       "\t 378  & F    & 148  & 46   & 21.0 & 45   & 1.48\\\\\n",
       "\t 356  & F    & 154  & 60   & 25.3 & 55   & 1.54\\\\\n",
       "\t 565  & F    & 144  & 41   & 19.8 & 81   & 1.44\\\\\n",
       "\t 151  & F    & 149  & 49   & 22.1 & 38   & 1.49\\\\\n",
       "\t   8  & M    & 167  & 65   & 23.3 & 50   & 1.67\\\\\n",
       "\t 207  & F    & 160  & 56   & 21.9 & 41   & 1.60\\\\\n",
       "\t 204  & F    & 154  & 52   & 21.9 & 50   & 1.54\\\\\n",
       "\\end{tabular}\n"
      ],
      "text/markdown": [
       "\n",
       "| id | gender | height | weight | bmi | age | height_m |\n",
       "|---|---|---|---|---|---|---|\n",
       "| 121  | F    | 150  | 59   | 26.2 | 77   | 1.50 |\n",
       "| 838  | F    | 158  | 51   | 20.4 | 56   | 1.58 |\n",
       "| 666  | F    | 155  | 51   | 21.2 | 26   | 1.55 |\n",
       "| 378  | F    | 148  | 46   | 21.0 | 45   | 1.48 |\n",
       "| 356  | F    | 154  | 60   | 25.3 | 55   | 1.54 |\n",
       "| 565  | F    | 144  | 41   | 19.8 | 81   | 1.44 |\n",
       "| 151  | F    | 149  | 49   | 22.1 | 38   | 1.49 |\n",
       "|   8  | M    | 167  | 65   | 23.3 | 50   | 1.67 |\n",
       "| 207  | F    | 160  | 56   | 21.9 | 41   | 1.60 |\n",
       "| 204  | F    | 154  | 52   | 21.9 | 50   | 1.54 |\n",
       "\n"
      ],
      "text/plain": [
       "   id  gender height weight bmi  age height_m\n",
       "1  121 F      150    59     26.2 77  1.50    \n",
       "2  838 F      158    51     20.4 56  1.58    \n",
       "3  666 F      155    51     21.2 26  1.55    \n",
       "4  378 F      148    46     21.0 45  1.48    \n",
       "5  356 F      154    60     25.3 55  1.54    \n",
       "6  565 F      144    41     19.8 81  1.44    \n",
       "7  151 F      149    49     22.1 38  1.49    \n",
       "8    8 M      167    65     23.3 50  1.67    \n",
       "9  207 F      160    56     21.9 41  1.60    \n",
       "10 204 F      154    52     21.9 50  1.54    "
      ]
     },
     "metadata": {},
     "output_type": "display_data"
    }
   ],
   "source": [
    "#chon 10 mau ngau nhien tu data1 dua vao data3\n",
    "data3 <- sample_n(data1, 10)\n",
    "data3"
   ]
  },
  {
   "cell_type": "code",
   "execution_count": 38,
   "metadata": {},
   "outputs": [
    {
     "name": "stdout",
     "output_type": "stream",
     "text": [
      "    id gender height weight  bmi age height_m\n",
      "1  655      F    150     46 20.4  24     1.50\n",
      "2  572      F    141     35 17.6  72     1.41\n",
      "3  267      M    154     55 23.2  78     1.54\n",
      "4 1125      F    160     63 24.6  54     1.60\n",
      "5  309      M    180     68 21.0  21     1.80\n",
      "6 1195      F    150     53 23.6  46     1.50\n"
     ]
    }
   ],
   "source": [
    "#Chon 1% mau ngau nhien tu data1 dua vao data4\n",
    "data4 <- sample_frac(data1, 0.01)\n",
    "print(head(data4))"
   ]
  },
  {
   "cell_type": "code",
   "execution_count": null,
   "metadata": {},
   "outputs": [],
   "source": []
  }
 ],
 "metadata": {
  "kernelspec": {
   "display_name": "R",
   "language": "R",
   "name": "ir"
  },
  "language_info": {
   "codemirror_mode": "r",
   "file_extension": ".r",
   "mimetype": "text/x-r-source",
   "name": "R",
   "pygments_lexer": "r",
   "version": "3.6.1"
  }
 },
 "nbformat": 4,
 "nbformat_minor": 2
}
