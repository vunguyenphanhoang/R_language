{
 "cells": [
  {
   "cell_type": "markdown",
   "metadata": {},
   "source": [
    "### Ex1: Đọc và hiển thị tập tin XML"
   ]
  },
  {
   "cell_type": "code",
   "execution_count": 1,
   "metadata": {},
   "outputs": [],
   "source": [
    "# Down load noi dung xml tu link http://www.w3schools.com/xml/plant_catalog.xml\n",
    "url <- 'http://www.w3schools.com/xml/plant_catalog.xml'\n",
    "download.file(url, destfile = 'plan_catalog.xml')"
   ]
  },
  {
   "cell_type": "code",
   "execution_count": 2,
   "metadata": {},
   "outputs": [
    {
     "name": "stderr",
     "output_type": "stream",
     "text": [
      "Warning message:\n",
      "\"package 'XML' was built under R version 3.6.2\""
     ]
    }
   ],
   "source": [
    "library(\"XML\")"
   ]
  },
  {
   "cell_type": "code",
   "execution_count": 3,
   "metadata": {},
   "outputs": [
    {
     "data": {
      "text/html": [
       "<table>\n",
       "<thead><tr><th scope=col>COMMON</th><th scope=col>BOTANICAL</th><th scope=col>ZONE</th><th scope=col>LIGHT</th><th scope=col>PRICE</th><th scope=col>AVAILABILITY</th></tr></thead>\n",
       "<tbody>\n",
       "\t<tr><td>Bloodroot             </td><td>Sanguinaria canadensis</td><td>4                     </td><td>Mostly Shady          </td><td>$2.44                 </td><td>031599                </td></tr>\n",
       "\t<tr><td>Columbine             </td><td>Aquilegia canadensis  </td><td>3                     </td><td>Mostly Shady          </td><td>$9.37                 </td><td>030699                </td></tr>\n",
       "\t<tr><td>Marsh Marigold        </td><td>Caltha palustris      </td><td>4                     </td><td>Mostly Sunny          </td><td>$6.81                 </td><td>051799                </td></tr>\n",
       "\t<tr><td>Cowslip               </td><td>Caltha palustris      </td><td>4                     </td><td>Mostly Shady          </td><td>$9.90                 </td><td>030699                </td></tr>\n",
       "\t<tr><td>Dutchman's-Breeches   </td><td>Dicentra cucullaria   </td><td>3                     </td><td>Mostly Shady          </td><td>$6.44                 </td><td>012099                </td></tr>\n",
       "\t<tr><td>Ginger, Wild          </td><td>Asarum canadense      </td><td>3                     </td><td>Mostly Shady          </td><td>$9.03                 </td><td>041899                </td></tr>\n",
       "</tbody>\n",
       "</table>\n"
      ],
      "text/latex": [
       "\\begin{tabular}{r|llllll}\n",
       " COMMON & BOTANICAL & ZONE & LIGHT & PRICE & AVAILABILITY\\\\\n",
       "\\hline\n",
       "\t Bloodroot              & Sanguinaria canadensis & 4                      & Mostly Shady           & \\$2.44                & 031599                \\\\\n",
       "\t Columbine              & Aquilegia canadensis   & 3                      & Mostly Shady           & \\$9.37                & 030699                \\\\\n",
       "\t Marsh Marigold         & Caltha palustris       & 4                      & Mostly Sunny           & \\$6.81                & 051799                \\\\\n",
       "\t Cowslip                & Caltha palustris       & 4                      & Mostly Shady           & \\$9.90                & 030699                \\\\\n",
       "\t Dutchman's-Breeches    & Dicentra cucullaria    & 3                      & Mostly Shady           & \\$6.44                & 012099                \\\\\n",
       "\t Ginger, Wild           & Asarum canadense       & 3                      & Mostly Shady           & \\$9.03                & 041899                \\\\\n",
       "\\end{tabular}\n"
      ],
      "text/markdown": [
       "\n",
       "| COMMON | BOTANICAL | ZONE | LIGHT | PRICE | AVAILABILITY |\n",
       "|---|---|---|---|---|---|\n",
       "| Bloodroot              | Sanguinaria canadensis | 4                      | Mostly Shady           | $2.44                  | 031599                 |\n",
       "| Columbine              | Aquilegia canadensis   | 3                      | Mostly Shady           | $9.37                  | 030699                 |\n",
       "| Marsh Marigold         | Caltha palustris       | 4                      | Mostly Sunny           | $6.81                  | 051799                 |\n",
       "| Cowslip                | Caltha palustris       | 4                      | Mostly Shady           | $9.90                  | 030699                 |\n",
       "| Dutchman's-Breeches    | Dicentra cucullaria    | 3                      | Mostly Shady           | $6.44                  | 012099                 |\n",
       "| Ginger, Wild           | Asarum canadense       | 3                      | Mostly Shady           | $9.03                  | 041899                 |\n",
       "\n"
      ],
      "text/plain": [
       "  COMMON              BOTANICAL              ZONE LIGHT        PRICE\n",
       "1 Bloodroot           Sanguinaria canadensis 4    Mostly Shady $2.44\n",
       "2 Columbine           Aquilegia canadensis   3    Mostly Shady $9.37\n",
       "3 Marsh Marigold      Caltha palustris       4    Mostly Sunny $6.81\n",
       "4 Cowslip             Caltha palustris       4    Mostly Shady $9.90\n",
       "5 Dutchman's-Breeches Dicentra cucullaria    3    Mostly Shady $6.44\n",
       "6 Ginger, Wild        Asarum canadense       3    Mostly Shady $9.03\n",
       "  AVAILABILITY\n",
       "1 031599      \n",
       "2 030699      \n",
       "3 051799      \n",
       "4 030699      \n",
       "5 012099      \n",
       "6 041899      "
      ]
     },
     "metadata": {},
     "output_type": "display_data"
    }
   ],
   "source": [
    "#Doc noi dung tap tin va chuyen thanh dataframe\n",
    "plan_catalog <- xmlToDataFrame('plan_catalog.xml')\n",
    "head(plan_catalog)"
   ]
  },
  {
   "cell_type": "code",
   "execution_count": 9,
   "metadata": {},
   "outputs": [
    {
     "data": {
      "text/html": [
       "<table>\n",
       "<thead><tr><th></th><th scope=col>COMMON</th><th scope=col>BOTANICAL</th><th scope=col>ZONE</th><th scope=col>LIGHT</th><th scope=col>PRICE</th><th scope=col>AVAILABILITY</th></tr></thead>\n",
       "<tbody>\n",
       "\t<tr><th scope=row>23</th><td>Black-Eyed Susan  </td><td>Rudbeckia hirta   </td><td>Annual            </td><td>Sunny             </td><td>$9.80             </td><td>061899            </td></tr>\n",
       "\t<tr><th scope=row>26</th><td>Butterfly Weed    </td><td>Asclepias tuberosa</td><td>Annual            </td><td>Sunny             </td><td>$2.78             </td><td>063099            </td></tr>\n",
       "</tbody>\n",
       "</table>\n"
      ],
      "text/latex": [
       "\\begin{tabular}{r|llllll}\n",
       "  & COMMON & BOTANICAL & ZONE & LIGHT & PRICE & AVAILABILITY\\\\\n",
       "\\hline\n",
       "\t23 & Black-Eyed Susan   & Rudbeckia hirta    & Annual             & Sunny              & \\$9.80            & 061899            \\\\\n",
       "\t26 & Butterfly Weed     & Asclepias tuberosa & Annual             & Sunny              & \\$2.78            & 063099            \\\\\n",
       "\\end{tabular}\n"
      ],
      "text/markdown": [
       "\n",
       "| <!--/--> | COMMON | BOTANICAL | ZONE | LIGHT | PRICE | AVAILABILITY |\n",
       "|---|---|---|---|---|---|---|\n",
       "| 23 | Black-Eyed Susan   | Rudbeckia hirta    | Annual             | Sunny              | $9.80              | 061899             |\n",
       "| 26 | Butterfly Weed     | Asclepias tuberosa | Annual             | Sunny              | $2.78              | 063099             |\n",
       "\n"
      ],
      "text/plain": [
       "   COMMON           BOTANICAL          ZONE   LIGHT PRICE AVAILABILITY\n",
       "23 Black-Eyed Susan Rudbeckia hirta    Annual Sunny $9.80 061899      \n",
       "26 Butterfly Weed   Asclepias tuberosa Annual Sunny $2.78 063099      "
      ]
     },
     "metadata": {},
     "output_type": "display_data"
    }
   ],
   "source": [
    "#Liet ke nhung cay trong quanh nam (Annual) va co nang (Sunny)\n",
    "plan_annual_sunny <- subset(plan_catalog, plan_catalog$ZONE == \"Annual\" & plan_catalog$LIGHT ==\"Sunny\")\n",
    "head(plan_annual_sunny)"
   ]
  },
  {
   "cell_type": "markdown",
   "metadata": {},
   "source": [
    "### Ex2: Ghi nội dung vào file XML"
   ]
  },
  {
   "cell_type": "code",
   "execution_count": 13,
   "metadata": {},
   "outputs": [],
   "source": [
    "#Su dung du lieu mtcars\n",
    "# Tao file XML\n",
    "doc = newXMLDoc()\n",
    "top = newXMLNode(\"cars\", doc = doc)\n",
    "for (row in 1: nrow(mtcars)) {\n",
    "    cdnode = newXMLNode(\"CD\", parent = top)\n",
    "    newXMLNode(\"names\", mtcars[row, \"names\"], parent = cdnode)\n",
    "    newXMLNode(\"mpg\", mtcars[row, \"mpg\"], parent = cdnode)\n",
    "    newXMLNode(\"wt\", mtcars[row, \"wt\"], parent = cdnode)\n",
    "    newXMLNode(\"gear\", mtcars[row, \"gear\"], parent = cdnode)\n",
    "}"
   ]
  },
  {
   "cell_type": "code",
   "execution_count": 15,
   "metadata": {},
   "outputs": [],
   "source": [
    "#Ghi tai lieu vao mtcars.xml\n",
    "cat(saveXML(doc, indent = TRUE, \n",
    "            prefix = \"<?xml version=\\\"1.0\\\" encoding=\\\"utf-8\\\" standalone=\\\"no\\\"?>\\n\"),\n",
    "            file = \"mtcars.xml\")"
   ]
  },
  {
   "cell_type": "code",
   "execution_count": 16,
   "metadata": {},
   "outputs": [
    {
     "data": {
      "text/html": [
       "<table>\n",
       "<thead><tr><th scope=col>names</th><th scope=col>mpg</th><th scope=col>wt</th><th scope=col>gear</th></tr></thead>\n",
       "<tbody>\n",
       "\t<tr><td>Mazda RX4        </td><td>21               </td><td>2.62             </td><td>4                </td></tr>\n",
       "\t<tr><td>Mazda RX4 Wag    </td><td>21               </td><td>2.875            </td><td>4                </td></tr>\n",
       "\t<tr><td>Datsun 710       </td><td>22.8             </td><td>2.32             </td><td>4                </td></tr>\n",
       "\t<tr><td>Hornet 4 Drive   </td><td>21.4             </td><td>3.215            </td><td>3                </td></tr>\n",
       "\t<tr><td>Hornet Sportabout</td><td>18.7             </td><td>3.44             </td><td>3                </td></tr>\n",
       "\t<tr><td>Valiant          </td><td>18.1             </td><td>3.46             </td><td>3                </td></tr>\n",
       "</tbody>\n",
       "</table>\n"
      ],
      "text/latex": [
       "\\begin{tabular}{r|llll}\n",
       " names & mpg & wt & gear\\\\\n",
       "\\hline\n",
       "\t Mazda RX4         & 21                & 2.62              & 4                \\\\\n",
       "\t Mazda RX4 Wag     & 21                & 2.875             & 4                \\\\\n",
       "\t Datsun 710        & 22.8              & 2.32              & 4                \\\\\n",
       "\t Hornet 4 Drive    & 21.4              & 3.215             & 3                \\\\\n",
       "\t Hornet Sportabout & 18.7              & 3.44              & 3                \\\\\n",
       "\t Valiant           & 18.1              & 3.46              & 3                \\\\\n",
       "\\end{tabular}\n"
      ],
      "text/markdown": [
       "\n",
       "| names | mpg | wt | gear |\n",
       "|---|---|---|---|\n",
       "| Mazda RX4         | 21                | 2.62              | 4                 |\n",
       "| Mazda RX4 Wag     | 21                | 2.875             | 4                 |\n",
       "| Datsun 710        | 22.8              | 2.32              | 4                 |\n",
       "| Hornet 4 Drive    | 21.4              | 3.215             | 3                 |\n",
       "| Hornet Sportabout | 18.7              | 3.44              | 3                 |\n",
       "| Valiant           | 18.1              | 3.46              | 3                 |\n",
       "\n"
      ],
      "text/plain": [
       "  names             mpg  wt    gear\n",
       "1 Mazda RX4         21   2.62  4   \n",
       "2 Mazda RX4 Wag     21   2.875 4   \n",
       "3 Datsun 710        22.8 2.32  4   \n",
       "4 Hornet 4 Drive    21.4 3.215 3   \n",
       "5 Hornet Sportabout 18.7 3.44  3   \n",
       "6 Valiant           18.1 3.46  3   "
      ]
     },
     "metadata": {},
     "output_type": "display_data"
    }
   ],
   "source": [
    "mtcars_new <- xmlToDataFrame(\"mtcars.xml\")\n",
    "head(mtcars_new)"
   ]
  },
  {
   "cell_type": "markdown",
   "metadata": {},
   "source": [
    "### Ex3: Đọc, xử lý và ghi nội dung JSON"
   ]
  },
  {
   "cell_type": "code",
   "execution_count": 17,
   "metadata": {},
   "outputs": [],
   "source": [
    "library('jsonlite')"
   ]
  },
  {
   "cell_type": "code",
   "execution_count": 19,
   "metadata": {},
   "outputs": [
    {
     "data": {
      "text/html": [
       "<dl>\n",
       "\t<dt>$Tree</dt>\n",
       "\t\t<dd><ol class=list-inline>\n",
       "\t<li>'1'</li>\n",
       "\t<li>'1'</li>\n",
       "\t<li>'1'</li>\n",
       "\t<li>'1'</li>\n",
       "\t<li>'1'</li>\n",
       "\t<li>'1'</li>\n",
       "\t<li>'1'</li>\n",
       "\t<li>'2'</li>\n",
       "\t<li>'2'</li>\n",
       "\t<li>'2'</li>\n",
       "\t<li>'2'</li>\n",
       "\t<li>'2'</li>\n",
       "\t<li>'2'</li>\n",
       "\t<li>'2'</li>\n",
       "\t<li>'3'</li>\n",
       "\t<li>'3'</li>\n",
       "\t<li>'3'</li>\n",
       "\t<li>'3'</li>\n",
       "\t<li>'3'</li>\n",
       "\t<li>'3'</li>\n",
       "\t<li>'3'</li>\n",
       "\t<li>'4'</li>\n",
       "\t<li>'4'</li>\n",
       "\t<li>'4'</li>\n",
       "\t<li>'4'</li>\n",
       "\t<li>'4'</li>\n",
       "\t<li>'4'</li>\n",
       "\t<li>'4'</li>\n",
       "\t<li>'5'</li>\n",
       "\t<li>'5'</li>\n",
       "\t<li>'5'</li>\n",
       "\t<li>'5'</li>\n",
       "\t<li>'5'</li>\n",
       "\t<li>'5'</li>\n",
       "\t<li>'5'</li>\n",
       "</ol>\n",
       "</dd>\n",
       "\t<dt>$age</dt>\n",
       "\t\t<dd><ol class=list-inline>\n",
       "\t<li>118</li>\n",
       "\t<li>484</li>\n",
       "\t<li>664</li>\n",
       "\t<li>1004</li>\n",
       "\t<li>1231</li>\n",
       "\t<li>1372</li>\n",
       "\t<li>1582</li>\n",
       "\t<li>118</li>\n",
       "\t<li>484</li>\n",
       "\t<li>664</li>\n",
       "\t<li>1004</li>\n",
       "\t<li>1231</li>\n",
       "\t<li>1372</li>\n",
       "\t<li>1582</li>\n",
       "\t<li>118</li>\n",
       "\t<li>484</li>\n",
       "\t<li>664</li>\n",
       "\t<li>1004</li>\n",
       "\t<li>1231</li>\n",
       "\t<li>1372</li>\n",
       "\t<li>1582</li>\n",
       "\t<li>118</li>\n",
       "\t<li>484</li>\n",
       "\t<li>664</li>\n",
       "\t<li>1004</li>\n",
       "\t<li>1231</li>\n",
       "\t<li>1372</li>\n",
       "\t<li>1582</li>\n",
       "\t<li>118</li>\n",
       "\t<li>484</li>\n",
       "\t<li>664</li>\n",
       "\t<li>1004</li>\n",
       "\t<li>1231</li>\n",
       "\t<li>1372</li>\n",
       "\t<li>1582</li>\n",
       "</ol>\n",
       "</dd>\n",
       "\t<dt>$circumference</dt>\n",
       "\t\t<dd><ol class=list-inline>\n",
       "\t<li>30</li>\n",
       "\t<li>58</li>\n",
       "\t<li>87</li>\n",
       "\t<li>115</li>\n",
       "\t<li>120</li>\n",
       "\t<li>142</li>\n",
       "\t<li>145</li>\n",
       "\t<li>33</li>\n",
       "\t<li>69</li>\n",
       "\t<li>111</li>\n",
       "\t<li>156</li>\n",
       "\t<li>172</li>\n",
       "\t<li>203</li>\n",
       "\t<li>203</li>\n",
       "\t<li>30</li>\n",
       "\t<li>51</li>\n",
       "\t<li>75</li>\n",
       "\t<li>108</li>\n",
       "\t<li>115</li>\n",
       "\t<li>139</li>\n",
       "\t<li>140</li>\n",
       "\t<li>32</li>\n",
       "\t<li>62</li>\n",
       "\t<li>112</li>\n",
       "\t<li>167</li>\n",
       "\t<li>179</li>\n",
       "\t<li>209</li>\n",
       "\t<li>214</li>\n",
       "\t<li>30</li>\n",
       "\t<li>49</li>\n",
       "\t<li>81</li>\n",
       "\t<li>125</li>\n",
       "\t<li>142</li>\n",
       "\t<li>174</li>\n",
       "\t<li>177</li>\n",
       "</ol>\n",
       "</dd>\n",
       "</dl>\n"
      ],
      "text/latex": [
       "\\begin{description}\n",
       "\\item[\\$Tree] \\begin{enumerate*}\n",
       "\\item '1'\n",
       "\\item '1'\n",
       "\\item '1'\n",
       "\\item '1'\n",
       "\\item '1'\n",
       "\\item '1'\n",
       "\\item '1'\n",
       "\\item '2'\n",
       "\\item '2'\n",
       "\\item '2'\n",
       "\\item '2'\n",
       "\\item '2'\n",
       "\\item '2'\n",
       "\\item '2'\n",
       "\\item '3'\n",
       "\\item '3'\n",
       "\\item '3'\n",
       "\\item '3'\n",
       "\\item '3'\n",
       "\\item '3'\n",
       "\\item '3'\n",
       "\\item '4'\n",
       "\\item '4'\n",
       "\\item '4'\n",
       "\\item '4'\n",
       "\\item '4'\n",
       "\\item '4'\n",
       "\\item '4'\n",
       "\\item '5'\n",
       "\\item '5'\n",
       "\\item '5'\n",
       "\\item '5'\n",
       "\\item '5'\n",
       "\\item '5'\n",
       "\\item '5'\n",
       "\\end{enumerate*}\n",
       "\n",
       "\\item[\\$age] \\begin{enumerate*}\n",
       "\\item 118\n",
       "\\item 484\n",
       "\\item 664\n",
       "\\item 1004\n",
       "\\item 1231\n",
       "\\item 1372\n",
       "\\item 1582\n",
       "\\item 118\n",
       "\\item 484\n",
       "\\item 664\n",
       "\\item 1004\n",
       "\\item 1231\n",
       "\\item 1372\n",
       "\\item 1582\n",
       "\\item 118\n",
       "\\item 484\n",
       "\\item 664\n",
       "\\item 1004\n",
       "\\item 1231\n",
       "\\item 1372\n",
       "\\item 1582\n",
       "\\item 118\n",
       "\\item 484\n",
       "\\item 664\n",
       "\\item 1004\n",
       "\\item 1231\n",
       "\\item 1372\n",
       "\\item 1582\n",
       "\\item 118\n",
       "\\item 484\n",
       "\\item 664\n",
       "\\item 1004\n",
       "\\item 1231\n",
       "\\item 1372\n",
       "\\item 1582\n",
       "\\end{enumerate*}\n",
       "\n",
       "\\item[\\$circumference] \\begin{enumerate*}\n",
       "\\item 30\n",
       "\\item 58\n",
       "\\item 87\n",
       "\\item 115\n",
       "\\item 120\n",
       "\\item 142\n",
       "\\item 145\n",
       "\\item 33\n",
       "\\item 69\n",
       "\\item 111\n",
       "\\item 156\n",
       "\\item 172\n",
       "\\item 203\n",
       "\\item 203\n",
       "\\item 30\n",
       "\\item 51\n",
       "\\item 75\n",
       "\\item 108\n",
       "\\item 115\n",
       "\\item 139\n",
       "\\item 140\n",
       "\\item 32\n",
       "\\item 62\n",
       "\\item 112\n",
       "\\item 167\n",
       "\\item 179\n",
       "\\item 209\n",
       "\\item 214\n",
       "\\item 30\n",
       "\\item 49\n",
       "\\item 81\n",
       "\\item 125\n",
       "\\item 142\n",
       "\\item 174\n",
       "\\item 177\n",
       "\\end{enumerate*}\n",
       "\n",
       "\\end{description}\n"
      ],
      "text/markdown": [
       "$Tree\n",
       ":   1. '1'\n",
       "2. '1'\n",
       "3. '1'\n",
       "4. '1'\n",
       "5. '1'\n",
       "6. '1'\n",
       "7. '1'\n",
       "8. '2'\n",
       "9. '2'\n",
       "10. '2'\n",
       "11. '2'\n",
       "12. '2'\n",
       "13. '2'\n",
       "14. '2'\n",
       "15. '3'\n",
       "16. '3'\n",
       "17. '3'\n",
       "18. '3'\n",
       "19. '3'\n",
       "20. '3'\n",
       "21. '3'\n",
       "22. '4'\n",
       "23. '4'\n",
       "24. '4'\n",
       "25. '4'\n",
       "26. '4'\n",
       "27. '4'\n",
       "28. '4'\n",
       "29. '5'\n",
       "30. '5'\n",
       "31. '5'\n",
       "32. '5'\n",
       "33. '5'\n",
       "34. '5'\n",
       "35. '5'\n",
       "\n",
       "\n",
       "\n",
       "$age\n",
       ":   1. 118\n",
       "2. 484\n",
       "3. 664\n",
       "4. 1004\n",
       "5. 1231\n",
       "6. 1372\n",
       "7. 1582\n",
       "8. 118\n",
       "9. 484\n",
       "10. 664\n",
       "11. 1004\n",
       "12. 1231\n",
       "13. 1372\n",
       "14. 1582\n",
       "15. 118\n",
       "16. 484\n",
       "17. 664\n",
       "18. 1004\n",
       "19. 1231\n",
       "20. 1372\n",
       "21. 1582\n",
       "22. 118\n",
       "23. 484\n",
       "24. 664\n",
       "25. 1004\n",
       "26. 1231\n",
       "27. 1372\n",
       "28. 1582\n",
       "29. 118\n",
       "30. 484\n",
       "31. 664\n",
       "32. 1004\n",
       "33. 1231\n",
       "34. 1372\n",
       "35. 1582\n",
       "\n",
       "\n",
       "\n",
       "$circumference\n",
       ":   1. 30\n",
       "2. 58\n",
       "3. 87\n",
       "4. 115\n",
       "5. 120\n",
       "6. 142\n",
       "7. 145\n",
       "8. 33\n",
       "9. 69\n",
       "10. 111\n",
       "11. 156\n",
       "12. 172\n",
       "13. 203\n",
       "14. 203\n",
       "15. 30\n",
       "16. 51\n",
       "17. 75\n",
       "18. 108\n",
       "19. 115\n",
       "20. 139\n",
       "21. 140\n",
       "22. 32\n",
       "23. 62\n",
       "24. 112\n",
       "25. 167\n",
       "26. 179\n",
       "27. 209\n",
       "28. 214\n",
       "29. 30\n",
       "30. 49\n",
       "31. 81\n",
       "32. 125\n",
       "33. 142\n",
       "34. 174\n",
       "35. 177\n",
       "\n",
       "\n",
       "\n",
       "\n",
       "\n"
      ],
      "text/plain": [
       "$Tree\n",
       " [1] \"1\" \"1\" \"1\" \"1\" \"1\" \"1\" \"1\" \"2\" \"2\" \"2\" \"2\" \"2\" \"2\" \"2\" \"3\" \"3\" \"3\" \"3\" \"3\"\n",
       "[20] \"3\" \"3\" \"4\" \"4\" \"4\" \"4\" \"4\" \"4\" \"4\" \"5\" \"5\" \"5\" \"5\" \"5\" \"5\" \"5\"\n",
       "\n",
       "$age\n",
       " [1]  118  484  664 1004 1231 1372 1582  118  484  664 1004 1231 1372 1582  118\n",
       "[16]  484  664 1004 1231 1372 1582  118  484  664 1004 1231 1372 1582  118  484\n",
       "[31]  664 1004 1231 1372 1582\n",
       "\n",
       "$circumference\n",
       " [1]  30  58  87 115 120 142 145  33  69 111 156 172 203 203  30  51  75 108 115\n",
       "[20] 139 140  32  62 112 167 179 209 214  30  49  81 125 142 174 177\n"
      ]
     },
     "metadata": {},
     "output_type": "display_data"
    }
   ],
   "source": [
    "#Doc tap tin orange.json\n",
    "orange <- fromJSON('Chapter 10\\\\Du_lieu\\\\orange.json')\n",
    "orange"
   ]
  },
  {
   "cell_type": "code",
   "execution_count": 20,
   "metadata": {},
   "outputs": [
    {
     "data": {
      "text/html": [
       "<table>\n",
       "<thead><tr><th scope=col>Tree</th><th scope=col>age</th><th scope=col>circumference</th></tr></thead>\n",
       "<tbody>\n",
       "\t<tr><td>1   </td><td> 118</td><td> 30 </td></tr>\n",
       "\t<tr><td>1   </td><td> 484</td><td> 58 </td></tr>\n",
       "\t<tr><td>1   </td><td> 664</td><td> 87 </td></tr>\n",
       "\t<tr><td>1   </td><td>1004</td><td>115 </td></tr>\n",
       "\t<tr><td>1   </td><td>1231</td><td>120 </td></tr>\n",
       "\t<tr><td>1   </td><td>1372</td><td>142 </td></tr>\n",
       "</tbody>\n",
       "</table>\n"
      ],
      "text/latex": [
       "\\begin{tabular}{r|lll}\n",
       " Tree & age & circumference\\\\\n",
       "\\hline\n",
       "\t 1    &  118 &  30 \\\\\n",
       "\t 1    &  484 &  58 \\\\\n",
       "\t 1    &  664 &  87 \\\\\n",
       "\t 1    & 1004 & 115 \\\\\n",
       "\t 1    & 1231 & 120 \\\\\n",
       "\t 1    & 1372 & 142 \\\\\n",
       "\\end{tabular}\n"
      ],
      "text/markdown": [
       "\n",
       "| Tree | age | circumference |\n",
       "|---|---|---|\n",
       "| 1    |  118 |  30  |\n",
       "| 1    |  484 |  58  |\n",
       "| 1    |  664 |  87  |\n",
       "| 1    | 1004 | 115  |\n",
       "| 1    | 1231 | 120  |\n",
       "| 1    | 1372 | 142  |\n",
       "\n"
      ],
      "text/plain": [
       "  Tree age  circumference\n",
       "1 1     118  30          \n",
       "2 1     484  58          \n",
       "3 1     664  87          \n",
       "4 1    1004 115          \n",
       "5 1    1231 120          \n",
       "6 1    1372 142          "
      ]
     },
     "metadata": {},
     "output_type": "display_data"
    }
   ],
   "source": [
    "#Dua vao dataframe\n",
    "orange_df <- as.data.frame(orange)\n",
    "head(orange_df)"
   ]
  },
  {
   "cell_type": "code",
   "execution_count": 34,
   "metadata": {},
   "outputs": [
    {
     "name": "stdout",
     "output_type": "stream",
     "text": [
      "[1] \"Cay cam co tuoi tho cao nhat: \"\n"
     ]
    },
    {
     "data": {
      "text/html": [
       "<table>\n",
       "<thead><tr><th></th><th scope=col>Tree</th><th scope=col>age</th><th scope=col>circumference</th></tr></thead>\n",
       "<tbody>\n",
       "\t<tr><th scope=row>7</th><td>1   </td><td>1582</td><td>145 </td></tr>\n",
       "</tbody>\n",
       "</table>\n"
      ],
      "text/latex": [
       "\\begin{tabular}{r|lll}\n",
       "  & Tree & age & circumference\\\\\n",
       "\\hline\n",
       "\t7 & 1    & 1582 & 145 \\\\\n",
       "\\end{tabular}\n"
      ],
      "text/markdown": [
       "\n",
       "| <!--/--> | Tree | age | circumference |\n",
       "|---|---|---|---|\n",
       "| 7 | 1    | 1582 | 145  |\n",
       "\n"
      ],
      "text/plain": [
       "  Tree age  circumference\n",
       "7 1    1582 145          "
      ]
     },
     "metadata": {},
     "output_type": "display_data"
    }
   ],
   "source": [
    "#Cay cam co tuoi tho cao nhat\n",
    "print(\"Cay cam co tuoi tho cao nhat: \")\n",
    "orange_df[which.max(orange_df$age),]"
   ]
  },
  {
   "cell_type": "code",
   "execution_count": 35,
   "metadata": {},
   "outputs": [
    {
     "name": "stdout",
     "output_type": "stream",
     "text": [
      "[1] \"Cay cam co tuoi tho thap nhat: \"\n"
     ]
    },
    {
     "data": {
      "text/html": [
       "<table>\n",
       "<thead><tr><th scope=col>Tree</th><th scope=col>age</th><th scope=col>circumference</th></tr></thead>\n",
       "<tbody>\n",
       "\t<tr><td>1  </td><td>118</td><td>30 </td></tr>\n",
       "</tbody>\n",
       "</table>\n"
      ],
      "text/latex": [
       "\\begin{tabular}{r|lll}\n",
       " Tree & age & circumference\\\\\n",
       "\\hline\n",
       "\t 1   & 118 & 30 \\\\\n",
       "\\end{tabular}\n"
      ],
      "text/markdown": [
       "\n",
       "| Tree | age | circumference |\n",
       "|---|---|---|\n",
       "| 1   | 118 | 30  |\n",
       "\n"
      ],
      "text/plain": [
       "  Tree age circumference\n",
       "1 1    118 30           "
      ]
     },
     "metadata": {},
     "output_type": "display_data"
    }
   ],
   "source": [
    "#Cay cam co tuoi tho thap nhat\n",
    "print(\"Cay cam co tuoi tho thap nhat: \")\n",
    "orange_df[which.min(orange_df$age),]"
   ]
  },
  {
   "cell_type": "code",
   "execution_count": 24,
   "metadata": {},
   "outputs": [],
   "source": [
    "# Cho biet cay cam co Circumference > 100 va age > 1000. Co tat cac bao nhieu cay cam\n",
    "tree_100_1000 <- subset(orange_df, orange_df$age > 1000 & orange_df$circumference > 100)"
   ]
  },
  {
   "cell_type": "code",
   "execution_count": 27,
   "metadata": {},
   "outputs": [
    {
     "name": "stdout",
     "output_type": "stream",
     "text": [
      "[1] \" So cay cam co circumference > 100 & age > 1000 la  20\"\n"
     ]
    }
   ],
   "source": [
    "print(paste(\" So cay cam co circumference > 100 & age > 1000 la \", dim(tree_100_1000)[1]))"
   ]
  },
  {
   "cell_type": "code",
   "execution_count": 28,
   "metadata": {},
   "outputs": [
    {
     "name": "stdout",
     "output_type": "stream",
     "text": [
      "[1] \"Danh sach cac cay cam co circumference > 100 & age > 1000 :\"\n",
      "   Tree  age circumference\n",
      "4     1 1004           115\n",
      "5     1 1231           120\n",
      "6     1 1372           142\n",
      "7     1 1582           145\n",
      "11    2 1004           156\n",
      "12    2 1231           172\n",
      "13    2 1372           203\n",
      "14    2 1582           203\n",
      "18    3 1004           108\n",
      "19    3 1231           115\n",
      "20    3 1372           139\n",
      "21    3 1582           140\n",
      "25    4 1004           167\n",
      "26    4 1231           179\n",
      "27    4 1372           209\n",
      "28    4 1582           214\n",
      "32    5 1004           125\n",
      "33    5 1231           142\n",
      "34    5 1372           174\n",
      "35    5 1582           177\n"
     ]
    }
   ],
   "source": [
    "print(\"Danh sach cac cay cam co circumference > 100 & age > 1000 :\")\n",
    "print(tree_100_1000)"
   ]
  },
  {
   "cell_type": "code",
   "execution_count": 29,
   "metadata": {},
   "outputs": [],
   "source": [
    "# Chuyen du lieu thanh json\n",
    "tree_100_1000_json <- toJSON(tree_100_1000)"
   ]
  },
  {
   "cell_type": "code",
   "execution_count": 30,
   "metadata": {},
   "outputs": [],
   "source": [
    "#Ghi vao tap tin json\n",
    "#save file\n",
    "write(tree_100_1000_json, file = \"orange_new.json\")"
   ]
  },
  {
   "cell_type": "code",
   "execution_count": 31,
   "metadata": {},
   "outputs": [
    {
     "data": {
      "text/html": [
       "<table>\n",
       "<thead><tr><th scope=col>Tree</th><th scope=col>age</th><th scope=col>circumference</th></tr></thead>\n",
       "<tbody>\n",
       "\t<tr><td>1   </td><td>1004</td><td>115 </td></tr>\n",
       "\t<tr><td>1   </td><td>1231</td><td>120 </td></tr>\n",
       "\t<tr><td>1   </td><td>1372</td><td>142 </td></tr>\n",
       "\t<tr><td>1   </td><td>1582</td><td>145 </td></tr>\n",
       "\t<tr><td>2   </td><td>1004</td><td>156 </td></tr>\n",
       "\t<tr><td>2   </td><td>1231</td><td>172 </td></tr>\n",
       "\t<tr><td>2   </td><td>1372</td><td>203 </td></tr>\n",
       "\t<tr><td>2   </td><td>1582</td><td>203 </td></tr>\n",
       "\t<tr><td>3   </td><td>1004</td><td>108 </td></tr>\n",
       "\t<tr><td>3   </td><td>1231</td><td>115 </td></tr>\n",
       "\t<tr><td>3   </td><td>1372</td><td>139 </td></tr>\n",
       "\t<tr><td>3   </td><td>1582</td><td>140 </td></tr>\n",
       "\t<tr><td>4   </td><td>1004</td><td>167 </td></tr>\n",
       "\t<tr><td>4   </td><td>1231</td><td>179 </td></tr>\n",
       "\t<tr><td>4   </td><td>1372</td><td>209 </td></tr>\n",
       "\t<tr><td>4   </td><td>1582</td><td>214 </td></tr>\n",
       "\t<tr><td>5   </td><td>1004</td><td>125 </td></tr>\n",
       "\t<tr><td>5   </td><td>1231</td><td>142 </td></tr>\n",
       "\t<tr><td>5   </td><td>1372</td><td>174 </td></tr>\n",
       "\t<tr><td>5   </td><td>1582</td><td>177 </td></tr>\n",
       "</tbody>\n",
       "</table>\n"
      ],
      "text/latex": [
       "\\begin{tabular}{r|lll}\n",
       " Tree & age & circumference\\\\\n",
       "\\hline\n",
       "\t 1    & 1004 & 115 \\\\\n",
       "\t 1    & 1231 & 120 \\\\\n",
       "\t 1    & 1372 & 142 \\\\\n",
       "\t 1    & 1582 & 145 \\\\\n",
       "\t 2    & 1004 & 156 \\\\\n",
       "\t 2    & 1231 & 172 \\\\\n",
       "\t 2    & 1372 & 203 \\\\\n",
       "\t 2    & 1582 & 203 \\\\\n",
       "\t 3    & 1004 & 108 \\\\\n",
       "\t 3    & 1231 & 115 \\\\\n",
       "\t 3    & 1372 & 139 \\\\\n",
       "\t 3    & 1582 & 140 \\\\\n",
       "\t 4    & 1004 & 167 \\\\\n",
       "\t 4    & 1231 & 179 \\\\\n",
       "\t 4    & 1372 & 209 \\\\\n",
       "\t 4    & 1582 & 214 \\\\\n",
       "\t 5    & 1004 & 125 \\\\\n",
       "\t 5    & 1231 & 142 \\\\\n",
       "\t 5    & 1372 & 174 \\\\\n",
       "\t 5    & 1582 & 177 \\\\\n",
       "\\end{tabular}\n"
      ],
      "text/markdown": [
       "\n",
       "| Tree | age | circumference |\n",
       "|---|---|---|\n",
       "| 1    | 1004 | 115  |\n",
       "| 1    | 1231 | 120  |\n",
       "| 1    | 1372 | 142  |\n",
       "| 1    | 1582 | 145  |\n",
       "| 2    | 1004 | 156  |\n",
       "| 2    | 1231 | 172  |\n",
       "| 2    | 1372 | 203  |\n",
       "| 2    | 1582 | 203  |\n",
       "| 3    | 1004 | 108  |\n",
       "| 3    | 1231 | 115  |\n",
       "| 3    | 1372 | 139  |\n",
       "| 3    | 1582 | 140  |\n",
       "| 4    | 1004 | 167  |\n",
       "| 4    | 1231 | 179  |\n",
       "| 4    | 1372 | 209  |\n",
       "| 4    | 1582 | 214  |\n",
       "| 5    | 1004 | 125  |\n",
       "| 5    | 1231 | 142  |\n",
       "| 5    | 1372 | 174  |\n",
       "| 5    | 1582 | 177  |\n",
       "\n"
      ],
      "text/plain": [
       "   Tree age  circumference\n",
       "1  1    1004 115          \n",
       "2  1    1231 120          \n",
       "3  1    1372 142          \n",
       "4  1    1582 145          \n",
       "5  2    1004 156          \n",
       "6  2    1231 172          \n",
       "7  2    1372 203          \n",
       "8  2    1582 203          \n",
       "9  3    1004 108          \n",
       "10 3    1231 115          \n",
       "11 3    1372 139          \n",
       "12 3    1582 140          \n",
       "13 4    1004 167          \n",
       "14 4    1231 179          \n",
       "15 4    1372 209          \n",
       "16 4    1582 214          \n",
       "17 5    1004 125          \n",
       "18 5    1231 142          \n",
       "19 5    1372 174          \n",
       "20 5    1582 177          "
      ]
     },
     "metadata": {},
     "output_type": "display_data"
    }
   ],
   "source": [
    "#Doc noi dung vua ghi de kiem tra ket qua\n",
    "orange_new <- fromJSON(\"orange_new.json\")\n",
    "orange_new"
   ]
  },
  {
   "cell_type": "markdown",
   "metadata": {},
   "source": [
    "### Ex4: Đọc nội dung từ URL và ghi nội dung JSON"
   ]
  },
  {
   "cell_type": "code",
   "execution_count": 37,
   "metadata": {},
   "outputs": [
    {
     "name": "stderr",
     "output_type": "stream",
     "text": [
      "Warning message:\n",
      "\"package 'httr' was built under R version 3.6.3\""
     ]
    }
   ],
   "source": [
    "library(\"httr\")"
   ]
  },
  {
   "cell_type": "code",
   "execution_count": 40,
   "metadata": {},
   "outputs": [],
   "source": [
    "#Cho url http://phuong13021982.pythonanywhere.com/mystore/product_service/, doc noi dung tu URL\n",
    "url <- 'http://phuong13021982.pythonanywhere.com/mystore/product_service/'\n",
    "get_url <- GET(url)\n",
    "content <- rawToChar(get_url$content)\n",
    "json <- fromJSON(content)\n",
    "tivis <- data.frame(json)"
   ]
  },
  {
   "cell_type": "code",
   "execution_count": 46,
   "metadata": {},
   "outputs": [
    {
     "data": {
      "text/html": [
       "<table>\n",
       "<thead><tr><th scope=col>pk</th><th scope=col>name</th><th scope=col>fee</th><th scope=col>image</th></tr></thead>\n",
       "<tbody>\n",
       "\t<tr><td> 2                              </td><td>Asanzo 50 inch                  </td><td> 9000000                        </td><td>images/asanzo_4k_50_11690000.jpg</td></tr>\n",
       "\t<tr><td>11                              </td><td>Dell Vostro V3568 XF6C61        </td><td>11999000                        </td><td>images/Dell_vostro.jpg          </td></tr>\n",
       "\t<tr><td>12                              </td><td>Macbook Air 2017 MQD32          </td><td>18990000                        </td><td>images/MacbooAir.jpg            </td></tr>\n",
       "\t<tr><td> 3                              </td><td>Panasonic 40 inch               </td><td> 6590000                        </td><td>images/panansonic_40_6590000.jpg</td></tr>\n",
       "\t<tr><td> 5                              </td><td>Samsung 32 inch                 </td><td> 5999000                        </td><td>images/samsung_32_5990000.jpg   </td></tr>\n",
       "\t<tr><td> 9                              </td><td>Samsung Galaxy J2 Prime         </td><td> 2690000                        </td><td>images/SamsungPrime.jpg         </td></tr>\n",
       "</tbody>\n",
       "</table>\n"
      ],
      "text/latex": [
       "\\begin{tabular}{r|llll}\n",
       " pk & name & fee & image\\\\\n",
       "\\hline\n",
       "\t  2                                     & Asanzo 50 inch                         &  9000000                               & images/asanzo\\_4k\\_50\\_11690000.jpg\\\\\n",
       "\t 11                                 & Dell Vostro V3568 XF6C61           & 11999000                           & images/Dell\\_vostro.jpg          \\\\\n",
       "\t 12                               & Macbook Air 2017 MQD32           & 18990000                         & images/MacbooAir.jpg            \\\\\n",
       "\t  3                                   & Panasonic 40 inch                    &  6590000                             & images/panansonic\\_40\\_6590000.jpg\\\\\n",
       "\t  5                                   & Samsung 32 inch                      &  5999000                             & images/samsung\\_32\\_5990000.jpg   \\\\\n",
       "\t  9                               & Samsung Galaxy J2 Prime          &  2690000                         & images/SamsungPrime.jpg         \\\\\n",
       "\\end{tabular}\n"
      ],
      "text/markdown": [
       "\n",
       "| pk | name | fee | image |\n",
       "|---|---|---|---|\n",
       "|  2                               | Asanzo 50 inch                   |  9000000                         | images/asanzo_4k_50_11690000.jpg |\n",
       "| 11                               | Dell Vostro V3568 XF6C61         | 11999000                         | images/Dell_vostro.jpg           |\n",
       "| 12                               | Macbook Air 2017 MQD32           | 18990000                         | images/MacbooAir.jpg             |\n",
       "|  3                               | Panasonic 40 inch                |  6590000                         | images/panansonic_40_6590000.jpg |\n",
       "|  5                               | Samsung 32 inch                  |  5999000                         | images/samsung_32_5990000.jpg    |\n",
       "|  9                               | Samsung Galaxy J2 Prime          |  2690000                         | images/SamsungPrime.jpg          |\n",
       "\n"
      ],
      "text/plain": [
       "  pk name                     fee      image                           \n",
       "1  2 Asanzo 50 inch            9000000 images/asanzo_4k_50_11690000.jpg\n",
       "2 11 Dell Vostro V3568 XF6C61 11999000 images/Dell_vostro.jpg          \n",
       "3 12 Macbook Air 2017 MQD32   18990000 images/MacbooAir.jpg            \n",
       "4  3 Panasonic 40 inch         6590000 images/panansonic_40_6590000.jpg\n",
       "5  5 Samsung 32 inch           5999000 images/samsung_32_5990000.jpg   \n",
       "6  9 Samsung Galaxy J2 Prime   2690000 images/SamsungPrime.jpg         "
      ]
     },
     "metadata": {},
     "output_type": "display_data"
    },
    {
     "name": "stdout",
     "output_type": "stream",
     "text": [
      "[1] \"data.frame\"\n"
     ]
    }
   ],
   "source": [
    "head(tivis)\n",
    "print(class(tivis))"
   ]
  },
  {
   "cell_type": "code",
   "execution_count": 42,
   "metadata": {},
   "outputs": [
    {
     "data": {
      "text/html": [
       "<table>\n",
       "<thead><tr><th scope=col>pk</th><th scope=col>name</th><th scope=col>fee</th><th scope=col>image</th></tr></thead>\n",
       "<tbody>\n",
       "\t<tr><td> 2                              </td><td>Asanzo 50 inch                  </td><td> 9000000                        </td><td>images/asanzo_4k_50_11690000.jpg</td></tr>\n",
       "\t<tr><td>11                              </td><td>Dell Vostro V3568 XF6C61        </td><td>11999000                        </td><td>images/Dell_vostro.jpg          </td></tr>\n",
       "\t<tr><td>12                              </td><td>Macbook Air 2017 MQD32          </td><td>18990000                        </td><td>images/MacbooAir.jpg            </td></tr>\n",
       "\t<tr><td> 3                              </td><td>Panasonic 40 inch               </td><td> 6590000                        </td><td>images/panansonic_40_6590000.jpg</td></tr>\n",
       "\t<tr><td> 5                              </td><td>Samsung 32 inch                 </td><td> 5999000                        </td><td>images/samsung_32_5990000.jpg   </td></tr>\n",
       "\t<tr><td> 9                              </td><td>Samsung Galaxy J2 Prime         </td><td> 2690000                        </td><td>images/SamsungPrime.jpg         </td></tr>\n",
       "</tbody>\n",
       "</table>\n"
      ],
      "text/latex": [
       "\\begin{tabular}{r|llll}\n",
       " pk & name & fee & image\\\\\n",
       "\\hline\n",
       "\t  2                                     & Asanzo 50 inch                         &  9000000                               & images/asanzo\\_4k\\_50\\_11690000.jpg\\\\\n",
       "\t 11                                 & Dell Vostro V3568 XF6C61           & 11999000                           & images/Dell\\_vostro.jpg          \\\\\n",
       "\t 12                               & Macbook Air 2017 MQD32           & 18990000                         & images/MacbooAir.jpg            \\\\\n",
       "\t  3                                   & Panasonic 40 inch                    &  6590000                             & images/panansonic\\_40\\_6590000.jpg\\\\\n",
       "\t  5                                   & Samsung 32 inch                      &  5999000                             & images/samsung\\_32\\_5990000.jpg   \\\\\n",
       "\t  9                               & Samsung Galaxy J2 Prime          &  2690000                         & images/SamsungPrime.jpg         \\\\\n",
       "\\end{tabular}\n"
      ],
      "text/markdown": [
       "\n",
       "| pk | name | fee | image |\n",
       "|---|---|---|---|\n",
       "|  2                               | Asanzo 50 inch                   |  9000000                         | images/asanzo_4k_50_11690000.jpg |\n",
       "| 11                               | Dell Vostro V3568 XF6C61         | 11999000                         | images/Dell_vostro.jpg           |\n",
       "| 12                               | Macbook Air 2017 MQD32           | 18990000                         | images/MacbooAir.jpg             |\n",
       "|  3                               | Panasonic 40 inch                |  6590000                         | images/panansonic_40_6590000.jpg |\n",
       "|  5                               | Samsung 32 inch                  |  5999000                         | images/samsung_32_5990000.jpg    |\n",
       "|  9                               | Samsung Galaxy J2 Prime          |  2690000                         | images/SamsungPrime.jpg          |\n",
       "\n"
      ],
      "text/plain": [
       "  pk name                     fee      image                           \n",
       "1  2 Asanzo 50 inch            9000000 images/asanzo_4k_50_11690000.jpg\n",
       "2 11 Dell Vostro V3568 XF6C61 11999000 images/Dell_vostro.jpg          \n",
       "3 12 Macbook Air 2017 MQD32   18990000 images/MacbooAir.jpg            \n",
       "4  3 Panasonic 40 inch         6590000 images/panansonic_40_6590000.jpg\n",
       "5  5 Samsung 32 inch           5999000 images/samsung_32_5990000.jpg   \n",
       "6  9 Samsung Galaxy J2 Prime   2690000 images/SamsungPrime.jpg         "
      ]
     },
     "metadata": {},
     "output_type": "display_data"
    }
   ],
   "source": [
    "#bo cot description\n",
    "tivis$description <- NULL\n",
    "head(tivis)"
   ]
  },
  {
   "cell_type": "code",
   "execution_count": 43,
   "metadata": {},
   "outputs": [],
   "source": [
    "#Chuyen tivis thanh json\n",
    "tivis_json <- toJSON(tivis)"
   ]
  },
  {
   "cell_type": "code",
   "execution_count": 44,
   "metadata": {},
   "outputs": [],
   "source": [
    "#ghi ra tap tin json\n",
    "write(tivis_json, file = 'tivis_json.json')"
   ]
  },
  {
   "cell_type": "code",
   "execution_count": 45,
   "metadata": {},
   "outputs": [
    {
     "data": {
      "text/html": [
       "<table>\n",
       "<thead><tr><th scope=col>pk</th><th scope=col>name</th><th scope=col>fee</th><th scope=col>image</th></tr></thead>\n",
       "<tbody>\n",
       "\t<tr><td> 2                              </td><td>Asanzo 50 inch                  </td><td> 9000000                        </td><td>images/asanzo_4k_50_11690000.jpg</td></tr>\n",
       "\t<tr><td>11                              </td><td>Dell Vostro V3568 XF6C61        </td><td>11999000                        </td><td>images/Dell_vostro.jpg          </td></tr>\n",
       "\t<tr><td>12                              </td><td>Macbook Air 2017 MQD32          </td><td>18990000                        </td><td>images/MacbooAir.jpg            </td></tr>\n",
       "\t<tr><td> 3                              </td><td>Panasonic 40 inch               </td><td> 6590000                        </td><td>images/panansonic_40_6590000.jpg</td></tr>\n",
       "\t<tr><td> 5                              </td><td>Samsung 32 inch                 </td><td> 5999000                        </td><td>images/samsung_32_5990000.jpg   </td></tr>\n",
       "\t<tr><td> 9                              </td><td>Samsung Galaxy J2 Prime         </td><td> 2690000                        </td><td>images/SamsungPrime.jpg         </td></tr>\n",
       "\t<tr><td> 6                              </td><td>Sharp 45 inch                   </td><td> 7490000                        </td><td>images/sharp_45_7490000.jpg     </td></tr>\n",
       "\t<tr><td> 7                              </td><td>Sony 48 inch                    </td><td>11599000                        </td><td>images/sony_48_11599000.png     </td></tr>\n",
       "\t<tr><td> 4                              </td><td>Sony 55 inch                    </td><td>20590000                        </td><td>images/sony_55_20590000.jpg     </td></tr>\n",
       "\t<tr><td> 8                              </td><td>TCL 55 inch                     </td><td> 9900000                        </td><td>images/tcl_55_9900000.jpg       </td></tr>\n",
       "\t<tr><td> 1                              </td><td>Toshiba 32 inch                 </td><td> 4590000                        </td><td>images/toshiba32_4590000.jpg    </td></tr>\n",
       "\t<tr><td>10                              </td><td>iPad WiFi 32GB New 2018         </td><td> 8390000                        </td><td>images/iPad_Samsung_Wifi.jpg    </td></tr>\n",
       "</tbody>\n",
       "</table>\n"
      ],
      "text/latex": [
       "\\begin{tabular}{r|llll}\n",
       " pk & name & fee & image\\\\\n",
       "\\hline\n",
       "\t  2                                     & Asanzo 50 inch                         &  9000000                               & images/asanzo\\_4k\\_50\\_11690000.jpg\\\\\n",
       "\t 11                                 & Dell Vostro V3568 XF6C61           & 11999000                           & images/Dell\\_vostro.jpg          \\\\\n",
       "\t 12                               & Macbook Air 2017 MQD32           & 18990000                         & images/MacbooAir.jpg            \\\\\n",
       "\t  3                                   & Panasonic 40 inch                    &  6590000                             & images/panansonic\\_40\\_6590000.jpg\\\\\n",
       "\t  5                                   & Samsung 32 inch                      &  5999000                             & images/samsung\\_32\\_5990000.jpg   \\\\\n",
       "\t  9                               & Samsung Galaxy J2 Prime          &  2690000                         & images/SamsungPrime.jpg         \\\\\n",
       "\t  6                                   & Sharp 45 inch                        &  7490000                             & images/sharp\\_45\\_7490000.jpg     \\\\\n",
       "\t  7                                   & Sony 48 inch                         & 11599000                             & images/sony\\_48\\_11599000.png     \\\\\n",
       "\t  4                                   & Sony 55 inch                         & 20590000                             & images/sony\\_55\\_20590000.jpg     \\\\\n",
       "\t  8                                   & TCL 55 inch                          &  9900000                             & images/tcl\\_55\\_9900000.jpg       \\\\\n",
       "\t  1                                 & Toshiba 32 inch                    &  4590000                           & images/toshiba32\\_4590000.jpg    \\\\\n",
       "\t 10                                   & iPad WiFi 32GB New 2018              &  8390000                             & images/iPad\\_Samsung\\_Wifi.jpg    \\\\\n",
       "\\end{tabular}\n"
      ],
      "text/markdown": [
       "\n",
       "| pk | name | fee | image |\n",
       "|---|---|---|---|\n",
       "|  2                               | Asanzo 50 inch                   |  9000000                         | images/asanzo_4k_50_11690000.jpg |\n",
       "| 11                               | Dell Vostro V3568 XF6C61         | 11999000                         | images/Dell_vostro.jpg           |\n",
       "| 12                               | Macbook Air 2017 MQD32           | 18990000                         | images/MacbooAir.jpg             |\n",
       "|  3                               | Panasonic 40 inch                |  6590000                         | images/panansonic_40_6590000.jpg |\n",
       "|  5                               | Samsung 32 inch                  |  5999000                         | images/samsung_32_5990000.jpg    |\n",
       "|  9                               | Samsung Galaxy J2 Prime          |  2690000                         | images/SamsungPrime.jpg          |\n",
       "|  6                               | Sharp 45 inch                    |  7490000                         | images/sharp_45_7490000.jpg      |\n",
       "|  7                               | Sony 48 inch                     | 11599000                         | images/sony_48_11599000.png      |\n",
       "|  4                               | Sony 55 inch                     | 20590000                         | images/sony_55_20590000.jpg      |\n",
       "|  8                               | TCL 55 inch                      |  9900000                         | images/tcl_55_9900000.jpg        |\n",
       "|  1                               | Toshiba 32 inch                  |  4590000                         | images/toshiba32_4590000.jpg     |\n",
       "| 10                               | iPad WiFi 32GB New 2018          |  8390000                         | images/iPad_Samsung_Wifi.jpg     |\n",
       "\n"
      ],
      "text/plain": [
       "   pk name                     fee      image                           \n",
       "1   2 Asanzo 50 inch            9000000 images/asanzo_4k_50_11690000.jpg\n",
       "2  11 Dell Vostro V3568 XF6C61 11999000 images/Dell_vostro.jpg          \n",
       "3  12 Macbook Air 2017 MQD32   18990000 images/MacbooAir.jpg            \n",
       "4   3 Panasonic 40 inch         6590000 images/panansonic_40_6590000.jpg\n",
       "5   5 Samsung 32 inch           5999000 images/samsung_32_5990000.jpg   \n",
       "6   9 Samsung Galaxy J2 Prime   2690000 images/SamsungPrime.jpg         \n",
       "7   6 Sharp 45 inch             7490000 images/sharp_45_7490000.jpg     \n",
       "8   7 Sony 48 inch             11599000 images/sony_48_11599000.png     \n",
       "9   4 Sony 55 inch             20590000 images/sony_55_20590000.jpg     \n",
       "10  8 TCL 55 inch               9900000 images/tcl_55_9900000.jpg       \n",
       "11  1 Toshiba 32 inch           4590000 images/toshiba32_4590000.jpg    \n",
       "12 10 iPad WiFi 32GB New 2018   8390000 images/iPad_Samsung_Wifi.jpg    "
      ]
     },
     "metadata": {},
     "output_type": "display_data"
    }
   ],
   "source": [
    "#Doc noi dung tu tap tin json vua ghi\n",
    "tivis_json_new <- fromJSON(\"tivis_json.json\")\n",
    "tivis_json_new"
   ]
  },
  {
   "cell_type": "code",
   "execution_count": null,
   "metadata": {},
   "outputs": [],
   "source": []
  }
 ],
 "metadata": {
  "kernelspec": {
   "display_name": "R",
   "language": "R",
   "name": "ir"
  },
  "language_info": {
   "codemirror_mode": "r",
   "file_extension": ".r",
   "mimetype": "text/x-r-source",
   "name": "R",
   "pygments_lexer": "r",
   "version": "3.6.1"
  }
 },
 "nbformat": 4,
 "nbformat_minor": 2
}
