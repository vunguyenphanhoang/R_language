{
 "cells": [
  {
   "cell_type": "markdown",
   "metadata": {},
   "source": [
    "### Ex1: PimaIndians Diabetes"
   ]
  },
  {
   "cell_type": "code",
   "execution_count": 1,
   "metadata": {},
   "outputs": [
    {
     "name": "stderr",
     "output_type": "stream",
     "text": [
      "Warning message:\n",
      "\"package 'mlbench' was built under R version 3.6.3\""
     ]
    }
   ],
   "source": [
    "library('mlbench')"
   ]
  },
  {
   "cell_type": "code",
   "execution_count": 2,
   "metadata": {},
   "outputs": [
    {
     "data": {
      "text/html": [
       "<table>\n",
       "<thead><tr><th scope=col>pregnant</th><th scope=col>glucose</th><th scope=col>pressure</th><th scope=col>triceps</th><th scope=col>insulin</th><th scope=col>mass</th><th scope=col>pedigree</th><th scope=col>age</th><th scope=col>diabetes</th></tr></thead>\n",
       "<tbody>\n",
       "\t<tr><td> 6   </td><td>148  </td><td>72   </td><td>35   </td><td>  0  </td><td>33.6 </td><td>0.627</td><td>50   </td><td>pos  </td></tr>\n",
       "\t<tr><td> 1   </td><td> 85  </td><td>66   </td><td>29   </td><td>  0  </td><td>26.6 </td><td>0.351</td><td>31   </td><td>neg  </td></tr>\n",
       "\t<tr><td> 8   </td><td>183  </td><td>64   </td><td> 0   </td><td>  0  </td><td>23.3 </td><td>0.672</td><td>32   </td><td>pos  </td></tr>\n",
       "\t<tr><td> 1   </td><td> 89  </td><td>66   </td><td>23   </td><td> 94  </td><td>28.1 </td><td>0.167</td><td>21   </td><td>neg  </td></tr>\n",
       "\t<tr><td> 0   </td><td>137  </td><td>40   </td><td>35   </td><td>168  </td><td>43.1 </td><td>2.288</td><td>33   </td><td>pos  </td></tr>\n",
       "\t<tr><td> 5   </td><td>116  </td><td>74   </td><td> 0   </td><td>  0  </td><td>25.6 </td><td>0.201</td><td>30   </td><td>neg  </td></tr>\n",
       "\t<tr><td> 3   </td><td> 78  </td><td>50   </td><td>32   </td><td> 88  </td><td>31.0 </td><td>0.248</td><td>26   </td><td>pos  </td></tr>\n",
       "\t<tr><td>10   </td><td>115  </td><td> 0   </td><td> 0   </td><td>  0  </td><td>35.3 </td><td>0.134</td><td>29   </td><td>neg  </td></tr>\n",
       "\t<tr><td> 2   </td><td>197  </td><td>70   </td><td>45   </td><td>543  </td><td>30.5 </td><td>0.158</td><td>53   </td><td>pos  </td></tr>\n",
       "\t<tr><td> 8   </td><td>125  </td><td>96   </td><td> 0   </td><td>  0  </td><td> 0.0 </td><td>0.232</td><td>54   </td><td>pos  </td></tr>\n",
       "</tbody>\n",
       "</table>\n"
      ],
      "text/latex": [
       "\\begin{tabular}{r|lllllllll}\n",
       " pregnant & glucose & pressure & triceps & insulin & mass & pedigree & age & diabetes\\\\\n",
       "\\hline\n",
       "\t  6    & 148   & 72    & 35    &   0   & 33.6  & 0.627 & 50    & pos  \\\\\n",
       "\t  1    &  85   & 66    & 29    &   0   & 26.6  & 0.351 & 31    & neg  \\\\\n",
       "\t  8    & 183   & 64    &  0    &   0   & 23.3  & 0.672 & 32    & pos  \\\\\n",
       "\t  1    &  89   & 66    & 23    &  94   & 28.1  & 0.167 & 21    & neg  \\\\\n",
       "\t  0    & 137   & 40    & 35    & 168   & 43.1  & 2.288 & 33    & pos  \\\\\n",
       "\t  5    & 116   & 74    &  0    &   0   & 25.6  & 0.201 & 30    & neg  \\\\\n",
       "\t  3    &  78   & 50    & 32    &  88   & 31.0  & 0.248 & 26    & pos  \\\\\n",
       "\t 10    & 115   &  0    &  0    &   0   & 35.3  & 0.134 & 29    & neg  \\\\\n",
       "\t  2    & 197   & 70    & 45    & 543   & 30.5  & 0.158 & 53    & pos  \\\\\n",
       "\t  8    & 125   & 96    &  0    &   0   &  0.0  & 0.232 & 54    & pos  \\\\\n",
       "\\end{tabular}\n"
      ],
      "text/markdown": [
       "\n",
       "| pregnant | glucose | pressure | triceps | insulin | mass | pedigree | age | diabetes |\n",
       "|---|---|---|---|---|---|---|---|---|\n",
       "|  6    | 148   | 72    | 35    |   0   | 33.6  | 0.627 | 50    | pos   |\n",
       "|  1    |  85   | 66    | 29    |   0   | 26.6  | 0.351 | 31    | neg   |\n",
       "|  8    | 183   | 64    |  0    |   0   | 23.3  | 0.672 | 32    | pos   |\n",
       "|  1    |  89   | 66    | 23    |  94   | 28.1  | 0.167 | 21    | neg   |\n",
       "|  0    | 137   | 40    | 35    | 168   | 43.1  | 2.288 | 33    | pos   |\n",
       "|  5    | 116   | 74    |  0    |   0   | 25.6  | 0.201 | 30    | neg   |\n",
       "|  3    |  78   | 50    | 32    |  88   | 31.0  | 0.248 | 26    | pos   |\n",
       "| 10    | 115   |  0    |  0    |   0   | 35.3  | 0.134 | 29    | neg   |\n",
       "|  2    | 197   | 70    | 45    | 543   | 30.5  | 0.158 | 53    | pos   |\n",
       "|  8    | 125   | 96    |  0    |   0   |  0.0  | 0.232 | 54    | pos   |\n",
       "\n"
      ],
      "text/plain": [
       "   pregnant glucose pressure triceps insulin mass pedigree age diabetes\n",
       "1   6       148     72       35        0     33.6 0.627    50  pos     \n",
       "2   1        85     66       29        0     26.6 0.351    31  neg     \n",
       "3   8       183     64        0        0     23.3 0.672    32  pos     \n",
       "4   1        89     66       23       94     28.1 0.167    21  neg     \n",
       "5   0       137     40       35      168     43.1 2.288    33  pos     \n",
       "6   5       116     74        0        0     25.6 0.201    30  neg     \n",
       "7   3        78     50       32       88     31.0 0.248    26  pos     \n",
       "8  10       115      0        0        0     35.3 0.134    29  neg     \n",
       "9   2       197     70       45      543     30.5 0.158    53  pos     \n",
       "10  8       125     96        0        0      0.0 0.232    54  pos     "
      ]
     },
     "metadata": {},
     "output_type": "display_data"
    }
   ],
   "source": [
    "data(PimaIndiansDiabetes)\n",
    "head(PimaIndiansDiabetes, n=10)"
   ]
  },
  {
   "cell_type": "code",
   "execution_count": 3,
   "metadata": {},
   "outputs": [
    {
     "name": "stdout",
     "output_type": "stream",
     "text": [
      "'data.frame':\t768 obs. of  9 variables:\n",
      " $ pregnant: num  6 1 8 1 0 5 3 10 2 8 ...\n",
      " $ glucose : num  148 85 183 89 137 116 78 115 197 125 ...\n",
      " $ pressure: num  72 66 64 66 40 74 50 0 70 96 ...\n",
      " $ triceps : num  35 29 0 23 35 0 32 0 45 0 ...\n",
      " $ insulin : num  0 0 0 94 168 0 88 0 543 0 ...\n",
      " $ mass    : num  33.6 26.6 23.3 28.1 43.1 25.6 31 35.3 30.5 0 ...\n",
      " $ pedigree: num  0.627 0.351 0.672 0.167 2.288 ...\n",
      " $ age     : num  50 31 32 21 33 30 26 29 53 54 ...\n",
      " $ diabetes: Factor w/ 2 levels \"neg\",\"pos\": 2 1 2 1 2 1 2 1 2 2 ...\n"
     ]
    }
   ],
   "source": [
    "#In thong tin cua dataset\n",
    "str(PimaIndiansDiabetes)"
   ]
  },
  {
   "cell_type": "code",
   "execution_count": 4,
   "metadata": {},
   "outputs": [
    {
     "data": {
      "text/plain": [
       "    pregnant         glucose         pressure         triceps     \n",
       " Min.   : 0.000   Min.   :  0.0   Min.   :  0.00   Min.   : 0.00  \n",
       " 1st Qu.: 1.000   1st Qu.: 99.0   1st Qu.: 62.00   1st Qu.: 0.00  \n",
       " Median : 3.000   Median :117.0   Median : 72.00   Median :23.00  \n",
       " Mean   : 3.845   Mean   :120.9   Mean   : 69.11   Mean   :20.54  \n",
       " 3rd Qu.: 6.000   3rd Qu.:140.2   3rd Qu.: 80.00   3rd Qu.:32.00  \n",
       " Max.   :17.000   Max.   :199.0   Max.   :122.00   Max.   :99.00  \n",
       "    insulin           mass          pedigree           age        diabetes \n",
       " Min.   :  0.0   Min.   : 0.00   Min.   :0.0780   Min.   :21.00   neg:500  \n",
       " 1st Qu.:  0.0   1st Qu.:27.30   1st Qu.:0.2437   1st Qu.:24.00   pos:268  \n",
       " Median : 30.5   Median :32.00   Median :0.3725   Median :29.00            \n",
       " Mean   : 79.8   Mean   :31.99   Mean   :0.4719   Mean   :33.24            \n",
       " 3rd Qu.:127.2   3rd Qu.:36.60   3rd Qu.:0.6262   3rd Qu.:41.00            \n",
       " Max.   :846.0   Max.   :67.10   Max.   :2.4200   Max.   :81.00            "
      ]
     },
     "metadata": {},
     "output_type": "display_data"
    }
   ],
   "source": [
    "#In thong ke chung \n",
    "summary(PimaIndiansDiabetes)"
   ]
  },
  {
   "cell_type": "code",
   "execution_count": 5,
   "metadata": {},
   "outputs": [
    {
     "data": {
      "text/html": [
       "<ol class=list-inline>\n",
       "\t<li>768</li>\n",
       "\t<li>9</li>\n",
       "</ol>\n"
      ],
      "text/latex": [
       "\\begin{enumerate*}\n",
       "\\item 768\n",
       "\\item 9\n",
       "\\end{enumerate*}\n"
      ],
      "text/markdown": [
       "1. 768\n",
       "2. 9\n",
       "\n",
       "\n"
      ],
      "text/plain": [
       "[1] 768   9"
      ]
     },
     "metadata": {},
     "output_type": "display_data"
    }
   ],
   "source": [
    "#Xem so dong so cot\n",
    "dim(PimaIndiansDiabetes)"
   ]
  },
  {
   "cell_type": "code",
   "execution_count": 6,
   "metadata": {},
   "outputs": [
    {
     "data": {
      "text/html": [
       "<table>\n",
       "<thead><tr><th></th><th scope=col>freq</th><th scope=col>percentage</th></tr></thead>\n",
       "<tbody>\n",
       "\t<tr><th scope=row>neg</th><td>500      </td><td>0.6510417</td></tr>\n",
       "\t<tr><th scope=row>pos</th><td>268      </td><td>0.3489583</td></tr>\n",
       "</tbody>\n",
       "</table>\n"
      ],
      "text/latex": [
       "\\begin{tabular}{r|ll}\n",
       "  & freq & percentage\\\\\n",
       "\\hline\n",
       "\tneg & 500       & 0.6510417\\\\\n",
       "\tpos & 268       & 0.3489583\\\\\n",
       "\\end{tabular}\n"
      ],
      "text/markdown": [
       "\n",
       "| <!--/--> | freq | percentage |\n",
       "|---|---|---|\n",
       "| neg | 500       | 0.6510417 |\n",
       "| pos | 268       | 0.3489583 |\n",
       "\n"
      ],
      "text/plain": [
       "    freq percentage\n",
       "neg 500  0.6510417 \n",
       "pos 268  0.3489583 "
      ]
     },
     "metadata": {},
     "output_type": "display_data"
    }
   ],
   "source": [
    "# Cho biet bao nhieu mau \"pos\" va \"neg\" cua diabetes\n",
    "y <- PimaIndiansDiabetes$diabetes\n",
    "cbind(freq = table(y), percentage = prop.table(table(y)))"
   ]
  },
  {
   "cell_type": "code",
   "execution_count": 7,
   "metadata": {},
   "outputs": [
    {
     "data": {
      "text/html": [
       "<dl class=dl-horizontal>\n",
       "\t<dt>pregnant</dt>\n",
       "\t\t<dd>11.3540563206215</dd>\n",
       "\t<dt>glucose</dt>\n",
       "\t\t<dd>1022.24831425196</dd>\n",
       "\t<dt>pressure</dt>\n",
       "\t\t<dd>374.647271227184</dd>\n",
       "\t<dt>triceps</dt>\n",
       "\t\t<dd>254.473245328118</dd>\n",
       "\t<dt>insulin</dt>\n",
       "\t\t<dd>13281.1800779552</dd>\n",
       "\t<dt>mass</dt>\n",
       "\t\t<dd>62.1599839573827</dd>\n",
       "\t<dt>pedigree</dt>\n",
       "\t\t<dd>0.109778637873139</dd>\n",
       "\t<dt>age</dt>\n",
       "\t\t<dd>138.303045890374</dd>\n",
       "</dl>\n"
      ],
      "text/latex": [
       "\\begin{description*}\n",
       "\\item[pregnant] 11.3540563206215\n",
       "\\item[glucose] 1022.24831425196\n",
       "\\item[pressure] 374.647271227184\n",
       "\\item[triceps] 254.473245328118\n",
       "\\item[insulin] 13281.1800779552\n",
       "\\item[mass] 62.1599839573827\n",
       "\\item[pedigree] 0.109778637873139\n",
       "\\item[age] 138.303045890374\n",
       "\\end{description*}\n"
      ],
      "text/markdown": [
       "pregnant\n",
       ":   11.3540563206215glucose\n",
       ":   1022.24831425196pressure\n",
       ":   374.647271227184triceps\n",
       ":   254.473245328118insulin\n",
       ":   13281.1800779552mass\n",
       ":   62.1599839573827pedigree\n",
       ":   0.109778637873139age\n",
       ":   138.303045890374\n",
       "\n"
      ],
      "text/plain": [
       "    pregnant      glucose     pressure      triceps      insulin         mass \n",
       "1.135406e+01 1.022248e+03 3.746473e+02 2.544732e+02 1.328118e+04 6.215998e+01 \n",
       "    pedigree          age \n",
       "1.097786e-01 1.383030e+02 "
      ]
     },
     "metadata": {},
     "output_type": "display_data"
    }
   ],
   "source": [
    "#Tinh variance cho tat ca cac thuoc tinh\n",
    "sapply(PimaIndiansDiabetes[,1:8],var)"
   ]
  },
  {
   "cell_type": "code",
   "execution_count": 8,
   "metadata": {},
   "outputs": [],
   "source": [
    "#install.packages('e1071')"
   ]
  },
  {
   "cell_type": "code",
   "execution_count": 9,
   "metadata": {},
   "outputs": [
    {
     "name": "stderr",
     "output_type": "stream",
     "text": [
      "Warning message:\n",
      "\"package 'e1071' was built under R version 3.6.3\""
     ]
    }
   ],
   "source": [
    "library('e1071')"
   ]
  },
  {
   "cell_type": "code",
   "execution_count": 10,
   "metadata": {},
   "outputs": [],
   "source": [
    "#Tinh skewness cho tat ca thuoc tinh\n",
    "skew <- apply(PimaIndiansDiabetes[,1:8],2, skewness)"
   ]
  },
  {
   "cell_type": "code",
   "execution_count": 11,
   "metadata": {},
   "outputs": [
    {
     "data": {
      "text/html": [
       "<dl class=dl-horizontal>\n",
       "\t<dt>pregnant</dt>\n",
       "\t\t<dd>0.898154872604808</dd>\n",
       "\t<dt>glucose</dt>\n",
       "\t\t<dd>0.173075366346189</dd>\n",
       "\t<dt>pressure</dt>\n",
       "\t\t<dd>-1.83641264105356</dd>\n",
       "\t<dt>triceps</dt>\n",
       "\t\t<dd>0.10894563103235</dd>\n",
       "\t<dt>insulin</dt>\n",
       "\t\t<dd>2.2633825833595</dd>\n",
       "\t<dt>mass</dt>\n",
       "\t\t<dd>-0.427307333732463</dd>\n",
       "\t<dt>pedigree</dt>\n",
       "\t\t<dd>1.91241792381955</dd>\n",
       "\t<dt>age</dt>\n",
       "\t\t<dd>1.12518804431459</dd>\n",
       "</dl>\n"
      ],
      "text/latex": [
       "\\begin{description*}\n",
       "\\item[pregnant] 0.898154872604808\n",
       "\\item[glucose] 0.173075366346189\n",
       "\\item[pressure] -1.83641264105356\n",
       "\\item[triceps] 0.10894563103235\n",
       "\\item[insulin] 2.2633825833595\n",
       "\\item[mass] -0.427307333732463\n",
       "\\item[pedigree] 1.91241792381955\n",
       "\\item[age] 1.12518804431459\n",
       "\\end{description*}\n"
      ],
      "text/markdown": [
       "pregnant\n",
       ":   0.898154872604808glucose\n",
       ":   0.173075366346189pressure\n",
       ":   -1.83641264105356triceps\n",
       ":   0.10894563103235insulin\n",
       ":   2.2633825833595mass\n",
       ":   -0.427307333732463pedigree\n",
       ":   1.91241792381955age\n",
       ":   1.12518804431459\n",
       "\n"
      ],
      "text/plain": [
       "  pregnant    glucose   pressure    triceps    insulin       mass   pedigree \n",
       " 0.8981549  0.1730754 -1.8364126  0.1089456  2.2633826 -0.4273073  1.9124179 \n",
       "       age \n",
       " 1.1251880 "
      ]
     },
     "metadata": {},
     "output_type": "display_data"
    }
   ],
   "source": [
    "skew"
   ]
  },
  {
   "cell_type": "code",
   "execution_count": 12,
   "metadata": {},
   "outputs": [
    {
     "data": {
      "text/html": [
       "<dl class=dl-horizontal>\n",
       "\t<dt>pregnant</dt>\n",
       "\t\t<dd>0.142183957122032</dd>\n",
       "\t<dt>glucose</dt>\n",
       "\t\t<dd>0.619369451373168</dd>\n",
       "\t<dt>pressure</dt>\n",
       "\t\t<dd>5.11750995409889</dd>\n",
       "\t<dt>triceps</dt>\n",
       "\t\t<dd>-0.530936920676741</dd>\n",
       "\t<dt>insulin</dt>\n",
       "\t\t<dd>7.13313491538188</dd>\n",
       "\t<dt>mass</dt>\n",
       "\t\t<dd>3.2449626779631</dd>\n",
       "\t<dt>pedigree</dt>\n",
       "\t\t<dd>5.52853885711983</dd>\n",
       "\t<dt>age</dt>\n",
       "\t\t<dd>0.621726907802014</dd>\n",
       "</dl>\n"
      ],
      "text/latex": [
       "\\begin{description*}\n",
       "\\item[pregnant] 0.142183957122032\n",
       "\\item[glucose] 0.619369451373168\n",
       "\\item[pressure] 5.11750995409889\n",
       "\\item[triceps] -0.530936920676741\n",
       "\\item[insulin] 7.13313491538188\n",
       "\\item[mass] 3.2449626779631\n",
       "\\item[pedigree] 5.52853885711983\n",
       "\\item[age] 0.621726907802014\n",
       "\\end{description*}\n"
      ],
      "text/markdown": [
       "pregnant\n",
       ":   0.142183957122032glucose\n",
       ":   0.619369451373168pressure\n",
       ":   5.11750995409889triceps\n",
       ":   -0.530936920676741insulin\n",
       ":   7.13313491538188mass\n",
       ":   3.2449626779631pedigree\n",
       ":   5.52853885711983age\n",
       ":   0.621726907802014\n",
       "\n"
      ],
      "text/plain": [
       "  pregnant    glucose   pressure    triceps    insulin       mass   pedigree \n",
       " 0.1421840  0.6193695  5.1175100 -0.5309369  7.1331349  3.2449627  5.5285389 \n",
       "       age \n",
       " 0.6217269 "
      ]
     },
     "metadata": {},
     "output_type": "display_data"
    }
   ],
   "source": [
    "#Tinh kurtosis cho tat cac thuoc tinh \n",
    "kur <- apply(PimaIndiansDiabetes[,1:8],2, kurtosis)\n",
    "kur"
   ]
  },
  {
   "cell_type": "code",
   "execution_count": 13,
   "metadata": {},
   "outputs": [
    {
     "data": {
      "text/html": [
       "<table>\n",
       "<thead><tr><th></th><th scope=col>pregnant</th><th scope=col>glucose</th><th scope=col>pressure</th><th scope=col>triceps</th><th scope=col>insulin</th><th scope=col>mass</th><th scope=col>pedigree</th><th scope=col>age</th></tr></thead>\n",
       "<tbody>\n",
       "\t<tr><th scope=row>pregnant</th><td> 1.00000000</td><td>0.12945867 </td><td>0.14128198 </td><td>-0.08167177</td><td>-0.07353461</td><td>0.01768309 </td><td>-0.03352267</td><td> 0.54434123</td></tr>\n",
       "\t<tr><th scope=row>glucose</th><td> 0.12945867</td><td>1.00000000 </td><td>0.15258959 </td><td> 0.05732789</td><td> 0.33135711</td><td>0.22107107 </td><td> 0.13733730</td><td> 0.26351432</td></tr>\n",
       "\t<tr><th scope=row>pressure</th><td> 0.14128198</td><td>0.15258959 </td><td>1.00000000 </td><td> 0.20737054</td><td> 0.08893338</td><td>0.28180529 </td><td> 0.04126495</td><td> 0.23952795</td></tr>\n",
       "\t<tr><th scope=row>triceps</th><td>-0.08167177</td><td>0.05732789 </td><td>0.20737054 </td><td> 1.00000000</td><td> 0.43678257</td><td>0.39257320 </td><td> 0.18392757</td><td>-0.11397026</td></tr>\n",
       "\t<tr><th scope=row>insulin</th><td>-0.07353461</td><td>0.33135711 </td><td>0.08893338 </td><td> 0.43678257</td><td> 1.00000000</td><td>0.19785906 </td><td> 0.18507093</td><td>-0.04216295</td></tr>\n",
       "\t<tr><th scope=row>mass</th><td> 0.01768309</td><td>0.22107107 </td><td>0.28180529 </td><td> 0.39257320</td><td> 0.19785906</td><td>1.00000000 </td><td> 0.14064695</td><td> 0.03624187</td></tr>\n",
       "\t<tr><th scope=row>pedigree</th><td>-0.03352267</td><td>0.13733730 </td><td>0.04126495 </td><td> 0.18392757</td><td> 0.18507093</td><td>0.14064695 </td><td> 1.00000000</td><td> 0.03356131</td></tr>\n",
       "\t<tr><th scope=row>age</th><td> 0.54434123</td><td>0.26351432 </td><td>0.23952795 </td><td>-0.11397026</td><td>-0.04216295</td><td>0.03624187 </td><td> 0.03356131</td><td> 1.00000000</td></tr>\n",
       "</tbody>\n",
       "</table>\n"
      ],
      "text/latex": [
       "\\begin{tabular}{r|llllllll}\n",
       "  & pregnant & glucose & pressure & triceps & insulin & mass & pedigree & age\\\\\n",
       "\\hline\n",
       "\tpregnant &  1.00000000 & 0.12945867  & 0.14128198  & -0.08167177 & -0.07353461 & 0.01768309  & -0.03352267 &  0.54434123\\\\\n",
       "\tglucose &  0.12945867 & 1.00000000  & 0.15258959  &  0.05732789 &  0.33135711 & 0.22107107  &  0.13733730 &  0.26351432\\\\\n",
       "\tpressure &  0.14128198 & 0.15258959  & 1.00000000  &  0.20737054 &  0.08893338 & 0.28180529  &  0.04126495 &  0.23952795\\\\\n",
       "\ttriceps & -0.08167177 & 0.05732789  & 0.20737054  &  1.00000000 &  0.43678257 & 0.39257320  &  0.18392757 & -0.11397026\\\\\n",
       "\tinsulin & -0.07353461 & 0.33135711  & 0.08893338  &  0.43678257 &  1.00000000 & 0.19785906  &  0.18507093 & -0.04216295\\\\\n",
       "\tmass &  0.01768309 & 0.22107107  & 0.28180529  &  0.39257320 &  0.19785906 & 1.00000000  &  0.14064695 &  0.03624187\\\\\n",
       "\tpedigree & -0.03352267 & 0.13733730  & 0.04126495  &  0.18392757 &  0.18507093 & 0.14064695  &  1.00000000 &  0.03356131\\\\\n",
       "\tage &  0.54434123 & 0.26351432  & 0.23952795  & -0.11397026 & -0.04216295 & 0.03624187  &  0.03356131 &  1.00000000\\\\\n",
       "\\end{tabular}\n"
      ],
      "text/markdown": [
       "\n",
       "| <!--/--> | pregnant | glucose | pressure | triceps | insulin | mass | pedigree | age |\n",
       "|---|---|---|---|---|---|---|---|---|\n",
       "| pregnant |  1.00000000 | 0.12945867  | 0.14128198  | -0.08167177 | -0.07353461 | 0.01768309  | -0.03352267 |  0.54434123 |\n",
       "| glucose |  0.12945867 | 1.00000000  | 0.15258959  |  0.05732789 |  0.33135711 | 0.22107107  |  0.13733730 |  0.26351432 |\n",
       "| pressure |  0.14128198 | 0.15258959  | 1.00000000  |  0.20737054 |  0.08893338 | 0.28180529  |  0.04126495 |  0.23952795 |\n",
       "| triceps | -0.08167177 | 0.05732789  | 0.20737054  |  1.00000000 |  0.43678257 | 0.39257320  |  0.18392757 | -0.11397026 |\n",
       "| insulin | -0.07353461 | 0.33135711  | 0.08893338  |  0.43678257 |  1.00000000 | 0.19785906  |  0.18507093 | -0.04216295 |\n",
       "| mass |  0.01768309 | 0.22107107  | 0.28180529  |  0.39257320 |  0.19785906 | 1.00000000  |  0.14064695 |  0.03624187 |\n",
       "| pedigree | -0.03352267 | 0.13733730  | 0.04126495  |  0.18392757 |  0.18507093 | 0.14064695  |  1.00000000 |  0.03356131 |\n",
       "| age |  0.54434123 | 0.26351432  | 0.23952795  | -0.11397026 | -0.04216295 | 0.03624187  |  0.03356131 |  1.00000000 |\n",
       "\n"
      ],
      "text/plain": [
       "         pregnant    glucose    pressure   triceps     insulin     mass      \n",
       "pregnant  1.00000000 0.12945867 0.14128198 -0.08167177 -0.07353461 0.01768309\n",
       "glucose   0.12945867 1.00000000 0.15258959  0.05732789  0.33135711 0.22107107\n",
       "pressure  0.14128198 0.15258959 1.00000000  0.20737054  0.08893338 0.28180529\n",
       "triceps  -0.08167177 0.05732789 0.20737054  1.00000000  0.43678257 0.39257320\n",
       "insulin  -0.07353461 0.33135711 0.08893338  0.43678257  1.00000000 0.19785906\n",
       "mass      0.01768309 0.22107107 0.28180529  0.39257320  0.19785906 1.00000000\n",
       "pedigree -0.03352267 0.13733730 0.04126495  0.18392757  0.18507093 0.14064695\n",
       "age       0.54434123 0.26351432 0.23952795 -0.11397026 -0.04216295 0.03624187\n",
       "         pedigree    age        \n",
       "pregnant -0.03352267  0.54434123\n",
       "glucose   0.13733730  0.26351432\n",
       "pressure  0.04126495  0.23952795\n",
       "triceps   0.18392757 -0.11397026\n",
       "insulin   0.18507093 -0.04216295\n",
       "mass      0.14064695  0.03624187\n",
       "pedigree  1.00000000  0.03356131\n",
       "age       0.03356131  1.00000000"
      ]
     },
     "metadata": {},
     "output_type": "display_data"
    }
   ],
   "source": [
    "#Thuc hien correlation matrix de xem xet moi tuong quan cua cac thuoc tinh. Truc quan hoa du lieu\n",
    "correlation <- cor(PimaIndiansDiabetes[,1:8])\n",
    "correlation"
   ]
  },
  {
   "cell_type": "code",
   "execution_count": 14,
   "metadata": {},
   "outputs": [],
   "source": [
    "#install.packages('corrplot')"
   ]
  },
  {
   "cell_type": "code",
   "execution_count": 15,
   "metadata": {},
   "outputs": [
    {
     "name": "stderr",
     "output_type": "stream",
     "text": [
      "Warning message:\n",
      "\"package 'corrplot' was built under R version 3.6.3\"corrplot 0.84 loaded\n"
     ]
    }
   ],
   "source": [
    "library('corrplot')"
   ]
  },
  {
   "cell_type": "code",
   "execution_count": 16,
   "metadata": {},
   "outputs": [
    {
     "data": {
      "image/png": "[encoded data removed]",
      "text/plain": [
       "Plot with title \"\""
      ]
     },
     "metadata": {},
     "output_type": "display_data"
    }
   ],
   "source": [
    "corrplot(correlation)"
   ]
  },
  {
   "cell_type": "code",
   "execution_count": 17,
   "metadata": {},
   "outputs": [
    {
     "data": {
      "image/png": "[encoded data removed]",
      "text/plain": [
       "plot without title"
      ]
     },
     "metadata": {},
     "output_type": "display_data"
    }
   ],
   "source": [
    "heatmap(x = correlation)"
   ]
  },
  {
   "cell_type": "code",
   "execution_count": 18,
   "metadata": {},
   "outputs": [
    {
     "data": {
      "text/html": [
       "<dl class=dl-horizontal>\n",
       "\t<dt>5%</dt>\n",
       "\t\t<dd>21</dd>\n",
       "\t<dt>15%</dt>\n",
       "\t\t<dd>22</dd>\n",
       "\t<dt>25%</dt>\n",
       "\t\t<dd>24</dd>\n",
       "\t<dt>50%</dt>\n",
       "\t\t<dd>29</dd>\n",
       "\t<dt>75%</dt>\n",
       "\t\t<dd>41</dd>\n",
       "\t<dt>90%</dt>\n",
       "\t\t<dd>51</dd>\n",
       "</dl>\n"
      ],
      "text/latex": [
       "\\begin{description*}\n",
       "\\item[5\\textbackslash{}\\%] 21\n",
       "\\item[15\\textbackslash{}\\%] 22\n",
       "\\item[25\\textbackslash{}\\%] 24\n",
       "\\item[50\\textbackslash{}\\%] 29\n",
       "\\item[75\\textbackslash{}\\%] 41\n",
       "\\item[90\\textbackslash{}\\%] 51\n",
       "\\end{description*}\n"
      ],
      "text/markdown": [
       "5%\n",
       ":   2115%\n",
       ":   2225%\n",
       ":   2450%\n",
       ":   2975%\n",
       ":   4190%\n",
       ":   51\n",
       "\n"
      ],
      "text/plain": [
       " 5% 15% 25% 50% 75% 90% \n",
       " 21  22  24  29  41  51 "
      ]
     },
     "metadata": {},
     "output_type": "display_data"
    }
   ],
   "source": [
    "ages_quantitle = quantile(PimaIndiansDiabetes$age, c(0.05, 0.15, 0.25, 0.5, 0.75, .90))\n",
    "ages_quantitle"
   ]
  },
  {
   "cell_type": "code",
   "execution_count": 19,
   "metadata": {},
   "outputs": [
    {
     "data": {
      "image/png": "[encoded data removed]",
      "text/plain": [
       "plot without title"
      ]
     },
     "metadata": {},
     "output_type": "display_data"
    }
   ],
   "source": [
    "#plot the line\n",
    "plot(c(0.05, 0.15, 0.25, 0.5, 0.75, .90), ages_quantitle, type = \"o\")"
   ]
  },
  {
   "cell_type": "markdown",
   "metadata": {},
   "source": [
    "### Ex2: Life of battery"
   ]
  },
  {
   "cell_type": "markdown",
   "metadata": {},
   "source": [
    "#### Bài toán 1:"
   ]
  },
  {
   "cell_type": "code",
   "execution_count": 20,
   "metadata": {},
   "outputs": [],
   "source": [
    "#Tao life_array tu tap tin life_batteries\n",
    "life_array_df <- read.table(\"Chapter 13\\\\life_batteries.txt\")"
   ]
  },
  {
   "cell_type": "code",
   "execution_count": 21,
   "metadata": {},
   "outputs": [
    {
     "data": {
      "text/html": [
       "'data.frame'"
      ],
      "text/latex": [
       "'data.frame'"
      ],
      "text/markdown": [
       "'data.frame'"
      ],
      "text/plain": [
       "[1] \"data.frame\""
      ]
     },
     "metadata": {},
     "output_type": "display_data"
    }
   ],
   "source": [
    "class(life_array_df)"
   ]
  },
  {
   "cell_type": "code",
   "execution_count": 22,
   "metadata": {},
   "outputs": [
    {
     "data": {
      "text/html": [
       "<table>\n",
       "<thead><tr><th scope=col>V1</th><th scope=col>V2</th><th scope=col>V3</th><th scope=col>V4</th></tr></thead>\n",
       "<tbody>\n",
       "\t<tr><td>130</td><td>145</td><td>126</td><td>146</td></tr>\n",
       "\t<tr><td>164</td><td>130</td><td>132</td><td>152</td></tr>\n",
       "\t<tr><td>145</td><td>129</td><td>133</td><td>155</td></tr>\n",
       "\t<tr><td>140</td><td>127</td><td>139</td><td>137</td></tr>\n",
       "\t<tr><td>131</td><td>126</td><td>145</td><td>148</td></tr>\n",
       "\t<tr><td>125</td><td>132</td><td>126</td><td>126</td></tr>\n",
       "\t<tr><td>126</td><td>135</td><td>131</td><td>129</td></tr>\n",
       "\t<tr><td>147</td><td>136</td><td>129</td><td>136</td></tr>\n",
       "\t<tr><td>156</td><td>146</td><td>130</td><td>146</td></tr>\n",
       "\t<tr><td>132</td><td>142</td><td>132</td><td>132</td></tr>\n",
       "</tbody>\n",
       "</table>\n"
      ],
      "text/latex": [
       "\\begin{tabular}{r|llll}\n",
       " V1 & V2 & V3 & V4\\\\\n",
       "\\hline\n",
       "\t 130 & 145 & 126 & 146\\\\\n",
       "\t 164 & 130 & 132 & 152\\\\\n",
       "\t 145 & 129 & 133 & 155\\\\\n",
       "\t 140 & 127 & 139 & 137\\\\\n",
       "\t 131 & 126 & 145 & 148\\\\\n",
       "\t 125 & 132 & 126 & 126\\\\\n",
       "\t 126 & 135 & 131 & 129\\\\\n",
       "\t 147 & 136 & 129 & 136\\\\\n",
       "\t 156 & 146 & 130 & 146\\\\\n",
       "\t 132 & 142 & 132 & 132\\\\\n",
       "\\end{tabular}\n"
      ],
      "text/markdown": [
       "\n",
       "| V1 | V2 | V3 | V4 |\n",
       "|---|---|---|---|\n",
       "| 130 | 145 | 126 | 146 |\n",
       "| 164 | 130 | 132 | 152 |\n",
       "| 145 | 129 | 133 | 155 |\n",
       "| 140 | 127 | 139 | 137 |\n",
       "| 131 | 126 | 145 | 148 |\n",
       "| 125 | 132 | 126 | 126 |\n",
       "| 126 | 135 | 131 | 129 |\n",
       "| 147 | 136 | 129 | 136 |\n",
       "| 156 | 146 | 130 | 146 |\n",
       "| 132 | 142 | 132 | 132 |\n",
       "\n"
      ],
      "text/plain": [
       "   V1  V2  V3  V4 \n",
       "1  130 145 126 146\n",
       "2  164 130 132 152\n",
       "3  145 129 133 155\n",
       "4  140 127 139 137\n",
       "5  131 126 145 148\n",
       "6  125 132 126 126\n",
       "7  126 135 131 129\n",
       "8  147 136 129 136\n",
       "9  156 146 130 146\n",
       "10 132 142 132 132"
      ]
     },
     "metadata": {},
     "output_type": "display_data"
    }
   ],
   "source": [
    "life_array_df"
   ]
  },
  {
   "cell_type": "code",
   "execution_count": 23,
   "metadata": {},
   "outputs": [],
   "source": [
    "life_array <- c(life_array_df$V1, life_array_df$V2, life_array_df$V3, life_array_df$V4)"
   ]
  },
  {
   "cell_type": "code",
   "execution_count": 24,
   "metadata": {},
   "outputs": [
    {
     "data": {
      "text/html": [
       "<ol class=list-inline>\n",
       "\t<li>130</li>\n",
       "\t<li>164</li>\n",
       "\t<li>145</li>\n",
       "\t<li>140</li>\n",
       "\t<li>131</li>\n",
       "\t<li>125</li>\n",
       "\t<li>126</li>\n",
       "\t<li>147</li>\n",
       "\t<li>156</li>\n",
       "\t<li>132</li>\n",
       "\t<li>145</li>\n",
       "\t<li>130</li>\n",
       "\t<li>129</li>\n",
       "\t<li>127</li>\n",
       "\t<li>126</li>\n",
       "\t<li>132</li>\n",
       "\t<li>135</li>\n",
       "\t<li>136</li>\n",
       "\t<li>146</li>\n",
       "\t<li>142</li>\n",
       "\t<li>126</li>\n",
       "\t<li>132</li>\n",
       "\t<li>133</li>\n",
       "\t<li>139</li>\n",
       "\t<li>145</li>\n",
       "\t<li>126</li>\n",
       "\t<li>131</li>\n",
       "\t<li>129</li>\n",
       "\t<li>130</li>\n",
       "\t<li>132</li>\n",
       "\t<li>146</li>\n",
       "\t<li>152</li>\n",
       "\t<li>155</li>\n",
       "\t<li>137</li>\n",
       "\t<li>148</li>\n",
       "\t<li>126</li>\n",
       "\t<li>129</li>\n",
       "\t<li>136</li>\n",
       "\t<li>146</li>\n",
       "\t<li>132</li>\n",
       "</ol>\n"
      ],
      "text/latex": [
       "\\begin{enumerate*}\n",
       "\\item 130\n",
       "\\item 164\n",
       "\\item 145\n",
       "\\item 140\n",
       "\\item 131\n",
       "\\item 125\n",
       "\\item 126\n",
       "\\item 147\n",
       "\\item 156\n",
       "\\item 132\n",
       "\\item 145\n",
       "\\item 130\n",
       "\\item 129\n",
       "\\item 127\n",
       "\\item 126\n",
       "\\item 132\n",
       "\\item 135\n",
       "\\item 136\n",
       "\\item 146\n",
       "\\item 142\n",
       "\\item 126\n",
       "\\item 132\n",
       "\\item 133\n",
       "\\item 139\n",
       "\\item 145\n",
       "\\item 126\n",
       "\\item 131\n",
       "\\item 129\n",
       "\\item 130\n",
       "\\item 132\n",
       "\\item 146\n",
       "\\item 152\n",
       "\\item 155\n",
       "\\item 137\n",
       "\\item 148\n",
       "\\item 126\n",
       "\\item 129\n",
       "\\item 136\n",
       "\\item 146\n",
       "\\item 132\n",
       "\\end{enumerate*}\n"
      ],
      "text/markdown": [
       "1. 130\n",
       "2. 164\n",
       "3. 145\n",
       "4. 140\n",
       "5. 131\n",
       "6. 125\n",
       "7. 126\n",
       "8. 147\n",
       "9. 156\n",
       "10. 132\n",
       "11. 145\n",
       "12. 130\n",
       "13. 129\n",
       "14. 127\n",
       "15. 126\n",
       "16. 132\n",
       "17. 135\n",
       "18. 136\n",
       "19. 146\n",
       "20. 142\n",
       "21. 126\n",
       "22. 132\n",
       "23. 133\n",
       "24. 139\n",
       "25. 145\n",
       "26. 126\n",
       "27. 131\n",
       "28. 129\n",
       "29. 130\n",
       "30. 132\n",
       "31. 146\n",
       "32. 152\n",
       "33. 155\n",
       "34. 137\n",
       "35. 148\n",
       "36. 126\n",
       "37. 129\n",
       "38. 136\n",
       "39. 146\n",
       "40. 132\n",
       "\n",
       "\n"
      ],
      "text/plain": [
       " [1] 130 164 145 140 131 125 126 147 156 132 145 130 129 127 126 132 135 136 146\n",
       "[20] 142 126 132 133 139 145 126 131 129 130 132 146 152 155 137 148 126 129 136\n",
       "[39] 146 132"
      ]
     },
     "metadata": {},
     "output_type": "display_data"
    }
   ],
   "source": [
    "life_array"
   ]
  },
  {
   "cell_type": "code",
   "execution_count": 25,
   "metadata": {},
   "outputs": [
    {
     "data": {
      "image/png": "[encoded data removed]",
      "text/plain": [
       "Plot with title \"Histogram of Life Batteries\""
      ]
     },
     "metadata": {},
     "output_type": "display_data"
    }
   ],
   "source": [
    "#ve bieu do phan phoi tan suat cua life_array\n",
    "hist(life_array, main = \"Histogram of Life Batteries\", xlab = \"Hours\", xlim = c(min(life_array) - 20, max(life_array) +10),\n",
    "    ylim = c(0,20), col = 'orange', breaks = 5, las = 1)"
   ]
  },
  {
   "cell_type": "markdown",
   "metadata": {},
   "source": [
    "#### Nhận xét: Biểu đồ cho thấy số lượng pin có tuổi thọ tập trung nhiều nhất trong khoảng 130-140. Một vài tập dữ liệu vượt quá 150."
   ]
  },
  {
   "cell_type": "code",
   "execution_count": 26,
   "metadata": {},
   "outputs": [
    {
     "name": "stdout",
     "output_type": "stream",
     "text": [
      "[1] \"Thong ke chung cua Life Batterises 1:\"\n",
      "   Min. 1st Qu.  Median    Mean 3rd Qu.    Max. \n",
      "  125.0   129.8   132.5   136.8   145.0   164.0 \n",
      "[1] \"variance of Batteries: 95.874358974359\"\n",
      "[1] \"std of Batteries: 9.79154528020777\"\n"
     ]
    }
   ],
   "source": [
    "#TOng ke co ban: mean, meadian, modem max, min, variance, std\n",
    "print(\"Thong ke chung cua Life Batterises 1:\")\n",
    "print(summary(life_array))\n",
    "print(paste(\"variance of Batteries:\",var(life_array)))\n",
    "print(paste(\"std of Batteries:\",sd(life_array)))"
   ]
  },
  {
   "cell_type": "code",
   "execution_count": 27,
   "metadata": {},
   "outputs": [
    {
     "name": "stderr",
     "output_type": "stream",
     "text": [
      "\n",
      "Attaching package: 'moments'\n",
      "\n",
      "The following objects are masked from 'package:e1071':\n",
      "\n",
      "    kurtosis, moment, skewness\n",
      "\n"
     ]
    }
   ],
   "source": [
    "#tinh skew, kurtosis\n",
    "library(moments)"
   ]
  },
  {
   "cell_type": "code",
   "execution_count": 28,
   "metadata": {},
   "outputs": [
    {
     "data": {
      "text/html": [
       "0.845528704908616"
      ],
      "text/latex": [
       "0.845528704908616"
      ],
      "text/markdown": [
       "0.845528704908616"
      ],
      "text/plain": [
       "[1] 0.8455287"
      ]
     },
     "metadata": {},
     "output_type": "display_data"
    }
   ],
   "source": [
    "skewness(life_array)"
   ]
  },
  {
   "cell_type": "code",
   "execution_count": 29,
   "metadata": {},
   "outputs": [
    {
     "data": {
      "text/html": [
       "2.92386761692244"
      ],
      "text/latex": [
       "2.92386761692244"
      ],
      "text/markdown": [
       "2.92386761692244"
      ],
      "text/plain": [
       "[1] 2.923868"
      ]
     },
     "metadata": {},
     "output_type": "display_data"
    }
   ],
   "source": [
    "kurtosis(life_array)"
   ]
  },
  {
   "cell_type": "markdown",
   "metadata": {},
   "source": [
    "#### Bài toán 2: "
   ]
  },
  {
   "cell_type": "code",
   "execution_count": 30,
   "metadata": {},
   "outputs": [
    {
     "data": {
      "text/html": [
       "<table>\n",
       "<thead><tr><th scope=col>V1</th><th scope=col>V2</th><th scope=col>V3</th><th scope=col>V4</th></tr></thead>\n",
       "<tbody>\n",
       "\t<tr><td>134</td><td>130</td><td>140</td><td>151</td></tr>\n",
       "\t<tr><td>143</td><td>134</td><td>136</td><td>144</td></tr>\n",
       "\t<tr><td>150</td><td>135</td><td>160</td><td>141</td></tr>\n",
       "\t<tr><td>143</td><td>140</td><td>138</td><td>141</td></tr>\n",
       "\t<tr><td>148</td><td>146</td><td>140</td><td>146</td></tr>\n",
       "\t<tr><td>151</td><td>138</td><td>151</td><td>139</td></tr>\n",
       "\t<tr><td>151</td><td>128</td><td>146</td><td>147</td></tr>\n",
       "\t<tr><td>152</td><td>142</td><td>144</td><td>134</td></tr>\n",
       "\t<tr><td>142</td><td>146</td><td>142</td><td>136</td></tr>\n",
       "\t<tr><td>122</td><td>134</td><td>145</td><td>147</td></tr>\n",
       "</tbody>\n",
       "</table>\n"
      ],
      "text/latex": [
       "\\begin{tabular}{r|llll}\n",
       " V1 & V2 & V3 & V4\\\\\n",
       "\\hline\n",
       "\t 134 & 130 & 140 & 151\\\\\n",
       "\t 143 & 134 & 136 & 144\\\\\n",
       "\t 150 & 135 & 160 & 141\\\\\n",
       "\t 143 & 140 & 138 & 141\\\\\n",
       "\t 148 & 146 & 140 & 146\\\\\n",
       "\t 151 & 138 & 151 & 139\\\\\n",
       "\t 151 & 128 & 146 & 147\\\\\n",
       "\t 152 & 142 & 144 & 134\\\\\n",
       "\t 142 & 146 & 142 & 136\\\\\n",
       "\t 122 & 134 & 145 & 147\\\\\n",
       "\\end{tabular}\n"
      ],
      "text/markdown": [
       "\n",
       "| V1 | V2 | V3 | V4 |\n",
       "|---|---|---|---|\n",
       "| 134 | 130 | 140 | 151 |\n",
       "| 143 | 134 | 136 | 144 |\n",
       "| 150 | 135 | 160 | 141 |\n",
       "| 143 | 140 | 138 | 141 |\n",
       "| 148 | 146 | 140 | 146 |\n",
       "| 151 | 138 | 151 | 139 |\n",
       "| 151 | 128 | 146 | 147 |\n",
       "| 152 | 142 | 144 | 134 |\n",
       "| 142 | 146 | 142 | 136 |\n",
       "| 122 | 134 | 145 | 147 |\n",
       "\n"
      ],
      "text/plain": [
       "   V1  V2  V3  V4 \n",
       "1  134 130 140 151\n",
       "2  143 134 136 144\n",
       "3  150 135 160 141\n",
       "4  143 140 138 141\n",
       "5  148 146 140 146\n",
       "6  151 138 151 139\n",
       "7  151 128 146 147\n",
       "8  152 142 144 134\n",
       "9  142 146 142 136\n",
       "10 122 134 145 147"
      ]
     },
     "metadata": {},
     "output_type": "display_data"
    }
   ],
   "source": [
    "life2_array_dt <- read.table(\"Chapter 13\\\\life_batteries_2.txt\")\n",
    "life2_array_dt"
   ]
  },
  {
   "cell_type": "code",
   "execution_count": 31,
   "metadata": {},
   "outputs": [
    {
     "data": {
      "text/html": [
       "<ol class=list-inline>\n",
       "\t<li>134</li>\n",
       "\t<li>143</li>\n",
       "\t<li>150</li>\n",
       "\t<li>143</li>\n",
       "\t<li>148</li>\n",
       "\t<li>151</li>\n",
       "\t<li>151</li>\n",
       "\t<li>152</li>\n",
       "\t<li>142</li>\n",
       "\t<li>122</li>\n",
       "\t<li>130</li>\n",
       "\t<li>134</li>\n",
       "\t<li>135</li>\n",
       "\t<li>140</li>\n",
       "\t<li>146</li>\n",
       "\t<li>138</li>\n",
       "\t<li>128</li>\n",
       "\t<li>142</li>\n",
       "\t<li>146</li>\n",
       "\t<li>134</li>\n",
       "\t<li>140</li>\n",
       "\t<li>136</li>\n",
       "\t<li>160</li>\n",
       "\t<li>138</li>\n",
       "\t<li>140</li>\n",
       "\t<li>151</li>\n",
       "\t<li>146</li>\n",
       "\t<li>144</li>\n",
       "\t<li>142</li>\n",
       "\t<li>145</li>\n",
       "\t<li>151</li>\n",
       "\t<li>144</li>\n",
       "\t<li>141</li>\n",
       "\t<li>141</li>\n",
       "\t<li>146</li>\n",
       "\t<li>139</li>\n",
       "\t<li>147</li>\n",
       "\t<li>134</li>\n",
       "\t<li>136</li>\n",
       "\t<li>147</li>\n",
       "</ol>\n"
      ],
      "text/latex": [
       "\\begin{enumerate*}\n",
       "\\item 134\n",
       "\\item 143\n",
       "\\item 150\n",
       "\\item 143\n",
       "\\item 148\n",
       "\\item 151\n",
       "\\item 151\n",
       "\\item 152\n",
       "\\item 142\n",
       "\\item 122\n",
       "\\item 130\n",
       "\\item 134\n",
       "\\item 135\n",
       "\\item 140\n",
       "\\item 146\n",
       "\\item 138\n",
       "\\item 128\n",
       "\\item 142\n",
       "\\item 146\n",
       "\\item 134\n",
       "\\item 140\n",
       "\\item 136\n",
       "\\item 160\n",
       "\\item 138\n",
       "\\item 140\n",
       "\\item 151\n",
       "\\item 146\n",
       "\\item 144\n",
       "\\item 142\n",
       "\\item 145\n",
       "\\item 151\n",
       "\\item 144\n",
       "\\item 141\n",
       "\\item 141\n",
       "\\item 146\n",
       "\\item 139\n",
       "\\item 147\n",
       "\\item 134\n",
       "\\item 136\n",
       "\\item 147\n",
       "\\end{enumerate*}\n"
      ],
      "text/markdown": [
       "1. 134\n",
       "2. 143\n",
       "3. 150\n",
       "4. 143\n",
       "5. 148\n",
       "6. 151\n",
       "7. 151\n",
       "8. 152\n",
       "9. 142\n",
       "10. 122\n",
       "11. 130\n",
       "12. 134\n",
       "13. 135\n",
       "14. 140\n",
       "15. 146\n",
       "16. 138\n",
       "17. 128\n",
       "18. 142\n",
       "19. 146\n",
       "20. 134\n",
       "21. 140\n",
       "22. 136\n",
       "23. 160\n",
       "24. 138\n",
       "25. 140\n",
       "26. 151\n",
       "27. 146\n",
       "28. 144\n",
       "29. 142\n",
       "30. 145\n",
       "31. 151\n",
       "32. 144\n",
       "33. 141\n",
       "34. 141\n",
       "35. 146\n",
       "36. 139\n",
       "37. 147\n",
       "38. 134\n",
       "39. 136\n",
       "40. 147\n",
       "\n",
       "\n"
      ],
      "text/plain": [
       " [1] 134 143 150 143 148 151 151 152 142 122 130 134 135 140 146 138 128 142 146\n",
       "[20] 134 140 136 160 138 140 151 146 144 142 145 151 144 141 141 146 139 147 134\n",
       "[39] 136 147"
      ]
     },
     "metadata": {},
     "output_type": "display_data"
    }
   ],
   "source": [
    "life2_array <- c(life2_array_dt$V1, life2_array_dt$V2, life2_array_dt$V3, life2_array_dt$V4)\n",
    "life2_array"
   ]
  },
  {
   "cell_type": "code",
   "execution_count": 32,
   "metadata": {},
   "outputs": [
    {
     "data": {
      "image/png": "[encoded data removed]",
      "text/plain": [
       "Plot with title \"Histogram of Life Batteries 2\""
      ]
     },
     "metadata": {},
     "output_type": "display_data"
    }
   ],
   "source": [
    "#so sanh 2 life batteries 1 va 2 tu bieu do histogram va nhan xe\n",
    "par(mfrow = c(1,2))\n",
    "hist(life_array, main = \"Histogram of Life Batteries 1\", xlab = \"Hours\", xlim = c(min(life_array) - 20, max(life_array) +10),\n",
    "    col = 'orange', breaks = 10, las = 1, freq = FALSE)\n",
    "lines(density(life_array))\n",
    "hist(life2_array, main = \"Histogram of Life Batteries 2\", xlab = \"Hours\", xlim = c(min(life2_array) - 20, max(life2_array) +10),\n",
    "    col = 'orange', breaks = 10, las = 1, freq = FALSE)\n",
    "lines(density(life2_array))"
   ]
  },
  {
   "cell_type": "markdown",
   "metadata": {},
   "source": [
    "#### Nhận xét: Từ 2 biểu đồ trên ta thấy\n",
    "- Tuổi thọ pin của tập Batteries1 tập trung nhiều nhất trong khoảng 130\n",
    "- Tuổi thọ pin của tập Batteries2 tập trung nhiều nhất trong khoảng 140-150   \n",
    "- Tập dữ liệu Pin của Batteries 2 ít biến động hơn so với Batteries 1\n",
    "=> Batteries 2 có tuổi thọ cao hơn Batteries 1"
   ]
  },
  {
   "cell_type": "code",
   "execution_count": 33,
   "metadata": {},
   "outputs": [
    {
     "name": "stdout",
     "output_type": "stream",
     "text": [
      "[1] \"Thong ke chung cua Life Batterises 2:\"\n",
      "   Min. 1st Qu.  Median    Mean 3rd Qu.    Max. \n",
      "  122.0   137.5   142.0   141.9   146.2   160.0 \n",
      "[1] \"variance of Batteries: 55.199358974359\"\n",
      "[1] \"std of Batteries: 7.42962710870195\"\n",
      "[1] \"skweness: -0.251033897416653\"\n",
      "[1] \"kurtosis: 3.35670280005492\"\n"
     ]
    }
   ],
   "source": [
    "#TOng ke co ban: mean, meadian, modem max, min, variance, std\n",
    "print(\"Thong ke chung cua Life Batterises 2:\")\n",
    "print(summary(life2_array))\n",
    "print(paste(\"variance of Batteries:\",var(life2_array)))\n",
    "print(paste(\"std of Batteries:\",sd(life2_array)))\n",
    "print(paste(\"skweness:\",skewness(life2_array)))\n",
    "print(paste(\"kurtosis:\",kurtosis(life2_array)))"
   ]
  },
  {
   "cell_type": "markdown",
   "metadata": {},
   "source": [
    "#### Nhận xét từ thông tin thống kê chung:\n",
    "- Tuổi thọ trung bình của Pin 2 cao hơn Pin 1\n",
    "- Pin 1 có skewness > 0: phân phối lệch phải\n",
    "- Pin 2 có skewness < 0: phân phối lệch trái\n",
    "- Pin 1 có kurtosis < 3: phân phối thấp hơn phân phối chuẩn\n",
    "- Pin 2 có kurtosis > 3: phân phối cao hơn phân phối chuẩn"
   ]
  },
  {
   "cell_type": "code",
   "execution_count": 34,
   "metadata": {},
   "outputs": [
    {
     "data": {
      "image/png": "[encoded data removed]",
      "text/plain": [
       "Plot with title \"Batteries 2\""
      ]
     },
     "metadata": {},
     "output_type": "display_data"
    }
   ],
   "source": [
    "#Ve box plot cho ca 2 nhom batteries 1 va batteries 2\n",
    "par(mfrow = c(1,2))\n",
    "boxplot(life_array, main = \"Batteries 1\")\n",
    "boxplot(life2_array, main = \"Batteries 2\")"
   ]
  },
  {
   "cell_type": "markdown",
   "metadata": {},
   "source": [
    "#### Nhận xét:\n",
    "- Pin 1 không có outliers\n",
    "- pin 2 có outlier outliers dưới\n",
    "- Phân phối của Pin 2 tập trung hơn Pin 1"
   ]
  },
  {
   "cell_type": "markdown",
   "metadata": {},
   "source": [
    "### Ex3: Students"
   ]
  },
  {
   "cell_type": "code",
   "execution_count": 35,
   "metadata": {},
   "outputs": [],
   "source": [
    "#Cho du lieu students.xls\n",
    "#Doc du lieu\n",
    "library(xlsx)"
   ]
  },
  {
   "cell_type": "code",
   "execution_count": 65,
   "metadata": {},
   "outputs": [
    {
     "data": {
      "text/html": [
       "<table>\n",
       "<thead><tr><th scope=col>ID</th><th scope=col>LastÂ.Name</th><th scope=col>First.Name</th><th scope=col>City</th><th scope=col>State</th><th scope=col>Gender</th><th scope=col>Student.Status</th><th scope=col>Major</th><th scope=col>Country</th><th scope=col>Age</th><th scope=col>SAT</th><th scope=col>Average.score..grade.</th><th scope=col>Height..in.</th><th scope=col>Newspaper.readership..times.wk.</th></tr></thead>\n",
       "<tbody>\n",
       "\t<tr><td>1            </td><td>DOE01        </td><td>JANE01       </td><td>Los Angeles  </td><td>California   </td><td>Female       </td><td>Graduate     </td><td>Politics     </td><td>US           </td><td>30           </td><td>2263         </td><td>67.00000     </td><td>61           </td><td>5            </td></tr>\n",
       "\t<tr><td>2            </td><td>DOE02        </td><td>JANE02       </td><td>Sedona       </td><td>Arizona      </td><td>Female       </td><td>Undergraduate</td><td>Math         </td><td>US           </td><td>19           </td><td>2006         </td><td>63.00000     </td><td>64           </td><td>7            </td></tr>\n",
       "\t<tr><td>3            </td><td>DOE01        </td><td>JOE01        </td><td>Elmira       </td><td>New York     </td><td>Male         </td><td>Graduate     </td><td>Math         </td><td>US           </td><td>26           </td><td>2221         </td><td>78.11328     </td><td>73           </td><td>6            </td></tr>\n",
       "\t<tr><td>4            </td><td>DOE02        </td><td>JOE02        </td><td>Lackawana    </td><td>New York     </td><td>Male         </td><td>Graduate     </td><td>Econ         </td><td>US           </td><td>33           </td><td>1716         </td><td>77.80859     </td><td>68           </td><td>3            </td></tr>\n",
       "\t<tr><td>5            </td><td>DOE03        </td><td>JOE03        </td><td>Defiance     </td><td>Ohio         </td><td>Male         </td><td>Graduate     </td><td>Econ         </td><td>US           </td><td>37           </td><td>1701         </td><td>65.00000     </td><td>71           </td><td>6            </td></tr>\n",
       "\t<tr><td>6            </td><td>DOE04        </td><td>JOE04        </td><td>Tel Aviv     </td><td>Israel       </td><td>Male         </td><td>Graduate     </td><td>Econ         </td><td>Israel       </td><td>25           </td><td>1786         </td><td>69.00000     </td><td>67           </td><td>5            </td></tr>\n",
       "</tbody>\n",
       "</table>\n"
      ],
      "text/latex": [
       "\\begin{tabular}{r|llllllllllllll}\n",
       " ID & LastÂ.Name & First.Name & City & State & Gender & Student.Status & Major & Country & Age & SAT & Average.score..grade. & Height..in. & Newspaper.readership..times.wk.\\\\\n",
       "\\hline\n",
       "\t 1             & DOE01         & JANE01        & Los Angeles   & California    & Female        & Graduate      & Politics      & US            & 30            & 2263          & 67.00000      & 61            & 5            \\\\\n",
       "\t 2             & DOE02         & JANE02        & Sedona        & Arizona       & Female        & Undergraduate & Math          & US            & 19            & 2006          & 63.00000      & 64            & 7            \\\\\n",
       "\t 3             & DOE01         & JOE01         & Elmira        & New York      & Male          & Graduate      & Math          & US            & 26            & 2221          & 78.11328      & 73            & 6            \\\\\n",
       "\t 4             & DOE02         & JOE02         & Lackawana     & New York      & Male          & Graduate      & Econ          & US            & 33            & 1716          & 77.80859      & 68            & 3            \\\\\n",
       "\t 5             & DOE03         & JOE03         & Defiance      & Ohio          & Male          & Graduate      & Econ          & US            & 37            & 1701          & 65.00000      & 71            & 6            \\\\\n",
       "\t 6             & DOE04         & JOE04         & Tel Aviv      & Israel        & Male          & Graduate      & Econ          & Israel        & 25            & 1786          & 69.00000      & 67            & 5            \\\\\n",
       "\\end{tabular}\n"
      ],
      "text/markdown": [
       "\n",
       "| ID | LastÂ.Name | First.Name | City | State | Gender | Student.Status | Major | Country | Age | SAT | Average.score..grade. | Height..in. | Newspaper.readership..times.wk. |\n",
       "|---|---|---|---|---|---|---|---|---|---|---|---|---|---|\n",
       "| 1             | DOE01         | JANE01        | Los Angeles   | California    | Female        | Graduate      | Politics      | US            | 30            | 2263          | 67.00000      | 61            | 5             |\n",
       "| 2             | DOE02         | JANE02        | Sedona        | Arizona       | Female        | Undergraduate | Math          | US            | 19            | 2006          | 63.00000      | 64            | 7             |\n",
       "| 3             | DOE01         | JOE01         | Elmira        | New York      | Male          | Graduate      | Math          | US            | 26            | 2221          | 78.11328      | 73            | 6             |\n",
       "| 4             | DOE02         | JOE02         | Lackawana     | New York      | Male          | Graduate      | Econ          | US            | 33            | 1716          | 77.80859      | 68            | 3             |\n",
       "| 5             | DOE03         | JOE03         | Defiance      | Ohio          | Male          | Graduate      | Econ          | US            | 37            | 1701          | 65.00000      | 71            | 6             |\n",
       "| 6             | DOE04         | JOE04         | Tel Aviv      | Israel        | Male          | Graduate      | Econ          | Israel        | 25            | 1786          | 69.00000      | 67            | 5             |\n",
       "\n"
      ],
      "text/plain": [
       "  ID LastÂ.Name First.Name City        State      Gender Student.Status\n",
       "1 1  DOE01      JANE01     Los Angeles California Female Graduate      \n",
       "2 2  DOE02      JANE02     Sedona      Arizona    Female Undergraduate \n",
       "3 3  DOE01      JOE01      Elmira      New York   Male   Graduate      \n",
       "4 4  DOE02      JOE02      Lackawana   New York   Male   Graduate      \n",
       "5 5  DOE03      JOE03      Defiance    Ohio       Male   Graduate      \n",
       "6 6  DOE04      JOE04      Tel Aviv    Israel     Male   Graduate      \n",
       "  Major    Country Age SAT  Average.score..grade. Height..in.\n",
       "1 Politics US      30  2263 67.00000              61         \n",
       "2 Math     US      19  2006 63.00000              64         \n",
       "3 Math     US      26  2221 78.11328              73         \n",
       "4 Econ     US      33  1716 77.80859              68         \n",
       "5 Econ     US      37  1701 65.00000              71         \n",
       "6 Econ     Israel  25  1786 69.00000              67         \n",
       "  Newspaper.readership..times.wk.\n",
       "1 5                              \n",
       "2 7                              \n",
       "3 6                              \n",
       "4 3                              \n",
       "5 6                              \n",
       "6 5                              "
      ]
     },
     "metadata": {},
     "output_type": "display_data"
    }
   ],
   "source": [
    "students <- read.xlsx(\"Chapter 13\\\\students.xlsx\", sheetName = \"Full\")\n",
    "head(students)"
   ]
  },
  {
   "cell_type": "code",
   "execution_count": 66,
   "metadata": {},
   "outputs": [
    {
     "data": {
      "text/html": [
       "<table>\n",
       "<thead><tr><th scope=col>ID</th><th scope=col>LastÂ.Name</th><th scope=col>First.Name</th><th scope=col>City</th><th scope=col>State</th><th scope=col>Gender</th><th scope=col>Student.Status</th><th scope=col>Major</th><th scope=col>Country</th><th scope=col>Age</th><th scope=col>SAT</th><th scope=col>Average.score..grade.</th><th scope=col>Height..in.</th><th scope=col>Newspaper.readership..times.wk.</th></tr></thead>\n",
       "<tbody>\n",
       "\t<tr><td>1            </td><td>DOE01        </td><td>JANE01       </td><td>Los Angeles  </td><td>California   </td><td>Female       </td><td>Graduate     </td><td>Politics     </td><td>US           </td><td>30           </td><td>2263         </td><td>67.00000     </td><td>61           </td><td>5            </td></tr>\n",
       "\t<tr><td>2            </td><td>DOE02        </td><td>JANE02       </td><td>Sedona       </td><td>Arizona      </td><td>Female       </td><td>Undergraduate</td><td>Math         </td><td>US           </td><td>19           </td><td>2006         </td><td>63.00000     </td><td>64           </td><td>7            </td></tr>\n",
       "\t<tr><td>3            </td><td>DOE01        </td><td>JOE01        </td><td>Elmira       </td><td>New York     </td><td>Male         </td><td>Graduate     </td><td>Math         </td><td>US           </td><td>26           </td><td>2221         </td><td>78.11328     </td><td>73           </td><td>6            </td></tr>\n",
       "\t<tr><td>4            </td><td>DOE02        </td><td>JOE02        </td><td>Lackawana    </td><td>New York     </td><td>Male         </td><td>Graduate     </td><td>Econ         </td><td>US           </td><td>33           </td><td>1716         </td><td>77.80859     </td><td>68           </td><td>3            </td></tr>\n",
       "\t<tr><td>5            </td><td>DOE03        </td><td>JOE03        </td><td>Defiance     </td><td>Ohio         </td><td>Male         </td><td>Graduate     </td><td>Econ         </td><td>US           </td><td>37           </td><td>1701         </td><td>65.00000     </td><td>71           </td><td>6            </td></tr>\n",
       "\t<tr><td>6            </td><td>DOE04        </td><td>JOE04        </td><td>Tel Aviv     </td><td>Israel       </td><td>Male         </td><td>Graduate     </td><td>Econ         </td><td>Israel       </td><td>25           </td><td>1786         </td><td>69.00000     </td><td>67           </td><td>5            </td></tr>\n",
       "</tbody>\n",
       "</table>\n"
      ],
      "text/latex": [
       "\\begin{tabular}{r|llllllllllllll}\n",
       " ID & LastÂ.Name & First.Name & City & State & Gender & Student.Status & Major & Country & Age & SAT & Average.score..grade. & Height..in. & Newspaper.readership..times.wk.\\\\\n",
       "\\hline\n",
       "\t 1             & DOE01         & JANE01        & Los Angeles   & California    & Female        & Graduate      & Politics      & US            & 30            & 2263          & 67.00000      & 61            & 5            \\\\\n",
       "\t 2             & DOE02         & JANE02        & Sedona        & Arizona       & Female        & Undergraduate & Math          & US            & 19            & 2006          & 63.00000      & 64            & 7            \\\\\n",
       "\t 3             & DOE01         & JOE01         & Elmira        & New York      & Male          & Graduate      & Math          & US            & 26            & 2221          & 78.11328      & 73            & 6            \\\\\n",
       "\t 4             & DOE02         & JOE02         & Lackawana     & New York      & Male          & Graduate      & Econ          & US            & 33            & 1716          & 77.80859      & 68            & 3            \\\\\n",
       "\t 5             & DOE03         & JOE03         & Defiance      & Ohio          & Male          & Graduate      & Econ          & US            & 37            & 1701          & 65.00000      & 71            & 6            \\\\\n",
       "\t 6             & DOE04         & JOE04         & Tel Aviv      & Israel        & Male          & Graduate      & Econ          & Israel        & 25            & 1786          & 69.00000      & 67            & 5            \\\\\n",
       "\\end{tabular}\n"
      ],
      "text/markdown": [
       "\n",
       "| ID | LastÂ.Name | First.Name | City | State | Gender | Student.Status | Major | Country | Age | SAT | Average.score..grade. | Height..in. | Newspaper.readership..times.wk. |\n",
       "|---|---|---|---|---|---|---|---|---|---|---|---|---|---|\n",
       "| 1             | DOE01         | JANE01        | Los Angeles   | California    | Female        | Graduate      | Politics      | US            | 30            | 2263          | 67.00000      | 61            | 5             |\n",
       "| 2             | DOE02         | JANE02        | Sedona        | Arizona       | Female        | Undergraduate | Math          | US            | 19            | 2006          | 63.00000      | 64            | 7             |\n",
       "| 3             | DOE01         | JOE01         | Elmira        | New York      | Male          | Graduate      | Math          | US            | 26            | 2221          | 78.11328      | 73            | 6             |\n",
       "| 4             | DOE02         | JOE02         | Lackawana     | New York      | Male          | Graduate      | Econ          | US            | 33            | 1716          | 77.80859      | 68            | 3             |\n",
       "| 5             | DOE03         | JOE03         | Defiance      | Ohio          | Male          | Graduate      | Econ          | US            | 37            | 1701          | 65.00000      | 71            | 6             |\n",
       "| 6             | DOE04         | JOE04         | Tel Aviv      | Israel        | Male          | Graduate      | Econ          | Israel        | 25            | 1786          | 69.00000      | 67            | 5             |\n",
       "\n"
      ],
      "text/plain": [
       "  ID LastÂ.Name First.Name City        State      Gender Student.Status\n",
       "1 1  DOE01      JANE01     Los Angeles California Female Graduate      \n",
       "2 2  DOE02      JANE02     Sedona      Arizona    Female Undergraduate \n",
       "3 3  DOE01      JOE01      Elmira      New York   Male   Graduate      \n",
       "4 4  DOE02      JOE02      Lackawana   New York   Male   Graduate      \n",
       "5 5  DOE03      JOE03      Defiance    Ohio       Male   Graduate      \n",
       "6 6  DOE04      JOE04      Tel Aviv    Israel     Male   Graduate      \n",
       "  Major    Country Age SAT  Average.score..grade. Height..in.\n",
       "1 Politics US      30  2263 67.00000              61         \n",
       "2 Math     US      19  2006 63.00000              64         \n",
       "3 Math     US      26  2221 78.11328              73         \n",
       "4 Econ     US      33  1716 77.80859              68         \n",
       "5 Econ     US      37  1701 65.00000              71         \n",
       "6 Econ     Israel  25  1786 69.00000              67         \n",
       "  Newspaper.readership..times.wk.\n",
       "1 5                              \n",
       "2 7                              \n",
       "3 6                              \n",
       "4 3                              \n",
       "5 6                              \n",
       "6 5                              "
      ]
     },
     "metadata": {},
     "output_type": "display_data"
    }
   ],
   "source": [
    "#Bo cac dong/cot chua du lieu NA\n",
    "#students <- na.omit(students)\n",
    "library(tidyr)\n",
    "students <- drop_na(students)\n",
    "head(students)"
   ]
  },
  {
   "cell_type": "code",
   "execution_count": 67,
   "metadata": {},
   "outputs": [
    {
     "data": {
      "text/html": [
       "<table>\n",
       "<thead><tr><th scope=col>City</th><th scope=col>State</th><th scope=col>Gender</th><th scope=col>Student.Status</th><th scope=col>Major</th><th scope=col>Country</th><th scope=col>Age</th><th scope=col>SAT</th><th scope=col>Average.score..grade.</th><th scope=col>Height..in.</th><th scope=col>Newspaper.readership..times.wk.</th></tr></thead>\n",
       "<tbody>\n",
       "\t<tr><td>Los Angeles  </td><td>California   </td><td>Female       </td><td>Graduate     </td><td>Politics     </td><td>US           </td><td>30           </td><td>2263         </td><td>67.00000     </td><td>61           </td><td>5            </td></tr>\n",
       "\t<tr><td>Sedona       </td><td>Arizona      </td><td>Female       </td><td>Undergraduate</td><td>Math         </td><td>US           </td><td>19           </td><td>2006         </td><td>63.00000     </td><td>64           </td><td>7            </td></tr>\n",
       "\t<tr><td>Elmira       </td><td>New York     </td><td>Male         </td><td>Graduate     </td><td>Math         </td><td>US           </td><td>26           </td><td>2221         </td><td>78.11328     </td><td>73           </td><td>6            </td></tr>\n",
       "\t<tr><td>Lackawana    </td><td>New York     </td><td>Male         </td><td>Graduate     </td><td>Econ         </td><td>US           </td><td>33           </td><td>1716         </td><td>77.80859     </td><td>68           </td><td>3            </td></tr>\n",
       "\t<tr><td>Defiance     </td><td>Ohio         </td><td>Male         </td><td>Graduate     </td><td>Econ         </td><td>US           </td><td>37           </td><td>1701         </td><td>65.00000     </td><td>71           </td><td>6            </td></tr>\n",
       "\t<tr><td>Tel Aviv     </td><td>Israel       </td><td>Male         </td><td>Graduate     </td><td>Econ         </td><td>Israel       </td><td>25           </td><td>1786         </td><td>69.00000     </td><td>67           </td><td>5            </td></tr>\n",
       "</tbody>\n",
       "</table>\n"
      ],
      "text/latex": [
       "\\begin{tabular}{r|lllllllllll}\n",
       " City & State & Gender & Student.Status & Major & Country & Age & SAT & Average.score..grade. & Height..in. & Newspaper.readership..times.wk.\\\\\n",
       "\\hline\n",
       "\t Los Angeles   & California    & Female        & Graduate      & Politics      & US            & 30            & 2263          & 67.00000      & 61            & 5            \\\\\n",
       "\t Sedona        & Arizona       & Female        & Undergraduate & Math          & US            & 19            & 2006          & 63.00000      & 64            & 7            \\\\\n",
       "\t Elmira        & New York      & Male          & Graduate      & Math          & US            & 26            & 2221          & 78.11328      & 73            & 6            \\\\\n",
       "\t Lackawana     & New York      & Male          & Graduate      & Econ          & US            & 33            & 1716          & 77.80859      & 68            & 3            \\\\\n",
       "\t Defiance      & Ohio          & Male          & Graduate      & Econ          & US            & 37            & 1701          & 65.00000      & 71            & 6            \\\\\n",
       "\t Tel Aviv      & Israel        & Male          & Graduate      & Econ          & Israel        & 25            & 1786          & 69.00000      & 67            & 5            \\\\\n",
       "\\end{tabular}\n"
      ],
      "text/markdown": [
       "\n",
       "| City | State | Gender | Student.Status | Major | Country | Age | SAT | Average.score..grade. | Height..in. | Newspaper.readership..times.wk. |\n",
       "|---|---|---|---|---|---|---|---|---|---|---|\n",
       "| Los Angeles   | California    | Female        | Graduate      | Politics      | US            | 30            | 2263          | 67.00000      | 61            | 5             |\n",
       "| Sedona        | Arizona       | Female        | Undergraduate | Math          | US            | 19            | 2006          | 63.00000      | 64            | 7             |\n",
       "| Elmira        | New York      | Male          | Graduate      | Math          | US            | 26            | 2221          | 78.11328      | 73            | 6             |\n",
       "| Lackawana     | New York      | Male          | Graduate      | Econ          | US            | 33            | 1716          | 77.80859      | 68            | 3             |\n",
       "| Defiance      | Ohio          | Male          | Graduate      | Econ          | US            | 37            | 1701          | 65.00000      | 71            | 6             |\n",
       "| Tel Aviv      | Israel        | Male          | Graduate      | Econ          | Israel        | 25            | 1786          | 69.00000      | 67            | 5             |\n",
       "\n"
      ],
      "text/plain": [
       "  City        State      Gender Student.Status Major    Country Age SAT \n",
       "1 Los Angeles California Female Graduate       Politics US      30  2263\n",
       "2 Sedona      Arizona    Female Undergraduate  Math     US      19  2006\n",
       "3 Elmira      New York   Male   Graduate       Math     US      26  2221\n",
       "4 Lackawana   New York   Male   Graduate       Econ     US      33  1716\n",
       "5 Defiance    Ohio       Male   Graduate       Econ     US      37  1701\n",
       "6 Tel Aviv    Israel     Male   Graduate       Econ     Israel  25  1786\n",
       "  Average.score..grade. Height..in. Newspaper.readership..times.wk.\n",
       "1 67.00000              61          5                              \n",
       "2 63.00000              64          7                              \n",
       "3 78.11328              73          6                              \n",
       "4 77.80859              68          3                              \n",
       "5 65.00000              71          6                              \n",
       "6 69.00000              67          5                              "
      ]
     },
     "metadata": {},
     "output_type": "display_data"
    }
   ],
   "source": [
    "df <- students[,4:14]\n",
    "head(df)"
   ]
  },
  {
   "cell_type": "code",
   "execution_count": 68,
   "metadata": {},
   "outputs": [
    {
     "name": "stdout",
     "output_type": "stream",
     "text": [
      "'data.frame':\t30 obs. of  11 variables:\n",
      " $ City                           : Factor w/ 29 levels \"Acme\",\"Amsterdam\",..: 17 25 9 14 7 27 6 15 20 22 ...\n",
      " $ State                          : Factor w/ 26 levels \"Argentina\",\"Arizona\",..: 4 2 15 15 17 8 16 9 5 15 ...\n",
      " $ Gender                         : Factor w/ 2 levels \"Female\",\"Male\": 1 1 2 2 2 2 2 1 1 1 ...\n",
      " $ Student.Status                 : Factor w/ 2 levels \"Graduate\",\"Undergraduate\": 1 2 1 1 1 1 1 2 2 1 ...\n",
      " $ Major                          : Factor w/ 3 levels \"Econ\",\"Math\",..: 3 2 2 1 1 1 3 3 2 2 ...\n",
      " $ Country                        : Factor w/ 11 levels \"Argentina\",\"Bulgaria\",..: 10 10 10 10 10 6 10 10 3 10 ...\n",
      " $ Age                            : num  30 19 26 33 37 25 39 21 18 33 ...\n",
      " $ SAT                            : num  2263 2006 2221 1716 1701 ...\n",
      " $ Average.score..grade.          : num  67 63 78.1 77.8 65 ...\n",
      " $ Height..in.                    : num  61 64 73 68 71 67 70 62 62 66 ...\n",
      " $ Newspaper.readership..times.wk.: num  5 7 6 3 6 5 5 5 6 5 ...\n"
     ]
    }
   ],
   "source": [
    "#in thong ke chung cua dataset\n",
    "str(df)"
   ]
  },
  {
   "cell_type": "code",
   "execution_count": 69,
   "metadata": {},
   "outputs": [],
   "source": [
    "#Ve pie chart thong ke sinh vien theo Major, theo Gender, theo Student.Status\n",
    "library('plotrix')"
   ]
  },
  {
   "cell_type": "code",
   "execution_count": 70,
   "metadata": {},
   "outputs": [
    {
     "name": "stdout",
     "output_type": "stream",
     "text": [
      "\n",
      "    Econ     Math Politics \n",
      "      10       10       10 \n"
     ]
    }
   ],
   "source": [
    "major <- table(df$Major)\n",
    "print(major)"
   ]
  },
  {
   "cell_type": "code",
   "execution_count": 71,
   "metadata": {},
   "outputs": [
    {
     "data": {
      "image/png": "[encoded data removed]",
      "text/plain": [
       "Plot with title \"No students in Majors\""
      ]
     },
     "metadata": {},
     "output_type": "display_data"
    }
   ],
   "source": [
    "colors_major <- c('red', 'orange','yellow')\n",
    "pie(major, main = \"No students in Majors\", col = colors_major)"
   ]
  },
  {
   "cell_type": "code",
   "execution_count": 72,
   "metadata": {},
   "outputs": [
    {
     "data": {
      "image/png": "[encoded data removed]",
      "text/plain": [
       "Plot with title \"No students in Gender\""
      ]
     },
     "metadata": {},
     "output_type": "display_data"
    }
   ],
   "source": [
    "#Ve pie theo Gender\n",
    "gender <- table(df$Gender)\n",
    "colors_gender <- c(\"yellow\",\"green\")\n",
    "pie(gender, main = \"No students in Gender\", col = colors_gender)"
   ]
  },
  {
   "cell_type": "code",
   "execution_count": 73,
   "metadata": {},
   "outputs": [
    {
     "data": {
      "text/plain": [
       "\n",
       "     Graduate Undergraduate \n",
       "           15            15 "
      ]
     },
     "metadata": {},
     "output_type": "display_data"
    }
   ],
   "source": [
    "#Ve pie thong ke sinh vien theo Student.status\n",
    "student.sta <- table(df$Student.Status)\n",
    "student.sta"
   ]
  },
  {
   "cell_type": "code",
   "execution_count": 74,
   "metadata": {},
   "outputs": [
    {
     "data": {
      "image/png": "[encoded data removed]",
      "text/plain": [
       "Plot with title \"No students in Status\""
      ]
     },
     "metadata": {},
     "output_type": "display_data"
    }
   ],
   "source": [
    "colors_sta <- c(\"blue\",\"light blue\")\n",
    "pie(student.sta, main = \"No students in Status\", col = colors_sta)"
   ]
  },
  {
   "cell_type": "code",
   "execution_count": 77,
   "metadata": {},
   "outputs": [
    {
     "data": {
      "text/html": [
       "<dl class=dl-horizontal>\n",
       "\t<dt>Age</dt>\n",
       "\t\t<dd>47.2</dd>\n",
       "\t<dt>SAT</dt>\n",
       "\t\t<dd>75686.7137931035</dd>\n",
       "\t<dt>Average.score..grade.</dt>\n",
       "\t\t<dd>102.130104261266</dd>\n",
       "\t<dt>Height..in.</dt>\n",
       "\t\t<dd>21.7022988505747</dd>\n",
       "\t<dt>Newspaper.readership..times.wk.</dt>\n",
       "\t\t<dd>1.6367816091954</dd>\n",
       "</dl>\n"
      ],
      "text/latex": [
       "\\begin{description*}\n",
       "\\item[Age] 47.2\n",
       "\\item[SAT] 75686.7137931035\n",
       "\\item[Average.score..grade.] 102.130104261266\n",
       "\\item[Height..in.] 21.7022988505747\n",
       "\\item[Newspaper.readership..times.wk.] 1.6367816091954\n",
       "\\end{description*}\n"
      ],
      "text/markdown": [
       "Age\n",
       ":   47.2SAT\n",
       ":   75686.7137931035Average.score..grade.\n",
       ":   102.130104261266Height..in.\n",
       ":   21.7022988505747Newspaper.readership..times.wk.\n",
       ":   1.6367816091954\n",
       "\n"
      ],
      "text/plain": [
       "                            Age                             SAT \n",
       "                      47.200000                    75686.713793 \n",
       "          Average.score..grade.                     Height..in. \n",
       "                     102.130104                       21.702299 \n",
       "Newspaper.readership..times.wk. \n",
       "                       1.636782 "
      ]
     },
     "metadata": {},
     "output_type": "display_data"
    }
   ],
   "source": [
    "#Tinh phuong sai cua tat ca cac thuoc tinh du lieu\n",
    "sapply(df[,7:11],var)"
   ]
  },
  {
   "cell_type": "code",
   "execution_count": 78,
   "metadata": {},
   "outputs": [
    {
     "data": {
      "text/html": [
       "<dl class=dl-horizontal>\n",
       "\t<dt>Age</dt>\n",
       "\t\t<dd>6.87022561492707</dd>\n",
       "\t<dt>SAT</dt>\n",
       "\t\t<dd>275.112184014273</dd>\n",
       "\t<dt>Average.score..grade.</dt>\n",
       "\t\t<dd>10.1059440064383</dd>\n",
       "\t<dt>Height..in.</dt>\n",
       "\t\t<dd>4.65857261943771</dd>\n",
       "\t<dt>Newspaper.readership..times.wk.</dt>\n",
       "\t\t<dd>1.27936765989898</dd>\n",
       "</dl>\n"
      ],
      "text/latex": [
       "\\begin{description*}\n",
       "\\item[Age] 6.87022561492707\n",
       "\\item[SAT] 275.112184014273\n",
       "\\item[Average.score..grade.] 10.1059440064383\n",
       "\\item[Height..in.] 4.65857261943771\n",
       "\\item[Newspaper.readership..times.wk.] 1.27936765989898\n",
       "\\end{description*}\n"
      ],
      "text/markdown": [
       "Age\n",
       ":   6.87022561492707SAT\n",
       ":   275.112184014273Average.score..grade.\n",
       ":   10.1059440064383Height..in.\n",
       ":   4.65857261943771Newspaper.readership..times.wk.\n",
       ":   1.27936765989898\n",
       "\n"
      ],
      "text/plain": [
       "                            Age                             SAT \n",
       "                       6.870226                      275.112184 \n",
       "          Average.score..grade.                     Height..in. \n",
       "                      10.105944                        4.658573 \n",
       "Newspaper.readership..times.wk. \n",
       "                       1.279368 "
      ]
     },
     "metadata": {},
     "output_type": "display_data"
    }
   ],
   "source": [
    "#Tinh sd cua tat ca cac thuoc tinh du lieu\n",
    "sapply(df[,7:11],sd)"
   ]
  },
  {
   "cell_type": "code",
   "execution_count": 79,
   "metadata": {},
   "outputs": [],
   "source": [
    "library(\"e1071\")"
   ]
  },
  {
   "cell_type": "code",
   "execution_count": 80,
   "metadata": {},
   "outputs": [
    {
     "data": {
      "text/html": [
       "<dl class=dl-horizontal>\n",
       "\t<dt>Age</dt>\n",
       "\t\t<dd>0.528934773692149</dd>\n",
       "\t<dt>SAT</dt>\n",
       "\t\t<dd>0.147773904313517</dd>\n",
       "\t<dt>Average.score..grade.</dt>\n",
       "\t\t<dd>-0.106662677332878</dd>\n",
       "\t<dt>Height..in.</dt>\n",
       "\t\t<dd>0.16317586387728</dd>\n",
       "\t<dt>Newspaper.readership..times.wk.</dt>\n",
       "\t\t<dd>-0.0492779913317553</dd>\n",
       "</dl>\n"
      ],
      "text/latex": [
       "\\begin{description*}\n",
       "\\item[Age] 0.528934773692149\n",
       "\\item[SAT] 0.147773904313517\n",
       "\\item[Average.score..grade.] -0.106662677332878\n",
       "\\item[Height..in.] 0.16317586387728\n",
       "\\item[Newspaper.readership..times.wk.] -0.0492779913317553\n",
       "\\end{description*}\n"
      ],
      "text/markdown": [
       "Age\n",
       ":   0.528934773692149SAT\n",
       ":   0.147773904313517Average.score..grade.\n",
       ":   -0.106662677332878Height..in.\n",
       ":   0.16317586387728Newspaper.readership..times.wk.\n",
       ":   -0.0492779913317553\n",
       "\n"
      ],
      "text/plain": [
       "                            Age                             SAT \n",
       "                     0.52893477                      0.14777390 \n",
       "          Average.score..grade.                     Height..in. \n",
       "                    -0.10666268                      0.16317586 \n",
       "Newspaper.readership..times.wk. \n",
       "                    -0.04927799 "
      ]
     },
     "metadata": {},
     "output_type": "display_data"
    }
   ],
   "source": [
    "#Tinh skewness cho tat cac thuoc tinh \n",
    "skew <- apply(df[,7:11],2, skewness)\n",
    "skew"
   ]
  },
  {
   "cell_type": "code",
   "execution_count": 81,
   "metadata": {},
   "outputs": [
    {
     "data": {
      "text/html": [
       "<dl class=dl-horizontal>\n",
       "\t<dt>Age</dt>\n",
       "\t\t<dd>1.92367945439162</dd>\n",
       "\t<dt>SAT</dt>\n",
       "\t\t<dd>2.09448842834218</dd>\n",
       "\t<dt>Average.score..grade.</dt>\n",
       "\t\t<dd>1.97232238113114</dd>\n",
       "\t<dt>Height..in.</dt>\n",
       "\t\t<dd>1.90931888962349</dd>\n",
       "\t<dt>Newspaper.readership..times.wk.</dt>\n",
       "\t\t<dd>1.98871670243656</dd>\n",
       "</dl>\n"
      ],
      "text/latex": [
       "\\begin{description*}\n",
       "\\item[Age] 1.92367945439162\n",
       "\\item[SAT] 2.09448842834218\n",
       "\\item[Average.score..grade.] 1.97232238113114\n",
       "\\item[Height..in.] 1.90931888962349\n",
       "\\item[Newspaper.readership..times.wk.] 1.98871670243656\n",
       "\\end{description*}\n"
      ],
      "text/markdown": [
       "Age\n",
       ":   1.92367945439162SAT\n",
       ":   2.09448842834218Average.score..grade.\n",
       ":   1.97232238113114Height..in.\n",
       ":   1.90931888962349Newspaper.readership..times.wk.\n",
       ":   1.98871670243656\n",
       "\n"
      ],
      "text/plain": [
       "                            Age                             SAT \n",
       "                       1.923679                        2.094488 \n",
       "          Average.score..grade.                     Height..in. \n",
       "                       1.972322                        1.909319 \n",
       "Newspaper.readership..times.wk. \n",
       "                       1.988717 "
      ]
     },
     "metadata": {},
     "output_type": "display_data"
    }
   ],
   "source": [
    "#Tinh kurtosis cho tat cac thuoc tinh \n",
    "kur <- apply(df[,7:11],2, kurtosis)\n",
    "kur"
   ]
  },
  {
   "cell_type": "code",
   "execution_count": 87,
   "metadata": {},
   "outputs": [
    {
     "data": {
      "image/png": "[encoded data removed]",
      "text/plain": [
       "Plot with title \"Histogram of Height\""
      ]
     },
     "metadata": {},
     "output_type": "display_data"
    }
   ],
   "source": [
    "par(mfrow = c(2,2))\n",
    "#ve histogram cho cot AGE\n",
    "h <- hist(df$Age, xlab = \"Age of Student\", main = \"Histogram of Age\", xlim = c(min(df$Age) - 20, max(df$Age) + 20),\n",
    "          breaks = 10, col = rainbow(10), freq = FALSE, las = 1)\n",
    "lines(density(df$Age))\n",
    "#ve histogram cho cot SAT\n",
    "    h <- hist(df$SAT, xlab = \"SAT of Student\", main = \"Histogram of SAT\", xlim = c(min(df$SAT) - 20, max(df$SAT) + 20),\n",
    "          breaks = 10, col = rainbow(10), freq = FALSE, las = 1)\n",
    "lines(density(df$SAT))\n",
    "#ve histogram cho cot Avg score rate\n",
    "    h <- hist(df$Average.score..grade., xlab = \"Average Score Grade\", main = \"Histogram of SAT\", \n",
    "              xlim = c(min(df$Average.score..grade.) - 20, max(df$Average.score..grade.) + 20),\n",
    "          breaks = 10, col = rainbow(10), freq = FALSE, las = 1)\n",
    "lines(density(df$Average.score..grade.))\n",
    "#ve histogram cho cot Avg score rate\n",
    "    h <- hist(df$Height..in., xlab = \"Height\", main = \"Histogram of Height\", \n",
    "              xlim = c(min(df$Height..in.) - 20, max(df$Height..in.) + 20),\n",
    "          breaks = 10, col = rainbow(10), freq = FALSE, las = 1)\n",
    "lines(density(df$Height..in.))"
   ]
  },
  {
   "cell_type": "code",
   "execution_count": null,
   "metadata": {},
   "outputs": [],
   "source": []
  }
 ],
 "metadata": {
  "kernelspec": {
   "display_name": "R",
   "language": "R",
   "name": "ir"
  },
  "language_info": {
   "codemirror_mode": "r",
   "file_extension": ".r",
   "mimetype": "text/x-r-source",
   "name": "R",
   "pygments_lexer": "r",
   "version": "3.6.1"
  }
 },
 "nbformat": 4,
 "nbformat_minor": 2
}
