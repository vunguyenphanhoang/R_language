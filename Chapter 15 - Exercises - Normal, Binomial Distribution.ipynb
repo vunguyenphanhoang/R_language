{
 "cells": [
  {
   "cell_type": "markdown",
   "metadata": {},
   "source": [
    "## Ex1: Buying T-shirt - Binominal Distribution"
   ]
  },
  {
   "cell_type": "code",
   "execution_count": 1,
   "metadata": {},
   "outputs": [
    {
     "data": {
      "text/html": [
       "0.29647548"
      ],
      "text/latex": [
       "0.29647548"
      ],
      "text/markdown": [
       "0.29647548"
      ],
      "text/plain": [
       "[1] 0.2964755"
      ]
     },
     "metadata": {},
     "output_type": "display_data"
    }
   ],
   "source": [
    "#Xac suat khach mua: 0.3. CO 8 nguoi\n",
    "#Xac suat de 2 nnguoi mua?\n",
    "prob <- 0.3\n",
    "size <- 8\n",
    "x2 <- 2\n",
    "prob_buy2 <- dbinom(x2,size, prob)\n",
    "prob_buy2"
   ]
  },
  {
   "cell_type": "code",
   "execution_count": 2,
   "metadata": {},
   "outputs": [
    {
     "data": {
      "text/html": [
       "0.00122472"
      ],
      "text/latex": [
       "0.00122472"
      ],
      "text/markdown": [
       "0.00122472"
      ],
      "text/plain": [
       "[1] 0.00122472"
      ]
     },
     "metadata": {},
     "output_type": "display_data"
    }
   ],
   "source": [
    "#Xac suat de 7 nguoi mua\n",
    "x7 <- 7\n",
    "prob_buy7 <- dbinom(x7,size, prob)\n",
    "prob_buy7"
   ]
  },
  {
   "cell_type": "code",
   "execution_count": 3,
   "metadata": {},
   "outputs": [
    {
     "data": {
      "text/html": [
       "0.74470167"
      ],
      "text/latex": [
       "0.74470167"
      ],
      "text/markdown": [
       "0.74470167"
      ],
      "text/plain": [
       "[1] 0.7447017"
      ]
     },
     "metadata": {},
     "output_type": "display_data"
    }
   ],
   "source": [
    "#Xac ssuat de it nhat 2 nguoi mua\n",
    "prob_buy1 <- pbinom(1, size, prob)\n",
    "prob_buy2m <- 1 - prob_buy1\n",
    "prob_buy2m"
   ]
  },
  {
   "cell_type": "markdown",
   "metadata": {},
   "source": [
    "## Ex2: Chiều cao - Normal Distribution"
   ]
  },
  {
   "cell_type": "code",
   "execution_count": 7,
   "metadata": {},
   "outputs": [
    {
     "data": {
      "text/html": [
       "<ol class=list-inline>\n",
       "\t<li>140</li>\n",
       "\t<li>140.5</li>\n",
       "\t<li>141</li>\n",
       "\t<li>141.5</li>\n",
       "\t<li>142</li>\n",
       "\t<li>142.5</li>\n",
       "\t<li>143</li>\n",
       "\t<li>143.5</li>\n",
       "\t<li>144</li>\n",
       "\t<li>144.5</li>\n",
       "\t<li>145</li>\n",
       "\t<li>145.5</li>\n",
       "\t<li>146</li>\n",
       "\t<li>146.5</li>\n",
       "\t<li>147</li>\n",
       "\t<li>147.5</li>\n",
       "\t<li>148</li>\n",
       "\t<li>148.5</li>\n",
       "\t<li>149</li>\n",
       "\t<li>149.5</li>\n",
       "\t<li>150</li>\n",
       "\t<li>150.5</li>\n",
       "\t<li>151</li>\n",
       "\t<li>151.5</li>\n",
       "\t<li>152</li>\n",
       "\t<li>152.5</li>\n",
       "\t<li>153</li>\n",
       "\t<li>153.5</li>\n",
       "\t<li>154</li>\n",
       "\t<li>154.5</li>\n",
       "\t<li>155</li>\n",
       "\t<li>155.5</li>\n",
       "\t<li>156</li>\n",
       "\t<li>156.5</li>\n",
       "\t<li>157</li>\n",
       "\t<li>157.5</li>\n",
       "\t<li>158</li>\n",
       "\t<li>158.5</li>\n",
       "\t<li>159</li>\n",
       "\t<li>159.5</li>\n",
       "\t<li>160</li>\n",
       "\t<li>160.5</li>\n",
       "\t<li>161</li>\n",
       "\t<li>161.5</li>\n",
       "\t<li>162</li>\n",
       "\t<li>162.5</li>\n",
       "\t<li>163</li>\n",
       "\t<li>163.5</li>\n",
       "\t<li>164</li>\n",
       "\t<li>164.5</li>\n",
       "\t<li>165</li>\n",
       "\t<li>165.5</li>\n",
       "\t<li>166</li>\n",
       "\t<li>166.5</li>\n",
       "\t<li>167</li>\n",
       "\t<li>167.5</li>\n",
       "\t<li>168</li>\n",
       "\t<li>168.5</li>\n",
       "\t<li>169</li>\n",
       "\t<li>169.5</li>\n",
       "\t<li>170</li>\n",
       "\t<li>170.5</li>\n",
       "\t<li>171</li>\n",
       "\t<li>171.5</li>\n",
       "\t<li>172</li>\n",
       "\t<li>172.5</li>\n",
       "\t<li>173</li>\n",
       "\t<li>173.5</li>\n",
       "\t<li>174</li>\n",
       "\t<li>174.5</li>\n",
       "\t<li>175</li>\n",
       "\t<li>175.5</li>\n",
       "\t<li>176</li>\n",
       "\t<li>176.5</li>\n",
       "\t<li>177</li>\n",
       "\t<li>177.5</li>\n",
       "\t<li>178</li>\n",
       "\t<li>178.5</li>\n",
       "\t<li>179</li>\n",
       "\t<li>179.5</li>\n",
       "\t<li>180</li>\n",
       "</ol>\n"
      ],
      "text/latex": [
       "\\begin{enumerate*}\n",
       "\\item 140\n",
       "\\item 140.5\n",
       "\\item 141\n",
       "\\item 141.5\n",
       "\\item 142\n",
       "\\item 142.5\n",
       "\\item 143\n",
       "\\item 143.5\n",
       "\\item 144\n",
       "\\item 144.5\n",
       "\\item 145\n",
       "\\item 145.5\n",
       "\\item 146\n",
       "\\item 146.5\n",
       "\\item 147\n",
       "\\item 147.5\n",
       "\\item 148\n",
       "\\item 148.5\n",
       "\\item 149\n",
       "\\item 149.5\n",
       "\\item 150\n",
       "\\item 150.5\n",
       "\\item 151\n",
       "\\item 151.5\n",
       "\\item 152\n",
       "\\item 152.5\n",
       "\\item 153\n",
       "\\item 153.5\n",
       "\\item 154\n",
       "\\item 154.5\n",
       "\\item 155\n",
       "\\item 155.5\n",
       "\\item 156\n",
       "\\item 156.5\n",
       "\\item 157\n",
       "\\item 157.5\n",
       "\\item 158\n",
       "\\item 158.5\n",
       "\\item 159\n",
       "\\item 159.5\n",
       "\\item 160\n",
       "\\item 160.5\n",
       "\\item 161\n",
       "\\item 161.5\n",
       "\\item 162\n",
       "\\item 162.5\n",
       "\\item 163\n",
       "\\item 163.5\n",
       "\\item 164\n",
       "\\item 164.5\n",
       "\\item 165\n",
       "\\item 165.5\n",
       "\\item 166\n",
       "\\item 166.5\n",
       "\\item 167\n",
       "\\item 167.5\n",
       "\\item 168\n",
       "\\item 168.5\n",
       "\\item 169\n",
       "\\item 169.5\n",
       "\\item 170\n",
       "\\item 170.5\n",
       "\\item 171\n",
       "\\item 171.5\n",
       "\\item 172\n",
       "\\item 172.5\n",
       "\\item 173\n",
       "\\item 173.5\n",
       "\\item 174\n",
       "\\item 174.5\n",
       "\\item 175\n",
       "\\item 175.5\n",
       "\\item 176\n",
       "\\item 176.5\n",
       "\\item 177\n",
       "\\item 177.5\n",
       "\\item 178\n",
       "\\item 178.5\n",
       "\\item 179\n",
       "\\item 179.5\n",
       "\\item 180\n",
       "\\end{enumerate*}\n"
      ],
      "text/markdown": [
       "1. 140\n",
       "2. 140.5\n",
       "3. 141\n",
       "4. 141.5\n",
       "5. 142\n",
       "6. 142.5\n",
       "7. 143\n",
       "8. 143.5\n",
       "9. 144\n",
       "10. 144.5\n",
       "11. 145\n",
       "12. 145.5\n",
       "13. 146\n",
       "14. 146.5\n",
       "15. 147\n",
       "16. 147.5\n",
       "17. 148\n",
       "18. 148.5\n",
       "19. 149\n",
       "20. 149.5\n",
       "21. 150\n",
       "22. 150.5\n",
       "23. 151\n",
       "24. 151.5\n",
       "25. 152\n",
       "26. 152.5\n",
       "27. 153\n",
       "28. 153.5\n",
       "29. 154\n",
       "30. 154.5\n",
       "31. 155\n",
       "32. 155.5\n",
       "33. 156\n",
       "34. 156.5\n",
       "35. 157\n",
       "36. 157.5\n",
       "37. 158\n",
       "38. 158.5\n",
       "39. 159\n",
       "40. 159.5\n",
       "41. 160\n",
       "42. 160.5\n",
       "43. 161\n",
       "44. 161.5\n",
       "45. 162\n",
       "46. 162.5\n",
       "47. 163\n",
       "48. 163.5\n",
       "49. 164\n",
       "50. 164.5\n",
       "51. 165\n",
       "52. 165.5\n",
       "53. 166\n",
       "54. 166.5\n",
       "55. 167\n",
       "56. 167.5\n",
       "57. 168\n",
       "58. 168.5\n",
       "59. 169\n",
       "60. 169.5\n",
       "61. 170\n",
       "62. 170.5\n",
       "63. 171\n",
       "64. 171.5\n",
       "65. 172\n",
       "66. 172.5\n",
       "67. 173\n",
       "68. 173.5\n",
       "69. 174\n",
       "70. 174.5\n",
       "71. 175\n",
       "72. 175.5\n",
       "73. 176\n",
       "74. 176.5\n",
       "75. 177\n",
       "76. 177.5\n",
       "77. 178\n",
       "78. 178.5\n",
       "79. 179\n",
       "80. 179.5\n",
       "81. 180\n",
       "\n",
       "\n"
      ],
      "text/plain": [
       " [1] 140.0 140.5 141.0 141.5 142.0 142.5 143.0 143.5 144.0 144.5 145.0 145.5\n",
       "[13] 146.0 146.5 147.0 147.5 148.0 148.5 149.0 149.5 150.0 150.5 151.0 151.5\n",
       "[25] 152.0 152.5 153.0 153.5 154.0 154.5 155.0 155.5 156.0 156.5 157.0 157.5\n",
       "[37] 158.0 158.5 159.0 159.5 160.0 160.5 161.0 161.5 162.0 162.5 163.0 163.5\n",
       "[49] 164.0 164.5 165.0 165.5 166.0 166.5 167.0 167.5 168.0 168.5 169.0 169.5\n",
       "[61] 170.0 170.5 171.0 171.5 172.0 172.5 173.0 173.5 174.0 174.5 175.0 175.5\n",
       "[73] 176.0 176.5 177.0 177.5 178.0 178.5 179.0 179.5 180.0"
      ]
     },
     "metadata": {},
     "output_type": "display_data"
    }
   ],
   "source": [
    "#Chieu cao trung binh hien nay cua phu nu VN la 156cm, voi do lech chuan la 4.6cm\n",
    "#Hay tao ra cac mau chieu cao lan luot la 140cm -? 180cm, cach nhau 0.5cm\n",
    "x <- seq(140, 180, 0.5)\n",
    "x"
   ]
  },
  {
   "cell_type": "code",
   "execution_count": 9,
   "metadata": {},
   "outputs": [
    {
     "data": {
      "text/html": [
       "<ol class=list-inline>\n",
       "\t<li>0.000204663339511875</li>\n",
       "\t<li>0.000296940221501302</li>\n",
       "\t<li>0.000425762023793083</li>\n",
       "\t<li>0.000603300571193802</li>\n",
       "\t<li>0.000844830283344722</li>\n",
       "\t<li>0.00116916049091644</li>\n",
       "\t<li>0.001598997226568</li>\n",
       "\t<li>0.00216117637566734</li>\n",
       "\t<li>0.00288669987951839</li>\n",
       "\t<li>0.00381050010729751</li>\n",
       "\t<li>0.004970856704062</li>\n",
       "\t<li>0.00640839733255873</li>\n",
       "\t<li>0.00816463058748421</li>\n",
       "\t<li>0.0102799871045954</li>\n",
       "\t<li>0.0127913835543763</li>\n",
       "\t<li>0.0157293724074431</li>\n",
       "\t<li>0.0191149950404317</li>\n",
       "\t<li>0.0229565121969137</li>\n",
       "\t<li>0.0272462378692536</li>\n",
       "\t<li>0.031957743245264</li>\n",
       "\t<li>0.0370437192544233</li>\n",
       "\t<li>0.0424347830885048</li>\n",
       "\t<li>0.0480394814107597</li>\n",
       "\t<li>0.0537456792548929</li>\n",
       "\t<li>0.0594234309266334</li>\n",
       "\t<li>0.0649293135717826</li>\n",
       "\t<li>0.0701120751911035</li>\n",
       "\t<li>0.0748193193912572</li>\n",
       "\t<li>0.07890483324789</li>\n",
       "\t<li>0.0822360763383921</li>\n",
       "\t<li>0.084701300241491</li>\n",
       "\t<li>0.0862157667504394</li>\n",
       "\t<li>0.0867265826959636</li>\n",
       "\t<li>0.0862157667504394</li>\n",
       "\t<li>0.084701300241491</li>\n",
       "\t<li>0.0822360763383921</li>\n",
       "\t<li>0.07890483324789</li>\n",
       "\t<li>0.0748193193912572</li>\n",
       "\t<li>0.0701120751911035</li>\n",
       "\t<li>0.0649293135717826</li>\n",
       "\t<li>0.0594234309266334</li>\n",
       "\t<li>0.0537456792548929</li>\n",
       "\t<li>0.0480394814107597</li>\n",
       "\t<li>0.0424347830885048</li>\n",
       "\t<li>0.0370437192544233</li>\n",
       "\t<li>0.031957743245264</li>\n",
       "\t<li>0.0272462378692536</li>\n",
       "\t<li>0.0229565121969137</li>\n",
       "\t<li>0.0191149950404317</li>\n",
       "\t<li>0.0157293724074431</li>\n",
       "\t<li>0.0127913835543763</li>\n",
       "\t<li>0.0102799871045954</li>\n",
       "\t<li>0.00816463058748421</li>\n",
       "\t<li>0.00640839733255873</li>\n",
       "\t<li>0.004970856704062</li>\n",
       "\t<li>0.00381050010729751</li>\n",
       "\t<li>0.00288669987951839</li>\n",
       "\t<li>0.00216117637566734</li>\n",
       "\t<li>0.001598997226568</li>\n",
       "\t<li>0.00116916049091644</li>\n",
       "\t<li>0.000844830283344722</li>\n",
       "\t<li>0.000603300571193802</li>\n",
       "\t<li>0.000425762023793083</li>\n",
       "\t<li>0.000296940221501302</li>\n",
       "\t<li>0.000204663339511875</li>\n",
       "\t<li>0.000139405531294683</li>\n",
       "\t<li>9.384018971138e-05</li>\n",
       "\t<li>6.24261669946224e-05</li>\n",
       "\t<li>4.10405700094244e-05</li>\n",
       "\t<li>2.66642283414467e-05</li>\n",
       "\t<li>1.71203869824411e-05</li>\n",
       "\t<li>1.08634321415905e-05</li>\n",
       "\t<li>6.81223241070072e-06</li>\n",
       "\t<li>4.22163593645604e-06</li>\n",
       "\t<li>2.58547904066863e-06</li>\n",
       "\t<li>1.56484089183785e-06</li>\n",
       "\t<li>9.35983672469677e-07</li>\n",
       "\t<li>5.53267654369857e-07</li>\n",
       "\t<li>3.23199894507456e-07</li>\n",
       "\t<li>1.8658471408601e-07</li>\n",
       "\t<li>1.06451021665702e-07</li>\n",
       "</ol>\n"
      ],
      "text/latex": [
       "\\begin{enumerate*}\n",
       "\\item 0.000204663339511875\n",
       "\\item 0.000296940221501302\n",
       "\\item 0.000425762023793083\n",
       "\\item 0.000603300571193802\n",
       "\\item 0.000844830283344722\n",
       "\\item 0.00116916049091644\n",
       "\\item 0.001598997226568\n",
       "\\item 0.00216117637566734\n",
       "\\item 0.00288669987951839\n",
       "\\item 0.00381050010729751\n",
       "\\item 0.004970856704062\n",
       "\\item 0.00640839733255873\n",
       "\\item 0.00816463058748421\n",
       "\\item 0.0102799871045954\n",
       "\\item 0.0127913835543763\n",
       "\\item 0.0157293724074431\n",
       "\\item 0.0191149950404317\n",
       "\\item 0.0229565121969137\n",
       "\\item 0.0272462378692536\n",
       "\\item 0.031957743245264\n",
       "\\item 0.0370437192544233\n",
       "\\item 0.0424347830885048\n",
       "\\item 0.0480394814107597\n",
       "\\item 0.0537456792548929\n",
       "\\item 0.0594234309266334\n",
       "\\item 0.0649293135717826\n",
       "\\item 0.0701120751911035\n",
       "\\item 0.0748193193912572\n",
       "\\item 0.07890483324789\n",
       "\\item 0.0822360763383921\n",
       "\\item 0.084701300241491\n",
       "\\item 0.0862157667504394\n",
       "\\item 0.0867265826959636\n",
       "\\item 0.0862157667504394\n",
       "\\item 0.084701300241491\n",
       "\\item 0.0822360763383921\n",
       "\\item 0.07890483324789\n",
       "\\item 0.0748193193912572\n",
       "\\item 0.0701120751911035\n",
       "\\item 0.0649293135717826\n",
       "\\item 0.0594234309266334\n",
       "\\item 0.0537456792548929\n",
       "\\item 0.0480394814107597\n",
       "\\item 0.0424347830885048\n",
       "\\item 0.0370437192544233\n",
       "\\item 0.031957743245264\n",
       "\\item 0.0272462378692536\n",
       "\\item 0.0229565121969137\n",
       "\\item 0.0191149950404317\n",
       "\\item 0.0157293724074431\n",
       "\\item 0.0127913835543763\n",
       "\\item 0.0102799871045954\n",
       "\\item 0.00816463058748421\n",
       "\\item 0.00640839733255873\n",
       "\\item 0.004970856704062\n",
       "\\item 0.00381050010729751\n",
       "\\item 0.00288669987951839\n",
       "\\item 0.00216117637566734\n",
       "\\item 0.001598997226568\n",
       "\\item 0.00116916049091644\n",
       "\\item 0.000844830283344722\n",
       "\\item 0.000603300571193802\n",
       "\\item 0.000425762023793083\n",
       "\\item 0.000296940221501302\n",
       "\\item 0.000204663339511875\n",
       "\\item 0.000139405531294683\n",
       "\\item 9.384018971138e-05\n",
       "\\item 6.24261669946224e-05\n",
       "\\item 4.10405700094244e-05\n",
       "\\item 2.66642283414467e-05\n",
       "\\item 1.71203869824411e-05\n",
       "\\item 1.08634321415905e-05\n",
       "\\item 6.81223241070072e-06\n",
       "\\item 4.22163593645604e-06\n",
       "\\item 2.58547904066863e-06\n",
       "\\item 1.56484089183785e-06\n",
       "\\item 9.35983672469677e-07\n",
       "\\item 5.53267654369857e-07\n",
       "\\item 3.23199894507456e-07\n",
       "\\item 1.8658471408601e-07\n",
       "\\item 1.06451021665702e-07\n",
       "\\end{enumerate*}\n"
      ],
      "text/markdown": [
       "1. 0.000204663339511875\n",
       "2. 0.000296940221501302\n",
       "3. 0.000425762023793083\n",
       "4. 0.000603300571193802\n",
       "5. 0.000844830283344722\n",
       "6. 0.00116916049091644\n",
       "7. 0.001598997226568\n",
       "8. 0.00216117637566734\n",
       "9. 0.00288669987951839\n",
       "10. 0.00381050010729751\n",
       "11. 0.004970856704062\n",
       "12. 0.00640839733255873\n",
       "13. 0.00816463058748421\n",
       "14. 0.0102799871045954\n",
       "15. 0.0127913835543763\n",
       "16. 0.0157293724074431\n",
       "17. 0.0191149950404317\n",
       "18. 0.0229565121969137\n",
       "19. 0.0272462378692536\n",
       "20. 0.031957743245264\n",
       "21. 0.0370437192544233\n",
       "22. 0.0424347830885048\n",
       "23. 0.0480394814107597\n",
       "24. 0.0537456792548929\n",
       "25. 0.0594234309266334\n",
       "26. 0.0649293135717826\n",
       "27. 0.0701120751911035\n",
       "28. 0.0748193193912572\n",
       "29. 0.07890483324789\n",
       "30. 0.0822360763383921\n",
       "31. 0.084701300241491\n",
       "32. 0.0862157667504394\n",
       "33. 0.0867265826959636\n",
       "34. 0.0862157667504394\n",
       "35. 0.084701300241491\n",
       "36. 0.0822360763383921\n",
       "37. 0.07890483324789\n",
       "38. 0.0748193193912572\n",
       "39. 0.0701120751911035\n",
       "40. 0.0649293135717826\n",
       "41. 0.0594234309266334\n",
       "42. 0.0537456792548929\n",
       "43. 0.0480394814107597\n",
       "44. 0.0424347830885048\n",
       "45. 0.0370437192544233\n",
       "46. 0.031957743245264\n",
       "47. 0.0272462378692536\n",
       "48. 0.0229565121969137\n",
       "49. 0.0191149950404317\n",
       "50. 0.0157293724074431\n",
       "51. 0.0127913835543763\n",
       "52. 0.0102799871045954\n",
       "53. 0.00816463058748421\n",
       "54. 0.00640839733255873\n",
       "55. 0.004970856704062\n",
       "56. 0.00381050010729751\n",
       "57. 0.00288669987951839\n",
       "58. 0.00216117637566734\n",
       "59. 0.001598997226568\n",
       "60. 0.00116916049091644\n",
       "61. 0.000844830283344722\n",
       "62. 0.000603300571193802\n",
       "63. 0.000425762023793083\n",
       "64. 0.000296940221501302\n",
       "65. 0.000204663339511875\n",
       "66. 0.000139405531294683\n",
       "67. 9.384018971138e-05\n",
       "68. 6.24261669946224e-05\n",
       "69. 4.10405700094244e-05\n",
       "70. 2.66642283414467e-05\n",
       "71. 1.71203869824411e-05\n",
       "72. 1.08634321415905e-05\n",
       "73. 6.81223241070072e-06\n",
       "74. 4.22163593645604e-06\n",
       "75. 2.58547904066863e-06\n",
       "76. 1.56484089183785e-06\n",
       "77. 9.35983672469677e-07\n",
       "78. 5.53267654369857e-07\n",
       "79. 3.23199894507456e-07\n",
       "80. 1.8658471408601e-07\n",
       "81. 1.06451021665702e-07\n",
       "\n",
       "\n"
      ],
      "text/plain": [
       " [1] 2.046633e-04 2.969402e-04 4.257620e-04 6.033006e-04 8.448303e-04\n",
       " [6] 1.169160e-03 1.598997e-03 2.161176e-03 2.886700e-03 3.810500e-03\n",
       "[11] 4.970857e-03 6.408397e-03 8.164631e-03 1.027999e-02 1.279138e-02\n",
       "[16] 1.572937e-02 1.911500e-02 2.295651e-02 2.724624e-02 3.195774e-02\n",
       "[21] 3.704372e-02 4.243478e-02 4.803948e-02 5.374568e-02 5.942343e-02\n",
       "[26] 6.492931e-02 7.011208e-02 7.481932e-02 7.890483e-02 8.223608e-02\n",
       "[31] 8.470130e-02 8.621577e-02 8.672658e-02 8.621577e-02 8.470130e-02\n",
       "[36] 8.223608e-02 7.890483e-02 7.481932e-02 7.011208e-02 6.492931e-02\n",
       "[41] 5.942343e-02 5.374568e-02 4.803948e-02 4.243478e-02 3.704372e-02\n",
       "[46] 3.195774e-02 2.724624e-02 2.295651e-02 1.911500e-02 1.572937e-02\n",
       "[51] 1.279138e-02 1.027999e-02 8.164631e-03 6.408397e-03 4.970857e-03\n",
       "[56] 3.810500e-03 2.886700e-03 2.161176e-03 1.598997e-03 1.169160e-03\n",
       "[61] 8.448303e-04 6.033006e-04 4.257620e-04 2.969402e-04 2.046633e-04\n",
       "[66] 1.394055e-04 9.384019e-05 6.242617e-05 4.104057e-05 2.666423e-05\n",
       "[71] 1.712039e-05 1.086343e-05 6.812232e-06 4.221636e-06 2.585479e-06\n",
       "[76] 1.564841e-06 9.359837e-07 5.532677e-07 3.231999e-07 1.865847e-07\n",
       "[81] 1.064510e-07"
      ]
     },
     "metadata": {},
     "output_type": "display_data"
    }
   ],
   "source": [
    "#Tinh phan phoi xac suat chieu cao cua phu nu VN\n",
    "y <- dnorm(x, mean = 156, sd = 4.6)\n",
    "y"
   ]
  },
  {
   "cell_type": "code",
   "execution_count": 10,
   "metadata": {},
   "outputs": [
    {
     "data": {
      "image/png": "[encoded data removed]",
      "text/plain": [
       "Plot with title \" Probability distribution of VNese women's height\""
      ]
     },
     "metadata": {},
     "output_type": "display_data"
    }
   ],
   "source": [
    "#Ve histogram tuong ung\n",
    "plot(x, y, type = \"l\", xlab = \"height\", ylab = \"f(height)\", main = \" Probability distribution of VNese women's height\")"
   ]
  },
  {
   "cell_type": "code",
   "execution_count": 18,
   "metadata": {},
   "outputs": [
    {
     "name": "stdout",
     "output_type": "stream",
     "text": [
      "[1] \"Probability of height = 160cm is : 5.94 %\"\n"
     ]
    }
   ],
   "source": [
    "#Neu chieu cao cua nu la 1.6m thi xac suat la bao nhieu\n",
    "prob_160cm <- dnorm(160, mean = 156, sd = 4.6)\n",
    "print(paste(\"Probability of height = 160cm is :\",round(prob_160cm*100,2),\"%\"))"
   ]
  },
  {
   "cell_type": "markdown",
   "metadata": {},
   "source": [
    "## Ex3:Tạo mẫu theo mean và sd - Normal Distribution"
   ]
  },
  {
   "cell_type": "code",
   "execution_count": 21,
   "metadata": {},
   "outputs": [
    {
     "data": {
      "text/html": [
       "<ol class=list-inline>\n",
       "\t<li>34.8900529386709</li>\n",
       "\t<li>35.0125691106799</li>\n",
       "\t<li>34.9832332341774</li>\n",
       "\t<li>35.115749910258</li>\n",
       "\t<li>35.065182267985</li>\n",
       "\t<li>34.9416193055374</li>\n",
       "\t<li>35.0874048705596</li>\n",
       "\t<li>35.0688981340377</li>\n",
       "\t<li>34.9365619183787</li>\n",
       "\t<li>34.9779634470419</li>\n",
       "</ol>\n"
      ],
      "text/latex": [
       "\\begin{enumerate*}\n",
       "\\item 34.8900529386709\n",
       "\\item 35.0125691106799\n",
       "\\item 34.9832332341774\n",
       "\\item 35.115749910258\n",
       "\\item 35.065182267985\n",
       "\\item 34.9416193055374\n",
       "\\item 35.0874048705596\n",
       "\\item 35.0688981340377\n",
       "\\item 34.9365619183787\n",
       "\\item 34.9779634470419\n",
       "\\end{enumerate*}\n"
      ],
      "text/markdown": [
       "1. 34.8900529386709\n",
       "2. 35.0125691106799\n",
       "3. 34.9832332341774\n",
       "4. 35.115749910258\n",
       "5. 35.065182267985\n",
       "6. 34.9416193055374\n",
       "7. 35.0874048705596\n",
       "8. 35.0688981340377\n",
       "9. 34.9365619183787\n",
       "10. 34.9779634470419\n",
       "\n",
       "\n"
      ],
      "text/plain": [
       " [1] 34.89005 35.01257 34.98323 35.11575 35.06518 34.94162 35.08740 35.06890\n",
       " [9] 34.93656 34.97796"
      ]
     },
     "metadata": {},
     "output_type": "display_data"
    }
   ],
   "source": [
    "#Tao ra 500 mau voi mean = 35, sd = 0.1\n",
    "sample <- rnorm(500, mean = 35, sd = 0.1)\n",
    "head(sample,10)"
   ]
  },
  {
   "cell_type": "code",
   "execution_count": 23,
   "metadata": {},
   "outputs": [
    {
     "data": {
      "image/png": "[encoded data removed]",
      "text/plain": [
       "Plot with title \"Histogram of sample\""
      ]
     },
     "metadata": {},
     "output_type": "display_data"
    }
   ],
   "source": [
    "#Ve histogram\n",
    "hist(sample, breaks = 50, col = \"orange\")"
   ]
  },
  {
   "cell_type": "code",
   "execution_count": 24,
   "metadata": {},
   "outputs": [
    {
     "name": "stdout",
     "output_type": "stream",
     "text": [
      "[1] \"mean of sample is  34.9985393569322\"\n",
      "[1] \"std of sample is  0.0984403976827505\"\n"
     ]
    }
   ],
   "source": [
    "#Tinh lai mean va std cua mau nay\n",
    "mean.sample <- mean(sample)\n",
    "sd.sample <- sd(sample)\n",
    "print(paste(\"mean of sample is \", mean.sample))\n",
    "print(paste(\"std of sample is \", sd.sample))"
   ]
  },
  {
   "cell_type": "markdown",
   "metadata": {},
   "source": [
    "## Ex4: Binorminal Distribution"
   ]
  },
  {
   "cell_type": "markdown",
   "metadata": {},
   "source": [
    "### Vấn đề 1: Trắc nghiệm"
   ]
  },
  {
   "cell_type": "code",
   "execution_count": 25,
   "metadata": {},
   "outputs": [
    {
     "name": "stdout",
     "output_type": "stream",
     "text": [
      "[1] \"Probability of having 4 correct answers is  0.13287555072\"\n"
     ]
    }
   ],
   "source": [
    "#Co 12 cau hoi trac nghiem trong bai kiem tra tieng Anh. Moi cau hoi co 5 cau tra loi va chi mot trong so do la dung\n",
    "#TInh xac suat de co 4 cau trac nghiem tra loi dung\n",
    "n_size <- 12\n",
    "n_prob <- 1/5\n",
    "p_4true <- dbinom(4, size = n_size, prob = n_prob)\n",
    "print(paste(\"Probability of having 4 correct answers is \", p_4true))"
   ]
  },
  {
   "cell_type": "code",
   "execution_count": 26,
   "metadata": {},
   "outputs": [
    {
     "name": "stdout",
     "output_type": "stream",
     "text": [
      "[1] \"Probability of having 4 correct answers or less than is  0.92744450048\"\n"
     ]
    }
   ],
   "source": [
    "#Tinh xac suat de co 4 cau trac nghiem tra loi dung hoac it hon\n",
    "p_less_4true <- pbinom(4, size = n_size, prob = n_prob)\n",
    "print(paste(\"Probability of having 4 correct answers or less than is \", p_less_4true))"
   ]
  },
  {
   "cell_type": "markdown",
   "metadata": {},
   "source": [
    "### Vấn đề 2: Dùng thuốc"
   ]
  },
  {
   "cell_type": "code",
   "execution_count": 27,
   "metadata": {},
   "outputs": [
    {
     "name": "stdout",
     "output_type": "stream",
     "text": [
      "[1] \"Probability that medicine is ecffective for 7 person is  0.201326592\"\n"
     ]
    }
   ],
   "source": [
    "n_prob = 80/100\n",
    "prob_7 <- dbinom(7,size = 10, prob = n_prob)\n",
    "print(paste(\"Probability that medicine is ecffective for 7 person is \", prob_7))"
   ]
  },
  {
   "cell_type": "markdown",
   "metadata": {},
   "source": [
    "### Vấn đề 3: Bệnh đau tim"
   ]
  },
  {
   "cell_type": "code",
   "execution_count": 29,
   "metadata": {},
   "outputs": [
    {
     "name": "stderr",
     "output_type": "stream",
     "text": [
      "Your code contains a unicode char which cannot be displayed in your\n",
      "current locale and R will silently convert it to an escaped form when the\n",
      "R kernel executes this code. This can lead to subtle errors if you use\n",
      "such chars to do comparisons. For more information, please see\n",
      "https://github.com/IRkernel/repr/wiki/Problems-with-unicode-on-windows"
     ]
    },
    {
     "name": "stdout",
     "output_type": "stream",
     "text": [
      "[1] \"Probability of all personsurvive is  0.8153726976\"\n"
     ]
    }
   ],
   "source": [
    "#Khả năng bệnh nhân bị đau tim tim chết vì lên cơn đau tim là 0.04\n",
    "#Gsu co 5 benh nhan bi dau tim, tinh xac suat tat ca cung song la bao nhieu\n",
    "prob_0_death <- dbinom(0, size = 5, prob = 0.04)\n",
    "print(paste(\"Probability of all personsurvive is \", prob_0_death))"
   ]
  },
  {
   "cell_type": "markdown",
   "metadata": {},
   "source": [
    "## Ex5: Thi cuối kỳ - Normal Distribution"
   ]
  },
  {
   "cell_type": "code",
   "execution_count": 30,
   "metadata": {},
   "outputs": [
    {
     "name": "stdout",
     "output_type": "stream",
     "text": [
      "[1] \"Probability that student has 84 scores or more than is  0.214917602311272\"\n"
     ]
    }
   ],
   "source": [
    "#Diem kiem tra cuoi ky mon tieng Anh. Gia su diem trung binh = 72 va do lech chuan = 15.2\n",
    "#Cho biet ty le hoc sinh dat 84 diem tro len \n",
    "prob_more_84 <- pnorm(84, mean = 72, sd = 15.2, lower.tail = FALSE)\n",
    "print(paste(\"Probability that student has 84 scores or more than is \", prob_more_84))"
   ]
  },
  {
   "cell_type": "code",
   "execution_count": 31,
   "metadata": {},
   "outputs": [
    {
     "data": {
      "text/html": [
       "<ol class=list-inline>\n",
       "\t<li>64.9615175006649</li>\n",
       "\t<li>63.8102343108094</li>\n",
       "\t<li>44.715152249015</li>\n",
       "\t<li>55.1707904023481</li>\n",
       "\t<li>108.447452750674</li>\n",
       "\t<li>65.1498444293899</li>\n",
       "</ol>\n"
      ],
      "text/latex": [
       "\\begin{enumerate*}\n",
       "\\item 64.9615175006649\n",
       "\\item 63.8102343108094\n",
       "\\item 44.715152249015\n",
       "\\item 55.1707904023481\n",
       "\\item 108.447452750674\n",
       "\\item 65.1498444293899\n",
       "\\end{enumerate*}\n"
      ],
      "text/markdown": [
       "1. 64.9615175006649\n",
       "2. 63.8102343108094\n",
       "3. 44.715152249015\n",
       "4. 55.1707904023481\n",
       "5. 108.447452750674\n",
       "6. 65.1498444293899\n",
       "\n",
       "\n"
      ],
      "text/plain": [
       "[1]  64.96152  63.81023  44.71515  55.17079 108.44745  65.14984"
      ]
     },
     "metadata": {},
     "output_type": "display_data"
    }
   ],
   "source": [
    "#Gia su co 100 hoc sinh -> tao ra mau va ve histogram\n",
    "sample_100 <- rnorm(100, mean = 72, sd = 15.2)\n",
    "head(sample_100)"
   ]
  },
  {
   "cell_type": "code",
   "execution_count": 33,
   "metadata": {},
   "outputs": [
    {
     "data": {
      "image/png": "[encoded data removed]",
      "text/plain": [
       "Plot with title \"Histogram of 100 student sample\""
      ]
     },
     "metadata": {},
     "output_type": "display_data"
    }
   ],
   "source": [
    "hist(sample_100, main = \"Histogram of 100 student sample\", col = \"blue\")"
   ]
  },
  {
   "cell_type": "code",
   "execution_count": null,
   "metadata": {},
   "outputs": [],
   "source": []
  }
 ],
 "metadata": {
  "kernelspec": {
   "display_name": "R",
   "language": "R",
   "name": "ir"
  },
  "language_info": {
   "codemirror_mode": "r",
   "file_extension": ".r",
   "mimetype": "text/x-r-source",
   "name": "R",
   "pygments_lexer": "r",
   "version": "3.6.1"
  }
 },
 "nbformat": 4,
 "nbformat_minor": 2
}
