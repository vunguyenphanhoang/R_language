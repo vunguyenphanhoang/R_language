{
 "cells": [
  {
   "cell_type": "markdown",
   "metadata": {},
   "source": [
    "### Ex1: Bạn muốn dừng lại hay chơi tiếp"
   ]
  },
  {
   "cell_type": "code",
   "execution_count": 1,
   "metadata": {},
   "outputs": [
    {
     "name": "stderr",
     "output_type": "stream",
     "text": [
      "Playing\n"
     ]
    },
    {
     "name": "stdout",
     "output_type": "stream",
     "text": [
      "Ban muon choi tiep (1:Continue, khac 1: Stop) : 1\n"
     ]
    },
    {
     "name": "stderr",
     "output_type": "stream",
     "text": [
      "Playing\n"
     ]
    },
    {
     "name": "stdout",
     "output_type": "stream",
     "text": [
      "Ban muon choi tiep (1:Continue, khac 1: Stop) : 2\n"
     ]
    }
   ],
   "source": [
    "play<-1\n",
    "while(play==1){\n",
    "    #print(\"Playing\")\n",
    "    message(\"Playing\")\n",
    "    play <- as.numeric(readline(prompt = \"Ban muon choi tiep (1:Continue, khac 1: Stop) : \"))\n",
    "}\n"
   ]
  },
  {
   "cell_type": "markdown",
   "metadata": {},
   "source": [
    "### Ex2: Bình phương vector"
   ]
  },
  {
   "cell_type": "code",
   "execution_count": 2,
   "metadata": {},
   "outputs": [
    {
     "name": "stdout",
     "output_type": "stream",
     "text": [
      "Moi ban nhap n : 5\n"
     ]
    }
   ],
   "source": [
    "n <- as.numeric(readline(prompt = \"Moi ban nhap n : \"))"
   ]
  },
  {
   "cell_type": "code",
   "execution_count": 3,
   "metadata": {},
   "outputs": [
    {
     "name": "stdout",
     "output_type": "stream",
     "text": [
      "[1] 9 3 9 3 8\n"
     ]
    }
   ],
   "source": [
    "v_random = round(runif(n,1,10),0)\n",
    "print(v_random)"
   ]
  },
  {
   "cell_type": "code",
   "execution_count": 4,
   "metadata": {},
   "outputs": [
    {
     "name": "stdout",
     "output_type": "stream",
     "text": [
      "Vector =  9 3 9 3 8 \n",
      " Square =   81 9 81 9 64NULL\n"
     ]
    }
   ],
   "source": [
    "square = ''\n",
    "for ( i in v_random) {\n",
    "    square <- c(square, i^2)\n",
    "}\n",
    "print(cat(\"Vector = \", v_random, \"\\n Square = \", square))"
   ]
  },
  {
   "cell_type": "markdown",
   "metadata": {},
   "source": [
    "**Cô ơi em không biết tại sao có chữ NULL phía cuối, cô chỉ em fix với ạ**"
   ]
  },
  {
   "cell_type": "markdown",
   "metadata": {},
   "source": [
    "### Ex3: Bảng cửu chương"
   ]
  },
  {
   "cell_type": "markdown",
   "metadata": {},
   "source": [
    "#### Yêu cầu 1:"
   ]
  },
  {
   "cell_type": "code",
   "execution_count": 5,
   "metadata": {},
   "outputs": [
    {
     "name": "stdout",
     "output_type": "stream",
     "text": [
      "Ban muon in bang cuu chuong may ? : 5\n"
     ]
    }
   ],
   "source": [
    "n <- as.integer(readline(prompt = \"Ban muon in bang cuu chuong may ? : \"))"
   ]
  },
  {
   "cell_type": "code",
   "execution_count": 16,
   "metadata": {},
   "outputs": [
    {
     "name": "stdout",
     "output_type": "stream",
     "text": [
      "[1] \"Bang cuu chuong  5\"\n",
      "[1] \"1 * 5  =  5\"\n",
      "[1] \"2 * 5  =  10\"\n",
      "[1] \"3 * 5  =  15\"\n",
      "[1] \"4 * 5  =  20\"\n",
      "[1] \"5 * 5  =  25\"\n",
      "[1] \"6 * 5  =  30\"\n",
      "[1] \"7 * 5  =  35\"\n",
      "[1] \"8 * 5  =  40\"\n",
      "[1] \"9 * 5  =  45\"\n",
      "[1] \"10 * 5  =  50\"\n"
     ]
    }
   ],
   "source": [
    "print(paste(\"Bang cuu chuong \", n))\n",
    "i <- 1\n",
    "while (i<=10){\n",
    "    print(paste(i, \"*\", n , \" = \", i*n))\n",
    "    i<- i+1\n",
    "}"
   ]
  },
  {
   "cell_type": "markdown",
   "metadata": {},
   "source": [
    "#### Yêu cầu 2:"
   ]
  },
  {
   "cell_type": "code",
   "execution_count": 17,
   "metadata": {},
   "outputs": [
    {
     "name": "stdout",
     "output_type": "stream",
     "text": [
      "Input number begin : 2\n",
      "Input number end : 5\n"
     ]
    }
   ],
   "source": [
    "begin <- as.integer(readline(prompt = \"Input number begin : \"))\n",
    "end <- as.integer(readline(prompt = \"Input number end : \"))"
   ]
  },
  {
   "cell_type": "code",
   "execution_count": 19,
   "metadata": {},
   "outputs": [
    {
     "name": "stdout",
     "output_type": "stream",
     "text": [
      "[1] \"Bang cuu chuong  2\"\n",
      "[1] \"1 * 2  =  2\"\n",
      "[1] \"2 * 2  =  4\"\n",
      "[1] \"3 * 2  =  6\"\n",
      "[1] \"4 * 2  =  8\"\n",
      "[1] \"5 * 2  =  10\"\n",
      "[1] \"6 * 2  =  12\"\n",
      "[1] \"7 * 2  =  14\"\n",
      "[1] \"8 * 2  =  16\"\n",
      "[1] \"9 * 2  =  18\"\n",
      "[1] \"10 * 2  =  20\"\n",
      "[1] \"********************\"\n",
      "[1] \"Bang cuu chuong  3\"\n",
      "[1] \"1 * 3  =  3\"\n",
      "[1] \"2 * 3  =  6\"\n",
      "[1] \"3 * 3  =  9\"\n",
      "[1] \"4 * 3  =  12\"\n",
      "[1] \"5 * 3  =  15\"\n",
      "[1] \"6 * 3  =  18\"\n",
      "[1] \"7 * 3  =  21\"\n",
      "[1] \"8 * 3  =  24\"\n",
      "[1] \"9 * 3  =  27\"\n",
      "[1] \"10 * 3  =  30\"\n",
      "[1] \"********************\"\n",
      "[1] \"Bang cuu chuong  4\"\n",
      "[1] \"1 * 4  =  4\"\n",
      "[1] \"2 * 4  =  8\"\n",
      "[1] \"3 * 4  =  12\"\n",
      "[1] \"4 * 4  =  16\"\n",
      "[1] \"5 * 4  =  20\"\n",
      "[1] \"6 * 4  =  24\"\n",
      "[1] \"7 * 4  =  28\"\n",
      "[1] \"8 * 4  =  32\"\n",
      "[1] \"9 * 4  =  36\"\n",
      "[1] \"10 * 4  =  40\"\n",
      "[1] \"********************\"\n",
      "[1] \"Bang cuu chuong  5\"\n",
      "[1] \"1 * 5  =  5\"\n",
      "[1] \"2 * 5  =  10\"\n",
      "[1] \"3 * 5  =  15\"\n",
      "[1] \"4 * 5  =  20\"\n",
      "[1] \"5 * 5  =  25\"\n",
      "[1] \"6 * 5  =  30\"\n",
      "[1] \"7 * 5  =  35\"\n",
      "[1] \"8 * 5  =  40\"\n",
      "[1] \"9 * 5  =  45\"\n",
      "[1] \"10 * 5  =  50\"\n",
      "[1] \"********************\"\n"
     ]
    }
   ],
   "source": [
    "j <- begin\n",
    "while (j<=end){\n",
    "    print(paste(\"Bang cuu chuong \", j))\n",
    "    i <- 1\n",
    "    while (i<=10){\n",
    "        print(paste(i, \"*\", j , \" = \", i*j))\n",
    "        i<- i + 1\n",
    "    }\n",
    "    j <- j + 1\n",
    "    print(\"********************\")\n",
    "}"
   ]
  },
  {
   "cell_type": "markdown",
   "metadata": {},
   "source": [
    "### Ex4: Tính giá trị"
   ]
  },
  {
   "cell_type": "code",
   "execution_count": 50,
   "metadata": {},
   "outputs": [
    {
     "name": "stdout",
     "output_type": "stream",
     "text": [
      "Input number : 8\n"
     ]
    }
   ],
   "source": [
    "n <- as.integer(readline(prompt = \"Input number : \"))"
   ]
  },
  {
   "cell_type": "code",
   "execution_count": 53,
   "metadata": {},
   "outputs": [],
   "source": [
    "so_nto =\"\"\n",
    "sum <- 0\n",
    "i <- 1\n",
    "while (i<= n){\n",
    "    count<- 0\n",
    "    j <- 1\n",
    "    while (j<= i){\n",
    "        if(i%%j == 0){\n",
    "            count <- count + 1\n",
    "        }\n",
    "        j <- j + 1\n",
    "    }\n",
    "    if (count == 2){\n",
    "        so_nto <- c(so_nto, i)\n",
    "        sum <- sum + i\n",
    "    }\n",
    "    i <- i+1 \n",
    "}"
   ]
  },
  {
   "cell_type": "code",
   "execution_count": 54,
   "metadata": {},
   "outputs": [
    {
     "name": "stdout",
     "output_type": "stream",
     "text": [
      "[1] \"Tong cac SNT  , 2, 3, 5, 7\"\n",
      "[1] 17\n"
     ]
    }
   ],
   "source": [
    "print(paste(\"Tong cac SNT \",toString(so_nto)))\n",
    "print(sum)"
   ]
  },
  {
   "cell_type": "markdown",
   "metadata": {},
   "source": [
    "### Ex5: Đoán số"
   ]
  },
  {
   "cell_type": "code",
   "execution_count": 63,
   "metadata": {},
   "outputs": [
    {
     "name": "stdout",
     "output_type": "stream",
     "text": [
      "[1] 10\n"
     ]
    }
   ],
   "source": [
    "random = round(runif(1,1,10),0)\n",
    "#print(random)"
   ]
  },
  {
   "cell_type": "code",
   "execution_count": 67,
   "metadata": {},
   "outputs": [
    {
     "name": "stdout",
     "output_type": "stream",
     "text": [
      "Input number : 5\n"
     ]
    },
    {
     "name": "stderr",
     "output_type": "stream",
     "text": [
      "Your number < Our number\n"
     ]
    },
    {
     "name": "stdout",
     "output_type": "stream",
     "text": [
      "Input number : 7\n"
     ]
    },
    {
     "name": "stderr",
     "output_type": "stream",
     "text": [
      "Your number < Our number\n"
     ]
    },
    {
     "name": "stdout",
     "output_type": "stream",
     "text": [
      "Input number : 8\n"
     ]
    },
    {
     "name": "stderr",
     "output_type": "stream",
     "text": [
      "Your number < Our number\n"
     ]
    },
    {
     "name": "stdout",
     "output_type": "stream",
     "text": [
      "[1] \"You lose!!!\"\n"
     ]
    }
   ],
   "source": [
    "loop <- 1\n",
    "flag <- FALSE\n",
    "while(loop <4){\n",
    "    n <- as.numeric(readline(prompt = \"Input number : \"))\n",
    "    if (random == n){\n",
    "        message (\"You win!\")\n",
    "        flag <- TRUE\n",
    "        break\n",
    "    } else if ( random > n){\n",
    "            message(\"Your number < Our number\")\n",
    "        } else {\n",
    "            message(\"Your number > Our number\")\n",
    "        }\n",
    "    loop <- loop + 1\n",
    "}\n",
    "    if (flag == FALSE){\n",
    "        print(\"You lose!!!\")\n",
    "    }"
   ]
  }
 ],
 "metadata": {
  "kernelspec": {
   "display_name": "R",
   "language": "R",
   "name": "ir"
  },
  "language_info": {
   "codemirror_mode": "r",
   "file_extension": ".r",
   "mimetype": "text/x-r-source",
   "name": "R",
   "pygments_lexer": "r",
   "version": "3.6.1"
  }
 },
 "nbformat": 4,
 "nbformat_minor": 2
}
